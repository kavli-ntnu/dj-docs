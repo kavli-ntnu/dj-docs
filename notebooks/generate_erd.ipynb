{
 "cells": [
  {
   "cell_type": "code",
   "execution_count": 1,
   "metadata": {},
   "outputs": [],
   "source": [
    "import os\n",
    "import datajoint as dj"
   ]
  },
  {
   "cell_type": "code",
   "execution_count": 2,
   "metadata": {},
   "outputs": [],
   "source": [
    "import pathlib"
   ]
  },
  {
   "cell_type": "code",
   "execution_count": 4,
   "metadata": {},
   "outputs": [],
   "source": [
    "import os\n",
    "os.chdir(r'C:\\Users\\thinh\\Documents\\TN-Vathes\\Vathes\\dj-elphys')"
   ]
  },
  {
   "cell_type": "code",
   "execution_count": 10,
   "metadata": {},
   "outputs": [],
   "source": [
    "import matplotlib.pyplot as plt"
   ]
  },
  {
   "cell_type": "code",
   "execution_count": 5,
   "metadata": {},
   "outputs": [
    {
     "name": "stdout",
     "output_type": "stream",
     "text": [
      "Connecting thinh@datajoint.it.ntnu.no:3306\n"
     ]
    }
   ],
   "source": [
    "from ephys import reference, acquisition, tracking, behavior, ephys, analysis, ingestion"
   ]
  },
  {
   "cell_type": "code",
   "execution_count": 6,
   "metadata": {},
   "outputs": [],
   "source": [
    "animal = dj.create_virtual_module('mlims', dj.config['custom'].get('mlims.database'))"
   ]
  },
  {
   "cell_type": "code",
   "execution_count": 7,
   "metadata": {},
   "outputs": [],
   "source": [
    "img_dir = pathlib.Path(r'C:\\Users\\thinh\\Documents\\TN-Vathes\\Moser\\dj-docs\\images\\ephys_pipeline')"
   ]
  },
  {
   "cell_type": "markdown",
   "metadata": {},
   "source": [
    "# The Ephys Pipeline"
   ]
  },
  {
   "cell_type": "markdown",
   "metadata": {},
   "source": [
    "## Session Overview"
   ]
  },
  {
   "cell_type": "code",
   "execution_count": 26,
   "metadata": {},
   "outputs": [],
   "source": [
    "erd = dj.ERD(reference.ElectrodeConfig.Electrode) - 1 + reference.ElectrodeConfig.ElectrodeGroup + reference.ProbeModel"
   ]
  },
  {
   "cell_type": "code",
   "execution_count": 27,
   "metadata": {},
   "outputs": [
    {
     "data": {
      "image/png": "[encoded data removed]",
      "text/plain": [
       "<Figure size 1800x1200 with 1 Axes>"
      ]
     },
     "metadata": {
      "needs_background": "light"
     },
     "output_type": "display_data"
    }
   ],
   "source": [
    "z = plt.figure(dpi=300)\n",
    "erd.draw()\n",
    "z.savefig((img_dir/'econfig.png').as_posix(), dpi=300)"
   ]
  },
  {
   "cell_type": "code",
   "execution_count": null,
   "metadata": {},
   "outputs": [],
   "source": []
  },
  {
   "cell_type": "code",
   "execution_count": null,
   "metadata": {},
   "outputs": [],
   "source": [
    "erd.make_dot().create_png"
   ]
  },
  {
   "cell_type": "code",
   "execution_count": null,
   "metadata": {},
   "outputs": [],
   "source": [
    "erd.save((img_dir/'animal_session.svg').as_posix())"
   ]
  },
  {
   "cell_type": "code",
   "execution_count": null,
   "metadata": {},
   "outputs": [],
   "source": [
    "session_erd = ((dj.ERD(acquisition.Session) - 1) \n",
    "               + (dj.ERD(acquisition.Recording))\n",
    "               + (dj.ERD(tracking.Tracking))\n",
    "               + (dj.ERD(behavior.Task) - 1))\n",
    "session_erd"
   ]
  },
  {
   "cell_type": "code",
   "execution_count": null,
   "metadata": {},
   "outputs": [],
   "source": [
    "session_erd.save((img_dir/'session_overview_erd.png').as_posix())"
   ]
  },
  {
   "cell_type": "markdown",
   "metadata": {},
   "source": [
    "## Session Detail"
   ]
  },
  {
   "cell_type": "code",
   "execution_count": null,
   "metadata": {},
   "outputs": [],
   "source": [
    "session_detail_erd = ((dj.ERD(acquisition.Session)) \n",
    "                      + (dj.ERD(acquisition.Session.Directories))\n",
    "                      + (dj.ERD(acquisition.Session.TrackingSystemSetup))\n",
    "                      + (dj.ERD(reference.TrackingSystemSetup) + 1)\n",
    "                      + (dj.ERD(acquisition.Session.Experimenter))\n",
    "                      - (dj.ERD(ingestion))\n",
    "                     )\n",
    "session_detail_erd"
   ]
  },
  {
   "cell_type": "code",
   "execution_count": null,
   "metadata": {},
   "outputs": [],
   "source": [
    "session_detail_erd.save((img_dir/'session_detail_erd.png').as_posix())"
   ]
  },
  {
   "cell_type": "markdown",
   "metadata": {},
   "source": [
    "## Recording Detail"
   ]
  },
  {
   "cell_type": "code",
   "execution_count": null,
   "metadata": {},
   "outputs": [],
   "source": [
    "rec_detail_erd = ((dj.ERD(acquisition.Recording) - 1)\n",
    "                  + (dj.ERD(acquisition.Recording) + 1)\n",
    "                  - (dj.ERD(ephys.UnitSpikeTimes))\n",
    "                     )\n",
    "rec_detail_erd"
   ]
  },
  {
   "cell_type": "code",
   "execution_count": null,
   "metadata": {},
   "outputs": [],
   "source": [
    "rec_detail_erd.save((img_dir/'recording_detail_erd.png').as_posix())"
   ]
  },
  {
   "cell_type": "markdown",
   "metadata": {},
   "source": [
    "## Clustering"
   ]
  },
  {
   "cell_type": "code",
   "execution_count": null,
   "metadata": {},
   "outputs": [],
   "source": [
    "clustering_erd = ((dj.ERD(ephys.CuratedClustering) - 2)\n",
    "                  + (dj.ERD(ephys.CuratedClustering) + 2)\n",
    "                  + (dj.ERD(acquisition.ClusterSessionGroup.GroupMember) - 1)\n",
    "                 - (dj.ERD(ingestion))\n",
    "                  - (dj.ERD(ephys.FinalizedClustering))\n",
    "                  - (dj.ERD(reference))\n",
    "                  + (dj.ERD(reference.Experimenter))\n",
    "                 )\n",
    "clustering_erd"
   ]
  },
  {
   "cell_type": "code",
   "execution_count": null,
   "metadata": {},
   "outputs": [],
   "source": [
    "clustering_erd.save((img_dir/'clustering_erd.png').as_posix())"
   ]
  },
  {
   "cell_type": "code",
   "execution_count": null,
   "metadata": {},
   "outputs": [],
   "source": [
    "clustering_detail_erd = ((dj.ERD(ephys.Clustering) - 2)\n",
    "                  + (dj.ERD(ephys.CuratedClustering) + 2)\n",
    "                  + (dj.ERD(acquisition.ClusterSessionGroup.GroupMember) - 1)\n",
    "                 - (dj.ERD(ingestion))\n",
    "                  - (dj.ERD(ephys.FinalizedClustering))\n",
    "                 )\n",
    "clustering_detail_erd"
   ]
  },
  {
   "cell_type": "code",
   "execution_count": null,
   "metadata": {},
   "outputs": [],
   "source": [
    "clustering_detail_erd.save((img_dir/'clustering_detail_erd.png').as_posix())"
   ]
  },
  {
   "cell_type": "markdown",
   "metadata": {},
   "source": [
    "## Spikes and Tracking"
   ]
  },
  {
   "cell_type": "code",
   "execution_count": null,
   "metadata": {},
   "outputs": [],
   "source": [
    "spike_track_erd = ((dj.ERD(ephys.UnitSpikeTimes) - 1) \n",
    "                   + (dj.ERD(tracking.ProcessedTracking) - 1) \n",
    "                   + (dj.ERD(ephys.SpikesTracking))\n",
    "                   - (dj.ERD(ephys.SkippedSpikesTracking))\n",
    "                   + (dj.ERD(analysis.TaskSpikesTracking) - 1)\n",
    "                   - (dj.ERD(analysis.analysis_param))\n",
    "                 )\n",
    "spike_track_erd"
   ]
  },
  {
   "cell_type": "code",
   "execution_count": null,
   "metadata": {},
   "outputs": [],
   "source": [
    "spike_track_erd.save((img_dir/'spike_track_erd.png').as_posix())"
   ]
  },
  {
   "cell_type": "code",
   "execution_count": null,
   "metadata": {},
   "outputs": [],
   "source": [
    "from ephys import ingestion"
   ]
  },
  {
   "cell_type": "code",
   "execution_count": null,
   "metadata": {},
   "outputs": [],
   "source": [
    "ingestion_erd = ((dj.ERD(ingestion.ExecutingSessionRequest) - 2)\n",
    "                 + (dj.ERD(ingestion.ProcessedSessionRequest) + 1)\n",
    "                 + (dj.ERD(ingestion.ProbeAssociation))\n",
    "                 )\n",
    "ingestion_erd"
   ]
  },
  {
   "cell_type": "code",
   "execution_count": null,
   "metadata": {},
   "outputs": [],
   "source": [
    "ingestion_erd.save((img_dir/'ingestion_erd.png').as_posix())"
   ]
  },
  {
   "cell_type": "code",
   "execution_count": null,
   "metadata": {},
   "outputs": [],
   "source": [
    "session_rec_tracing_erd = ((dj.ERD(acquisition.Session))\n",
    "                           + (dj.ERD(acquisition.Session.NeurologgerProbeAssociation))\n",
    "                           + (dj.ERD(acquisition.Session.NeuropixelsProbeAssociation))\n",
    "                           + (dj.ERD(acquisition.Session.TetrodeProbeAssociation))\n",
    "                           + (dj.ERD(acquisition.Recording) - 1)\n",
    "                           + (dj.ERD(acquisition.ProbeInsertion))\n",
    "                           + (dj.ERD(acquisition.Recording.RecordingSync))\n",
    "                           + (dj.ERD(tracking.Tracking))\n",
    "                           + (dj.ERD(tracking.Tracking.TrackingSync))\n",
    "                 )\n",
    "session_rec_tracing_erd"
   ]
  },
  {
   "cell_type": "code",
   "execution_count": null,
   "metadata": {},
   "outputs": [],
   "source": [
    "session_rec_tracing_erd.save((img_dir/'session_rec_tracing_erd.png').as_posix())"
   ]
  },
  {
   "cell_type": "code",
   "execution_count": null,
   "metadata": {},
   "outputs": [],
   "source": [
    "clustering_request_erd = dj.ERD(ingestion.CuratedClusteringRequest) + dj.ERD(ingestion.ProcessedCuratedClusteringRequest)\n",
    "clustering_request_erd"
   ]
  },
  {
   "cell_type": "code",
   "execution_count": null,
   "metadata": {},
   "outputs": [],
   "source": [
    "clustering_request_erd.save((img_dir/'clustering_request_erd.png').as_posix())"
   ]
  },
  {
   "cell_type": "code",
   "execution_count": null,
   "metadata": {},
   "outputs": [],
   "source": [
    "dj.ERD(ephys.ClusteringSetup) + 2 + dj.ERD(ephys.Unit)"
   ]
  },
  {
   "cell_type": "code",
   "execution_count": null,
   "metadata": {},
   "outputs": [],
   "source": []
  },
  {
   "cell_type": "code",
   "execution_count": null,
   "metadata": {},
   "outputs": [],
   "source": []
  }
 ],
 "metadata": {
  "kernelspec": {
   "display_name": "Python 3",
   "language": "python",
   "name": "python3"
  },
  "language_info": {
   "codemirror_mode": {
    "name": "ipython",
    "version": 3
   },
   "file_extension": ".py",
   "mimetype": "text/x-python",
   "name": "python",
   "nbconvert_exporter": "python",
   "pygments_lexer": "ipython3",
   "version": "3.7.0"
  }
 },
 "nbformat": 4,
 "nbformat_minor": 2
}
