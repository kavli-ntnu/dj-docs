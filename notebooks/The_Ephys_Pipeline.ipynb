{
 "cells": [
  {
   "cell_type": "markdown",
   "metadata": {},
   "source": [
    "# Getting familiar with the electrophysiology (Ephys) pipeline\n",
    "\n",
    "In this notebook, we will take a tour of the Moser group electrophysiology (ephys) pipeline, taking a close look at how each table is defined and relate to each other to represent various experimental information."
   ]
  },
  {
   "cell_type": "markdown",
   "metadata": {},
   "source": [
    "But before we begin, let's import a couple essential packages, in particular importing DataJoint (`datajoint`) package, and establish connection to the Moser lab database where the entire pipeline resides."
   ]
  },
  {
   "cell_type": "code",
   "execution_count": 78,
   "metadata": {},
   "outputs": [],
   "source": [
    "import datajoint as dj"
   ]
  },
  {
   "cell_type": "code",
   "execution_count": 77,
   "metadata": {},
   "outputs": [],
   "source": [
    "dj.config['display.limit'] = 10"
   ]
  },
  {
   "cell_type": "markdown",
   "metadata": {},
   "source": [
    "If you have followed all the setups for Python environment, DataJoint and the Ephys pipeline as described in [Zero to DataJoint Wiki page](https://github.com/kavli-ntnu/dj-elphys/wiki/Zero-to-datajoint), you should be able to just run the next line, importing pipeline definitions as found in the `ephys` package."
   ]
  },
  {
   "cell_type": "code",
   "execution_count": 4,
   "metadata": {},
   "outputs": [
    {
     "name": "stdin",
     "output_type": "stream",
     "text": [
      "Please enter DataJoint username:  edgarw\n",
      "Please enter DataJoint password:  ··············\n"
     ]
    },
    {
     "name": "stdout",
     "output_type": "stream",
     "text": [
      "Connecting edgarw@kavlidatajoint02.it.ntnu.no:3306\n"
     ]
    }
   ],
   "source": [
    "from ephys import reference, acquisition, tracking, behavior, ephys, analysis\n",
    "\n",
    "animal = dj.create_virtual_module('mlims', dj.config['custom'].get('mlims.database', 'prod_mlims_data'))"
   ]
  },
  {
   "cell_type": "markdown",
   "metadata": {},
   "source": [
    "If you experienced any issue in importing the pipeline, please refer to the [Wiki page and guide](https://github.com/kavli-ntnu/dj-elphys/wiki/Zero-to-datajoint) again or seek help from administrators."
   ]
  },
  {
   "cell_type": "markdown",
   "metadata": {},
   "source": [
    "The entire pipeline is quite elaborate and contains many parts, grouping related tables together to facilitate navigation and understanding. Rather than looking at them all at once, we will now take a look at each of these groups of tables or **schemas**, one at a time."
   ]
  },
  {
   "cell_type": "markdown",
   "metadata": {},
   "source": [
    "## Animal information"
   ]
  },
  {
   "cell_type": "markdown",
   "metadata": {},
   "source": [
    "Just like any experiment cannot occur without the animal, the entire pipeline also begin with capturing information about the animal. Naturally, information pertaining to the animal can be found under the `animal` schema."
   ]
  },
  {
   "cell_type": "code",
   "execution_count": 8,
   "metadata": {},
   "outputs": [
    {
     "data": {
      "image/svg+xml": [
       "<svg height=\"256pt\" viewBox=\"0.00 0.00 1832.06 256.00\" width=\"1832pt\" xmlns=\"http://www.w3.org/2000/svg\" xmlns:xlink=\"http://www.w3.org/1999/xlink\">\n",
       "<g class=\"graph\" id=\"graph0\" transform=\"scale(1 1) rotate(0) translate(4 252)\">\n",
       "<title>%3</title>\n",
       "<polygon fill=\"#ffffff\" points=\"-4,4 -4,-252 1828.0557,-252 1828.0557,4 -4,4\" stroke=\"transparent\"/>\n",
       "<!-- 19 -->\n",
       "<g class=\"node\" id=\"node1\">\n",
       "<title>19</title>\n",
       "<ellipse cx=\"600.6953\" cy=\"-88.5\" fill=\"#ff8800\" fill-opacity=\"0.501961\" rx=\"2.0132\" ry=\"2.0333\" stroke=\"#ff8800\" stroke-opacity=\"0.501961\"/>\n",
       "<text fill=\"#ff8800\" font-family=\"arial\" font-size=\"1.00\" text-anchor=\"middle\" x=\"600.6953\" y=\"-88.275\">19</text>\n",
       "</g>\n",
       "<!-- animal.Dam -->\n",
       "<g class=\"node\" id=\"node13\">\n",
       "<title>animal.Dam</title>\n",
       "<g id=\"a_node13\"><a xlink:title=\"→ animal.Animal\r",
       "→ animal.Animal.proj(dam_id=&quot;animal_id&quot;)\r",
       "\">\n",
       "<polygon fill=\"#00ff00\" fill-opacity=\"0.188235\" points=\"647.7148,-35 567.6758,-35 567.6758,0 647.7148,0 647.7148,-35\" stroke=\"#00ff00\" stroke-opacity=\"0.188235\"/>\n",
       "<text fill=\"#006400\" font-family=\"arial\" font-size=\"12.00\" text-anchor=\"middle\" x=\"607.6953\" y=\"-14.7994\">animal.Dam</text>\n",
       "</a>\n",
       "</g>\n",
       "</g>\n",
       "<!-- 19&#45;&gt;animal.Dam -->\n",
       "<g class=\"edge\" id=\"edge1\">\n",
       "<title>19-&gt;animal.Dam</title>\n",
       "<path d=\"M600.8973,-86.4517C601.628,-79.0395 604.1842,-53.1125 605.945,-35.2532\" fill=\"none\" stroke=\"#000000\" stroke-opacity=\"0.250980\" stroke-width=\".75\"/>\n",
       "</g>\n",
       "<!-- 20 -->\n",
       "<g class=\"node\" id=\"node2\">\n",
       "<title>20</title>\n",
       "<ellipse cx=\"674.6953\" cy=\"-88.5\" fill=\"#ff8800\" fill-opacity=\"0.501961\" rx=\"2.0132\" ry=\"2.0333\" stroke=\"#ff8800\" stroke-opacity=\"0.501961\"/>\n",
       "<text fill=\"#ff8800\" font-family=\"arial\" font-size=\"1.00\" text-anchor=\"middle\" x=\"674.6953\" y=\"-88.275\">20</text>\n",
       "</g>\n",
       "<!-- animal.Sire -->\n",
       "<g class=\"node\" id=\"node7\">\n",
       "<title>animal.Sire</title>\n",
       "<g id=\"a_node7\"><a xlink:title=\"→ animal.Animal\r",
       "→ animal.Animal.proj(sire_id=&quot;animal_id&quot;)\r",
       "\">\n",
       "<polygon fill=\"#00ff00\" fill-opacity=\"0.188235\" points=\"745.7188,-35 669.6719,-35 669.6719,0 745.7188,0 745.7188,-35\" stroke=\"#00ff00\" stroke-opacity=\"0.188235\"/>\n",
       "<text fill=\"#006400\" font-family=\"arial\" font-size=\"12.00\" text-anchor=\"middle\" x=\"707.6953\" y=\"-14.7994\">animal.Sire</text>\n",
       "</a>\n",
       "</g>\n",
       "</g>\n",
       "<!-- 20&#45;&gt;animal.Sire -->\n",
       "<g class=\"edge\" id=\"edge2\">\n",
       "<title>20-&gt;animal.Sire</title>\n",
       "<path d=\"M675.6473,-86.4517C679.0924,-79.0395 691.143,-53.1125 699.4438,-35.2532\" fill=\"none\" stroke=\"#000000\" stroke-opacity=\"0.250980\" stroke-width=\".75\"/>\n",
       "</g>\n",
       "<!-- animal.Animal.Generation -->\n",
       "<g class=\"node\" id=\"node3\">\n",
       "<title>animal.Animal.Generation</title>\n",
       "<g id=\"a_node3\"><a xlink:title=\"→ animal.Animal\r",
       "------------------------------\r",
       "generation           \r",
       "\">\n",
       "<polygon fill=\"transparent\" points=\"871.2539,-98.5056 740.1367,-98.5056 740.1367,-78.4944 871.2539,-78.4944 871.2539,-98.5056\" stroke=\"transparent\"/>\n",
       "<text fill=\"#000000\" font-family=\"arial\" font-size=\"10.00\" text-anchor=\"middle\" x=\"805.6953\" y=\"-86.2495\">animal.Animal.Generation</text>\n",
       "</a>\n",
       "</g>\n",
       "</g>\n",
       "<!-- animal.AnimalOwner -->\n",
       "<g class=\"node\" id=\"node4\">\n",
       "<title>animal.AnimalOwner</title>\n",
       "<g id=\"a_node4\"><a xlink:title=\"→ animal.Animal\r",
       "owner_date           \r",
       "------------------------------\r",
       "→ animal.Person\r",
       "\">\n",
       "<polygon fill=\"#00ff00\" fill-opacity=\"0.188235\" points=\"273.9027,-106 147.4879,-106 147.4879,-71 273.9027,-71 273.9027,-106\" stroke=\"#00ff00\" stroke-opacity=\"0.188235\"/>\n",
       "<text fill=\"#006400\" font-family=\"arial\" font-size=\"12.00\" text-anchor=\"start\" text-decoration=\"underline\" x=\"155.3418\" y=\"-86.7994\">animal.AnimalOwner</text>\n",
       "</a>\n",
       "</g>\n",
       "</g>\n",
       "<!-- animal.Animal -->\n",
       "<g class=\"node\" id=\"node5\">\n",
       "<title>animal.Animal</title>\n",
       "<g id=\"a_node5\"><a xlink:title=\"animal_id            \r",
       "datasource_id=0      \r",
       "------------------------------\r",
       "animal_species       \r",
       "animal_name          \r",
       "animal_sex           \r",
       "animal_dob=null      \r",
       "→ animal.AnimalColor\r",
       "\">\n",
       "<polygon fill=\"#00ff00\" fill-opacity=\"0.188235\" points=\"851.5593,-177 759.8313,-177 759.8313,-142 851.5593,-142 851.5593,-177\" stroke=\"#00ff00\" stroke-opacity=\"0.188235\"/>\n",
       "<text fill=\"#006400\" font-family=\"arial\" font-size=\"12.00\" text-anchor=\"start\" text-decoration=\"underline\" x=\"768.0137\" y=\"-157.7994\">animal.Animal</text>\n",
       "</a>\n",
       "</g>\n",
       "</g>\n",
       "<!-- animal.Animal&#45;&gt;19 -->\n",
       "<g class=\"edge\" id=\"edge3\">\n",
       "<title>animal.Animal-&gt;19</title>\n",
       "<path d=\"M759.8398,-150.8792C721.9568,-142.6343 667.487,-128.1435 623.6953,-106 614.7401,-101.4718 605.7393,-93.3377 602.23,-89.9958\" fill=\"none\" stroke=\"#000000\" stroke-opacity=\"0.250980\" stroke-width=\".75\"/>\n",
       "</g>\n",
       "<!-- animal.Animal&#45;&gt;20 -->\n",
       "<g class=\"edge\" id=\"edge4\">\n",
       "<title>animal.Animal-&gt;20</title>\n",
       "<path d=\"M765.7326,-141.9305C744.934,-132.2368 719.389,-119.4556 697.6953,-106 689.1675,-100.7106 679.9263,-93.0047 676.2914,-89.8865\" fill=\"none\" stroke=\"#000000\" stroke-opacity=\"0.250980\" stroke-width=\".75\"/>\n",
       "</g>\n",
       "<!-- animal.Animal&#45;&gt;animal.Animal.Generation -->\n",
       "<g class=\"edge\" id=\"edge5\">\n",
       "<title>animal.Animal-&gt;animal.Animal.Generation</title>\n",
       "<path d=\"M805.6953,-141.9494C805.6953,-128.3159 805.6953,-109.8894 805.6953,-98.6184\" fill=\"none\" stroke=\"#000000\" stroke-opacity=\"0.250980\" stroke-width=\"2\"/>\n",
       "</g>\n",
       "<!-- animal.Animal&#45;&gt;animal.AnimalOwner -->\n",
       "<g class=\"edge\" id=\"edge6\">\n",
       "<title>animal.Animal-&gt;animal.AnimalOwner</title>\n",
       "<path d=\"M759.9388,-156.9263C668.6568,-151.3286 457.6556,-136.0666 282.6953,-106 279.9061,-105.5207 277.0646,-104.9945 274.2003,-104.4331\" fill=\"none\" stroke=\"#000000\" stroke-opacity=\"0.250980\" stroke-width=\".75\"/>\n",
       "</g>\n",
       "<!-- animal.DeadAnimal -->\n",
       "<g class=\"node\" id=\"node6\">\n",
       "<title>animal.DeadAnimal</title>\n",
       "<g id=\"a_node6\"><a xlink:title=\"→ animal.Animal\r",
       "------------------------------\r",
       "death_date=null      \r",
       "death_type           \r",
       "death_age=&quot;&quot;         \r",
       "death_cause=&quot;&quot;       \r",
       "death_notes=&quot;&quot;       \r",
       "\">\n",
       "<polygon fill=\"#00ff00\" fill-opacity=\"0.188235\" points=\"1009.7461,-106 889.6445,-106 889.6445,-71 1009.7461,-71 1009.7461,-106\" stroke=\"#00ff00\" stroke-opacity=\"0.188235\"/>\n",
       "<text fill=\"#006400\" font-family=\"arial\" font-size=\"12.00\" text-anchor=\"middle\" x=\"949.6953\" y=\"-85.7994\">animal.DeadAnimal</text>\n",
       "</a>\n",
       "</g>\n",
       "</g>\n",
       "<!-- animal.Animal&#45;&gt;animal.DeadAnimal -->\n",
       "<g class=\"edge\" id=\"edge7\">\n",
       "<title>animal.Animal-&gt;animal.DeadAnimal</title>\n",
       "<path d=\"M841.2908,-141.9494C863.4449,-131.0262 891.8393,-117.0262 914.0102,-106.0947\" fill=\"none\" stroke=\"#000000\" stroke-opacity=\"0.250980\" stroke-width=\"2\"/>\n",
       "</g>\n",
       "<!-- animal.Animal&#45;&gt;animal.Sire -->\n",
       "<g class=\"edge\" id=\"edge8\">\n",
       "<title>animal.Animal-&gt;animal.Sire</title>\n",
       "<path d=\"M770.8399,-141.7682C756.475,-132.8419 740.8502,-120.757 730.6953,-106 715.9365,-84.5525 710.6482,-54.2642 708.7533,-35.2644\" fill=\"none\" stroke=\"#000000\" stroke-opacity=\"0.250980\" stroke-width=\".75\"/>\n",
       "</g>\n",
       "<!-- animal.Animal.Strain -->\n",
       "<g class=\"node\" id=\"node8\">\n",
       "<title>animal.Animal.Strain</title>\n",
       "<g id=\"a_node8\"><a xlink:title=\"→ animal.Animal\r",
       "------------------------------\r",
       "→ animal.Strain\r",
       "\">\n",
       "<polygon fill=\"transparent\" points=\"1404.3998,-98.5056 1296.9908,-98.5056 1296.9908,-78.4944 1404.3998,-78.4944 1404.3998,-98.5056\" stroke=\"transparent\"/>\n",
       "<text fill=\"#000000\" font-family=\"arial\" font-size=\"10.00\" text-anchor=\"middle\" x=\"1350.6953\" y=\"-86.2495\">animal.Animal.Strain</text>\n",
       "</a>\n",
       "</g>\n",
       "</g>\n",
       "<!-- animal.Animal&#45;&gt;animal.Animal.Strain -->\n",
       "<g class=\"edge\" id=\"edge9\">\n",
       "<title>animal.Animal-&gt;animal.Animal.Strain</title>\n",
       "<path d=\"M851.5839,-156.8657C937.7089,-151.3792 1129.1805,-136.608 1287.6953,-106 1298.0609,-103.9985 1309.2095,-101.1417 1319.2043,-98.3151\" fill=\"none\" stroke=\"#000000\" stroke-opacity=\"0.250980\" stroke-width=\"2\"/>\n",
       "</g>\n",
       "<!-- animal.Animal.Purpose -->\n",
       "<g class=\"node\" id=\"node9\">\n",
       "<title>animal.Animal.Purpose</title>\n",
       "<g id=\"a_node9\"><a xlink:title=\"→ animal.Animal\r",
       "------------------------------\r",
       "purpose              \r",
       "\">\n",
       "<polygon fill=\"transparent\" points=\"1146.0226,-98.5056 1027.368,-98.5056 1027.368,-78.4944 1146.0226,-78.4944 1146.0226,-98.5056\" stroke=\"transparent\"/>\n",
       "<text fill=\"#000000\" font-family=\"arial\" font-size=\"10.00\" text-anchor=\"middle\" x=\"1086.6953\" y=\"-86.2495\">animal.Animal.Purpose</text>\n",
       "</a>\n",
       "</g>\n",
       "</g>\n",
       "<!-- animal.Animal&#45;&gt;animal.Animal.Purpose -->\n",
       "<g class=\"edge\" id=\"edge10\">\n",
       "<title>animal.Animal-&gt;animal.Animal.Purpose</title>\n",
       "<path d=\"M851.4195,-148.0968C894.565,-137.3173 961.0501,-120.6569 1018.6953,-106 1028.5012,-103.5067 1039.0966,-100.7906 1048.9388,-98.2583\" fill=\"none\" stroke=\"#000000\" stroke-opacity=\"0.250980\" stroke-width=\"2\"/>\n",
       "</g>\n",
       "<!-- animal.AlternateID -->\n",
       "<g class=\"node\" id=\"node11\">\n",
       "<title>animal.AlternateID</title>\n",
       "<g id=\"a_node11\"><a xlink:title=\"→ animal.Animal\r",
       "alt_id               \r",
       "\">\n",
       "<polygon fill=\"#00ff00\" fill-opacity=\"0.188235\" points=\"1278.9086,-106 1164.4821,-106 1164.4821,-71 1278.9086,-71 1278.9086,-106\" stroke=\"#00ff00\" stroke-opacity=\"0.188235\"/>\n",
       "<text fill=\"#006400\" font-family=\"arial\" font-size=\"12.00\" text-anchor=\"start\" text-decoration=\"underline\" x=\"1172.3389\" y=\"-86.7994\">animal.AlternateID</text>\n",
       "</a>\n",
       "</g>\n",
       "</g>\n",
       "<!-- animal.Animal&#45;&gt;animal.AlternateID -->\n",
       "<g class=\"edge\" id=\"edge11\">\n",
       "<title>animal.Animal-&gt;animal.AlternateID</title>\n",
       "<path d=\"M851.4185,-154.0236C918.3558,-145.6604 1046.7923,-128.3001 1154.6953,-106 1157.8741,-105.343 1161.1277,-104.63 1164.4049,-103.88\" fill=\"none\" stroke=\"#000000\" stroke-opacity=\"0.250980\" stroke-width=\".75\"/>\n",
       "</g>\n",
       "<!-- animal.AnimalCaging -->\n",
       "<g class=\"node\" id=\"node12\">\n",
       "<title>animal.AnimalCaging</title>\n",
       "<g id=\"a_node12\"><a xlink:title=\"→ animal.Animal\r",
       "caging_date          \r",
       "------------------------------\r",
       "→ animal.Cage\r",
       "→ animal.Person\r",
       "\">\n",
       "<polygon fill=\"#00ff00\" fill-opacity=\"0.188235\" points=\"129.5865,-106 -.1959,-106 -.1959,-71 129.5865,-71 129.5865,-106\" stroke=\"#00ff00\" stroke-opacity=\"0.188235\"/>\n",
       "<text fill=\"#006400\" font-family=\"arial\" font-size=\"12.00\" text-anchor=\"start\" text-decoration=\"underline\" x=\"8\" y=\"-86.7994\">animal.AnimalCaging</text>\n",
       "</a>\n",
       "</g>\n",
       "</g>\n",
       "<!-- animal.Animal&#45;&gt;animal.AnimalCaging -->\n",
       "<g class=\"edge\" id=\"edge12\">\n",
       "<title>animal.Animal-&gt;animal.AnimalCaging</title>\n",
       "<path d=\"M759.7218,-158.2205C651.0814,-154.6738 370.2185,-142.4442 138.6953,-106 135.6959,-105.5279 132.6381,-104.9993 129.5566,-104.4283\" fill=\"none\" stroke=\"#000000\" stroke-opacity=\"0.250980\" stroke-width=\".75\"/>\n",
       "</g>\n",
       "<!-- animal.Animal&#45;&gt;animal.Dam -->\n",
       "<g class=\"edge\" id=\"edge13\">\n",
       "<title>animal.Animal-&gt;animal.Dam</title>\n",
       "<path d=\"M759.6938,-151.859C727.8173,-144.5965 686.0031,-130.9337 656.6953,-106 634.3565,-86.9952 620.3108,-55.1243 613.2446,-35.2611\" fill=\"none\" stroke=\"#000000\" stroke-opacity=\"0.250980\" stroke-width=\".75\"/>\n",
       "</g>\n",
       "<!-- animal.Animal.BackgroundStrain -->\n",
       "<g class=\"node\" id=\"node17\">\n",
       "<title>animal.Animal.BackgroundStrain</title>\n",
       "<g id=\"a_node17\"><a xlink:title=\"→ animal.Animal\r",
       "------------------------------\r",
       "background_strain    \r",
       "\">\n",
       "<polygon fill=\"transparent\" points=\"453.2686,-98.5056 292.1221,-98.5056 292.1221,-78.4944 453.2686,-78.4944 453.2686,-98.5056\" stroke=\"transparent\"/>\n",
       "<text fill=\"#000000\" font-family=\"arial\" font-size=\"10.00\" text-anchor=\"middle\" x=\"372.6953\" y=\"-86.2495\">animal.Animal.BackgroundStrain</text>\n",
       "</a>\n",
       "</g>\n",
       "</g>\n",
       "<!-- animal.Animal&#45;&gt;animal.Animal.BackgroundStrain -->\n",
       "<g class=\"edge\" id=\"edge14\">\n",
       "<title>animal.Animal-&gt;animal.Animal.BackgroundStrain</title>\n",
       "<path d=\"M759.971,-152.9811C693.9759,-143.4378 568.2455,-124.7533 461.6953,-106 448.3577,-103.6525 433.9373,-100.9073 420.6668,-98.2965\" fill=\"none\" stroke=\"#000000\" stroke-opacity=\"0.250980\" stroke-width=\"2\"/>\n",
       "</g>\n",
       "<!-- animal.AnimalFOTS -->\n",
       "<g class=\"node\" id=\"node18\">\n",
       "<title>animal.AnimalFOTS</title>\n",
       "<g id=\"a_node18\"><a xlink:title=\"→ animal.Animal\r",
       "→ animal.FOTS\r",
       "------------------------------\r",
       "animal_fots_notes    \r",
       "\">\n",
       "<polygon fill=\"#00ff00\" fill-opacity=\"0.188235\" points=\"1546.5572,-106 1422.8335,-106 1422.8335,-71 1546.5572,-71 1546.5572,-106\" stroke=\"#00ff00\" stroke-opacity=\"0.188235\"/>\n",
       "<text fill=\"#006400\" font-family=\"arial\" font-size=\"12.00\" text-anchor=\"middle\" x=\"1484.6953\" y=\"-85.7994\">animal.AnimalFOTS</text>\n",
       "</a>\n",
       "</g>\n",
       "</g>\n",
       "<!-- animal.Animal&#45;&gt;animal.AnimalFOTS -->\n",
       "<g class=\"edge\" id=\"edge15\">\n",
       "<title>animal.Animal-&gt;animal.AnimalFOTS</title>\n",
       "<path d=\"M851.3783,-157.8822C953.0391,-153.7582 1205.4208,-140.6195 1413.6953,-106 1416.7009,-105.5004 1419.767,-104.9407 1422.8559,-104.3365\" fill=\"none\" stroke=\"#000000\" stroke-opacity=\"0.250980\" stroke-width=\".75\"/>\n",
       "</g>\n",
       "<!-- animal.Animal.Litter -->\n",
       "<g class=\"node\" id=\"node20\">\n",
       "<title>animal.Animal.Litter</title>\n",
       "<g id=\"a_node20\"><a xlink:title=\"→ animal.Animal\r",
       "------------------------------\r",
       "litter               \r",
       "\">\n",
       "<polygon fill=\"transparent\" points=\"574.508,-98.5056 470.8826,-98.5056 470.8826,-78.4944 574.508,-78.4944 574.508,-98.5056\" stroke=\"transparent\"/>\n",
       "<text fill=\"#000000\" font-family=\"arial\" font-size=\"10.00\" text-anchor=\"middle\" x=\"522.6953\" y=\"-86.2495\">animal.Animal.Litter</text>\n",
       "</a>\n",
       "</g>\n",
       "</g>\n",
       "<!-- animal.Animal&#45;&gt;animal.Animal.Litter -->\n",
       "<g class=\"edge\" id=\"edge16\">\n",
       "<title>animal.Animal-&gt;animal.Animal.Litter</title>\n",
       "<path d=\"M759.8341,-149.1798C714.6363,-138.8485 643.6854,-122.2003 582.6953,-106 573.7813,-103.6322 564.1721,-100.9075 555.312,-98.324\" fill=\"none\" stroke=\"#000000\" stroke-opacity=\"0.250980\" stroke-width=\"2\"/>\n",
       "</g>\n",
       "<!-- animal.AnimalSeverity -->\n",
       "<g class=\"node\" id=\"node23\">\n",
       "<title>animal.AnimalSeverity</title>\n",
       "<g id=\"a_node23\"><a xlink:title=\"→ animal.Animal\r",
       "------------------------------\r",
       "→ animal.Severity\r",
       "\">\n",
       "<polygon fill=\"#00ff00\" fill-opacity=\"0.188235\" points=\"1698.9066,-106 1564.4841,-106 1564.4841,-71 1698.9066,-71 1698.9066,-106\" stroke=\"#00ff00\" stroke-opacity=\"0.188235\"/>\n",
       "<text fill=\"#006400\" font-family=\"arial\" font-size=\"12.00\" text-anchor=\"middle\" x=\"1631.6953\" y=\"-85.7994\">animal.AnimalSeverity</text>\n",
       "</a>\n",
       "</g>\n",
       "</g>\n",
       "<!-- animal.Animal&#45;&gt;animal.AnimalSeverity -->\n",
       "<g class=\"edge\" id=\"edge17\">\n",
       "<title>animal.Animal-&gt;animal.AnimalSeverity</title>\n",
       "<path d=\"M851.6233,-158.6986C969.311,-156.1104 1291.0457,-145.6638 1555.6953,-106 1558.5072,-105.5786 1561.3693,-105.1085 1564.2542,-104.6007\" fill=\"none\" stroke=\"#000000\" stroke-opacity=\"0.250980\" stroke-width=\"2\"/>\n",
       "</g>\n",
       "<!-- animal.Genotype -->\n",
       "<g class=\"node\" id=\"node24\">\n",
       "<title>animal.Genotype</title>\n",
       "<g id=\"a_node24\"><a xlink:title=\"→ animal.Animal\r",
       "→ animal.Gene\r",
       "------------------------------\r",
       "genotype             \r",
       "\">\n",
       "<polygon fill=\"#00ff00\" fill-opacity=\"0.188235\" points=\"1823.9164,-106 1717.4742,-106 1717.4742,-71 1823.9164,-71 1823.9164,-106\" stroke=\"#00ff00\" stroke-opacity=\"0.188235\"/>\n",
       "<text fill=\"#006400\" font-family=\"arial\" font-size=\"12.00\" text-anchor=\"middle\" x=\"1770.6953\" y=\"-85.7994\">animal.Genotype</text>\n",
       "</a>\n",
       "</g>\n",
       "</g>\n",
       "<!-- animal.Animal&#45;&gt;animal.Genotype -->\n",
       "<g class=\"edge\" id=\"edge18\">\n",
       "<title>animal.Animal-&gt;animal.Genotype</title>\n",
       "<path d=\"M851.5279,-158.0652C1010.8814,-152.8763 1540.1899,-133.9083 1707.6953,-106 1710.8306,-105.4776 1714.0336,-104.8602 1717.2522,-104.1747\" fill=\"none\" stroke=\"#000000\" stroke-opacity=\"0.250980\" stroke-width=\".75\"/>\n",
       "</g>\n",
       "<!-- animal.Cage -->\n",
       "<g class=\"node\" id=\"node10\">\n",
       "<title>animal.Cage</title>\n",
       "<g id=\"a_node10\"><a xlink:title=\"cage                 \r",
       "------------------------------\r",
       "purpose=&quot;&quot;           \r",
       "\">\n",
       "<polygon fill=\"#000000\" fill-opacity=\"0.125490\" points=\"100.838,-177 28.5526,-177 28.5526,-142 100.838,-142 100.838,-177\" stroke=\"transparent\"/>\n",
       "<text fill=\"#000000\" font-family=\"arial\" font-size=\"10.00\" text-anchor=\"start\" text-decoration=\"underline\" x=\"36.624\" y=\"-158.2495\">animal.Cage</text>\n",
       "</a>\n",
       "</g>\n",
       "</g>\n",
       "<!-- animal.Cage&#45;&gt;animal.AnimalCaging -->\n",
       "<g class=\"edge\" id=\"edge19\">\n",
       "<title>animal.Cage-&gt;animal.AnimalCaging</title>\n",
       "<path d=\"M64.6953,-141.9494C64.6953,-131.1083 64.6953,-117.2366 64.6953,-106.3418\" fill=\"none\" stroke=\"#000000\" stroke-dasharray=\"5,2\" stroke-opacity=\"0.250980\" stroke-width=\".75\"/>\n",
       "</g>\n",
       "<!-- animal.FOTS -->\n",
       "<g class=\"node\" id=\"node14\">\n",
       "<title>animal.FOTS</title>\n",
       "<g id=\"a_node14\"><a xlink:title=\"fots                 \r",
       "------------------------------\r",
       "fots_description=&quot;&quot;  \r",
       "\">\n",
       "<polygon fill=\"#000000\" fill-opacity=\"0.125490\" points=\"1522.0967,-177 1447.2939,-177 1447.2939,-142 1522.0967,-142 1522.0967,-177\" stroke=\"transparent\"/>\n",
       "<text fill=\"#000000\" font-family=\"arial\" font-size=\"10.00\" text-anchor=\"start\" text-decoration=\"underline\" x=\"1455.2446\" y=\"-158.2495\">animal.FOTS</text>\n",
       "</a>\n",
       "</g>\n",
       "</g>\n",
       "<!-- animal.FOTS&#45;&gt;animal.AnimalFOTS -->\n",
       "<g class=\"edge\" id=\"edge20\">\n",
       "<title>animal.FOTS-&gt;animal.AnimalFOTS</title>\n",
       "<path d=\"M1484.6953,-141.9494C1484.6953,-131.1083 1484.6953,-117.2366 1484.6953,-106.3418\" fill=\"none\" stroke=\"#000000\" stroke-opacity=\"0.250980\" stroke-width=\".75\"/>\n",
       "</g>\n",
       "<!-- animal.AnimalColor -->\n",
       "<g class=\"node\" id=\"node15\">\n",
       "<title>animal.AnimalColor</title>\n",
       "<g id=\"a_node15\"><a xlink:title=\"color                \r",
       "\">\n",
       "<polygon fill=\"#000000\" fill-opacity=\"0.125490\" points=\"856.895,-248 754.4957,-248 754.4957,-213 856.895,-213 856.895,-248\" stroke=\"transparent\"/>\n",
       "<text fill=\"#000000\" font-family=\"arial\" font-size=\"10.00\" text-anchor=\"start\" text-decoration=\"underline\" x=\"762.3457\" y=\"-229.2495\">animal.AnimalColor</text>\n",
       "</a>\n",
       "</g>\n",
       "</g>\n",
       "<!-- animal.AnimalColor&#45;&gt;animal.Animal -->\n",
       "<g class=\"edge\" id=\"edge21\">\n",
       "<title>animal.AnimalColor-&gt;animal.Animal</title>\n",
       "<path d=\"M805.6953,-212.9494C805.6953,-202.1083 805.6953,-188.2366 805.6953,-177.3418\" fill=\"none\" stroke=\"#000000\" stroke-dasharray=\"5,2\" stroke-opacity=\"0.250980\" stroke-width=\".75\"/>\n",
       "</g>\n",
       "<!-- animal.Gene -->\n",
       "<g class=\"node\" id=\"node16\">\n",
       "<title>animal.Gene</title>\n",
       "<g id=\"a_node16\"><a xlink:title=\"gene                 \r",
       "------------------------------\r",
       "gene_description     \r",
       "\">\n",
       "<polygon fill=\"#000000\" fill-opacity=\"0.125490\" points=\"1806.8952,-177 1734.4955,-177 1734.4955,-142 1806.8952,-142 1806.8952,-177\" stroke=\"transparent\"/>\n",
       "<text fill=\"#000000\" font-family=\"arial\" font-size=\"10.00\" text-anchor=\"start\" text-decoration=\"underline\" x=\"1742.3457\" y=\"-158.2495\">animal.Gene</text>\n",
       "</a>\n",
       "</g>\n",
       "</g>\n",
       "<!-- animal.Gene&#45;&gt;animal.Genotype -->\n",
       "<g class=\"edge\" id=\"edge22\">\n",
       "<title>animal.Gene-&gt;animal.Genotype</title>\n",
       "<path d=\"M1770.6953,-141.9494C1770.6953,-131.1083 1770.6953,-117.2366 1770.6953,-106.3418\" fill=\"none\" stroke=\"#000000\" stroke-opacity=\"0.250980\" stroke-width=\".75\"/>\n",
       "</g>\n",
       "<!-- animal.Person -->\n",
       "<g class=\"node\" id=\"node19\">\n",
       "<title>animal.Person</title>\n",
       "<g id=\"a_node19\"><a xlink:title=\"person_name          \r",
       "\">\n",
       "<polygon fill=\"#00ff00\" fill-opacity=\"0.188235\" points=\"233.9009,-177 141.4898,-177 141.4898,-142 233.9009,-142 233.9009,-177\" stroke=\"#00ff00\" stroke-opacity=\"0.188235\"/>\n",
       "<text fill=\"#006400\" font-family=\"arial\" font-size=\"12.00\" text-anchor=\"start\" text-decoration=\"underline\" x=\"149.3428\" y=\"-157.7994\">animal.Person</text>\n",
       "</a>\n",
       "</g>\n",
       "</g>\n",
       "<!-- animal.Person&#45;&gt;animal.AnimalOwner -->\n",
       "<g class=\"edge\" id=\"edge23\">\n",
       "<title>animal.Person-&gt;animal.AnimalOwner</title>\n",
       "<path d=\"M193.3807,-141.9494C196.8926,-131.1083 201.3863,-117.2366 204.9156,-106.3418\" fill=\"none\" stroke=\"#000000\" stroke-dasharray=\"5,2\" stroke-opacity=\"0.250980\" stroke-width=\".75\"/>\n",
       "</g>\n",
       "<!-- animal.Person&#45;&gt;animal.AnimalCaging -->\n",
       "<g class=\"edge\" id=\"edge24\">\n",
       "<title>animal.Person-&gt;animal.AnimalCaging</title>\n",
       "<path d=\"M157.2908,-141.9494C138.3675,-131.0262 114.114,-117.0262 95.1763,-106.0947\" fill=\"none\" stroke=\"#000000\" stroke-dasharray=\"5,2\" stroke-opacity=\"0.250980\" stroke-width=\".75\"/>\n",
       "</g>\n",
       "<!-- animal.Severity -->\n",
       "<g class=\"node\" id=\"node21\">\n",
       "<title>animal.Severity</title>\n",
       "<g id=\"a_node21\"><a xlink:title=\"severity             \r",
       "\">\n",
       "<polygon fill=\"#000000\" fill-opacity=\"0.125490\" points=\"1674.0555,-177 1589.3352,-177 1589.3352,-142 1674.0555,-142 1674.0555,-177\" stroke=\"transparent\"/>\n",
       "<text fill=\"#000000\" font-family=\"arial\" font-size=\"10.00\" text-anchor=\"start\" text-decoration=\"underline\" x=\"1597.5156\" y=\"-158.2495\">animal.Severity</text>\n",
       "</a>\n",
       "</g>\n",
       "</g>\n",
       "<!-- animal.Severity&#45;&gt;animal.AnimalSeverity -->\n",
       "<g class=\"edge\" id=\"edge25\">\n",
       "<title>animal.Severity-&gt;animal.AnimalSeverity</title>\n",
       "<path d=\"M1631.6953,-141.9494C1631.6953,-131.1083 1631.6953,-117.2366 1631.6953,-106.3418\" fill=\"none\" stroke=\"#000000\" stroke-dasharray=\"5,2\" stroke-opacity=\"0.250980\" stroke-width=\".75\"/>\n",
       "</g>\n",
       "<!-- animal.Strain -->\n",
       "<g class=\"node\" id=\"node22\">\n",
       "<title>animal.Strain</title>\n",
       "<g id=\"a_node22\"><a xlink:title=\"strain               \r",
       "\">\n",
       "<polygon fill=\"#000000\" fill-opacity=\"0.125490\" points=\"1388.0556,-177 1313.3351,-177 1313.3351,-142 1388.0556,-142 1388.0556,-177\" stroke=\"transparent\"/>\n",
       "<text fill=\"#000000\" font-family=\"arial\" font-size=\"10.00\" text-anchor=\"start\" text-decoration=\"underline\" x=\"1321.5156\" y=\"-158.2495\">animal.Strain</text>\n",
       "</a>\n",
       "</g>\n",
       "</g>\n",
       "<!-- animal.Strain&#45;&gt;animal.Animal.Strain -->\n",
       "<g class=\"edge\" id=\"edge26\">\n",
       "<title>animal.Strain-&gt;animal.Animal.Strain</title>\n",
       "<path d=\"M1350.6953,-141.9494C1350.6953,-128.3159 1350.6953,-109.8894 1350.6953,-98.6184\" fill=\"none\" stroke=\"#000000\" stroke-dasharray=\"5,2\" stroke-opacity=\"0.250980\" stroke-width=\".75\"/>\n",
       "</g>\n",
       "</g>\n",
       "</svg>"
      ],
      "text/plain": [
       "<datajoint.diagram.Diagram at 0x131335b00>"
      ]
     },
     "execution_count": 8,
     "metadata": {},
     "output_type": "execute_result"
    }
   ],
   "source": [
    "dj.Diagram(animal)"
   ]
  },
  {
   "cell_type": "markdown",
   "metadata": {},
   "source": [
    "Among other things, the `animal.Animal` table contains listing of all animals in the lab, and as we will see, serve as the starting point for the entire ephys pipeline."
   ]
  },
  {
   "cell_type": "code",
   "execution_count": 9,
   "metadata": {},
   "outputs": [
    {
     "data": {
      "text/html": [
       "\n",
       "        \n",
       "        <style type=\"text/css\">\n",
       "            .Relation{\n",
       "                border-collapse:collapse;\n",
       "            }\n",
       "            .Relation th{\n",
       "                background: #A0A0A0; color: #ffffff; padding:4px; border:#f0e0e0 1px solid;\n",
       "                font-weight: normal; font-family: monospace; font-size: 100%;\n",
       "            }\n",
       "            .Relation td{\n",
       "                padding:4px; border:#f0e0e0 1px solid; font-size:100%;\n",
       "            }\n",
       "            .Relation tr:nth-child(odd){\n",
       "                background: #ffffff;\n",
       "            }\n",
       "            .Relation tr:nth-child(even){\n",
       "                background: #f3f1ff;\n",
       "            }\n",
       "            /* Tooltip container */\n",
       "            .djtooltip {\n",
       "            }\n",
       "            /* Tooltip text */\n",
       "            .djtooltip .djtooltiptext {\n",
       "                visibility: hidden;\n",
       "                width: 120px;\n",
       "                background-color: black;\n",
       "                color: #fff;\n",
       "                text-align: center;\n",
       "                padding: 5px 0;\n",
       "                border-radius: 6px;\n",
       "                /* Position the tooltip text - see examples below! */\n",
       "                position: absolute;\n",
       "                z-index: 1;\n",
       "            }\n",
       "            #primary {\n",
       "                font-weight: bold;\n",
       "                color: black;\n",
       "            }\n",
       "\n",
       "            #nonprimary {\n",
       "                font-weight: normal;\n",
       "                color: white;\n",
       "            }\n",
       "\n",
       "            /* Show the tooltip text when you mouse over the tooltip container */\n",
       "            .djtooltip:hover .djtooltiptext {\n",
       "                visibility: visible;\n",
       "            }\n",
       "        </style>\n",
       "        \n",
       "        <b></b>\n",
       "            <div style=\"max-height:1000px;max-width:1500px;overflow:auto;\">\n",
       "            <table border=\"1\" class=\"Relation\">\n",
       "                <thead> <tr style=\"text-align: right;\"> <th> <div class=\"djtooltip\">\n",
       "                                <p id=\"primary\">animal_id</p>\n",
       "                                <span class=\"djtooltiptext\"></span>\n",
       "                            </div></th><th><div class=\"djtooltip\">\n",
       "                                <p id=\"primary\">datasource_id</p>\n",
       "                                <span class=\"djtooltiptext\"></span>\n",
       "                            </div></th><th><div class=\"djtooltip\">\n",
       "                                <p id=\"nonprimary\">animal_species</p>\n",
       "                                <span class=\"djtooltiptext\"></span>\n",
       "                            </div></th><th><div class=\"djtooltip\">\n",
       "                                <p id=\"nonprimary\">animal_name</p>\n",
       "                                <span class=\"djtooltiptext\"></span>\n",
       "                            </div></th><th><div class=\"djtooltip\">\n",
       "                                <p id=\"nonprimary\">animal_sex</p>\n",
       "                                <span class=\"djtooltiptext\"></span>\n",
       "                            </div></th><th><div class=\"djtooltip\">\n",
       "                                <p id=\"nonprimary\">animal_dob</p>\n",
       "                                <span class=\"djtooltiptext\"></span>\n",
       "                            </div></th><th><div class=\"djtooltip\">\n",
       "                                <p id=\"nonprimary\">color</p>\n",
       "                                <span class=\"djtooltiptext\"></span>\n",
       "                            </div> </th> </tr> </thead>\n",
       "                <tbody> <tr> <td>0000da5d6810d149</td>\n",
       "<td>0</td>\n",
       "<td>mouse</td>\n",
       "<td>85106</td>\n",
       "<td>F</td>\n",
       "<td>2018-10-07</td>\n",
       "<td>None</td></tr><tr><td>0000df481fc1421d</td>\n",
       "<td>0</td>\n",
       "<td>rat</td>\n",
       "<td>20399</td>\n",
       "<td>F</td>\n",
       "<td>2014-08-06</td>\n",
       "<td>None</td></tr><tr><td>00016d089675e2f2</td>\n",
       "<td>0</td>\n",
       "<td>mouse</td>\n",
       "<td>55885</td>\n",
       "<td>M</td>\n",
       "<td>2016-02-12</td>\n",
       "<td>None</td></tr><tr><td>0003a07550faa59b</td>\n",
       "<td>0</td>\n",
       "<td>mouse</td>\n",
       "<td>78224</td>\n",
       "<td>F</td>\n",
       "<td>2017-11-30</td>\n",
       "<td>None</td></tr><tr><td>0005070177484ee2</td>\n",
       "<td>0</td>\n",
       "<td>rat</td>\n",
       "<td>20259</td>\n",
       "<td>M</td>\n",
       "<td>2014-07-21</td>\n",
       "<td>None</td></tr><tr><td>0005baadae264d7b</td>\n",
       "<td>0</td>\n",
       "<td>rat</td>\n",
       "<td>24790</td>\n",
       "<td>F</td>\n",
       "<td>2018-04-12</td>\n",
       "<td>None</td></tr><tr><td>00062843f7d3ffce</td>\n",
       "<td>0</td>\n",
       "<td>mouse</td>\n",
       "<td>55391</td>\n",
       "<td>F</td>\n",
       "<td>None</td>\n",
       "<td>None</td></tr><tr><td>00062e8c65bb14f3</td>\n",
       "<td>0</td>\n",
       "<td>mouse</td>\n",
       "<td>52756</td>\n",
       "<td>M</td>\n",
       "<td>2015-02-27</td>\n",
       "<td>None</td></tr><tr><td>0006d0993fd101e8</td>\n",
       "<td>0</td>\n",
       "<td>mouse</td>\n",
       "<td>78886</td>\n",
       "<td>F</td>\n",
       "<td>2017-12-25</td>\n",
       "<td>None</td></tr><tr><td>00080a60ab6366cd</td>\n",
       "<td>0</td>\n",
       "<td>mouse</td>\n",
       "<td>83976</td>\n",
       "<td>F</td>\n",
       "<td>2018-08-01</td>\n",
       "<td>None</td> </tr> </tbody>\n",
       "            </table>\n",
       "            <p>...</p>\n",
       "            <p>Total: 39665</p></div>\n",
       "            "
      ],
      "text/plain": [
       "*animal_id     *datasource_id animal_species animal_name    animal_sex     animal_dob     color    \n",
       "+------------+ +------------+ +------------+ +------------+ +------------+ +------------+ +-------+\n",
       "0000da5d6810d1 0              mouse          85106          F              2018-10-07     None     \n",
       "0000df481fc142 0              rat            20399          F              2014-08-06     None     \n",
       "00016d089675e2 0              mouse          55885          M              2016-02-12     None     \n",
       "0003a07550faa5 0              mouse          78224          F              2017-11-30     None     \n",
       "0005070177484e 0              rat            20259          M              2014-07-21     None     \n",
       "0005baadae264d 0              rat            24790          F              2018-04-12     None     \n",
       "00062843f7d3ff 0              mouse          55391          F              None           None     \n",
       "00062e8c65bb14 0              mouse          52756          M              2015-02-27     None     \n",
       "0006d0993fd101 0              mouse          78886          F              2017-12-25     None     \n",
       "00080a60ab6366 0              mouse          83976          F              2018-08-01     None     \n",
       "   ...\n",
       " (Total: 39665)"
      ]
     },
     "execution_count": 9,
     "metadata": {},
     "output_type": "execute_result"
    }
   ],
   "source": [
    "animal.Animal()"
   ]
  },
  {
   "cell_type": "markdown",
   "metadata": {},
   "source": [
    "Each animal is uniquely captured by a combination of `animal_id` and `datasource_id`. `datasource_id=0` indicates that these are animals found in MLIMS colony management system."
   ]
  },
  {
   "cell_type": "markdown",
   "metadata": {},
   "source": [
    "### Querying tables"
   ]
  },
  {
   "cell_type": "markdown",
   "metadata": {},
   "source": [
    "In DataJoint, you can probe into or **query** tables to get a specific subset of data that you may be interested in. The most common type of query is **restriction**, where you'll subselect entries based on specific criteria."
   ]
  },
  {
   "cell_type": "markdown",
   "metadata": {},
   "source": [
    "#### Question 1: Find only rats"
   ]
  },
  {
   "cell_type": "markdown",
   "metadata": {},
   "source": [
    "#### Question 2: Find only animals born after 2017"
   ]
  },
  {
   "cell_type": "markdown",
   "metadata": {},
   "source": [
    "### Getting data out of the table"
   ]
  },
  {
   "cell_type": "markdown",
   "metadata": {},
   "source": [
    "Once you form your desired query result, you can **fetch** back the data from the tables by calling `fetch` on the query result."
   ]
  },
  {
   "cell_type": "code",
   "execution_count": 12,
   "metadata": {},
   "outputs": [],
   "source": [
    "# get all information about animals born on or after 2017\n",
    "data = (animal.Animal & 'animal_dob >= \"2017-01-01\"').fetch()"
   ]
  },
  {
   "cell_type": "code",
   "execution_count": 14,
   "metadata": {},
   "outputs": [
    {
     "data": {
      "text/plain": [
       "array([('0000da5d6810d149', 0, 'mouse', '85106', 'F', datetime.date(2018, 10, 7), 'None'),\n",
       "       ('0003a07550faa59b', 0, 'mouse', '78224', 'F', datetime.date(2017, 11, 30), 'None'),\n",
       "       ('0005baadae264d7b', 0, 'rat', '24790', 'F', datetime.date(2018, 4, 12), 'None'),\n",
       "       ...,\n",
       "       ('aaf70b0da8daf346', 0, 'mouse', '76008', 'M', datetime.date(2017, 8, 23), 'None'),\n",
       "       ('aafda9b6a7263a17', 0, 'mouse', '86528', 'M', datetime.date(2018, 12, 21), 'None'),\n",
       "       ('aafebb46548b68ea', 0, 'mouse', '81878', 'M', datetime.date(2018, 4, 20), 'None')],\n",
       "      dtype=[('animal_id', 'O'), ('datasource_id', '<i8'), ('animal_species', 'O'), ('animal_name', 'O'), ('animal_sex', 'O'), ('animal_dob', 'O'), ('color', 'O')])"
      ]
     },
     "execution_count": 14,
     "metadata": {},
     "output_type": "execute_result"
    }
   ],
   "source": [
    "data"
   ]
  },
  {
   "cell_type": "markdown",
   "metadata": {},
   "source": [
    "You can also fetch just the specific columns by specifying the column names when calling `fetch`"
   ]
  },
  {
   "cell_type": "code",
   "execution_count": 81,
   "metadata": {},
   "outputs": [],
   "source": [
    "names, dobs = (animal.Animal & 'animal_dob >= \"2017-01-01\"').fetch('animal_name', 'animal_dob')"
   ]
  },
  {
   "cell_type": "code",
   "execution_count": 53,
   "metadata": {},
   "outputs": [
    {
     "data": {
      "text/plain": [
       "array(['85106', '78224', '24790', ..., '76008', '86528', '81878'],\n",
       "      dtype=object)"
      ]
     },
     "execution_count": 53,
     "metadata": {},
     "output_type": "execute_result"
    }
   ],
   "source": [
    "names"
   ]
  },
  {
   "cell_type": "code",
   "execution_count": 54,
   "metadata": {},
   "outputs": [
    {
     "data": {
      "text/plain": [
       "array([datetime.date(2018, 10, 7), datetime.date(2017, 11, 30),\n",
       "       datetime.date(2018, 4, 12), ..., datetime.date(2017, 8, 23),\n",
       "       datetime.date(2018, 12, 21), datetime.date(2018, 4, 20)],\n",
       "      dtype=object)"
      ]
     },
     "execution_count": 54,
     "metadata": {},
     "output_type": "execute_result"
    }
   ],
   "source": [
    "dobs"
   ]
  },
  {
   "cell_type": "markdown",
   "metadata": {},
   "source": [
    "### Getting list of unique animals"
   ]
  },
  {
   "cell_type": "markdown",
   "metadata": {},
   "source": [
    "You can just get the identifying information of the table by grabbing (or **fetching**) the `KEY` of the table, and then using this to **restrict** the entries."
   ]
  },
  {
   "cell_type": "code",
   "execution_count": 79,
   "metadata": {},
   "outputs": [],
   "source": [
    "keys = (animal.Animal & 'animal_dob >= \"2017-01-01\"').fetch('KEY')"
   ]
  },
  {
   "cell_type": "code",
   "execution_count": 80,
   "metadata": {},
   "outputs": [
    {
     "data": {
      "text/plain": [
       "[{'animal_id': '0000da5d6810d149', 'datasource_id': 0},\n",
       " {'animal_id': '0003a07550faa59b', 'datasource_id': 0},\n",
       " {'animal_id': '0005baadae264d7b', 'datasource_id': 0},\n",
       " {'animal_id': '0006d0993fd101e8', 'datasource_id': 0},\n",
       " {'animal_id': '00080a60ab6366cd', 'datasource_id': 0}]"
      ]
     },
     "execution_count": 80,
     "metadata": {},
     "output_type": "execute_result"
    }
   ],
   "source": [
    "keys[:5]  # first five keys"
   ]
  },
  {
   "cell_type": "markdown",
   "metadata": {},
   "source": [
    "Get specific animal back"
   ]
  },
  {
   "cell_type": "code",
   "execution_count": 17,
   "metadata": {},
   "outputs": [
    {
     "data": {
      "text/html": [
       "\n",
       "        \n",
       "        <style type=\"text/css\">\n",
       "            .Relation{\n",
       "                border-collapse:collapse;\n",
       "            }\n",
       "            .Relation th{\n",
       "                background: #A0A0A0; color: #ffffff; padding:4px; border:#f0e0e0 1px solid;\n",
       "                font-weight: normal; font-family: monospace; font-size: 100%;\n",
       "            }\n",
       "            .Relation td{\n",
       "                padding:4px; border:#f0e0e0 1px solid; font-size:100%;\n",
       "            }\n",
       "            .Relation tr:nth-child(odd){\n",
       "                background: #ffffff;\n",
       "            }\n",
       "            .Relation tr:nth-child(even){\n",
       "                background: #f3f1ff;\n",
       "            }\n",
       "            /* Tooltip container */\n",
       "            .djtooltip {\n",
       "            }\n",
       "            /* Tooltip text */\n",
       "            .djtooltip .djtooltiptext {\n",
       "                visibility: hidden;\n",
       "                width: 120px;\n",
       "                background-color: black;\n",
       "                color: #fff;\n",
       "                text-align: center;\n",
       "                padding: 5px 0;\n",
       "                border-radius: 6px;\n",
       "                /* Position the tooltip text - see examples below! */\n",
       "                position: absolute;\n",
       "                z-index: 1;\n",
       "            }\n",
       "            #primary {\n",
       "                font-weight: bold;\n",
       "                color: black;\n",
       "            }\n",
       "\n",
       "            #nonprimary {\n",
       "                font-weight: normal;\n",
       "                color: white;\n",
       "            }\n",
       "\n",
       "            /* Show the tooltip text when you mouse over the tooltip container */\n",
       "            .djtooltip:hover .djtooltiptext {\n",
       "                visibility: visible;\n",
       "            }\n",
       "        </style>\n",
       "        \n",
       "        <b></b>\n",
       "            <div style=\"max-height:1000px;max-width:1500px;overflow:auto;\">\n",
       "            <table border=\"1\" class=\"Relation\">\n",
       "                <thead> <tr style=\"text-align: right;\"> <th> <div class=\"djtooltip\">\n",
       "                                <p id=\"primary\">animal_id</p>\n",
       "                                <span class=\"djtooltiptext\"></span>\n",
       "                            </div></th><th><div class=\"djtooltip\">\n",
       "                                <p id=\"primary\">datasource_id</p>\n",
       "                                <span class=\"djtooltiptext\"></span>\n",
       "                            </div></th><th><div class=\"djtooltip\">\n",
       "                                <p id=\"nonprimary\">animal_species</p>\n",
       "                                <span class=\"djtooltiptext\"></span>\n",
       "                            </div></th><th><div class=\"djtooltip\">\n",
       "                                <p id=\"nonprimary\">animal_name</p>\n",
       "                                <span class=\"djtooltiptext\"></span>\n",
       "                            </div></th><th><div class=\"djtooltip\">\n",
       "                                <p id=\"nonprimary\">animal_sex</p>\n",
       "                                <span class=\"djtooltiptext\"></span>\n",
       "                            </div></th><th><div class=\"djtooltip\">\n",
       "                                <p id=\"nonprimary\">animal_dob</p>\n",
       "                                <span class=\"djtooltiptext\"></span>\n",
       "                            </div></th><th><div class=\"djtooltip\">\n",
       "                                <p id=\"nonprimary\">color</p>\n",
       "                                <span class=\"djtooltiptext\"></span>\n",
       "                            </div> </th> </tr> </thead>\n",
       "                <tbody> <tr> <td>0000da5d6810d149</td>\n",
       "<td>0</td>\n",
       "<td>mouse</td>\n",
       "<td>85106</td>\n",
       "<td>F</td>\n",
       "<td>2018-10-07</td>\n",
       "<td>None</td> </tr> </tbody>\n",
       "            </table>\n",
       "            \n",
       "            <p>Total: 1</p></div>\n",
       "            "
      ],
      "text/plain": [
       "*animal_id     *datasource_id animal_species animal_name    animal_sex     animal_dob     color    \n",
       "+------------+ +------------+ +------------+ +------------+ +------------+ +------------+ +-------+\n",
       "0000da5d6810d1 0              mouse          85106          F              2018-10-07     None     \n",
       " (Total: 1)"
      ]
     },
     "execution_count": 17,
     "metadata": {},
     "output_type": "execute_result"
    }
   ],
   "source": [
    "# get the first animal back\n",
    "animal.Animal & keys[0]"
   ]
  },
  {
   "cell_type": "markdown",
   "metadata": {},
   "source": [
    "## Electrophysiology Session"
   ]
  },
  {
   "cell_type": "markdown",
   "metadata": {},
   "source": [
    "In order to understand how the entire `ephys` pipeline is organized, it is essential to first understand what we mean by \"a session\".\n",
    "\n",
    "The following figure illustrates the structure of an electrophysiology experiment session."
   ]
  },
  {
   "cell_type": "markdown",
   "metadata": {},
   "source": [
    "<img src=\"../images/Ephys_Session_Structure.png\" alt=\"drawing\" width=\"700\"/>"
   ]
  },
  {
   "cell_type": "markdown",
   "metadata": {},
   "source": [
    "A single experimental **session** consists of one or more of the following:\n",
    "* tracking data stream (recording from animal tracker) -- referred to as **tracking** data\n",
    "* electrophsyiology data stream (recording from a single probe) -- referred to as **recording** data"
   ]
  },
  {
   "cell_type": "markdown",
   "metadata": {},
   "source": [
    "Within a single **session**, you can get any number of the above, with possibility of having multiple probe recordings occuring simultaneously (e.g. when recording from two or more probes at the same time).\n",
    "\n",
    "While the experimenter is free to split any number of recordings/trackings into a desired number of sessions, an **experimental session** is typically considered to be a single coherent collection of recordings, and is also typically the basic unit for the downstream analysis."
   ]
  },
  {
   "cell_type": "markdown",
   "metadata": {},
   "source": [
    "Additionally, a single **session** may be assocciated with one or more **tasks**, usually labeling the particular behavioral task or environment that the animal is exposed to."
   ]
  },
  {
   "cell_type": "markdown",
   "metadata": {},
   "source": [
    "To represent the above complexity, we make use of multiple related tables, starting with `Session`, representing a single experimental session in the pipeline. "
   ]
  },
  {
   "cell_type": "markdown",
   "metadata": {},
   "source": [
    "An experimental `Session` can be uniquely identified by knowing the **animal** and **the exact date time** of the experiment session. This is reflected in the definition of the `Session` table."
   ]
  },
  {
   "cell_type": "code",
   "execution_count": 18,
   "metadata": {},
   "outputs": [
    {
     "data": {
      "text/html": [
       "\n",
       "        \n",
       "        <style type=\"text/css\">\n",
       "            .Relation{\n",
       "                border-collapse:collapse;\n",
       "            }\n",
       "            .Relation th{\n",
       "                background: #A0A0A0; color: #ffffff; padding:4px; border:#f0e0e0 1px solid;\n",
       "                font-weight: normal; font-family: monospace; font-size: 100%;\n",
       "            }\n",
       "            .Relation td{\n",
       "                padding:4px; border:#f0e0e0 1px solid; font-size:100%;\n",
       "            }\n",
       "            .Relation tr:nth-child(odd){\n",
       "                background: #ffffff;\n",
       "            }\n",
       "            .Relation tr:nth-child(even){\n",
       "                background: #f3f1ff;\n",
       "            }\n",
       "            /* Tooltip container */\n",
       "            .djtooltip {\n",
       "            }\n",
       "            /* Tooltip text */\n",
       "            .djtooltip .djtooltiptext {\n",
       "                visibility: hidden;\n",
       "                width: 120px;\n",
       "                background-color: black;\n",
       "                color: #fff;\n",
       "                text-align: center;\n",
       "                padding: 5px 0;\n",
       "                border-radius: 6px;\n",
       "                /* Position the tooltip text - see examples below! */\n",
       "                position: absolute;\n",
       "                z-index: 1;\n",
       "            }\n",
       "            #primary {\n",
       "                font-weight: bold;\n",
       "                color: black;\n",
       "            }\n",
       "\n",
       "            #nonprimary {\n",
       "                font-weight: normal;\n",
       "                color: white;\n",
       "            }\n",
       "\n",
       "            /* Show the tooltip text when you mouse over the tooltip container */\n",
       "            .djtooltip:hover .djtooltiptext {\n",
       "                visibility: visible;\n",
       "            }\n",
       "        </style>\n",
       "        \n",
       "        <b></b>\n",
       "            <div style=\"max-height:1000px;max-width:1500px;overflow:auto;\">\n",
       "            <table border=\"1\" class=\"Relation\">\n",
       "                <thead> <tr style=\"text-align: right;\"> <th> <div class=\"djtooltip\">\n",
       "                                <p id=\"primary\">animal_id</p>\n",
       "                                <span class=\"djtooltiptext\"></span>\n",
       "                            </div></th><th><div class=\"djtooltip\">\n",
       "                                <p id=\"primary\">datasource_id</p>\n",
       "                                <span class=\"djtooltiptext\"></span>\n",
       "                            </div></th><th><div class=\"djtooltip\">\n",
       "                                <p id=\"primary\">session_time</p>\n",
       "                                <span class=\"djtooltiptext\">start time of this session</span>\n",
       "                            </div></th><th><div class=\"djtooltip\">\n",
       "                                <p id=\"nonprimary\">session_note</p>\n",
       "                                <span class=\"djtooltiptext\"></span>\n",
       "                            </div> </th> </tr> </thead>\n",
       "                <tbody> <tr> <td>00342c6d86e97d43</td>\n",
       "<td>0</td>\n",
       "<td>2019-07-04 20:35:12</td>\n",
       "<td>=BLOB=</td></tr><tr><td>40bfa03a7a7018cc</td>\n",
       "<td>0</td>\n",
       "<td>2019-09-17 19:43:06</td>\n",
       "<td>=BLOB=</td></tr><tr><td>61fd2ac184c13c73</td>\n",
       "<td>0</td>\n",
       "<td>2017-10-02 15:54:25</td>\n",
       "<td>=BLOB=</td></tr><tr><td>61fd2ac184c13c73</td>\n",
       "<td>0</td>\n",
       "<td>2018-01-02 11:20:23</td>\n",
       "<td>=BLOB=</td></tr><tr><td>6a61369265b193e8</td>\n",
       "<td>0</td>\n",
       "<td>2017-09-08 14:58:22</td>\n",
       "<td>=BLOB=</td></tr><tr><td>6a61369265b193e8</td>\n",
       "<td>0</td>\n",
       "<td>2017-10-04 11:15:32</td>\n",
       "<td>=BLOB=</td></tr><tr><td>6a61369265b193e8</td>\n",
       "<td>0</td>\n",
       "<td>2018-01-08 13:19:31</td>\n",
       "<td>=BLOB=</td></tr><tr><td>724240a0a756020f</td>\n",
       "<td>0</td>\n",
       "<td>2018-04-24 10:25:23</td>\n",
       "<td>=BLOB=</td></tr><tr><td>96129eb1563c0b0d</td>\n",
       "<td>0</td>\n",
       "<td>2018-06-21 12:59:28</td>\n",
       "<td>=BLOB=</td></tr><tr><td>bbd19fe400fac5a6</td>\n",
       "<td>0</td>\n",
       "<td>2019-09-10 15:34:57</td>\n",
       "<td>=BLOB=</td> </tr> </tbody>\n",
       "            </table>\n",
       "            <p>...</p>\n",
       "            <p>Total: 14</p></div>\n",
       "            "
      ],
      "text/plain": [
       "*animal_id     *datasource_id *session_time  session_no\n",
       "+------------+ +------------+ +------------+ +--------+\n",
       "00342c6d86e97d 0              2019-07-04 20: =BLOB=    \n",
       "40bfa03a7a7018 0              2019-09-17 19: =BLOB=    \n",
       "61fd2ac184c13c 0              2017-10-02 15: =BLOB=    \n",
       "61fd2ac184c13c 0              2018-01-02 11: =BLOB=    \n",
       "6a61369265b193 0              2017-09-08 14: =BLOB=    \n",
       "6a61369265b193 0              2017-10-04 11: =BLOB=    \n",
       "6a61369265b193 0              2018-01-08 13: =BLOB=    \n",
       "724240a0a75602 0              2018-04-24 10: =BLOB=    \n",
       "96129eb1563c0b 0              2018-06-21 12: =BLOB=    \n",
       "bbd19fe400fac5 0              2019-09-10 15: =BLOB=    \n",
       "   ...\n",
       " (Total: 14)"
      ]
     },
     "execution_count": 18,
     "metadata": {},
     "output_type": "execute_result"
    }
   ],
   "source": [
    "acquisition.Session()"
   ]
  },
  {
   "cell_type": "markdown",
   "metadata": {},
   "source": [
    "Looking at the *definition* of the table, we see that `Session` table **refers to `Animal` table** to indicate that each `Sessions` depends on an `Animal`. In other words, you cannot possibly have an experiment session without a corresponding animal."
   ]
  },
  {
   "cell_type": "code",
   "execution_count": 19,
   "metadata": {},
   "outputs": [
    {
     "name": "stdout",
     "output_type": "stream",
     "text": [
      "-> animal.Animal\n",
      "session_time         : datetime                     # start time of this session\n",
      "---\n",
      "session_note=null    : longblob                     \n",
      "\n"
     ]
    }
   ],
   "source": [
    "acquisition.Session.describe();"
   ]
  },
  {
   "cell_type": "markdown",
   "metadata": {},
   "source": [
    "This relationship is captured by the following table **diagram**"
   ]
  },
  {
   "cell_type": "markdown",
   "metadata": {},
   "source": [
    "<img src=\"../images/ephys_pipeline/animal_session.png\" alt=\"drawing\" width=\"300\"/>"
   ]
  },
  {
   "cell_type": "markdown",
   "metadata": {},
   "source": [
    "The power of DataJoint query shines when you start combining multiple tables in your query to ask more complex questions!"
   ]
  },
  {
   "cell_type": "markdown",
   "metadata": {},
   "source": [
    "#### Question 3: Find all animals with one or more experimental session"
   ]
  },
  {
   "cell_type": "markdown",
   "metadata": {},
   "source": [
    "#### Question 4: Find all animals with sessions run on or after 2018."
   ]
  },
  {
   "cell_type": "markdown",
   "metadata": {},
   "source": [
    "## Recording and Tracking"
   ]
  },
  {
   "cell_type": "markdown",
   "metadata": {},
   "source": [
    "As was mentioned above, we expect to find one or more electrode probe recordings and/or tracking data stream. These information are represented by `Recording` and `Tracking` tables, respectively."
   ]
  },
  {
   "cell_type": "markdown",
   "metadata": {},
   "source": [
    "<img src=\"../images/ephys_pipeline/session_simple.png\" alt=\"drawing\" width=\"600\"/>"
   ]
  },
  {
   "cell_type": "markdown",
   "metadata": {},
   "source": [
    "The extended diagram now captures the relationship between `Session` and the two new tables `Recording` and `Tracking`. However, notice that `Recording` also *depends* on another table -- `ProbeInsertion`."
   ]
  },
  {
   "cell_type": "markdown",
   "metadata": {},
   "source": [
    "## Understanding recording - working with probes"
   ]
  },
  {
   "cell_type": "code",
   "execution_count": 25,
   "metadata": {},
   "outputs": [
    {
     "name": "stdout",
     "output_type": "stream",
     "text": [
      "-> acquisition.Session\n",
      "-> acquisition.ProbeInsertion\n",
      "recording_time       : datetime                     # start time of this recording\n",
      "---\n",
      "-> reference.RecordingSystem\n",
      "-> reference.ElectrodeConfig\n",
      "recording_order      : smallint                     # the ordering of this recording in this session\n",
      "recording_duration   : float                        # (s) duration of this recording\n",
      "recording_name=\"\"    : varchar(40)                  # name of this recording (e.g. 27032019laserSess1)\n",
      "\n"
     ]
    }
   ],
   "source": [
    "acquisition.Recording.describe();"
   ]
  },
  {
   "cell_type": "markdown",
   "metadata": {},
   "source": [
    "Looking at the definition of `Recording` table, we can see that it depends on two parent tables -- `acquisition.Session` and `acquisition.ProbeInsertion`. Dependency on `acquisition.Session` ensures that each recording must be associated with exactly one `Session` entry. What is the dependency on `ProbeInsertion` about? \n",
    "\n",
    "If you guessed that this captures exactly which electrode probe that the recording was performed on, then you guessed right! `ProbeInsertion` table actually represents the final table in a chain of tables capturing precise information about the probe that was inserted into the animal."
   ]
  },
  {
   "cell_type": "markdown",
   "metadata": {},
   "source": [
    "<img src=\"../images/ephys_pipeline/probe_insert.png\" alt=\"drawing\" width=\"450\"/>"
   ]
  },
  {
   "cell_type": "code",
   "execution_count": 26,
   "metadata": {},
   "outputs": [
    {
     "name": "stdout",
     "output_type": "stream",
     "text": [
      "-> animal.Animal\n",
      "insertion_time       : datetime                     # When this probe was inserted\n",
      "---\n",
      "-> reference.Probe\n",
      "insertion_note=\"\"    : varchar(1000)                # some notes\n",
      "\n"
     ]
    }
   ],
   "source": [
    "acquisition.ProbeInsertion.describe();"
   ]
  },
  {
   "cell_type": "markdown",
   "metadata": {},
   "source": [
    "Conceptually, an entry in `ProbeInsertion` table represents a particular event of probe insertion into the animal, and this is uniquely identified by knowing on **which animal** and **when** the insertion was performed. You can also see that `ProbeInsertion` *refers* to `Probe` table, thereby indicating what `Probe` was actually inserted."
   ]
  },
  {
   "cell_type": "code",
   "execution_count": 27,
   "metadata": {},
   "outputs": [
    {
     "data": {
      "text/html": [
       "\n",
       "        \n",
       "        <style type=\"text/css\">\n",
       "            .Relation{\n",
       "                border-collapse:collapse;\n",
       "            }\n",
       "            .Relation th{\n",
       "                background: #A0A0A0; color: #ffffff; padding:4px; border:#f0e0e0 1px solid;\n",
       "                font-weight: normal; font-family: monospace; font-size: 100%;\n",
       "            }\n",
       "            .Relation td{\n",
       "                padding:4px; border:#f0e0e0 1px solid; font-size:100%;\n",
       "            }\n",
       "            .Relation tr:nth-child(odd){\n",
       "                background: #ffffff;\n",
       "            }\n",
       "            .Relation tr:nth-child(even){\n",
       "                background: #f3f1ff;\n",
       "            }\n",
       "            /* Tooltip container */\n",
       "            .djtooltip {\n",
       "            }\n",
       "            /* Tooltip text */\n",
       "            .djtooltip .djtooltiptext {\n",
       "                visibility: hidden;\n",
       "                width: 120px;\n",
       "                background-color: black;\n",
       "                color: #fff;\n",
       "                text-align: center;\n",
       "                padding: 5px 0;\n",
       "                border-radius: 6px;\n",
       "                /* Position the tooltip text - see examples below! */\n",
       "                position: absolute;\n",
       "                z-index: 1;\n",
       "            }\n",
       "            #primary {\n",
       "                font-weight: bold;\n",
       "                color: black;\n",
       "            }\n",
       "\n",
       "            #nonprimary {\n",
       "                font-weight: normal;\n",
       "                color: white;\n",
       "            }\n",
       "\n",
       "            /* Show the tooltip text when you mouse over the tooltip container */\n",
       "            .djtooltip:hover .djtooltiptext {\n",
       "                visibility: visible;\n",
       "            }\n",
       "        </style>\n",
       "        \n",
       "        <b>represent a physical probe</b>\n",
       "            <div style=\"max-height:1000px;max-width:1500px;overflow:auto;\">\n",
       "            <table border=\"1\" class=\"Relation\">\n",
       "                <thead> <tr style=\"text-align: right;\"> <th> <div class=\"djtooltip\">\n",
       "                                <p id=\"primary\">probe</p>\n",
       "                                <span class=\"djtooltiptext\">unique identifier of this probe (e.g. serial number)</span>\n",
       "                            </div></th><th><div class=\"djtooltip\">\n",
       "                                <p id=\"nonprimary\">probe_model</p>\n",
       "                                <span class=\"djtooltiptext\">nick name, or other user-friendly model name of this probe</span>\n",
       "                            </div> </th> </tr> </thead>\n",
       "                <tbody> <tr> <td>microdrive_86866</td>\n",
       "<td>4-tetrode-array</td></tr><tr><td>tetrode_74472</td>\n",
       "<td>4-tetrode-array</td></tr><tr><td>tetrode_74956</td>\n",
       "<td>4-tetrode-array</td></tr><tr><td>tetrode_88068_1</td>\n",
       "<td>4-tetrode-array</td></tr><tr><td>tetrode_88068_2</td>\n",
       "<td>4-tetrode-array</td></tr><tr><td>microdrive_24321_1</td>\n",
       "<td>8-tetrode-array</td></tr><tr><td>microdrive_24321_2</td>\n",
       "<td>8-tetrode-array</td></tr><tr><td>tetrode_32c</td>\n",
       "<td>8-tetrode-array</td></tr><tr><td>Neuropixel_1</td>\n",
       "<td>neuropixels_1.0</td></tr><tr><td>Neuropixel_2</td>\n",
       "<td>neuropixels_1.0</td> </tr> </tbody>\n",
       "            </table>\n",
       "            <p>...</p>\n",
       "            <p>Total: 11</p></div>\n",
       "            "
      ],
      "text/plain": [
       "*probe         probe_model   \n",
       "+------------+ +------------+\n",
       "microdrive_868 4-tetrode-arra\n",
       "tetrode_74472  4-tetrode-arra\n",
       "tetrode_74956  4-tetrode-arra\n",
       "tetrode_88068_ 4-tetrode-arra\n",
       "tetrode_88068_ 4-tetrode-arra\n",
       "microdrive_243 8-tetrode-arra\n",
       "microdrive_243 8-tetrode-arra\n",
       "tetrode_32c    8-tetrode-arra\n",
       "Neuropixel_1   neuropixels_1.\n",
       "Neuropixel_2   neuropixels_1.\n",
       "   ...\n",
       " (Total: 11)"
      ]
     },
     "execution_count": 27,
     "metadata": {},
     "output_type": "execute_result"
    }
   ],
   "source": [
    "reference.Probe()"
   ]
  },
  {
   "cell_type": "code",
   "execution_count": 28,
   "metadata": {},
   "outputs": [
    {
     "name": "stdout",
     "output_type": "stream",
     "text": [
      "# represent a physical probe\n",
      "probe                : varchar(32)                  # unique identifier of this probe (e.g. serial number)\n",
      "---\n",
      "-> reference.ProbeModel\n",
      "\n"
     ]
    }
   ],
   "source": [
    "reference.Probe.describe();"
   ]
  },
  {
   "cell_type": "markdown",
   "metadata": {},
   "source": [
    "An entry in `Probe` table refers to a specific *physical instance* of a probe, with some string of characters used to uniquely identify the probe (e.g. name or serial number of the probe). Again, `Probe` *refers* to `ProbeModel` table, that now captures the **model** of the probe, such as neuropixel probe version 1.0 or 4 probe tetrode array."
   ]
  },
  {
   "cell_type": "code",
   "execution_count": 29,
   "metadata": {},
   "outputs": [
    {
     "data": {
      "text/html": [
       "\n",
       "        \n",
       "        <style type=\"text/css\">\n",
       "            .Relation{\n",
       "                border-collapse:collapse;\n",
       "            }\n",
       "            .Relation th{\n",
       "                background: #A0A0A0; color: #ffffff; padding:4px; border:#f0e0e0 1px solid;\n",
       "                font-weight: normal; font-family: monospace; font-size: 100%;\n",
       "            }\n",
       "            .Relation td{\n",
       "                padding:4px; border:#f0e0e0 1px solid; font-size:100%;\n",
       "            }\n",
       "            .Relation tr:nth-child(odd){\n",
       "                background: #ffffff;\n",
       "            }\n",
       "            .Relation tr:nth-child(even){\n",
       "                background: #f3f1ff;\n",
       "            }\n",
       "            /* Tooltip container */\n",
       "            .djtooltip {\n",
       "            }\n",
       "            /* Tooltip text */\n",
       "            .djtooltip .djtooltiptext {\n",
       "                visibility: hidden;\n",
       "                width: 120px;\n",
       "                background-color: black;\n",
       "                color: #fff;\n",
       "                text-align: center;\n",
       "                padding: 5px 0;\n",
       "                border-radius: 6px;\n",
       "                /* Position the tooltip text - see examples below! */\n",
       "                position: absolute;\n",
       "                z-index: 1;\n",
       "            }\n",
       "            #primary {\n",
       "                font-weight: bold;\n",
       "                color: black;\n",
       "            }\n",
       "\n",
       "            #nonprimary {\n",
       "                font-weight: normal;\n",
       "                color: white;\n",
       "            }\n",
       "\n",
       "            /* Show the tooltip text when you mouse over the tooltip container */\n",
       "            .djtooltip:hover .djtooltiptext {\n",
       "                visibility: visible;\n",
       "            }\n",
       "        </style>\n",
       "        \n",
       "        <b>represent a probe model</b>\n",
       "            <div style=\"max-height:1000px;max-width:1500px;overflow:auto;\">\n",
       "            <table border=\"1\" class=\"Relation\">\n",
       "                <thead> <tr style=\"text-align: right;\"> <th> <div class=\"djtooltip\">\n",
       "                                <p id=\"primary\">probe_model</p>\n",
       "                                <span class=\"djtooltiptext\">nick name, or other user-friendly model name of this probe</span>\n",
       "                            </div></th><th><div class=\"djtooltip\">\n",
       "                                <p id=\"nonprimary\">probe_type</p>\n",
       "                                <span class=\"djtooltiptext\"></span>\n",
       "                            </div> </th> </tr> </thead>\n",
       "                <tbody> <tr> <td>neuropixels_1.0</td>\n",
       "<td>neuropixels</td></tr><tr><td>4-tetrode-array</td>\n",
       "<td>tetrode_array</td></tr><tr><td>8-tetrode-array</td>\n",
       "<td>tetrode_array</td> </tr> </tbody>\n",
       "            </table>\n",
       "            \n",
       "            <p>Total: 3</p></div>\n",
       "            "
      ],
      "text/plain": [
       "*probe_model   probe_type    \n",
       "+------------+ +------------+\n",
       "neuropixels_1. neuropixels   \n",
       "4-tetrode-arra tetrode_array \n",
       "8-tetrode-arra tetrode_array \n",
       " (Total: 3)"
      ]
     },
     "execution_count": 29,
     "metadata": {},
     "output_type": "execute_result"
    }
   ],
   "source": [
    "reference.ProbeModel()"
   ]
  },
  {
   "cell_type": "code",
   "execution_count": 30,
   "metadata": {},
   "outputs": [
    {
     "name": "stdout",
     "output_type": "stream",
     "text": [
      "# represent a probe model\n",
      "probe_model          : varchar(32)                  # nick name, or other user-friendly model name of this probe\n",
      "---\n",
      "-> reference.ProbeType\n",
      "\n"
     ]
    }
   ],
   "source": [
    "reference.ProbeModel.describe();"
   ]
  },
  {
   "cell_type": "markdown",
   "metadata": {},
   "source": [
    "Finally, each `ProbeModel` *refers* to the type of probe, which is a more general grouping of probe classifiation, such as neuropixels or tetrode array."
   ]
  },
  {
   "cell_type": "code",
   "execution_count": 31,
   "metadata": {},
   "outputs": [
    {
     "data": {
      "text/html": [
       "\n",
       "        \n",
       "        <style type=\"text/css\">\n",
       "            .Relation{\n",
       "                border-collapse:collapse;\n",
       "            }\n",
       "            .Relation th{\n",
       "                background: #A0A0A0; color: #ffffff; padding:4px; border:#f0e0e0 1px solid;\n",
       "                font-weight: normal; font-family: monospace; font-size: 100%;\n",
       "            }\n",
       "            .Relation td{\n",
       "                padding:4px; border:#f0e0e0 1px solid; font-size:100%;\n",
       "            }\n",
       "            .Relation tr:nth-child(odd){\n",
       "                background: #ffffff;\n",
       "            }\n",
       "            .Relation tr:nth-child(even){\n",
       "                background: #f3f1ff;\n",
       "            }\n",
       "            /* Tooltip container */\n",
       "            .djtooltip {\n",
       "            }\n",
       "            /* Tooltip text */\n",
       "            .djtooltip .djtooltiptext {\n",
       "                visibility: hidden;\n",
       "                width: 120px;\n",
       "                background-color: black;\n",
       "                color: #fff;\n",
       "                text-align: center;\n",
       "                padding: 5px 0;\n",
       "                border-radius: 6px;\n",
       "                /* Position the tooltip text - see examples below! */\n",
       "                position: absolute;\n",
       "                z-index: 1;\n",
       "            }\n",
       "            #primary {\n",
       "                font-weight: bold;\n",
       "                color: black;\n",
       "            }\n",
       "\n",
       "            #nonprimary {\n",
       "                font-weight: normal;\n",
       "                color: white;\n",
       "            }\n",
       "\n",
       "            /* Show the tooltip text when you mouse over the tooltip container */\n",
       "            .djtooltip:hover .djtooltiptext {\n",
       "                visibility: visible;\n",
       "            }\n",
       "        </style>\n",
       "        \n",
       "        \n",
       "            <div style=\"max-height:1000px;max-width:1500px;overflow:auto;\">\n",
       "            <table border=\"1\" class=\"Relation\">\n",
       "                <thead> <tr style=\"text-align: right;\"> <th> <div class=\"djtooltip\">\n",
       "                                <p id=\"primary\">probe</p>\n",
       "                                <span class=\"djtooltiptext\">unique identifier of this probe (e.g. serial number)</span>\n",
       "                            </div></th><th><div class=\"djtooltip\">\n",
       "                                <p id=\"primary\">probe_model</p>\n",
       "                                <span class=\"djtooltiptext\">nick name, or other user-friendly model name of this probe</span>\n",
       "                            </div></th><th><div class=\"djtooltip\">\n",
       "                                <p id=\"nonprimary\">probe_type</p>\n",
       "                                <span class=\"djtooltiptext\"></span>\n",
       "                            </div> </th> </tr> </thead>\n",
       "                <tbody> <tr> <td>Neuropixel_1</td>\n",
       "<td>neuropixels_1.0</td>\n",
       "<td>neuropixels</td></tr><tr><td>Neuropixel_2</td>\n",
       "<td>neuropixels_1.0</td>\n",
       "<td>neuropixels</td></tr><tr><td>neuropixel_25558</td>\n",
       "<td>neuropixels_1.0</td>\n",
       "<td>neuropixels</td></tr><tr><td>microdrive_86866</td>\n",
       "<td>4-tetrode-array</td>\n",
       "<td>tetrode_array</td></tr><tr><td>tetrode_74472</td>\n",
       "<td>4-tetrode-array</td>\n",
       "<td>tetrode_array</td></tr><tr><td>tetrode_74956</td>\n",
       "<td>4-tetrode-array</td>\n",
       "<td>tetrode_array</td></tr><tr><td>tetrode_88068_1</td>\n",
       "<td>4-tetrode-array</td>\n",
       "<td>tetrode_array</td></tr><tr><td>tetrode_88068_2</td>\n",
       "<td>4-tetrode-array</td>\n",
       "<td>tetrode_array</td></tr><tr><td>microdrive_24321_1</td>\n",
       "<td>8-tetrode-array</td>\n",
       "<td>tetrode_array</td></tr><tr><td>microdrive_24321_2</td>\n",
       "<td>8-tetrode-array</td>\n",
       "<td>tetrode_array</td> </tr> </tbody>\n",
       "            </table>\n",
       "            <p>...</p>\n",
       "            <p>Total: 11</p></div>\n",
       "            "
      ],
      "text/plain": [
       "*probe         *probe_model   probe_type    \n",
       "+------------+ +------------+ +------------+\n",
       "Neuropixel_1   neuropixels_1. neuropixels   \n",
       "Neuropixel_2   neuropixels_1. neuropixels   \n",
       "neuropixel_255 neuropixels_1. neuropixels   \n",
       "microdrive_868 4-tetrode-arra tetrode_array \n",
       "tetrode_74472  4-tetrode-arra tetrode_array \n",
       "tetrode_74956  4-tetrode-arra tetrode_array \n",
       "tetrode_88068_ 4-tetrode-arra tetrode_array \n",
       "tetrode_88068_ 4-tetrode-arra tetrode_array \n",
       "microdrive_243 8-tetrode-arra tetrode_array \n",
       "microdrive_243 8-tetrode-arra tetrode_array \n",
       "   ...\n",
       " (Total: 11)"
      ]
     },
     "execution_count": 31,
     "metadata": {},
     "output_type": "execute_result"
    }
   ],
   "source": [
    "reference.Probe * reference.ProbeModel "
   ]
  },
  {
   "cell_type": "markdown",
   "metadata": {},
   "source": [
    "<img src=\"../images/ephys_pipeline/probe_insert.png\" alt=\"drawing\" width=\"450\"/>"
   ]
  },
  {
   "cell_type": "markdown",
   "metadata": {},
   "source": [
    "Put together, `ProbeInsertion` allows experimenters to capture the information about the probe that was inserted into an animal."
   ]
  },
  {
   "cell_type": "markdown",
   "metadata": {},
   "source": [
    "#### Question 5: Find all animals with tetrode array implants"
   ]
  },
  {
   "cell_type": "markdown",
   "metadata": {},
   "source": [
    "## Recordings"
   ]
  },
  {
   "cell_type": "markdown",
   "metadata": {},
   "source": [
    "Now we understand what `ProbeInsertion` table captures, let's get back to `Recording` table."
   ]
  },
  {
   "cell_type": "markdown",
   "metadata": {},
   "source": [
    "<img src=\"../images/ephys_pipeline/session_simple.png\" alt=\"drawing\" width=\"700\"/>"
   ]
  },
  {
   "cell_type": "code",
   "execution_count": 75,
   "metadata": {},
   "outputs": [
    {
     "name": "stdout",
     "output_type": "stream",
     "text": [
      "-> acquisition.Session\n",
      "-> acquisition.ProbeInsertion\n",
      "recording_time       : datetime                     # start time of this recording\n",
      "---\n",
      "-> reference.RecordingSystem\n",
      "-> reference.ElectrodeConfig\n",
      "recording_order      : smallint                     # the ordering of this recording in this session\n",
      "recording_duration   : float                        # (s) duration of this recording\n",
      "recording_name=\"\"    : varchar(40)                  # name of this recording (e.g. 27032019laserSess1)\n",
      "\n"
     ]
    }
   ],
   "source": [
    "acquisition.Recording.describe();"
   ]
  },
  {
   "cell_type": "markdown",
   "metadata": {},
   "source": [
    "Notice that a entry in `Recording` is uniquely identified by a unique combination of a `Session`, `ProbeInsertion`, **and recording time**! It is the presence of this last primary key attribute that enables more than one recording to be present for each combination of `Sessions` and `ProbeInsertion`. In other words, within a `Session`, you can have more than one recordings from the same probe, as long as they are separated in time (`recording_time`)."
   ]
  },
  {
   "cell_type": "markdown",
   "metadata": {},
   "source": [
    "Now you may have noticed that `Recording` also *refers* to a number of other tables. This is graphically depicted by the following diagram."
   ]
  },
  {
   "cell_type": "markdown",
   "metadata": {},
   "source": [
    "<img src=\"../images/ephys_pipeline/recording.png\" alt=\"drawing\" height=\"400\"/>"
   ]
  },
  {
   "cell_type": "markdown",
   "metadata": {},
   "source": [
    "`RecordingSystem`, as the name indicates, keeps track of different recroding systems."
   ]
  },
  {
   "cell_type": "code",
   "execution_count": 76,
   "metadata": {},
   "outputs": [
    {
     "data": {
      "text/html": [
       "\n",
       "        \n",
       "        <style type=\"text/css\">\n",
       "            .Relation{\n",
       "                border-collapse:collapse;\n",
       "            }\n",
       "            .Relation th{\n",
       "                background: #A0A0A0; color: #ffffff; padding:4px; border:#f0e0e0 1px solid;\n",
       "                font-weight: normal; font-family: monospace; font-size: 100%;\n",
       "            }\n",
       "            .Relation td{\n",
       "                padding:4px; border:#f0e0e0 1px solid; font-size:100%;\n",
       "            }\n",
       "            .Relation tr:nth-child(odd){\n",
       "                background: #ffffff;\n",
       "            }\n",
       "            .Relation tr:nth-child(even){\n",
       "                background: #f3f1ff;\n",
       "            }\n",
       "            /* Tooltip container */\n",
       "            .djtooltip {\n",
       "            }\n",
       "            /* Tooltip text */\n",
       "            .djtooltip .djtooltiptext {\n",
       "                visibility: hidden;\n",
       "                width: 120px;\n",
       "                background-color: black;\n",
       "                color: #fff;\n",
       "                text-align: center;\n",
       "                padding: 5px 0;\n",
       "                border-radius: 6px;\n",
       "                /* Position the tooltip text - see examples below! */\n",
       "                position: absolute;\n",
       "                z-index: 1;\n",
       "            }\n",
       "            #primary {\n",
       "                font-weight: bold;\n",
       "                color: black;\n",
       "            }\n",
       "\n",
       "            #nonprimary {\n",
       "                font-weight: normal;\n",
       "                color: white;\n",
       "            }\n",
       "\n",
       "            /* Show the tooltip text when you mouse over the tooltip container */\n",
       "            .djtooltip:hover .djtooltiptext {\n",
       "                visibility: visible;\n",
       "            }\n",
       "        </style>\n",
       "        \n",
       "        <b></b>\n",
       "            <div style=\"max-height:1000px;max-width:1500px;overflow:auto;\">\n",
       "            <table border=\"1\" class=\"Relation\">\n",
       "                <thead> <tr style=\"text-align: right;\"> <th> <div class=\"djtooltip\">\n",
       "                                <p id=\"primary\">recording_system</p>\n",
       "                                <span class=\"djtooltiptext\"></span>\n",
       "                            </div> </th> </tr> </thead>\n",
       "                <tbody> <tr> <td>axona</td></tr><tr><td>neuralynx</td></tr><tr><td>neurologger</td></tr><tr><td>neuropixels</td> </tr> </tbody>\n",
       "            </table>\n",
       "            \n",
       "            <p>Total: 4</p></div>\n",
       "            "
      ],
      "text/plain": [
       "*recording_sys\n",
       "+------------+\n",
       "axona         \n",
       "neuralynx     \n",
       "neurologger   \n",
       "neuropixels   \n",
       " (Total: 4)"
      ]
     },
     "execution_count": 76,
     "metadata": {},
     "output_type": "execute_result"
    }
   ],
   "source": [
    "reference.RecordingSystem()"
   ]
  },
  {
   "cell_type": "markdown",
   "metadata": {},
   "source": [
    "`ElectrodeConfig` is a bit more complex, referring to the exact configurations of groupings of channels found in a probe that the recording occured for. We will revisit this table and other related tables later in this notebook."
   ]
  },
  {
   "cell_type": "markdown",
   "metadata": {},
   "source": [
    "#### Question 6: Pick a mouse and find all recordings performed on that mouse."
   ]
  },
  {
   "cell_type": "markdown",
   "metadata": {},
   "source": [
    "## Tracking data"
   ]
  },
  {
   "cell_type": "markdown",
   "metadata": {},
   "source": [
    "In contrast to the `Recording` table, `Tracking` table contains information about a particular tracking data stream found inside a session."
   ]
  },
  {
   "cell_type": "code",
   "execution_count": 47,
   "metadata": {},
   "outputs": [
    {
     "name": "stdout",
     "output_type": "stream",
     "text": [
      "-> acquisition.Session\n",
      "tracking_time        : datetime                     # start time of this tracking recording\n",
      "---\n",
      "-> tracking.TrackingType\n",
      "tracking_name        : varchar(40)                  # user-assign name of this tracking (e.g. 27032019laserSess1)\n",
      "tracking_sample_rate : float                        # (Hz)\n",
      "tracking_timestamps  : longblob                     # (s) timestamps of the frame in the tracking system clock, w.r.t the start of this tracking\n",
      "\n"
     ]
    }
   ],
   "source": [
    "tracking.Tracking().describe();"
   ]
  },
  {
   "cell_type": "code",
   "execution_count": 48,
   "metadata": {},
   "outputs": [
    {
     "data": {
      "text/html": [
       "\n",
       "        \n",
       "        <style type=\"text/css\">\n",
       "            .Relation{\n",
       "                border-collapse:collapse;\n",
       "            }\n",
       "            .Relation th{\n",
       "                background: #A0A0A0; color: #ffffff; padding:4px; border:#f0e0e0 1px solid;\n",
       "                font-weight: normal; font-family: monospace; font-size: 100%;\n",
       "            }\n",
       "            .Relation td{\n",
       "                padding:4px; border:#f0e0e0 1px solid; font-size:100%;\n",
       "            }\n",
       "            .Relation tr:nth-child(odd){\n",
       "                background: #ffffff;\n",
       "            }\n",
       "            .Relation tr:nth-child(even){\n",
       "                background: #f3f1ff;\n",
       "            }\n",
       "            /* Tooltip container */\n",
       "            .djtooltip {\n",
       "            }\n",
       "            /* Tooltip text */\n",
       "            .djtooltip .djtooltiptext {\n",
       "                visibility: hidden;\n",
       "                width: 120px;\n",
       "                background-color: black;\n",
       "                color: #fff;\n",
       "                text-align: center;\n",
       "                padding: 5px 0;\n",
       "                border-radius: 6px;\n",
       "                /* Position the tooltip text - see examples below! */\n",
       "                position: absolute;\n",
       "                z-index: 1;\n",
       "            }\n",
       "            #primary {\n",
       "                font-weight: bold;\n",
       "                color: black;\n",
       "            }\n",
       "\n",
       "            #nonprimary {\n",
       "                font-weight: normal;\n",
       "                color: white;\n",
       "            }\n",
       "\n",
       "            /* Show the tooltip text when you mouse over the tooltip container */\n",
       "            .djtooltip:hover .djtooltiptext {\n",
       "                visibility: visible;\n",
       "            }\n",
       "        </style>\n",
       "        \n",
       "        <b></b>\n",
       "            <div style=\"max-height:1000px;max-width:1500px;overflow:auto;\">\n",
       "            <table border=\"1\" class=\"Relation\">\n",
       "                <thead> <tr style=\"text-align: right;\"> <th> <div class=\"djtooltip\">\n",
       "                                <p id=\"primary\">animal_id</p>\n",
       "                                <span class=\"djtooltiptext\"></span>\n",
       "                            </div></th><th><div class=\"djtooltip\">\n",
       "                                <p id=\"primary\">datasource_id</p>\n",
       "                                <span class=\"djtooltiptext\"></span>\n",
       "                            </div></th><th><div class=\"djtooltip\">\n",
       "                                <p id=\"primary\">session_time</p>\n",
       "                                <span class=\"djtooltiptext\">start time of this session</span>\n",
       "                            </div></th><th><div class=\"djtooltip\">\n",
       "                                <p id=\"primary\">tracking_time</p>\n",
       "                                <span class=\"djtooltiptext\">start time of this tracking recording</span>\n",
       "                            </div></th><th><div class=\"djtooltip\">\n",
       "                                <p id=\"nonprimary\">tracking_type</p>\n",
       "                                <span class=\"djtooltiptext\"></span>\n",
       "                            </div></th><th><div class=\"djtooltip\">\n",
       "                                <p id=\"nonprimary\">tracking_name</p>\n",
       "                                <span class=\"djtooltiptext\">user-assign name of this tracking (e.g. 27032019laserSess1)</span>\n",
       "                            </div></th><th><div class=\"djtooltip\">\n",
       "                                <p id=\"nonprimary\">tracking_sample_rate</p>\n",
       "                                <span class=\"djtooltiptext\">(Hz)</span>\n",
       "                            </div></th><th><div class=\"djtooltip\">\n",
       "                                <p id=\"nonprimary\">tracking_timestamps</p>\n",
       "                                <span class=\"djtooltiptext\">(s) timestamps of the frame in the tracking system clock, w.r.t the start of this tracking</span>\n",
       "                            </div> </th> </tr> </thead>\n",
       "                <tbody> <tr> <td>00342c6d86e97d43</td>\n",
       "<td>0</td>\n",
       "<td>2019-07-04 20:35:12</td>\n",
       "<td>2019-07-04 20:34:48</td>\n",
       "<td>optitrack</td>\n",
       "<td>2019-07-04_20-33-01</td>\n",
       "<td>121.587</td>\n",
       "<td>=BLOB=</td></tr><tr><td>40bfa03a7a7018cc</td>\n",
       "<td>0</td>\n",
       "<td>2019-09-17 19:43:06</td>\n",
       "<td>2019-09-17 19:42:39</td>\n",
       "<td>optitrack</td>\n",
       "<td>2019-09-17_19-41-14</td>\n",
       "<td>120.0</td>\n",
       "<td>=BLOB=</td></tr><tr><td>61fd2ac184c13c73</td>\n",
       "<td>0</td>\n",
       "<td>2017-10-02 15:54:25</td>\n",
       "<td>2017-10-02 15:54:25</td>\n",
       "<td>axona</td>\n",
       "<td>02102017s1</td>\n",
       "<td>50.0</td>\n",
       "<td>=BLOB=</td></tr><tr><td>61fd2ac184c13c73</td>\n",
       "<td>0</td>\n",
       "<td>2017-10-02 15:54:25</td>\n",
       "<td>2017-10-02 16:28:38</td>\n",
       "<td>axona</td>\n",
       "<td>02102017laserSess1(1mw)</td>\n",
       "<td>50.0</td>\n",
       "<td>=BLOB=</td></tr><tr><td>61fd2ac184c13c73</td>\n",
       "<td>0</td>\n",
       "<td>2017-10-02 15:54:25</td>\n",
       "<td>2017-10-02 16:30:46</td>\n",
       "<td>axona</td>\n",
       "<td>02102017laserSess1(2mw)</td>\n",
       "<td>50.0</td>\n",
       "<td>=BLOB=</td></tr><tr><td>61fd2ac184c13c73</td>\n",
       "<td>0</td>\n",
       "<td>2017-10-02 15:54:25</td>\n",
       "<td>2017-10-02 16:32:47</td>\n",
       "<td>axona</td>\n",
       "<td>02102017laserSess1(3mw)</td>\n",
       "<td>50.0</td>\n",
       "<td>=BLOB=</td></tr><tr><td>61fd2ac184c13c73</td>\n",
       "<td>0</td>\n",
       "<td>2017-10-02 15:54:25</td>\n",
       "<td>2017-10-02 16:34:32</td>\n",
       "<td>axona</td>\n",
       "<td>02102017laserSess1(4mw)</td>\n",
       "<td>50.0</td>\n",
       "<td>=BLOB=</td></tr><tr><td>61fd2ac184c13c73</td>\n",
       "<td>0</td>\n",
       "<td>2017-10-02 15:54:25</td>\n",
       "<td>2017-10-02 16:37:12</td>\n",
       "<td>axona</td>\n",
       "<td>02102017laserSess1(7mw)</td>\n",
       "<td>50.0</td>\n",
       "<td>=BLOB=</td></tr><tr><td>61fd2ac184c13c73</td>\n",
       "<td>0</td>\n",
       "<td>2017-10-02 15:54:25</td>\n",
       "<td>2017-10-02 16:38:46</td>\n",
       "<td>axona</td>\n",
       "<td>02102017laserSess1(9mw)</td>\n",
       "<td>50.0</td>\n",
       "<td>=BLOB=</td></tr><tr><td>61fd2ac184c13c73</td>\n",
       "<td>0</td>\n",
       "<td>2017-10-02 15:54:25</td>\n",
       "<td>2017-10-02 16:42:03</td>\n",
       "<td>axona</td>\n",
       "<td>02102017laserSess1(12mw)</td>\n",
       "<td>50.0</td>\n",
       "<td>=BLOB=</td> </tr> </tbody>\n",
       "            </table>\n",
       "            <p>...</p>\n",
       "            <p>Total: 39</p></div>\n",
       "            "
      ],
      "text/plain": [
       "*animal_id     *datasource_id *session_time  *tracking_time tracking_type  tracking_name  tracking_sampl tracking_t\n",
       "+------------+ +------------+ +------------+ +------------+ +------------+ +------------+ +------------+ +--------+\n",
       "00342c6d86e97d 0              2019-07-04 20: 2019-07-04 20: optitrack      2019-07-04_20- 121.587        =BLOB=    \n",
       "40bfa03a7a7018 0              2019-09-17 19: 2019-09-17 19: optitrack      2019-09-17_19- 120.0          =BLOB=    \n",
       "61fd2ac184c13c 0              2017-10-02 15: 2017-10-02 15: axona          02102017s1     50.0           =BLOB=    \n",
       "61fd2ac184c13c 0              2017-10-02 15: 2017-10-02 16: axona          02102017laserS 50.0           =BLOB=    \n",
       "61fd2ac184c13c 0              2017-10-02 15: 2017-10-02 16: axona          02102017laserS 50.0           =BLOB=    \n",
       "61fd2ac184c13c 0              2017-10-02 15: 2017-10-02 16: axona          02102017laserS 50.0           =BLOB=    \n",
       "61fd2ac184c13c 0              2017-10-02 15: 2017-10-02 16: axona          02102017laserS 50.0           =BLOB=    \n",
       "61fd2ac184c13c 0              2017-10-02 15: 2017-10-02 16: axona          02102017laserS 50.0           =BLOB=    \n",
       "61fd2ac184c13c 0              2017-10-02 15: 2017-10-02 16: axona          02102017laserS 50.0           =BLOB=    \n",
       "61fd2ac184c13c 0              2017-10-02 15: 2017-10-02 16: axona          02102017laserS 50.0           =BLOB=    \n",
       "   ...\n",
       " (Total: 39)"
      ]
     },
     "execution_count": 48,
     "metadata": {},
     "output_type": "execute_result"
    }
   ],
   "source": [
    "tracking.Tracking()"
   ]
  },
  {
   "cell_type": "markdown",
   "metadata": {},
   "source": [
    "Again, `Tracking` *refers* to `Session` but also has it's own primary key attribute `tracking_time`, allowing for more than one tracking to be present per session, as long as they are separated in time. "
   ]
  },
  {
   "cell_type": "markdown",
   "metadata": {},
   "source": [
    "### Where is the data?"
   ]
  },
  {
   "cell_type": "markdown",
   "metadata": {},
   "source": [
    "While `Recording` and `Tracking` tables both represented data recordings, you may have noticed that we didn't see the actual data points present in the table. This is because these tables are used to describe information **about recording and tracking**, and the actual data are loaded and handled by downstream tables as we will see shortly."
   ]
  },
  {
   "cell_type": "markdown",
   "metadata": {},
   "source": [
    "## Clustering"
   ]
  },
  {
   "cell_type": "markdown",
   "metadata": {},
   "source": [
    "While a stream of electrical activities in itself can be interesting (i.e. refer to `LFP` below), we are often interested in working with individual spikes, and thus want to perform spike detection/clustering on the raw signal to extract these spikes. The ephys pipeline is built so that it can express very complex configurations of clustering."
   ]
  },
  {
   "cell_type": "markdown",
   "metadata": {},
   "source": [
    "Namely, **arbitrary time segments from one or more recordings across one or more sessions** can be combined to be the target of clustering. Let's now take a look at how that is represented in the tables."
   ]
  },
  {
   "cell_type": "markdown",
   "metadata": {},
   "source": [
    "### Specification of clustering time windows"
   ]
  },
  {
   "cell_type": "markdown",
   "metadata": {},
   "source": [
    "To allow for flexible combination of one or more sessions, `ClusterSessionGrouping` table is used."
   ]
  },
  {
   "cell_type": "markdown",
   "metadata": {},
   "source": [
    "<img src=\"../images/ephys_pipeline/cluster_group.png\" alt=\"drawing\" width=\"700\"/>"
   ]
  },
  {
   "cell_type": "code",
   "execution_count": 78,
   "metadata": {},
   "outputs": [
    {
     "name": "stdout",
     "output_type": "stream",
     "text": [
      "group_name           : varchar(36)                  \n",
      "---\n",
      "group_desc=\"\"        : varchar(128)                 \n",
      "\n"
     ]
    }
   ],
   "source": [
    "acquisition.ClusterSessionGroup.describe();"
   ]
  },
  {
   "cell_type": "markdown",
   "metadata": {},
   "source": [
    "`ClusterSessionGroup` table simply defines a group of one or more sessions, and the `ClusterSessionGroup.GroupMember` ties the member sessions to the group it belongs to."
   ]
  },
  {
   "cell_type": "markdown",
   "metadata": {},
   "source": [
    "Taking a look at an example group."
   ]
  },
  {
   "cell_type": "code",
   "execution_count": 79,
   "metadata": {},
   "outputs": [],
   "source": [
    "keys = acquisition.ClusterSessionGroup().fetch('KEY')"
   ]
  },
  {
   "cell_type": "code",
   "execution_count": 80,
   "metadata": {},
   "outputs": [
    {
     "data": {
      "text/html": [
       "\n",
       "        \n",
       "        <style type=\"text/css\">\n",
       "            .Relation{\n",
       "                border-collapse:collapse;\n",
       "            }\n",
       "            .Relation th{\n",
       "                background: #A0A0A0; color: #ffffff; padding:4px; border:#f0e0e0 1px solid;\n",
       "                font-weight: normal; font-family: monospace; font-size: 100%;\n",
       "            }\n",
       "            .Relation td{\n",
       "                padding:4px; border:#f0e0e0 1px solid; font-size:100%;\n",
       "            }\n",
       "            .Relation tr:nth-child(odd){\n",
       "                background: #ffffff;\n",
       "            }\n",
       "            .Relation tr:nth-child(even){\n",
       "                background: #f3f1ff;\n",
       "            }\n",
       "            /* Tooltip container */\n",
       "            .djtooltip {\n",
       "            }\n",
       "            /* Tooltip text */\n",
       "            .djtooltip .djtooltiptext {\n",
       "                visibility: hidden;\n",
       "                width: 120px;\n",
       "                background-color: black;\n",
       "                color: #fff;\n",
       "                text-align: center;\n",
       "                padding: 5px 0;\n",
       "                border-radius: 6px;\n",
       "                /* Position the tooltip text - see examples below! */\n",
       "                position: absolute;\n",
       "                z-index: 1;\n",
       "            }\n",
       "            #primary {\n",
       "                font-weight: bold;\n",
       "                color: black;\n",
       "            }\n",
       "\n",
       "            #nonprimary {\n",
       "                font-weight: normal;\n",
       "                color: white;\n",
       "            }\n",
       "\n",
       "            /* Show the tooltip text when you mouse over the tooltip container */\n",
       "            .djtooltip:hover .djtooltiptext {\n",
       "                visibility: visible;\n",
       "            }\n",
       "        </style>\n",
       "        \n",
       "        <b></b>\n",
       "            <div style=\"max-height:1000px;max-width:1500px;overflow:auto;\">\n",
       "            <table border=\"1\" class=\"Relation\">\n",
       "                <thead> <tr style=\"text-align: right;\"> <th> <div class=\"djtooltip\">\n",
       "                                <p id=\"primary\">group_name</p>\n",
       "                                <span class=\"djtooltiptext\"></span>\n",
       "                            </div></th><th><div class=\"djtooltip\">\n",
       "                                <p id=\"nonprimary\">group_desc</p>\n",
       "                                <span class=\"djtooltiptext\"></span>\n",
       "                            </div> </th> </tr> </thead>\n",
       "                <tbody> <tr> <td>det_0d7c5dd06d63c5f14395b914f7f803e7</td>\n",
       "<td>Default session grouping for animal 724240a0a756020f on 25242018 10:25:23</td> </tr> </tbody>\n",
       "            </table>\n",
       "            \n",
       "            <p>Total: 1</p></div>\n",
       "            "
      ],
      "text/plain": [
       "*group_name    group_desc    \n",
       "+------------+ +------------+\n",
       "det_0d7c5dd06d Default sessio\n",
       " (Total: 1)"
      ]
     },
     "execution_count": 80,
     "metadata": {},
     "output_type": "execute_result"
    }
   ],
   "source": [
    "acquisition.ClusterSessionGroup() & keys[0]"
   ]
  },
  {
   "cell_type": "markdown",
   "metadata": {},
   "source": [
    "and members for this session group"
   ]
  },
  {
   "cell_type": "code",
   "execution_count": 81,
   "metadata": {},
   "outputs": [
    {
     "data": {
      "text/html": [
       "\n",
       "        \n",
       "        <style type=\"text/css\">\n",
       "            .Relation{\n",
       "                border-collapse:collapse;\n",
       "            }\n",
       "            .Relation th{\n",
       "                background: #A0A0A0; color: #ffffff; padding:4px; border:#f0e0e0 1px solid;\n",
       "                font-weight: normal; font-family: monospace; font-size: 100%;\n",
       "            }\n",
       "            .Relation td{\n",
       "                padding:4px; border:#f0e0e0 1px solid; font-size:100%;\n",
       "            }\n",
       "            .Relation tr:nth-child(odd){\n",
       "                background: #ffffff;\n",
       "            }\n",
       "            .Relation tr:nth-child(even){\n",
       "                background: #f3f1ff;\n",
       "            }\n",
       "            /* Tooltip container */\n",
       "            .djtooltip {\n",
       "            }\n",
       "            /* Tooltip text */\n",
       "            .djtooltip .djtooltiptext {\n",
       "                visibility: hidden;\n",
       "                width: 120px;\n",
       "                background-color: black;\n",
       "                color: #fff;\n",
       "                text-align: center;\n",
       "                padding: 5px 0;\n",
       "                border-radius: 6px;\n",
       "                /* Position the tooltip text - see examples below! */\n",
       "                position: absolute;\n",
       "                z-index: 1;\n",
       "            }\n",
       "            #primary {\n",
       "                font-weight: bold;\n",
       "                color: black;\n",
       "            }\n",
       "\n",
       "            #nonprimary {\n",
       "                font-weight: normal;\n",
       "                color: white;\n",
       "            }\n",
       "\n",
       "            /* Show the tooltip text when you mouse over the tooltip container */\n",
       "            .djtooltip:hover .djtooltiptext {\n",
       "                visibility: visible;\n",
       "            }\n",
       "        </style>\n",
       "        \n",
       "        <b></b>\n",
       "            <div style=\"max-height:1000px;max-width:1500px;overflow:auto;\">\n",
       "            <table border=\"1\" class=\"Relation\">\n",
       "                <thead> <tr style=\"text-align: right;\"> <th> <div class=\"djtooltip\">\n",
       "                                <p id=\"primary\">group_name</p>\n",
       "                                <span class=\"djtooltiptext\"></span>\n",
       "                            </div></th><th><div class=\"djtooltip\">\n",
       "                                <p id=\"primary\">animal_id</p>\n",
       "                                <span class=\"djtooltiptext\"></span>\n",
       "                            </div></th><th><div class=\"djtooltip\">\n",
       "                                <p id=\"primary\">datasource_id</p>\n",
       "                                <span class=\"djtooltiptext\"></span>\n",
       "                            </div></th><th><div class=\"djtooltip\">\n",
       "                                <p id=\"primary\">session_time</p>\n",
       "                                <span class=\"djtooltiptext\">start time of this session</span>\n",
       "                            </div> </th> </tr> </thead>\n",
       "                <tbody> <tr> <td>det_5f5bbc4f242344ec7acdc63012cb0396</td>\n",
       "<td>ca13934830a1af36</td>\n",
       "<td>0</td>\n",
       "<td>2017-11-23 15:58:00</td> </tr> </tbody>\n",
       "            </table>\n",
       "            \n",
       "            <p>Total: 1</p></div>\n",
       "            "
      ],
      "text/plain": [
       "*group_name    *animal_id     *datasource_id *session_time \n",
       "+------------+ +------------+ +------------+ +------------+\n",
       "det_5f5bbc4f24 ca13934830a1af 0              2017-11-23 15:\n",
       " (Total: 1)"
      ]
     },
     "execution_count": 81,
     "metadata": {},
     "output_type": "execute_result"
    }
   ],
   "source": [
    "acquisition.ClusterSessionGroup.GroupMember & keys[3]"
   ]
  },
  {
   "cell_type": "markdown",
   "metadata": {},
   "source": [
    "### Specifying time windows"
   ]
  },
  {
   "cell_type": "markdown",
   "metadata": {},
   "source": [
    "<img src=\"../images/ephys_pipeline/group_windows.png\" alt=\"drawing\" width=\"900\"/>"
   ]
  },
  {
   "cell_type": "markdown",
   "metadata": {},
   "source": [
    "Once a group of one or more sessions is defined, `ClusterTimeWindows` and `ClusterTimeWindows.TimeWindow` are  used to subselect one or more time windows within the **concatenated session data**."
   ]
  },
  {
   "cell_type": "code",
   "execution_count": 82,
   "metadata": {},
   "outputs": [
    {
     "name": "stdout",
     "output_type": "stream",
     "text": [
      "-> acquisition.ClusterTimeWindows\n",
      "window_start         : decimal(6,2)                 # (s) onset of this window, with respect to session onset\n",
      "---\n",
      "window_stop          : float                        # (s) offset of this window, with respect to session onset\n",
      "\n"
     ]
    }
   ],
   "source": [
    "acquisition.ClusterTimeWindows.TimeWindow.describe();"
   ]
  },
  {
   "cell_type": "markdown",
   "metadata": {},
   "source": [
    "For the most common scenario, the entire duration of the concatenated sessions are used, and this is indicated by `window_start = 0` and `window_stop = -1`."
   ]
  },
  {
   "cell_type": "code",
   "execution_count": 56,
   "metadata": {},
   "outputs": [
    {
     "data": {
      "text/html": [
       "\n",
       "        \n",
       "        <style type=\"text/css\">\n",
       "            .Relation{\n",
       "                border-collapse:collapse;\n",
       "            }\n",
       "            .Relation th{\n",
       "                background: #A0A0A0; color: #ffffff; padding:4px; border:#f0e0e0 1px solid;\n",
       "                font-weight: normal; font-family: monospace; font-size: 100%;\n",
       "            }\n",
       "            .Relation td{\n",
       "                padding:4px; border:#f0e0e0 1px solid; font-size:100%;\n",
       "            }\n",
       "            .Relation tr:nth-child(odd){\n",
       "                background: #ffffff;\n",
       "            }\n",
       "            .Relation tr:nth-child(even){\n",
       "                background: #f3f1ff;\n",
       "            }\n",
       "            /* Tooltip container */\n",
       "            .djtooltip {\n",
       "            }\n",
       "            /* Tooltip text */\n",
       "            .djtooltip .djtooltiptext {\n",
       "                visibility: hidden;\n",
       "                width: 120px;\n",
       "                background-color: black;\n",
       "                color: #fff;\n",
       "                text-align: center;\n",
       "                padding: 5px 0;\n",
       "                border-radius: 6px;\n",
       "                /* Position the tooltip text - see examples below! */\n",
       "                position: absolute;\n",
       "                z-index: 1;\n",
       "            }\n",
       "            #primary {\n",
       "                font-weight: bold;\n",
       "                color: black;\n",
       "            }\n",
       "\n",
       "            #nonprimary {\n",
       "                font-weight: normal;\n",
       "                color: white;\n",
       "            }\n",
       "\n",
       "            /* Show the tooltip text when you mouse over the tooltip container */\n",
       "            .djtooltip:hover .djtooltiptext {\n",
       "                visibility: visible;\n",
       "            }\n",
       "        </style>\n",
       "        \n",
       "        <b></b>\n",
       "            <div style=\"max-height:1000px;max-width:1500px;overflow:auto;\">\n",
       "            <table border=\"1\" class=\"Relation\">\n",
       "                <thead> <tr style=\"text-align: right;\"> <th> <div class=\"djtooltip\">\n",
       "                                <p id=\"primary\">group_name</p>\n",
       "                                <span class=\"djtooltiptext\"></span>\n",
       "                            </div></th><th><div class=\"djtooltip\">\n",
       "                                <p id=\"primary\">time_window_id</p>\n",
       "                                <span class=\"djtooltiptext\">or maybe a hash of all the part windows</span>\n",
       "                            </div></th><th><div class=\"djtooltip\">\n",
       "                                <p id=\"primary\">window_start</p>\n",
       "                                <span class=\"djtooltiptext\">(s) onset of this window, with respect to session onset</span>\n",
       "                            </div></th><th><div class=\"djtooltip\">\n",
       "                                <p id=\"nonprimary\">window_stop</p>\n",
       "                                <span class=\"djtooltiptext\">(s) offset of this window, with respect to session onset</span>\n",
       "                            </div> </th> </tr> </thead>\n",
       "                <tbody> <tr> <td>det_0d7c5dd06d63c5f14395b914f7f803e7</td>\n",
       "<td>a1c6a0bfe97cd18966cb6fdb87c75687</td>\n",
       "<td>0.00</td>\n",
       "<td>-1.0</td></tr><tr><td>det_144c54937ff40b02a50281270644fc2d</td>\n",
       "<td>a1c6a0bfe97cd18966cb6fdb87c75687</td>\n",
       "<td>0.00</td>\n",
       "<td>-1.0</td></tr><tr><td>det_50354a9473a0edc868af27d97d1c13fe</td>\n",
       "<td>a1c6a0bfe97cd18966cb6fdb87c75687</td>\n",
       "<td>0.00</td>\n",
       "<td>-1.0</td></tr><tr><td>det_5f5bbc4f242344ec7acdc63012cb0396</td>\n",
       "<td>a1c6a0bfe97cd18966cb6fdb87c75687</td>\n",
       "<td>0.00</td>\n",
       "<td>-1.0</td></tr><tr><td>det_65d7764d5691d40ff05d6e7764cfdbfa</td>\n",
       "<td>a1c6a0bfe97cd18966cb6fdb87c75687</td>\n",
       "<td>0.00</td>\n",
       "<td>-1.0</td></tr><tr><td>det_67ea7668bb2acfeaa3910a4c0e71fb76</td>\n",
       "<td>a1c6a0bfe97cd18966cb6fdb87c75687</td>\n",
       "<td>0.00</td>\n",
       "<td>-1.0</td></tr><tr><td>det_6c2d14fe4aebefa1e762acba7f48904a</td>\n",
       "<td>a1c6a0bfe97cd18966cb6fdb87c75687</td>\n",
       "<td>0.00</td>\n",
       "<td>-1.0</td></tr><tr><td>det_7fc7cc7cc50b460058b6dfe353403063</td>\n",
       "<td>a1c6a0bfe97cd18966cb6fdb87c75687</td>\n",
       "<td>0.00</td>\n",
       "<td>-1.0</td></tr><tr><td>det_92a1e35bc099fda86e66a3d672fdd55f</td>\n",
       "<td>a1c6a0bfe97cd18966cb6fdb87c75687</td>\n",
       "<td>0.00</td>\n",
       "<td>-1.0</td></tr><tr><td>det_a479a5980e5b604b59c0a1216e251a7f</td>\n",
       "<td>a1c6a0bfe97cd18966cb6fdb87c75687</td>\n",
       "<td>0.00</td>\n",
       "<td>-1.0</td> </tr> </tbody>\n",
       "            </table>\n",
       "            <p>...</p>\n",
       "            <p>Total: 14</p></div>\n",
       "            "
      ],
      "text/plain": [
       "*group_name    *time_window_i *window_start  window_stop   \n",
       "+------------+ +------------+ +------------+ +------------+\n",
       "det_0d7c5dd06d a1c6a0bfe97cd1 0.00           -1.0          \n",
       "det_144c54937f a1c6a0bfe97cd1 0.00           -1.0          \n",
       "det_50354a9473 a1c6a0bfe97cd1 0.00           -1.0          \n",
       "det_5f5bbc4f24 a1c6a0bfe97cd1 0.00           -1.0          \n",
       "det_65d7764d56 a1c6a0bfe97cd1 0.00           -1.0          \n",
       "det_67ea7668bb a1c6a0bfe97cd1 0.00           -1.0          \n",
       "det_6c2d14fe4a a1c6a0bfe97cd1 0.00           -1.0          \n",
       "det_7fc7cc7cc5 a1c6a0bfe97cd1 0.00           -1.0          \n",
       "det_92a1e35bc0 a1c6a0bfe97cd1 0.00           -1.0          \n",
       "det_a479a5980e a1c6a0bfe97cd1 0.00           -1.0          \n",
       "   ...\n",
       " (Total: 14)"
      ]
     },
     "execution_count": 56,
     "metadata": {},
     "output_type": "execute_result"
    }
   ],
   "source": [
    "acquisition.ClusterTimeWindows.TimeWindow()"
   ]
  },
  {
   "cell_type": "markdown",
   "metadata": {},
   "source": [
    "# Organization of Clustering - ClusteringSetup and Clustering tables"
   ]
  },
  {
   "cell_type": "markdown",
   "metadata": {},
   "source": [
    "The `ClusterSetup` table captures a valid combination of particular electrode probe (`ProbeInsertion`), clustering time windows across one or more concatenated Sessions (`ClusterTimeWindows`), as well as some clustering specific parameter (`ClusterParam`), and this depenencies are captured in the diagram below. "
   ]
  },
  {
   "cell_type": "markdown",
   "metadata": {},
   "source": [
    "<img src=\"../images/ephys_pipeline/clustering.png\" alt=\"drawing\" width=\"900\"/>"
   ]
  },
  {
   "cell_type": "markdown",
   "metadata": {},
   "source": [
    "While `ClusteringSetup` serves to specify the combination of clustering configurations, the `Clustering` table represents completed clustering."
   ]
  },
  {
   "cell_type": "markdown",
   "metadata": {},
   "source": [
    "Again, clusterings can be performed on:\n",
    "+ Multiple concatenated sessions (although in most cases, just on one session)\n",
    "+ Different time window(s) over the selected session(s)\n",
    "+ Yielding units for this ***clustering***"
   ]
  },
  {
   "cell_type": "markdown",
   "metadata": {},
   "source": [
    "`ClusteringSetup` is for users to specify:\n",
    "\n",
    "+ the `ClusterSessionGroup` and `ClusterTimeWindows`\n",
    "+ the probe this clustering is performed on - `ProbeInsertion`\n",
    "+ the parameters to perform the clustering - `ClusterParam`\n",
    "+ the directory to output this clustering results \n",
    "+ the electrode configuration information\n",
    "\n",
    "Note: all of this is taken care of in the ingestion routine (more on that later)\n",
    "\n",
    "`Clustering` - a processing step to either trigger the clustering or perform ingestion on performed clustering"
   ]
  },
  {
   "cell_type": "markdown",
   "metadata": {},
   "source": [
    "### Curated clustering"
   ]
  },
  {
   "cell_type": "markdown",
   "metadata": {},
   "source": [
    "Often times, an experimenter would follow an automatic clustering step and **manually curate** the clustering. In the pipeline, this is represented through `CuratedClustering` table."
   ]
  },
  {
   "cell_type": "markdown",
   "metadata": {},
   "source": [
    "<img src=\"../images/ephys_pipeline/curated_clustering.png\" alt=\"drawing\" width=\"350\"/>"
   ]
  },
  {
   "cell_type": "code",
   "execution_count": 67,
   "metadata": {},
   "outputs": [
    {
     "name": "stdout",
     "output_type": "stream",
     "text": [
      "# A completed curation for a particular clustering\n",
      "-> ephys.Clustering\n",
      "curation_timestamps  : datetime                     # ensure complete datetime here to prevent collision (in the rare case of multiple people curate at the exact same datetime)\n",
      "---\n",
      "-> reference.Experimenter.proj(curator=\"experimenter\")\n",
      "curation_notes=\"\"    : varchar(128)                 \n",
      "-> reference.Repository\n",
      "curation_output_dir  : varchar(128)                 \n",
      "\n"
     ]
    }
   ],
   "source": [
    "ephys.CuratedClustering.describe();"
   ]
  },
  {
   "cell_type": "markdown",
   "metadata": {},
   "source": [
    "**CuratedClustering** captures the following information:\n",
    "+ the curator\n",
    "+ the time of curation\n",
    "+ the directory of the new curation results"
   ]
  },
  {
   "cell_type": "markdown",
   "metadata": {},
   "source": [
    "All downstream analysis are then performed on the `CuratedClustering`, allowing for different curated results to be compared side by side."
   ]
  },
  {
   "cell_type": "markdown",
   "metadata": {},
   "source": [
    "# Unit & Spike times"
   ]
  },
  {
   "cell_type": "markdown",
   "metadata": {},
   "source": [
    "From the `CuratedClustering` results, definition of identified `Units`, their representative `Waveforms` as well as their spike times (`UnitSpikeTimes`) are extracted and captured in the corresponding table. Notice that the `UnitSpikeTimes` are matched back to the particular recording file during which the identified unit's spike occured."
   ]
  },
  {
   "cell_type": "markdown",
   "metadata": {},
   "source": [
    "<img src=\"../images/ephys_pipeline/unit_spikes.png\" alt=\"drawing\" width=\"500\"/>"
   ]
  },
  {
   "cell_type": "code",
   "execution_count": 70,
   "metadata": {},
   "outputs": [
    {
     "data": {
      "text/html": [
       "\n",
       "        \n",
       "        <style type=\"text/css\">\n",
       "            .Relation{\n",
       "                border-collapse:collapse;\n",
       "            }\n",
       "            .Relation th{\n",
       "                background: #A0A0A0; color: #ffffff; padding:4px; border:#f0e0e0 1px solid;\n",
       "                font-weight: normal; font-family: monospace; font-size: 100%;\n",
       "            }\n",
       "            .Relation td{\n",
       "                padding:4px; border:#f0e0e0 1px solid; font-size:100%;\n",
       "            }\n",
       "            .Relation tr:nth-child(odd){\n",
       "                background: #ffffff;\n",
       "            }\n",
       "            .Relation tr:nth-child(even){\n",
       "                background: #f3f1ff;\n",
       "            }\n",
       "            /* Tooltip container */\n",
       "            .djtooltip {\n",
       "            }\n",
       "            /* Tooltip text */\n",
       "            .djtooltip .djtooltiptext {\n",
       "                visibility: hidden;\n",
       "                width: 120px;\n",
       "                background-color: black;\n",
       "                color: #fff;\n",
       "                text-align: center;\n",
       "                padding: 5px 0;\n",
       "                border-radius: 6px;\n",
       "                /* Position the tooltip text - see examples below! */\n",
       "                position: absolute;\n",
       "                z-index: 1;\n",
       "            }\n",
       "            #primary {\n",
       "                font-weight: bold;\n",
       "                color: black;\n",
       "            }\n",
       "\n",
       "            #nonprimary {\n",
       "                font-weight: normal;\n",
       "                color: white;\n",
       "            }\n",
       "\n",
       "            /* Show the tooltip text when you mouse over the tooltip container */\n",
       "            .djtooltip:hover .djtooltiptext {\n",
       "                visibility: visible;\n",
       "            }\n",
       "        </style>\n",
       "        \n",
       "        <b></b>\n",
       "            <div style=\"max-height:1000px;max-width:1500px;overflow:auto;\">\n",
       "            <table border=\"1\" class=\"Relation\">\n",
       "                <thead> <tr style=\"text-align: right;\"> <th> <div class=\"djtooltip\">\n",
       "                                <p id=\"primary\">animal_id</p>\n",
       "                                <span class=\"djtooltiptext\"></span>\n",
       "                            </div></th><th><div class=\"djtooltip\">\n",
       "                                <p id=\"primary\">datasource_id</p>\n",
       "                                <span class=\"djtooltiptext\"></span>\n",
       "                            </div></th><th><div class=\"djtooltip\">\n",
       "                                <p id=\"primary\">insertion_time</p>\n",
       "                                <span class=\"djtooltiptext\">When this probe was inserted</span>\n",
       "                            </div></th><th><div class=\"djtooltip\">\n",
       "                                <p id=\"primary\">group_name</p>\n",
       "                                <span class=\"djtooltiptext\"></span>\n",
       "                            </div></th><th><div class=\"djtooltip\">\n",
       "                                <p id=\"primary\">time_window_id</p>\n",
       "                                <span class=\"djtooltiptext\">or maybe a hash of all the part windows</span>\n",
       "                            </div></th><th><div class=\"djtooltip\">\n",
       "                                <p id=\"primary\">cluster_method</p>\n",
       "                                <span class=\"djtooltiptext\">name of clustering method</span>\n",
       "                            </div></th><th><div class=\"djtooltip\">\n",
       "                                <p id=\"primary\">cluster_param_name</p>\n",
       "                                <span class=\"djtooltiptext\">some unique name, or maybe hash of the dict of the param (ordered)</span>\n",
       "                            </div></th><th><div class=\"djtooltip\">\n",
       "                                <p id=\"primary\">probe_model</p>\n",
       "                                <span class=\"djtooltiptext\">nick name, or other user-friendly model name of this probe</span>\n",
       "                            </div></th><th><div class=\"djtooltip\">\n",
       "                                <p id=\"primary\">electrode_config_id</p>\n",
       "                                <span class=\"djtooltiptext\">hash of the group and group_member (ensure uniqueness)</span>\n",
       "                            </div></th><th><div class=\"djtooltip\">\n",
       "                                <p id=\"primary\">sync_method</p>\n",
       "                                <span class=\"djtooltiptext\">sync method name</span>\n",
       "                            </div></th><th><div class=\"djtooltip\">\n",
       "                                <p id=\"primary\">curation_timestamps</p>\n",
       "                                <span class=\"djtooltiptext\">ensure complete datetime here to prevent collision (in the rare case of multiple people curate at the exact same datetime)</span>\n",
       "                            </div></th><th><div class=\"djtooltip\">\n",
       "                                <p id=\"primary\">unit</p>\n",
       "                                <span class=\"djtooltiptext\"></span>\n",
       "                            </div></th><th><div class=\"djtooltip\">\n",
       "                                <p id=\"primary\">session_time</p>\n",
       "                                <span class=\"djtooltiptext\">start time of this session</span>\n",
       "                            </div></th><th><div class=\"djtooltip\">\n",
       "                                <p id=\"primary\">recording_time</p>\n",
       "                                <span class=\"djtooltiptext\">start time of this recording</span>\n",
       "                            </div></th><th><div class=\"djtooltip\">\n",
       "                                <p id=\"nonprimary\">mean_firing_rate</p>\n",
       "                                <span class=\"djtooltiptext\">mean firing rate</span>\n",
       "                            </div></th><th><div class=\"djtooltip\">\n",
       "                                <p id=\"nonprimary\">spike_counts</p>\n",
       "                                <span class=\"djtooltiptext\">how many spikes in this recording of this unit</span>\n",
       "                            </div></th><th><div class=\"djtooltip\">\n",
       "                                <p id=\"nonprimary\">unit_spike_times</p>\n",
       "                                <span class=\"djtooltiptext\">(s) spike times of this unit, relative to the start of the session this recording belongs to</span>\n",
       "                            </div> </th> </tr> </thead>\n",
       "                <tbody> <tr> <td>40bfa03a7a7018cc</td>\n",
       "<td>0</td>\n",
       "<td>2019-09-11 14:08:45</td>\n",
       "<td>det_144c54937ff40b02a50281270644fc2d</td>\n",
       "<td>a1c6a0bfe97cd18966cb6fdb87c75687</td>\n",
       "<td>kilosort</td>\n",
       "<td>default_kilosort</td>\n",
       "<td>neuropixels_1.0</td>\n",
       "<td>3bae3f7153f0305d02232efd41217754</td>\n",
       "<td>linear_interp</td>\n",
       "<td>2019-09-18 14:57:28</td>\n",
       "<td>0</td>\n",
       "<td>2019-09-17 19:43:06</td>\n",
       "<td>2019-09-17 19:43:06</td>\n",
       "<td>2.12436</td>\n",
       "<td>16288</td>\n",
       "<td>=BLOB=</td></tr><tr><td>40bfa03a7a7018cc</td>\n",
       "<td>0</td>\n",
       "<td>2019-09-11 14:08:45</td>\n",
       "<td>det_144c54937ff40b02a50281270644fc2d</td>\n",
       "<td>a1c6a0bfe97cd18966cb6fdb87c75687</td>\n",
       "<td>kilosort</td>\n",
       "<td>default_kilosort</td>\n",
       "<td>neuropixels_1.0</td>\n",
       "<td>3bae3f7153f0305d02232efd41217754</td>\n",
       "<td>linear_interp</td>\n",
       "<td>2019-09-18 14:57:28</td>\n",
       "<td>1</td>\n",
       "<td>2019-09-17 19:43:06</td>\n",
       "<td>2019-09-17 19:43:06</td>\n",
       "<td>4.88728</td>\n",
       "<td>37472</td>\n",
       "<td>=BLOB=</td></tr><tr><td>40bfa03a7a7018cc</td>\n",
       "<td>0</td>\n",
       "<td>2019-09-11 14:08:45</td>\n",
       "<td>det_144c54937ff40b02a50281270644fc2d</td>\n",
       "<td>a1c6a0bfe97cd18966cb6fdb87c75687</td>\n",
       "<td>kilosort</td>\n",
       "<td>default_kilosort</td>\n",
       "<td>neuropixels_1.0</td>\n",
       "<td>3bae3f7153f0305d02232efd41217754</td>\n",
       "<td>linear_interp</td>\n",
       "<td>2019-09-18 14:57:28</td>\n",
       "<td>2</td>\n",
       "<td>2019-09-17 19:43:06</td>\n",
       "<td>2019-09-17 19:43:06</td>\n",
       "<td>3.87792</td>\n",
       "<td>29733</td>\n",
       "<td>=BLOB=</td></tr><tr><td>40bfa03a7a7018cc</td>\n",
       "<td>0</td>\n",
       "<td>2019-09-11 14:08:45</td>\n",
       "<td>det_144c54937ff40b02a50281270644fc2d</td>\n",
       "<td>a1c6a0bfe97cd18966cb6fdb87c75687</td>\n",
       "<td>kilosort</td>\n",
       "<td>default_kilosort</td>\n",
       "<td>neuropixels_1.0</td>\n",
       "<td>3bae3f7153f0305d02232efd41217754</td>\n",
       "<td>linear_interp</td>\n",
       "<td>2019-09-18 14:57:28</td>\n",
       "<td>3</td>\n",
       "<td>2019-09-17 19:43:06</td>\n",
       "<td>2019-09-17 19:43:06</td>\n",
       "<td>1.21243</td>\n",
       "<td>9296</td>\n",
       "<td>=BLOB=</td></tr><tr><td>40bfa03a7a7018cc</td>\n",
       "<td>0</td>\n",
       "<td>2019-09-11 14:08:45</td>\n",
       "<td>det_144c54937ff40b02a50281270644fc2d</td>\n",
       "<td>a1c6a0bfe97cd18966cb6fdb87c75687</td>\n",
       "<td>kilosort</td>\n",
       "<td>default_kilosort</td>\n",
       "<td>neuropixels_1.0</td>\n",
       "<td>3bae3f7153f0305d02232efd41217754</td>\n",
       "<td>linear_interp</td>\n",
       "<td>2019-09-18 14:57:28</td>\n",
       "<td>4</td>\n",
       "<td>2019-09-17 19:43:06</td>\n",
       "<td>2019-09-17 19:43:06</td>\n",
       "<td>0.283544</td>\n",
       "<td>2174</td>\n",
       "<td>=BLOB=</td></tr><tr><td>40bfa03a7a7018cc</td>\n",
       "<td>0</td>\n",
       "<td>2019-09-11 14:08:45</td>\n",
       "<td>det_144c54937ff40b02a50281270644fc2d</td>\n",
       "<td>a1c6a0bfe97cd18966cb6fdb87c75687</td>\n",
       "<td>kilosort</td>\n",
       "<td>default_kilosort</td>\n",
       "<td>neuropixels_1.0</td>\n",
       "<td>3bae3f7153f0305d02232efd41217754</td>\n",
       "<td>linear_interp</td>\n",
       "<td>2019-09-18 14:57:28</td>\n",
       "<td>5</td>\n",
       "<td>2019-09-17 19:43:06</td>\n",
       "<td>2019-09-17 19:43:06</td>\n",
       "<td>0.618866</td>\n",
       "<td>4745</td>\n",
       "<td>=BLOB=</td></tr><tr><td>40bfa03a7a7018cc</td>\n",
       "<td>0</td>\n",
       "<td>2019-09-11 14:08:45</td>\n",
       "<td>det_144c54937ff40b02a50281270644fc2d</td>\n",
       "<td>a1c6a0bfe97cd18966cb6fdb87c75687</td>\n",
       "<td>kilosort</td>\n",
       "<td>default_kilosort</td>\n",
       "<td>neuropixels_1.0</td>\n",
       "<td>3bae3f7153f0305d02232efd41217754</td>\n",
       "<td>linear_interp</td>\n",
       "<td>2019-09-18 14:57:28</td>\n",
       "<td>6</td>\n",
       "<td>2019-09-17 19:43:06</td>\n",
       "<td>2019-09-17 19:43:06</td>\n",
       "<td>0.0164335</td>\n",
       "<td>126</td>\n",
       "<td>=BLOB=</td></tr><tr><td>40bfa03a7a7018cc</td>\n",
       "<td>0</td>\n",
       "<td>2019-09-11 14:08:45</td>\n",
       "<td>det_144c54937ff40b02a50281270644fc2d</td>\n",
       "<td>a1c6a0bfe97cd18966cb6fdb87c75687</td>\n",
       "<td>kilosort</td>\n",
       "<td>default_kilosort</td>\n",
       "<td>neuropixels_1.0</td>\n",
       "<td>3bae3f7153f0305d02232efd41217754</td>\n",
       "<td>linear_interp</td>\n",
       "<td>2019-09-18 14:57:28</td>\n",
       "<td>7</td>\n",
       "<td>2019-09-17 19:43:06</td>\n",
       "<td>2019-09-17 19:43:06</td>\n",
       "<td>2.39604</td>\n",
       "<td>18371</td>\n",
       "<td>=BLOB=</td></tr><tr><td>40bfa03a7a7018cc</td>\n",
       "<td>0</td>\n",
       "<td>2019-09-11 14:08:45</td>\n",
       "<td>det_144c54937ff40b02a50281270644fc2d</td>\n",
       "<td>a1c6a0bfe97cd18966cb6fdb87c75687</td>\n",
       "<td>kilosort</td>\n",
       "<td>default_kilosort</td>\n",
       "<td>neuropixels_1.0</td>\n",
       "<td>3bae3f7153f0305d02232efd41217754</td>\n",
       "<td>linear_interp</td>\n",
       "<td>2019-09-18 14:57:28</td>\n",
       "<td>8</td>\n",
       "<td>2019-09-17 19:43:06</td>\n",
       "<td>2019-09-17 19:43:06</td>\n",
       "<td>0.304412</td>\n",
       "<td>2334</td>\n",
       "<td>=BLOB=</td></tr><tr><td>40bfa03a7a7018cc</td>\n",
       "<td>0</td>\n",
       "<td>2019-09-11 14:08:45</td>\n",
       "<td>det_144c54937ff40b02a50281270644fc2d</td>\n",
       "<td>a1c6a0bfe97cd18966cb6fdb87c75687</td>\n",
       "<td>kilosort</td>\n",
       "<td>default_kilosort</td>\n",
       "<td>neuropixels_1.0</td>\n",
       "<td>3bae3f7153f0305d02232efd41217754</td>\n",
       "<td>linear_interp</td>\n",
       "<td>2019-09-18 14:57:28</td>\n",
       "<td>9</td>\n",
       "<td>2019-09-17 19:43:06</td>\n",
       "<td>2019-09-17 19:43:06</td>\n",
       "<td>0.308194</td>\n",
       "<td>2363</td>\n",
       "<td>=BLOB=</td> </tr> </tbody>\n",
       "            </table>\n",
       "            <p>...</p>\n",
       "            <p>Total: 5466</p></div>\n",
       "            "
      ],
      "text/plain": [
       "*animal_id     *datasource_id *insertion_tim *group_name    *time_window_i *cluster_metho *cluster_param *probe_model   *electrode_con *sync_method   *curation_time *unit    *session_time  *recording_tim mean_firing_ra spike_counts   unit_spike\n",
       "+------------+ +------------+ +------------+ +------------+ +------------+ +------------+ +------------+ +------------+ +------------+ +------------+ +------------+ +------+ +------------+ +------------+ +------------+ +------------+ +--------+\n",
       "40bfa03a7a7018 0              2019-09-11 14: det_144c54937f a1c6a0bfe97cd1 kilosort       default_kiloso neuropixels_1. 3bae3f7153f030 linear_interp  2019-09-18 14: 0        2019-09-17 19: 2019-09-17 19: 2.12436        16288          =BLOB=    \n",
       "40bfa03a7a7018 0              2019-09-11 14: det_144c54937f a1c6a0bfe97cd1 kilosort       default_kiloso neuropixels_1. 3bae3f7153f030 linear_interp  2019-09-18 14: 1        2019-09-17 19: 2019-09-17 19: 4.88728        37472          =BLOB=    \n",
       "40bfa03a7a7018 0              2019-09-11 14: det_144c54937f a1c6a0bfe97cd1 kilosort       default_kiloso neuropixels_1. 3bae3f7153f030 linear_interp  2019-09-18 14: 2        2019-09-17 19: 2019-09-17 19: 3.87792        29733          =BLOB=    \n",
       "40bfa03a7a7018 0              2019-09-11 14: det_144c54937f a1c6a0bfe97cd1 kilosort       default_kiloso neuropixels_1. 3bae3f7153f030 linear_interp  2019-09-18 14: 3        2019-09-17 19: 2019-09-17 19: 1.21243        9296           =BLOB=    \n",
       "40bfa03a7a7018 0              2019-09-11 14: det_144c54937f a1c6a0bfe97cd1 kilosort       default_kiloso neuropixels_1. 3bae3f7153f030 linear_interp  2019-09-18 14: 4        2019-09-17 19: 2019-09-17 19: 0.283544       2174           =BLOB=    \n",
       "40bfa03a7a7018 0              2019-09-11 14: det_144c54937f a1c6a0bfe97cd1 kilosort       default_kiloso neuropixels_1. 3bae3f7153f030 linear_interp  2019-09-18 14: 5        2019-09-17 19: 2019-09-17 19: 0.618866       4745           =BLOB=    \n",
       "40bfa03a7a7018 0              2019-09-11 14: det_144c54937f a1c6a0bfe97cd1 kilosort       default_kiloso neuropixels_1. 3bae3f7153f030 linear_interp  2019-09-18 14: 6        2019-09-17 19: 2019-09-17 19: 0.0164335      126            =BLOB=    \n",
       "40bfa03a7a7018 0              2019-09-11 14: det_144c54937f a1c6a0bfe97cd1 kilosort       default_kiloso neuropixels_1. 3bae3f7153f030 linear_interp  2019-09-18 14: 7        2019-09-17 19: 2019-09-17 19: 2.39604        18371          =BLOB=    \n",
       "40bfa03a7a7018 0              2019-09-11 14: det_144c54937f a1c6a0bfe97cd1 kilosort       default_kiloso neuropixels_1. 3bae3f7153f030 linear_interp  2019-09-18 14: 8        2019-09-17 19: 2019-09-17 19: 0.304412       2334           =BLOB=    \n",
       "40bfa03a7a7018 0              2019-09-11 14: det_144c54937f a1c6a0bfe97cd1 kilosort       default_kiloso neuropixels_1. 3bae3f7153f030 linear_interp  2019-09-18 14: 9        2019-09-17 19: 2019-09-17 19: 0.308194       2363           =BLOB=    \n",
       "   ...\n",
       " (Total: 5466)"
      ]
     },
     "execution_count": 70,
     "metadata": {},
     "output_type": "execute_result"
    }
   ],
   "source": [
    "ephys.UnitSpikeTimes()"
   ]
  },
  {
   "cell_type": "markdown",
   "metadata": {},
   "source": [
    "#### Question 7: Find all animals with at least 100,000 spike counts identified in a recording"
   ]
  },
  {
   "cell_type": "markdown",
   "metadata": {},
   "source": [
    "## Summary diagram of the clustering structure\n",
    "![](../images/clustering_detail_erd.png)"
   ]
  },
  {
   "cell_type": "markdown",
   "metadata": {},
   "source": [
    "# Tracking"
   ]
  },
  {
   "cell_type": "markdown",
   "metadata": {},
   "source": [
    "<img src=\"../images/ephys_pipeline/process_track.png\" alt=\"drawing\" width=\"900\"/>"
   ]
  },
  {
   "cell_type": "markdown",
   "metadata": {},
   "source": [
    "# Toward the results - Spikes and Tracking"
   ]
  },
  {
   "cell_type": "markdown",
   "metadata": {},
   "source": [
    "<img src=\"../images/ephys_pipeline/task_spikes.png\" alt=\"drawing\" width=\"600\"/>"
   ]
  },
  {
   "cell_type": "markdown",
   "metadata": {},
   "source": [
    "***UnitSpikeTimes*** and ***Tracking*** data can be matched together - resulting in the ***SpikesTracking***:\n",
    "> The spike times and tracking data (e.g. position, speed, head angle, etc.) associated with each spike, per unit\n",
    "\n",
    "And such ***SpikesTracking*** can then be further narrowed down to the task, in ***TaskSpikesTracking***"
   ]
  },
  {
   "cell_type": "code",
   "execution_count": 85,
   "metadata": {},
   "outputs": [
    {
     "data": {
      "text/html": [
       "\n",
       "        \n",
       "        <style type=\"text/css\">\n",
       "            .Relation{\n",
       "                border-collapse:collapse;\n",
       "            }\n",
       "            .Relation th{\n",
       "                background: #A0A0A0; color: #ffffff; padding:4px; border:#f0e0e0 1px solid;\n",
       "                font-weight: normal; font-family: monospace; font-size: 100%;\n",
       "            }\n",
       "            .Relation td{\n",
       "                padding:4px; border:#f0e0e0 1px solid; font-size:100%;\n",
       "            }\n",
       "            .Relation tr:nth-child(odd){\n",
       "                background: #ffffff;\n",
       "            }\n",
       "            .Relation tr:nth-child(even){\n",
       "                background: #f3f1ff;\n",
       "            }\n",
       "            /* Tooltip container */\n",
       "            .djtooltip {\n",
       "            }\n",
       "            /* Tooltip text */\n",
       "            .djtooltip .djtooltiptext {\n",
       "                visibility: hidden;\n",
       "                width: 120px;\n",
       "                background-color: black;\n",
       "                color: #fff;\n",
       "                text-align: center;\n",
       "                padding: 5px 0;\n",
       "                border-radius: 6px;\n",
       "                /* Position the tooltip text - see examples below! */\n",
       "                position: absolute;\n",
       "                z-index: 1;\n",
       "            }\n",
       "            #primary {\n",
       "                font-weight: bold;\n",
       "                color: black;\n",
       "            }\n",
       "\n",
       "            #nonprimary {\n",
       "                font-weight: normal;\n",
       "                color: white;\n",
       "            }\n",
       "\n",
       "            /* Show the tooltip text when you mouse over the tooltip container */\n",
       "            .djtooltip:hover .djtooltiptext {\n",
       "                visibility: visible;\n",
       "            }\n",
       "        </style>\n",
       "        \n",
       "        <b>Spike times and tracking for a particular behavior.Task, relative to the start of task (i.e. task start at t=0)</b>\n",
       "            <div style=\"max-height:1000px;max-width:1500px;overflow:auto;\">\n",
       "            <table border=\"1\" class=\"Relation\">\n",
       "                <thead> <tr style=\"text-align: right;\"> <th> <div class=\"djtooltip\">\n",
       "                                <p id=\"primary\">animal_id</p>\n",
       "                                <span class=\"djtooltiptext\"></span>\n",
       "                            </div></th><th><div class=\"djtooltip\">\n",
       "                                <p id=\"primary\">datasource_id</p>\n",
       "                                <span class=\"djtooltiptext\"></span>\n",
       "                            </div></th><th><div class=\"djtooltip\">\n",
       "                                <p id=\"primary\">session_time</p>\n",
       "                                <span class=\"djtooltiptext\">start time of this session</span>\n",
       "                            </div></th><th><div class=\"djtooltip\">\n",
       "                                <p id=\"primary\">task_type</p>\n",
       "                                <span class=\"djtooltiptext\"></span>\n",
       "                            </div></th><th><div class=\"djtooltip\">\n",
       "                                <p id=\"primary\">task_start</p>\n",
       "                                <span class=\"djtooltiptext\">(s) timestamp of task onset with respect to the start of the session</span>\n",
       "                            </div></th><th><div class=\"djtooltip\">\n",
       "                                <p id=\"primary\">unit</p>\n",
       "                                <span class=\"djtooltiptext\">unit id</span>\n",
       "                            </div></th><th><div class=\"djtooltip\">\n",
       "                                <p id=\"primary\">spike_tracking_hash</p>\n",
       "                                <span class=\"djtooltiptext\">hash of the SpikesTracking primary_key</span>\n",
       "                            </div></th><th><div class=\"djtooltip\">\n",
       "                                <p id=\"primary\">cell_selection_params_name</p>\n",
       "                                <span class=\"djtooltiptext\">user-friendly name</span>\n",
       "                            </div></th><th><div class=\"djtooltip\">\n",
       "                                <p id=\"nonprimary\">spike_times</p>\n",
       "                                <span class=\"djtooltiptext\">(s) task-related spike times (time with respect to the start of the task)</span>\n",
       "                            </div></th><th><div class=\"djtooltip\">\n",
       "                                <p id=\"nonprimary\">speed</p>\n",
       "                                <span class=\"djtooltiptext\">(cm/s) task-related speed at each spike times</span>\n",
       "                            </div></th><th><div class=\"djtooltip\">\n",
       "                                <p id=\"nonprimary\">x_pos</p>\n",
       "                                <span class=\"djtooltiptext\">(cm) task-related x-pos at each spike times</span>\n",
       "                            </div></th><th><div class=\"djtooltip\">\n",
       "                                <p id=\"nonprimary\">y_pos</p>\n",
       "                                <span class=\"djtooltiptext\">(cm) task-related y-pos at each spike times</span>\n",
       "                            </div></th><th><div class=\"djtooltip\">\n",
       "                                <p id=\"nonprimary\">z_pos</p>\n",
       "                                <span class=\"djtooltiptext\">(cm) task-related z-pos at each spike times</span>\n",
       "                            </div></th><th><div class=\"djtooltip\">\n",
       "                                <p id=\"nonprimary\">head_yaw</p>\n",
       "                                <span class=\"djtooltiptext\">(degree) task-related head yaw (left/right angle) at each spike times</span>\n",
       "                            </div></th><th><div class=\"djtooltip\">\n",
       "                                <p id=\"nonprimary\">head_pitch</p>\n",
       "                                <span class=\"djtooltiptext\">(degree) task-related head pitch (up/down) at each spike times</span>\n",
       "                            </div></th><th><div class=\"djtooltip\">\n",
       "                                <p id=\"nonprimary\">head_roll</p>\n",
       "                                <span class=\"djtooltiptext\">(degree) task-related head roll (clockwise/anticlockwise) at each spike times</span>\n",
       "                            </div></th><th><div class=\"djtooltip\">\n",
       "                                <p id=\"nonprimary\">angular_speed</p>\n",
       "                                <span class=\"djtooltiptext\">(degree/s) task-related head angular speed at each spike times</span>\n",
       "                            </div> </th> </tr> </thead>\n",
       "                <tbody> <tr> <td>40bfa03a7a7018cc</td>\n",
       "<td>0</td>\n",
       "<td>2019-09-17 19:43:06</td>\n",
       "<td>OpenField</td>\n",
       "<td>45.00</td>\n",
       "<td>0</td>\n",
       "<td>31ca6aaae907eb1fcc2ba953af199766</td>\n",
       "<td>default</td>\n",
       "<td>=BLOB=</td>\n",
       "<td>=BLOB=</td>\n",
       "<td>=BLOB=</td>\n",
       "<td>=BLOB=</td>\n",
       "<td>=BLOB=</td>\n",
       "<td>=BLOB=</td>\n",
       "<td>=BLOB=</td>\n",
       "<td>=BLOB=</td>\n",
       "<td>=BLOB=</td></tr><tr><td>40bfa03a7a7018cc</td>\n",
       "<td>0</td>\n",
       "<td>2019-09-17 19:43:06</td>\n",
       "<td>OpenField</td>\n",
       "<td>45.00</td>\n",
       "<td>2</td>\n",
       "<td>963d42326e666ba4fb9ee8dacfdbef6b</td>\n",
       "<td>default</td>\n",
       "<td>=BLOB=</td>\n",
       "<td>=BLOB=</td>\n",
       "<td>=BLOB=</td>\n",
       "<td>=BLOB=</td>\n",
       "<td>=BLOB=</td>\n",
       "<td>=BLOB=</td>\n",
       "<td>=BLOB=</td>\n",
       "<td>=BLOB=</td>\n",
       "<td>=BLOB=</td></tr><tr><td>40bfa03a7a7018cc</td>\n",
       "<td>0</td>\n",
       "<td>2019-09-17 19:43:06</td>\n",
       "<td>OpenField</td>\n",
       "<td>45.00</td>\n",
       "<td>3</td>\n",
       "<td>0481db364aa0ffe4cfeb82d262c4055b</td>\n",
       "<td>default</td>\n",
       "<td>=BLOB=</td>\n",
       "<td>=BLOB=</td>\n",
       "<td>=BLOB=</td>\n",
       "<td>=BLOB=</td>\n",
       "<td>=BLOB=</td>\n",
       "<td>=BLOB=</td>\n",
       "<td>=BLOB=</td>\n",
       "<td>=BLOB=</td>\n",
       "<td>=BLOB=</td></tr><tr><td>40bfa03a7a7018cc</td>\n",
       "<td>0</td>\n",
       "<td>2019-09-17 19:43:06</td>\n",
       "<td>OpenField</td>\n",
       "<td>45.00</td>\n",
       "<td>3</td>\n",
       "<td>06cce38e29c82f1b6c1f16e218d7b1b4</td>\n",
       "<td>default</td>\n",
       "<td>=BLOB=</td>\n",
       "<td>=BLOB=</td>\n",
       "<td>=BLOB=</td>\n",
       "<td>=BLOB=</td>\n",
       "<td>=BLOB=</td>\n",
       "<td>=BLOB=</td>\n",
       "<td>=BLOB=</td>\n",
       "<td>=BLOB=</td>\n",
       "<td>=BLOB=</td></tr><tr><td>40bfa03a7a7018cc</td>\n",
       "<td>0</td>\n",
       "<td>2019-09-17 19:43:06</td>\n",
       "<td>OpenField</td>\n",
       "<td>45.00</td>\n",
       "<td>4</td>\n",
       "<td>6bf44729b64cb70a645c1fca53151cbc</td>\n",
       "<td>default</td>\n",
       "<td>=BLOB=</td>\n",
       "<td>=BLOB=</td>\n",
       "<td>=BLOB=</td>\n",
       "<td>=BLOB=</td>\n",
       "<td>=BLOB=</td>\n",
       "<td>=BLOB=</td>\n",
       "<td>=BLOB=</td>\n",
       "<td>=BLOB=</td>\n",
       "<td>=BLOB=</td></tr><tr><td>40bfa03a7a7018cc</td>\n",
       "<td>0</td>\n",
       "<td>2019-09-17 19:43:06</td>\n",
       "<td>OpenField</td>\n",
       "<td>45.00</td>\n",
       "<td>4</td>\n",
       "<td>bd180e2d9c82adcd3a99faafddba0661</td>\n",
       "<td>default</td>\n",
       "<td>=BLOB=</td>\n",
       "<td>=BLOB=</td>\n",
       "<td>=BLOB=</td>\n",
       "<td>=BLOB=</td>\n",
       "<td>=BLOB=</td>\n",
       "<td>=BLOB=</td>\n",
       "<td>=BLOB=</td>\n",
       "<td>=BLOB=</td>\n",
       "<td>=BLOB=</td></tr><tr><td>40bfa03a7a7018cc</td>\n",
       "<td>0</td>\n",
       "<td>2019-09-17 19:43:06</td>\n",
       "<td>OpenField</td>\n",
       "<td>45.00</td>\n",
       "<td>5</td>\n",
       "<td>b4ec2fe41796dc975cd4d7ca870a9ae2</td>\n",
       "<td>default</td>\n",
       "<td>=BLOB=</td>\n",
       "<td>=BLOB=</td>\n",
       "<td>=BLOB=</td>\n",
       "<td>=BLOB=</td>\n",
       "<td>=BLOB=</td>\n",
       "<td>=BLOB=</td>\n",
       "<td>=BLOB=</td>\n",
       "<td>=BLOB=</td>\n",
       "<td>=BLOB=</td></tr><tr><td>40bfa03a7a7018cc</td>\n",
       "<td>0</td>\n",
       "<td>2019-09-17 19:43:06</td>\n",
       "<td>OpenField</td>\n",
       "<td>45.00</td>\n",
       "<td>6</td>\n",
       "<td>3750f0a4b56fbb50d16ef2aa091b1777</td>\n",
       "<td>default</td>\n",
       "<td>=BLOB=</td>\n",
       "<td>=BLOB=</td>\n",
       "<td>=BLOB=</td>\n",
       "<td>=BLOB=</td>\n",
       "<td>=BLOB=</td>\n",
       "<td>=BLOB=</td>\n",
       "<td>=BLOB=</td>\n",
       "<td>=BLOB=</td>\n",
       "<td>=BLOB=</td></tr><tr><td>40bfa03a7a7018cc</td>\n",
       "<td>0</td>\n",
       "<td>2019-09-17 19:43:06</td>\n",
       "<td>OpenField</td>\n",
       "<td>45.00</td>\n",
       "<td>7</td>\n",
       "<td>f70c1a6103a2f3f3528e96f8e30ef03b</td>\n",
       "<td>default</td>\n",
       "<td>=BLOB=</td>\n",
       "<td>=BLOB=</td>\n",
       "<td>=BLOB=</td>\n",
       "<td>=BLOB=</td>\n",
       "<td>=BLOB=</td>\n",
       "<td>=BLOB=</td>\n",
       "<td>=BLOB=</td>\n",
       "<td>=BLOB=</td>\n",
       "<td>=BLOB=</td></tr><tr><td>40bfa03a7a7018cc</td>\n",
       "<td>0</td>\n",
       "<td>2019-09-17 19:43:06</td>\n",
       "<td>OpenField</td>\n",
       "<td>45.00</td>\n",
       "<td>8</td>\n",
       "<td>8c7a6e79808cb7a3a5e0521154d9ac86</td>\n",
       "<td>default</td>\n",
       "<td>=BLOB=</td>\n",
       "<td>=BLOB=</td>\n",
       "<td>=BLOB=</td>\n",
       "<td>=BLOB=</td>\n",
       "<td>=BLOB=</td>\n",
       "<td>=BLOB=</td>\n",
       "<td>=BLOB=</td>\n",
       "<td>=BLOB=</td>\n",
       "<td>=BLOB=</td> </tr> </tbody>\n",
       "            </table>\n",
       "            <p>...</p>\n",
       "            <p>Total: 1040</p></div>\n",
       "            "
      ],
      "text/plain": [
       "*animal_id     *datasource_id *session_time  *task_type    *task_start    *unit    *spike_trackin *cell_selectio spike_time speed      x_pos      y_pos      z_pos      head_yaw   head_pitch head_roll  angular_sp\n",
       "+------------+ +------------+ +------------+ +-----------+ +------------+ +------+ +------------+ +------------+ +--------+ +--------+ +--------+ +--------+ +--------+ +--------+ +--------+ +--------+ +--------+\n",
       "40bfa03a7a7018 0              2019-09-17 19: OpenField     45.00          0        31ca6aaae907eb default        =BLOB=     =BLOB=     =BLOB=     =BLOB=     =BLOB=     =BLOB=     =BLOB=     =BLOB=     =BLOB=    \n",
       "40bfa03a7a7018 0              2019-09-17 19: OpenField     45.00          2        963d42326e666b default        =BLOB=     =BLOB=     =BLOB=     =BLOB=     =BLOB=     =BLOB=     =BLOB=     =BLOB=     =BLOB=    \n",
       "40bfa03a7a7018 0              2019-09-17 19: OpenField     45.00          3        0481db364aa0ff default        =BLOB=     =BLOB=     =BLOB=     =BLOB=     =BLOB=     =BLOB=     =BLOB=     =BLOB=     =BLOB=    \n",
       "40bfa03a7a7018 0              2019-09-17 19: OpenField     45.00          3        06cce38e29c82f default        =BLOB=     =BLOB=     =BLOB=     =BLOB=     =BLOB=     =BLOB=     =BLOB=     =BLOB=     =BLOB=    \n",
       "40bfa03a7a7018 0              2019-09-17 19: OpenField     45.00          4        6bf44729b64cb7 default        =BLOB=     =BLOB=     =BLOB=     =BLOB=     =BLOB=     =BLOB=     =BLOB=     =BLOB=     =BLOB=    \n",
       "40bfa03a7a7018 0              2019-09-17 19: OpenField     45.00          4        bd180e2d9c82ad default        =BLOB=     =BLOB=     =BLOB=     =BLOB=     =BLOB=     =BLOB=     =BLOB=     =BLOB=     =BLOB=    \n",
       "40bfa03a7a7018 0              2019-09-17 19: OpenField     45.00          5        b4ec2fe41796dc default        =BLOB=     =BLOB=     =BLOB=     =BLOB=     =BLOB=     =BLOB=     =BLOB=     =BLOB=     =BLOB=    \n",
       "40bfa03a7a7018 0              2019-09-17 19: OpenField     45.00          6        3750f0a4b56fbb default        =BLOB=     =BLOB=     =BLOB=     =BLOB=     =BLOB=     =BLOB=     =BLOB=     =BLOB=     =BLOB=    \n",
       "40bfa03a7a7018 0              2019-09-17 19: OpenField     45.00          7        f70c1a6103a2f3 default        =BLOB=     =BLOB=     =BLOB=     =BLOB=     =BLOB=     =BLOB=     =BLOB=     =BLOB=     =BLOB=    \n",
       "40bfa03a7a7018 0              2019-09-17 19: OpenField     45.00          8        8c7a6e79808cb7 default        =BLOB=     =BLOB=     =BLOB=     =BLOB=     =BLOB=     =BLOB=     =BLOB=     =BLOB=     =BLOB=    \n",
       "   ...\n",
       " (Total: 1040)"
      ]
     },
     "execution_count": 85,
     "metadata": {},
     "output_type": "execute_result"
    }
   ],
   "source": [
    "analysis.TaskSpikesTracking()"
   ]
  },
  {
   "cell_type": "markdown",
   "metadata": {},
   "source": [
    "# Electrode Configuration"
   ]
  },
  {
   "cell_type": "markdown",
   "metadata": {},
   "source": [
    "#### Electrode configuration represents the electrode grouping used in a particular recording from a probe:"
   ]
  },
  {
   "cell_type": "markdown",
   "metadata": {},
   "source": [
    "<img src=\"../images/ephys_pipeline/econfig.png\" alt=\"drawing\" width=\"600\"/>"
   ]
  },
  {
   "cell_type": "markdown",
   "metadata": {},
   "source": [
    "For ***neuropixels*** probe: \n",
    "+ 1 group - which 384 channels used\n",
    "\n",
    "For ***tetrode array*** probe:\n",
    "+ each tetrode is a group\n",
    "+ which channel assigned to which tetrode"
   ]
  },
  {
   "cell_type": "code",
   "execution_count": 86,
   "metadata": {},
   "outputs": [
    {
     "data": {
      "text/html": [
       "\n",
       "        \n",
       "        <style type=\"text/css\">\n",
       "            .Relation{\n",
       "                border-collapse:collapse;\n",
       "            }\n",
       "            .Relation th{\n",
       "                background: #A0A0A0; color: #ffffff; padding:4px; border:#f0e0e0 1px solid;\n",
       "                font-weight: normal; font-family: monospace; font-size: 100%;\n",
       "            }\n",
       "            .Relation td{\n",
       "                padding:4px; border:#f0e0e0 1px solid; font-size:100%;\n",
       "            }\n",
       "            .Relation tr:nth-child(odd){\n",
       "                background: #ffffff;\n",
       "            }\n",
       "            .Relation tr:nth-child(even){\n",
       "                background: #f3f1ff;\n",
       "            }\n",
       "            /* Tooltip container */\n",
       "            .djtooltip {\n",
       "            }\n",
       "            /* Tooltip text */\n",
       "            .djtooltip .djtooltiptext {\n",
       "                visibility: hidden;\n",
       "                width: 120px;\n",
       "                background-color: black;\n",
       "                color: #fff;\n",
       "                text-align: center;\n",
       "                padding: 5px 0;\n",
       "                border-radius: 6px;\n",
       "                /* Position the tooltip text - see examples below! */\n",
       "                position: absolute;\n",
       "                z-index: 1;\n",
       "            }\n",
       "            #primary {\n",
       "                font-weight: bold;\n",
       "                color: black;\n",
       "            }\n",
       "\n",
       "            #nonprimary {\n",
       "                font-weight: normal;\n",
       "                color: white;\n",
       "            }\n",
       "\n",
       "            /* Show the tooltip text when you mouse over the tooltip container */\n",
       "            .djtooltip:hover .djtooltiptext {\n",
       "                visibility: visible;\n",
       "            }\n",
       "        </style>\n",
       "        \n",
       "        <b></b>\n",
       "            <div style=\"max-height:1000px;max-width:1500px;overflow:auto;\">\n",
       "            <table border=\"1\" class=\"Relation\">\n",
       "                <thead> <tr style=\"text-align: right;\"> <th> <div class=\"djtooltip\">\n",
       "                                <p id=\"primary\">probe_model</p>\n",
       "                                <span class=\"djtooltiptext\">nick name, or other user-friendly model name of this probe</span>\n",
       "                            </div></th><th><div class=\"djtooltip\">\n",
       "                                <p id=\"primary\">electrode_config_id</p>\n",
       "                                <span class=\"djtooltiptext\">hash of the group and group_member (ensure uniqueness)</span>\n",
       "                            </div></th><th><div class=\"djtooltip\">\n",
       "                                <p id=\"nonprimary\">electrode_config_name</p>\n",
       "                                <span class=\"djtooltiptext\">user friendly name</span>\n",
       "                            </div> </th> </tr> </thead>\n",
       "                <tbody> <tr> <td>4-tetrode-array</td>\n",
       "<td>222cc704a75a2aea7777cc0899d809fd</td>\n",
       "<td>g_2345-4_chn</td></tr><tr><td>4-tetrode-array</td>\n",
       "<td>657119cc9e911c2c8a536abce16264f0</td>\n",
       "<td>g_5678-4_chn</td></tr><tr><td>4-tetrode-array</td>\n",
       "<td>e1832bbcce7a2aa5fd12f97d7448f9be</td>\n",
       "<td>g_6781-4_chn</td></tr><tr><td>4-tetrode-array</td>\n",
       "<td>e9c6dac82a8bcb02825b0be07735a967</td>\n",
       "<td>g_1234-4_chn</td></tr><tr><td>8-tetrode-array</td>\n",
       "<td>00784804f372476162c7d90e94d8dc3d</td>\n",
       "<td>g_12345678-4_chn</td></tr><tr><td>neuropixels_1.0</td>\n",
       "<td>3bae3f7153f0305d02232efd41217754</td>\n",
       "<td>g_0-384_chn</td> </tr> </tbody>\n",
       "            </table>\n",
       "            \n",
       "            <p>Total: 6</p></div>\n",
       "            "
      ],
      "text/plain": [
       "*probe_model   *electrode_con electrode_conf\n",
       "+------------+ +------------+ +------------+\n",
       "4-tetrode-arra 222cc704a75a2a g_2345-4_chn  \n",
       "4-tetrode-arra 657119cc9e911c g_5678-4_chn  \n",
       "4-tetrode-arra e1832bbcce7a2a g_6781-4_chn  \n",
       "4-tetrode-arra e9c6dac82a8bcb g_1234-4_chn  \n",
       "8-tetrode-arra 00784804f37247 g_12345678-4_c\n",
       "neuropixels_1. 3bae3f7153f030 g_0-384_chn   \n",
       " (Total: 6)"
      ]
     },
     "execution_count": 86,
     "metadata": {},
     "output_type": "execute_result"
    }
   ],
   "source": [
    "reference.ElectrodeConfig()"
   ]
  },
  {
   "cell_type": "code",
   "execution_count": 87,
   "metadata": {},
   "outputs": [
    {
     "data": {
      "text/html": [
       "\n",
       "        \n",
       "        <style type=\"text/css\">\n",
       "            .Relation{\n",
       "                border-collapse:collapse;\n",
       "            }\n",
       "            .Relation th{\n",
       "                background: #A0A0A0; color: #ffffff; padding:4px; border:#f0e0e0 1px solid;\n",
       "                font-weight: normal; font-family: monospace; font-size: 100%;\n",
       "            }\n",
       "            .Relation td{\n",
       "                padding:4px; border:#f0e0e0 1px solid; font-size:100%;\n",
       "            }\n",
       "            .Relation tr:nth-child(odd){\n",
       "                background: #ffffff;\n",
       "            }\n",
       "            .Relation tr:nth-child(even){\n",
       "                background: #f3f1ff;\n",
       "            }\n",
       "            /* Tooltip container */\n",
       "            .djtooltip {\n",
       "            }\n",
       "            /* Tooltip text */\n",
       "            .djtooltip .djtooltiptext {\n",
       "                visibility: hidden;\n",
       "                width: 120px;\n",
       "                background-color: black;\n",
       "                color: #fff;\n",
       "                text-align: center;\n",
       "                padding: 5px 0;\n",
       "                border-radius: 6px;\n",
       "                /* Position the tooltip text - see examples below! */\n",
       "                position: absolute;\n",
       "                z-index: 1;\n",
       "            }\n",
       "            #primary {\n",
       "                font-weight: bold;\n",
       "                color: black;\n",
       "            }\n",
       "\n",
       "            #nonprimary {\n",
       "                font-weight: normal;\n",
       "                color: white;\n",
       "            }\n",
       "\n",
       "            /* Show the tooltip text when you mouse over the tooltip container */\n",
       "            .djtooltip:hover .djtooltiptext {\n",
       "                visibility: visible;\n",
       "            }\n",
       "        </style>\n",
       "        \n",
       "        \n",
       "            <div style=\"max-height:1000px;max-width:1500px;overflow:auto;\">\n",
       "            <table border=\"1\" class=\"Relation\">\n",
       "                <thead> <tr style=\"text-align: right;\"> <th> <div class=\"djtooltip\">\n",
       "                                <p id=\"primary\">probe_model</p>\n",
       "                                <span class=\"djtooltiptext\">nick name, or other user-friendly model name of this probe</span>\n",
       "                            </div></th><th><div class=\"djtooltip\">\n",
       "                                <p id=\"primary\">electrode_config_id</p>\n",
       "                                <span class=\"djtooltiptext\">hash of the group and group_member (ensure uniqueness)</span>\n",
       "                            </div></th><th><div class=\"djtooltip\">\n",
       "                                <p id=\"primary\">electrode_group</p>\n",
       "                                <span class=\"djtooltiptext\">electrode group</span>\n",
       "                            </div></th><th><div class=\"djtooltip\">\n",
       "                                <p id=\"nonprimary\">electrode_config_name</p>\n",
       "                                <span class=\"djtooltiptext\">user friendly name</span>\n",
       "                            </div> </th> </tr> </thead>\n",
       "                <tbody> <tr> <td>4-tetrode-array</td>\n",
       "<td>657119cc9e911c2c8a536abce16264f0</td>\n",
       "<td>5</td>\n",
       "<td>g_5678-4_chn</td></tr><tr><td>4-tetrode-array</td>\n",
       "<td>657119cc9e911c2c8a536abce16264f0</td>\n",
       "<td>6</td>\n",
       "<td>g_5678-4_chn</td></tr><tr><td>4-tetrode-array</td>\n",
       "<td>657119cc9e911c2c8a536abce16264f0</td>\n",
       "<td>7</td>\n",
       "<td>g_5678-4_chn</td></tr><tr><td>4-tetrode-array</td>\n",
       "<td>657119cc9e911c2c8a536abce16264f0</td>\n",
       "<td>8</td>\n",
       "<td>g_5678-4_chn</td> </tr> </tbody>\n",
       "            </table>\n",
       "            \n",
       "            <p>Total: 4</p></div>\n",
       "            "
      ],
      "text/plain": [
       "*probe_model   *electrode_con *electrode_gro electrode_conf\n",
       "+------------+ +------------+ +------------+ +------------+\n",
       "4-tetrode-arra 657119cc9e911c 5              g_5678-4_chn  \n",
       "4-tetrode-arra 657119cc9e911c 6              g_5678-4_chn  \n",
       "4-tetrode-arra 657119cc9e911c 7              g_5678-4_chn  \n",
       "4-tetrode-arra 657119cc9e911c 8              g_5678-4_chn  \n",
       " (Total: 4)"
      ]
     },
     "execution_count": 87,
     "metadata": {},
     "output_type": "execute_result"
    }
   ],
   "source": [
    "reference.ElectrodeConfig.ElectrodeGroup * reference.ElectrodeConfig & 'electrode_config_name = \"g_5678-4_chn\"'"
   ]
  },
  {
   "cell_type": "code",
   "execution_count": 88,
   "metadata": {},
   "outputs": [
    {
     "data": {
      "text/html": [
       "\n",
       "        \n",
       "        <style type=\"text/css\">\n",
       "            .Relation{\n",
       "                border-collapse:collapse;\n",
       "            }\n",
       "            .Relation th{\n",
       "                background: #A0A0A0; color: #ffffff; padding:4px; border:#f0e0e0 1px solid;\n",
       "                font-weight: normal; font-family: monospace; font-size: 100%;\n",
       "            }\n",
       "            .Relation td{\n",
       "                padding:4px; border:#f0e0e0 1px solid; font-size:100%;\n",
       "            }\n",
       "            .Relation tr:nth-child(odd){\n",
       "                background: #ffffff;\n",
       "            }\n",
       "            .Relation tr:nth-child(even){\n",
       "                background: #f3f1ff;\n",
       "            }\n",
       "            /* Tooltip container */\n",
       "            .djtooltip {\n",
       "            }\n",
       "            /* Tooltip text */\n",
       "            .djtooltip .djtooltiptext {\n",
       "                visibility: hidden;\n",
       "                width: 120px;\n",
       "                background-color: black;\n",
       "                color: #fff;\n",
       "                text-align: center;\n",
       "                padding: 5px 0;\n",
       "                border-radius: 6px;\n",
       "                /* Position the tooltip text - see examples below! */\n",
       "                position: absolute;\n",
       "                z-index: 1;\n",
       "            }\n",
       "            #primary {\n",
       "                font-weight: bold;\n",
       "                color: black;\n",
       "            }\n",
       "\n",
       "            #nonprimary {\n",
       "                font-weight: normal;\n",
       "                color: white;\n",
       "            }\n",
       "\n",
       "            /* Show the tooltip text when you mouse over the tooltip container */\n",
       "            .djtooltip:hover .djtooltiptext {\n",
       "                visibility: visible;\n",
       "            }\n",
       "        </style>\n",
       "        \n",
       "        \n",
       "            <div style=\"max-height:1000px;max-width:1500px;overflow:auto;\">\n",
       "            <table border=\"1\" class=\"Relation\">\n",
       "                <thead> <tr style=\"text-align: right;\"> <th> <div class=\"djtooltip\">\n",
       "                                <p id=\"primary\">probe_model</p>\n",
       "                                <span class=\"djtooltiptext\">nick name, or other user-friendly model name of this probe</span>\n",
       "                            </div></th><th><div class=\"djtooltip\">\n",
       "                                <p id=\"primary\">electrode_config_id</p>\n",
       "                                <span class=\"djtooltiptext\">hash of the group and group_member (ensure uniqueness)</span>\n",
       "                            </div></th><th><div class=\"djtooltip\">\n",
       "                                <p id=\"primary\">electrode_group</p>\n",
       "                                <span class=\"djtooltiptext\">electrode group</span>\n",
       "                            </div></th><th><div class=\"djtooltip\">\n",
       "                                <p id=\"primary\">electrode</p>\n",
       "                                <span class=\"djtooltiptext\">electrode</span>\n",
       "                            </div></th><th><div class=\"djtooltip\">\n",
       "                                <p id=\"nonprimary\">electrode_config_name</p>\n",
       "                                <span class=\"djtooltiptext\">user friendly name</span>\n",
       "                            </div> </th> </tr> </thead>\n",
       "                <tbody> <tr> <td>4-tetrode-array</td>\n",
       "<td>657119cc9e911c2c8a536abce16264f0</td>\n",
       "<td>5</td>\n",
       "<td>0</td>\n",
       "<td>g_5678-4_chn</td></tr><tr><td>4-tetrode-array</td>\n",
       "<td>657119cc9e911c2c8a536abce16264f0</td>\n",
       "<td>5</td>\n",
       "<td>1</td>\n",
       "<td>g_5678-4_chn</td></tr><tr><td>4-tetrode-array</td>\n",
       "<td>657119cc9e911c2c8a536abce16264f0</td>\n",
       "<td>5</td>\n",
       "<td>2</td>\n",
       "<td>g_5678-4_chn</td></tr><tr><td>4-tetrode-array</td>\n",
       "<td>657119cc9e911c2c8a536abce16264f0</td>\n",
       "<td>5</td>\n",
       "<td>3</td>\n",
       "<td>g_5678-4_chn</td></tr><tr><td>4-tetrode-array</td>\n",
       "<td>657119cc9e911c2c8a536abce16264f0</td>\n",
       "<td>6</td>\n",
       "<td>4</td>\n",
       "<td>g_5678-4_chn</td></tr><tr><td>4-tetrode-array</td>\n",
       "<td>657119cc9e911c2c8a536abce16264f0</td>\n",
       "<td>6</td>\n",
       "<td>5</td>\n",
       "<td>g_5678-4_chn</td></tr><tr><td>4-tetrode-array</td>\n",
       "<td>657119cc9e911c2c8a536abce16264f0</td>\n",
       "<td>6</td>\n",
       "<td>6</td>\n",
       "<td>g_5678-4_chn</td></tr><tr><td>4-tetrode-array</td>\n",
       "<td>657119cc9e911c2c8a536abce16264f0</td>\n",
       "<td>6</td>\n",
       "<td>7</td>\n",
       "<td>g_5678-4_chn</td></tr><tr><td>4-tetrode-array</td>\n",
       "<td>657119cc9e911c2c8a536abce16264f0</td>\n",
       "<td>7</td>\n",
       "<td>8</td>\n",
       "<td>g_5678-4_chn</td></tr><tr><td>4-tetrode-array</td>\n",
       "<td>657119cc9e911c2c8a536abce16264f0</td>\n",
       "<td>7</td>\n",
       "<td>9</td>\n",
       "<td>g_5678-4_chn</td> </tr> </tbody>\n",
       "            </table>\n",
       "            <p>...</p>\n",
       "            <p>Total: 16</p></div>\n",
       "            "
      ],
      "text/plain": [
       "*probe_model   *electrode_con *electrode_gro *electrode    electrode_conf\n",
       "+------------+ +------------+ +------------+ +-----------+ +------------+\n",
       "4-tetrode-arra 657119cc9e911c 5              0             g_5678-4_chn  \n",
       "4-tetrode-arra 657119cc9e911c 5              1             g_5678-4_chn  \n",
       "4-tetrode-arra 657119cc9e911c 5              2             g_5678-4_chn  \n",
       "4-tetrode-arra 657119cc9e911c 5              3             g_5678-4_chn  \n",
       "4-tetrode-arra 657119cc9e911c 6              4             g_5678-4_chn  \n",
       "4-tetrode-arra 657119cc9e911c 6              5             g_5678-4_chn  \n",
       "4-tetrode-arra 657119cc9e911c 6              6             g_5678-4_chn  \n",
       "4-tetrode-arra 657119cc9e911c 6              7             g_5678-4_chn  \n",
       "4-tetrode-arra 657119cc9e911c 7              8             g_5678-4_chn  \n",
       "4-tetrode-arra 657119cc9e911c 7              9             g_5678-4_chn  \n",
       "   ...\n",
       " (Total: 16)"
      ]
     },
     "execution_count": 88,
     "metadata": {},
     "output_type": "execute_result"
    }
   ],
   "source": [
    "reference.ElectrodeConfig.Electrode * reference.ElectrodeConfig & 'electrode_config_name = \"g_5678-4_chn\"'"
   ]
  },
  {
   "cell_type": "code",
   "execution_count": 89,
   "metadata": {},
   "outputs": [
    {
     "data": {
      "image/svg+xml": [
       "<svg height=\"114pt\" viewBox=\"0.00 0.00 322.25 114.00\" width=\"322pt\" xmlns=\"http://www.w3.org/2000/svg\" xmlns:xlink=\"http://www.w3.org/1999/xlink\">\n",
       "<g class=\"graph\" id=\"graph0\" transform=\"scale(1 1) rotate(0) translate(4 110)\">\n",
       "<title>%3</title>\n",
       "<polygon fill=\"white\" points=\"-4,4 -4,-110 318.25,-110 318.25,4 -4,4\" stroke=\"none\"/>\n",
       "<!-- acquisition.Recording -->\n",
       "<g class=\"node\" id=\"node1\"><title>acquisition.Recording</title>\n",
       "<g id=\"a_node1\"><a xlink:title=\"→ acquisition.Session\r",
       "→ acquisition.ProbeInsertion\r",
       "recording_time       \r",
       "------------------------------\r",
       "→ reference.RecordingSystem\r",
       "→ reference.ElectrodeConfig\r",
       "recording_order      \r",
       "recording_duration   \r",
       "recording_name=&quot;&quot;    \r",
       "\">\n",
       "<ellipse cx=\"81.25\" cy=\"-17.5\" fill=\"#00007f\" fill-opacity=\"0.250980\" rx=\"81.0008\" ry=\"17.5\" stroke=\"#00007f\" stroke-opacity=\"0.250980\"/>\n",
       "<text fill=\"#00007f\" font-family=\"arial\" font-size=\"12.00\" text-anchor=\"start\" text-decoration=\"underline\" x=\"24.25\" y=\"-15.4\">acquisition.Recording</text>\n",
       "</a>\n",
       "</g>\n",
       "</g>\n",
       "<!-- ephys.ClusteringSetup -->\n",
       "<g class=\"node\" id=\"node2\"><title>ephys.ClusteringSetup</title>\n",
       "<g id=\"a_node2\"><a xlink:title=\"→ acquisition.ProbeInsertion\r",
       "→ acquisition.ClusterTimeWindows\r",
       "→ reference.ClusterParam\r",
       "→ reference.ElectrodeConfig\r",
       "→ reference.SyncMethod\r",
       "------------------------------\r",
       "→ reference.Repository\r",
       "clustering_output_dir \r",
       "routine=&quot;trigger&quot;    \r",
       "is_synced=1          \r",
       "\">\n",
       "<polygon fill=\"#00ff00\" fill-opacity=\"0.188235\" points=\"314.25,-35 180.25,-35 180.25,-0 314.25,-0 314.25,-35\" stroke=\"#00ff00\" stroke-opacity=\"0.188235\"/>\n",
       "<text fill=\"darkgreen\" font-family=\"arial\" font-size=\"12.00\" text-anchor=\"middle\" x=\"247.25\" y=\"-14.4\">ephys.ClusteringSetup</text>\n",
       "</a>\n",
       "</g>\n",
       "</g>\n",
       "<!-- reference.ElectrodeConfig -->\n",
       "<g class=\"node\" id=\"node3\"><title>reference.ElectrodeConfig</title>\n",
       "<g id=\"a_node3\"><a xlink:title=\"→ reference.ProbeModel\r",
       "electrode_config_id  \r",
       "------------------------------\r",
       "electrode_config_name \r",
       "\">\n",
       "<polygon fill=\"#000000\" fill-opacity=\"0.125490\" points=\"228.25,-106 100.25,-106 100.25,-71 228.25,-71 228.25,-106\" stroke=\"none\"/>\n",
       "<text font-family=\"arial\" font-size=\"10.00\" text-anchor=\"start\" text-decoration=\"underline\" x=\"108.25\" y=\"-87\">reference.ElectrodeConfig</text>\n",
       "</a>\n",
       "</g>\n",
       "</g>\n",
       "<!-- reference.ElectrodeConfig&#45;&gt;acquisition.Recording -->\n",
       "<g class=\"edge\" id=\"edge1\"><title>reference.ElectrodeConfig-&gt;acquisition.Recording</title>\n",
       "<path d=\"M144.158,-70.797C130.916,-59.789 113.671,-45.4521 100.585,-34.574\" fill=\"none\" stroke=\"#000000\" stroke-dasharray=\"5,2\" stroke-opacity=\"0.250980\" stroke-width=\"0.75\"/>\n",
       "</g>\n",
       "<!-- reference.ElectrodeConfig&#45;&gt;ephys.ClusteringSetup -->\n",
       "<g class=\"edge\" id=\"edge2\"><title>reference.ElectrodeConfig-&gt;ephys.ClusteringSetup</title>\n",
       "<path d=\"M184.342,-70.797C197.392,-59.9485 214.33,-45.8669 227.343,-35.0492\" fill=\"none\" stroke=\"#000000\" stroke-opacity=\"0.250980\" stroke-width=\"0.75\"/>\n",
       "</g>\n",
       "</g>\n",
       "</svg>"
      ],
      "text/plain": [
       "<datajoint.diagram.Diagram at 0x228ba62d748>"
      ]
     },
     "execution_count": 89,
     "metadata": {},
     "output_type": "execute_result"
    }
   ],
   "source": [
    "dj.ERD(reference.ElectrodeConfig) + ephys.ClusteringSetup + acquisition.Recording"
   ]
  },
  {
   "cell_type": "markdown",
   "metadata": {},
   "source": [
    "# Probe Insertion Location "
   ]
  },
  {
   "cell_type": "code",
   "execution_count": 72,
   "metadata": {},
   "outputs": [
    {
     "data": {
      "image/svg+xml": [
       "<svg height=\"98pt\" viewBox=\"0.00 0.00 459.75 98.50\" width=\"460pt\" xmlns=\"http://www.w3.org/2000/svg\" xmlns:xlink=\"http://www.w3.org/1999/xlink\">\n",
       "<g class=\"graph\" id=\"graph0\" transform=\"scale(1 1) rotate(0) translate(4 94.499)\">\n",
       "<title>%3</title>\n",
       "<polygon fill=\"#ffffff\" points=\"-4,4 -4,-94.499 455.7505,-94.499 455.7505,4 -4,4\" stroke=\"transparent\"/>\n",
       "<!-- acquisition.ProbeInsertion -->\n",
       "<g class=\"node\" id=\"node1\">\n",
       "<title>acquisition.ProbeInsertion</title>\n",
       "<g id=\"a_node1\"><a xlink:title=\"→ animal.Animal\r",
       "insertion_time       \r",
       "------------------------------\r",
       "→ reference.Probe\r",
       "insertion_note=&quot;&quot;    \r",
       "\">\n",
       "<polygon fill=\"#00ff00\" fill-opacity=\"0.188235\" points=\"182.0864,-90.499 27.9223,-90.499 27.9223,-55.499 182.0864,-55.499 182.0864,-90.499\" stroke=\"#00ff00\" stroke-opacity=\"0.188235\"/>\n",
       "<text fill=\"#006400\" font-family=\"arial\" font-size=\"12.00\" text-anchor=\"middle\" x=\"105.0044\" y=\"-70.2984\">acquisition.ProbeInsertion</text>\n",
       "</a>\n",
       "</g>\n",
       "</g>\n",
       "<!-- acquisition.ProbeInsertion.InsertionLocation -->\n",
       "<g class=\"node\" id=\"node2\">\n",
       "<title>acquisition.ProbeInsertion.InsertionLocation</title>\n",
       "<g id=\"a_node2\"><a xlink:title=\"→ acquisition.ProbeInsertion\r",
       "------------------------------\r",
       "→ reference.BrainArea\r",
       "hemisphere           \r",
       "→ reference.SkullReference\r",
       "ml_location=null     \r",
       "ap_location=null     \r",
       "dv_location=null     \r",
       "ml_angle=null        \r",
       "ap_angle=null        \r",
       "\">\n",
       "<polygon fill=\"transparent\" points=\"210.0132,-19.7551 -.0044,-19.7551 -.0044,.2561 210.0132,.2561 210.0132,-19.7551\" stroke=\"transparent\"/>\n",
       "<text fill=\"#000000\" font-family=\"arial\" font-size=\"10.00\" text-anchor=\"middle\" x=\"105.0044\" y=\"-7.499\">acquisition.ProbeInsertion.InsertionLocation</text>\n",
       "</a>\n",
       "</g>\n",
       "</g>\n",
       "<!-- acquisition.ProbeInsertion&#45;&gt;acquisition.ProbeInsertion.InsertionLocation -->\n",
       "<g class=\"edge\" id=\"edge1\">\n",
       "<title>acquisition.ProbeInsertion-&gt;acquisition.ProbeInsertion.InsertionLocation</title>\n",
       "<path d=\"M105.0044,-55.3805C105.0044,-43.8298 105.0044,-29.1552 105.0044,-19.6127\" fill=\"none\" stroke=\"#000000\" stroke-opacity=\"0.250980\" stroke-width=\"2\"/>\n",
       "</g>\n",
       "<!-- reference.SkullReference -->\n",
       "<g class=\"node\" id=\"node3\">\n",
       "<title>reference.SkullReference</title>\n",
       "<g id=\"a_node3\"><a xlink:title=\"skull_reference      \r",
       "\">\n",
       "<polygon fill=\"#000000\" fill-opacity=\"0.125490\" points=\"328.3414,-90.499 199.6674,-90.499 199.6674,-55.499 328.3414,-55.499 328.3414,-90.499\" stroke=\"transparent\"/>\n",
       "<text fill=\"#000000\" font-family=\"arial\" font-size=\"10.00\" text-anchor=\"middle\" x=\"264.0044\" y=\"-70.7485\">reference.SkullReference</text>\n",
       "</a>\n",
       "</g>\n",
       "</g>\n",
       "<!-- reference.SkullReference&#45;&gt;acquisition.ProbeInsertion.InsertionLocation -->\n",
       "<g class=\"edge\" id=\"edge2\">\n",
       "<title>reference.SkullReference-&gt;acquisition.ProbeInsertion.InsertionLocation</title>\n",
       "<path d=\"M219.714,-55.3805C190.6773,-43.8298 153.7876,-29.1552 129.799,-19.6127\" fill=\"none\" stroke=\"#000000\" stroke-dasharray=\"5,2\" stroke-opacity=\"0.250980\" stroke-width=\".75\"/>\n",
       "</g>\n",
       "<!-- reference.BrainArea -->\n",
       "<g class=\"node\" id=\"node4\">\n",
       "<title>reference.BrainArea</title>\n",
       "<g id=\"a_node4\"><a xlink:title=\"brain_area           \r",
       "------------------------------\r",
       "brain_area_description=&quot;&quot; \r",
       "\">\n",
       "<polygon fill=\"#000000\" fill-opacity=\"0.125490\" points=\"451.9977,-90.499 346.0111,-90.499 346.0111,-55.499 451.9977,-55.499 451.9977,-90.499\" stroke=\"transparent\"/>\n",
       "<text fill=\"#000000\" font-family=\"arial\" font-size=\"10.00\" text-anchor=\"middle\" x=\"399.0044\" y=\"-70.7485\">reference.BrainArea</text>\n",
       "</a>\n",
       "</g>\n",
       "</g>\n",
       "<!-- reference.BrainArea&#45;&gt;acquisition.ProbeInsertion.InsertionLocation -->\n",
       "<g class=\"edge\" id=\"edge3\">\n",
       "<title>reference.BrainArea-&gt;acquisition.ProbeInsertion.InsertionLocation</title>\n",
       "<path d=\"M345.978,-57.7292C342.9483,-56.9511 339.9413,-56.2019 337.0044,-55.499 277.5146,-41.2621 208.6823,-28.0997 161.5354,-19.5839\" fill=\"none\" stroke=\"#000000\" stroke-dasharray=\"5,2\" stroke-opacity=\"0.250980\" stroke-width=\".75\"/>\n",
       "</g>\n",
       "</g>\n",
       "</svg>"
      ],
      "text/plain": [
       "<datajoint.diagram.Diagram at 0x13458fc18>"
      ]
     },
     "execution_count": 72,
     "metadata": {},
     "output_type": "execute_result"
    }
   ],
   "source": [
    "dj.ERD(acquisition.ProbeInsertion.InsertionLocation) - 1"
   ]
  },
  {
   "cell_type": "code",
   "execution_count": 73,
   "metadata": {},
   "outputs": [
    {
     "name": "stdout",
     "output_type": "stream",
     "text": [
      "-> acquisition.ProbeInsertion\n",
      "---\n",
      "-> reference.BrainArea\n",
      "hemisphere           : enum('left','right')         \n",
      "-> reference.SkullReference\n",
      "ml_location=null     : float                        # (um) relative to the skull-reference\n",
      "ap_location=null     : float                        # (um) relative to the skull-reference\n",
      "dv_location=null     : float                        # (um) relative to the surface of the dura at the implant location\n",
      "ml_angle=null        : float                        # (degree)\n",
      "ap_angle=null        : float                        # (degree)\n",
      "\n"
     ]
    }
   ],
   "source": [
    "acquisition.ProbeInsertion.InsertionLocation.describe();"
   ]
  },
  {
   "cell_type": "markdown",
   "metadata": {},
   "source": [
    "# Probe Adjustment"
   ]
  },
  {
   "cell_type": "code",
   "execution_count": 74,
   "metadata": {},
   "outputs": [
    {
     "data": {
      "image/svg+xml": [
       "<svg height=\"114pt\" viewBox=\"0.00 0.00 437.29 114.00\" width=\"437pt\" xmlns=\"http://www.w3.org/2000/svg\" xmlns:xlink=\"http://www.w3.org/1999/xlink\">\n",
       "<g class=\"graph\" id=\"graph0\" transform=\"scale(1 1) rotate(0) translate(4 110)\">\n",
       "<title>%3</title>\n",
       "<polygon fill=\"#ffffff\" points=\"-4,4 -4,-110 433.2871,-110 433.2871,4 -4,4\" stroke=\"transparent\"/>\n",
       "<!-- acquisition.ProbeInsertion -->\n",
       "<g class=\"node\" id=\"node1\">\n",
       "<title>acquisition.ProbeInsertion</title>\n",
       "<g id=\"a_node1\"><a xlink:title=\"→ animal.Animal\r",
       "insertion_time       \r",
       "------------------------------\r",
       "→ reference.Probe\r",
       "insertion_note=&quot;&quot;    \r",
       "\">\n",
       "<polygon fill=\"#00ff00\" fill-opacity=\"0.188235\" points=\"154.1231,-106 -.041,-106 -.041,-71 154.1231,-71 154.1231,-106\" stroke=\"#00ff00\" stroke-opacity=\"0.188235\"/>\n",
       "<text fill=\"#006400\" font-family=\"arial\" font-size=\"12.00\" text-anchor=\"middle\" x=\"77.041\" y=\"-85.7994\">acquisition.ProbeInsertion</text>\n",
       "</a>\n",
       "</g>\n",
       "</g>\n",
       "<!-- acquisition.ProbeAdjustment -->\n",
       "<g class=\"node\" id=\"node4\">\n",
       "<title>acquisition.ProbeAdjustment</title>\n",
       "<g id=\"a_node4\"><a xlink:title=\"→ acquisition.ProbeInsertion\r",
       "adjustment_time      \r",
       "------------------------------\r",
       "→ [nullable] acquisition.Session\r",
       "→ reference.Experimenter\r",
       "estimated_depth_change=null \r",
       "adjustment           \r",
       "\">\n",
       "<polygon fill=\"#00ff00\" fill-opacity=\"0.188235\" points=\"315.127,-35 146.9551,-35 146.9551,0 315.127,0 315.127,-35\" stroke=\"#00ff00\" stroke-opacity=\"0.188235\"/>\n",
       "<text fill=\"#006400\" font-family=\"arial\" font-size=\"12.00\" text-anchor=\"start\" text-decoration=\"underline\" x=\"154.998\" y=\"-15.7994\">acquisition.ProbeAdjustment</text>\n",
       "</a>\n",
       "</g>\n",
       "</g>\n",
       "<!-- acquisition.ProbeInsertion&#45;&gt;acquisition.ProbeAdjustment -->\n",
       "<g class=\"edge\" id=\"edge1\">\n",
       "<title>acquisition.ProbeInsertion-&gt;acquisition.ProbeAdjustment</title>\n",
       "<path d=\"M115.1084,-70.9494C138.801,-60.0262 169.1672,-46.0262 192.8778,-35.0947\" fill=\"none\" stroke=\"#000000\" stroke-opacity=\"0.250980\" stroke-width=\".75\"/>\n",
       "</g>\n",
       "<!-- acquisition.Session -->\n",
       "<g class=\"node\" id=\"node2\">\n",
       "<title>acquisition.Session</title>\n",
       "<g id=\"a_node2\"><a xlink:title=\"→ animal.Animal\r",
       "session_time         \r",
       "------------------------------\r",
       "session_note=null    \r",
       "\">\n",
       "<polygon fill=\"#00ff00\" fill-opacity=\"0.188235\" points=\"290.2679,-106 171.8141,-106 171.8141,-71 290.2679,-71 290.2679,-106\" stroke=\"#00ff00\" stroke-opacity=\"0.188235\"/>\n",
       "<text fill=\"#006400\" font-family=\"arial\" font-size=\"12.00\" text-anchor=\"middle\" x=\"231.041\" y=\"-85.7994\">acquisition.Session</text>\n",
       "</a>\n",
       "</g>\n",
       "</g>\n",
       "<!-- acquisition.Session&#45;&gt;acquisition.ProbeAdjustment -->\n",
       "<g class=\"edge\" id=\"edge2\">\n",
       "<title>acquisition.Session-&gt;acquisition.ProbeAdjustment</title>\n",
       "<path d=\"M231.041,-70.9494C231.041,-60.1083 231.041,-46.2366 231.041,-35.3418\" fill=\"none\" stroke=\"#000000\" stroke-dasharray=\"5,2\" stroke-opacity=\"0.250980\" stroke-width=\".75\"/>\n",
       "</g>\n",
       "<!-- reference.Experimenter -->\n",
       "<g class=\"node\" id=\"node3\">\n",
       "<title>reference.Experimenter</title>\n",
       "<g id=\"a_node3\"><a xlink:title=\"experimenter         \r",
       "\">\n",
       "<polygon fill=\"#000000\" fill-opacity=\"0.125490\" points=\"429.5342,-106 308.5478,-106 308.5478,-71 429.5342,-71 429.5342,-106\" stroke=\"transparent\"/>\n",
       "<text fill=\"#000000\" font-family=\"arial\" font-size=\"10.00\" text-anchor=\"middle\" x=\"369.041\" y=\"-86.2495\">reference.Experimenter</text>\n",
       "</a>\n",
       "</g>\n",
       "</g>\n",
       "<!-- reference.Experimenter&#45;&gt;acquisition.ProbeAdjustment -->\n",
       "<g class=\"edge\" id=\"edge3\">\n",
       "<title>reference.Experimenter-&gt;acquisition.ProbeAdjustment</title>\n",
       "<path d=\"M334.9286,-70.9494C313.6976,-60.0262 286.4864,-46.0262 265.2392,-35.0947\" fill=\"none\" stroke=\"#000000\" stroke-dasharray=\"5,2\" stroke-opacity=\"0.250980\" stroke-width=\".75\"/>\n",
       "</g>\n",
       "</g>\n",
       "</svg>"
      ],
      "text/plain": [
       "<datajoint.diagram.Diagram at 0x1347afd30>"
      ]
     },
     "execution_count": 74,
     "metadata": {},
     "output_type": "execute_result"
    }
   ],
   "source": [
    "dj.ERD(acquisition.ProbeAdjustment) - 1"
   ]
  },
  {
   "cell_type": "code",
   "execution_count": 75,
   "metadata": {},
   "outputs": [
    {
     "name": "stdout",
     "output_type": "stream",
     "text": [
      "-> acquisition.ProbeInsertion\n",
      "adjustment_time      : datetime                     \n",
      "---\n",
      "-> [nullable] acquisition.Session\n",
      "-> reference.Experimenter\n",
      "estimated_depth_change=null : float                        # (um) positive: moving more dorsal (shallower), negative: moving more ventral (deeper)\n",
      "adjustment           : varchar(128)                 # new depth (ideally)\n",
      "\n"
     ]
    }
   ],
   "source": [
    "acquisition.ProbeAdjustment.describe();"
   ]
  }
 ],
 "metadata": {
  "kernelspec": {
   "display_name": "Python 3",
   "language": "python",
   "name": "python3"
  },
  "language_info": {
   "codemirror_mode": {
    "name": "ipython",
    "version": 3
   },
   "file_extension": ".py",
   "mimetype": "text/x-python",
   "name": "python",
   "nbconvert_exporter": "python",
   "pygments_lexer": "ipython3",
   "version": "3.7.0"
  }
 },
 "nbformat": 4,
 "nbformat_minor": 2
}
