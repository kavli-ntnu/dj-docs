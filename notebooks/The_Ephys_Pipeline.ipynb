{
 "cells": [
  {
   "cell_type": "markdown",
   "metadata": {},
   "source": [
    "# Getting familiar with the electrophysiology (Ephys) pipeline\n",
    "\n",
    "In this notebook, we will take a tour of the Moser group electrophysiology (ephys) pipeline, taking a close look at how each table is defined and relate to each other to represent various experimental information."
   ]
  },
  {
   "cell_type": "markdown",
   "metadata": {},
   "source": [
    "But before we begin, let's import a couple essential packages, in particular importing DataJoint (`datajoint`) package, and establish connection to the Moser lab database where the entire pipeline resides."
   ]
  },
  {
   "cell_type": "code",
   "execution_count": 1,
   "metadata": {},
   "outputs": [],
   "source": [
    "import datajoint as dj"
   ]
  },
  {
   "cell_type": "code",
   "execution_count": 2,
   "metadata": {},
   "outputs": [],
   "source": [
    "dj.config['display.limit'] = 10"
   ]
  },
  {
   "cell_type": "markdown",
   "metadata": {},
   "source": [
    "If you have followed all the setups for Python environment, DataJoint and the Ephys pipeline as described in [Zero to DataJoint Wiki page](https://github.com/kavli-ntnu/dj-elphys/wiki/Zero-to-datajoint), you should be able to just run the next line, importing pipeline definitions as found in the `ephys` package."
   ]
  },
  {
   "cell_type": "code",
   "execution_count": 3,
   "metadata": {},
   "outputs": [],
   "source": [
    "dj.config['database.host'] = 'datajoint.it.ntnu.no'"
   ]
  },
  {
   "cell_type": "code",
   "execution_count": 4,
   "metadata": {},
   "outputs": [
    {
     "name": "stdout",
     "output_type": "stream",
     "text": [
      "Connecting thinh@datajoint.it.ntnu.no:3306\n"
     ]
    },
    {
     "data": {
      "text/plain": [
       "DataJoint connection (connected) thinh@datajoint.it.ntnu.no:3306"
      ]
     },
     "execution_count": 4,
     "metadata": {},
     "output_type": "execute_result"
    }
   ],
   "source": [
    "dj.conn()"
   ]
  },
  {
   "cell_type": "code",
   "execution_count": 5,
   "metadata": {},
   "outputs": [],
   "source": [
    "animal = dj.create_virtual_module('animal', 'prod_mlims_data')\n",
    "reference = dj.create_virtual_module('reference', 'group_shared_reference')\n",
    "acquisition = dj.create_virtual_module('acquisition', 'group_shared_acquisition')\n",
    "tracking = dj.create_virtual_module('tracking', 'group_shared_tracking')\n",
    "behavior = dj.create_virtual_module('behavior', 'group_shared_behavior')\n",
    "ephys = dj.create_virtual_module('ephys', 'group_shared_ephys')\n",
    "analysis = dj.create_virtual_module('analysis', 'group_shared_analysis')"
   ]
  },
  {
   "cell_type": "markdown",
   "metadata": {},
   "source": [
    "If you experienced any issue in importing the pipeline, please refer to the [Wiki page and guide](https://github.com/kavli-ntnu/dj-elphys/wiki/Zero-to-datajoint) again or seek help from administrators."
   ]
  },
  {
   "cell_type": "markdown",
   "metadata": {},
   "source": [
    "The entire pipeline is quite elaborate and contains many parts, grouping related tables together to facilitate navigation and understanding. Rather than looking at them all at once, we will now take a look at each of these groups of tables or **schemas**, one at a time."
   ]
  },
  {
   "cell_type": "markdown",
   "metadata": {},
   "source": [
    "## Animal information"
   ]
  },
  {
   "cell_type": "markdown",
   "metadata": {},
   "source": [
    "Just like any experiment cannot occur without the animal, the entire pipeline also begin with capturing information about the animal. Naturally, information pertaining to the animal can be found under the `animal` schema."
   ]
  },
  {
   "cell_type": "markdown",
   "metadata": {},
   "source": [
    "![](../images/ephys_pipeline/animal.png)"
   ]
  },
  {
   "cell_type": "markdown",
   "metadata": {},
   "source": [
    "Among other things, the `animal.Animal` table contains listing of all animals in the lab, and as we will see, serve as the starting point for the entire ephys pipeline."
   ]
  },
  {
   "cell_type": "code",
   "execution_count": 6,
   "metadata": {},
   "outputs": [
    {
     "data": {
      "text/html": [
       "\n",
       "        \n",
       "        <style type=\"text/css\">\n",
       "            .Relation{\n",
       "                border-collapse:collapse;\n",
       "            }\n",
       "            .Relation th{\n",
       "                background: #A0A0A0; color: #ffffff; padding:4px; border:#f0e0e0 1px solid;\n",
       "                font-weight: normal; font-family: monospace; font-size: 100%;\n",
       "            }\n",
       "            .Relation td{\n",
       "                padding:4px; border:#f0e0e0 1px solid; font-size:100%;\n",
       "            }\n",
       "            .Relation tr:nth-child(odd){\n",
       "                background: #ffffff;\n",
       "            }\n",
       "            .Relation tr:nth-child(even){\n",
       "                background: #f3f1ff;\n",
       "            }\n",
       "            /* Tooltip container */\n",
       "            .djtooltip {\n",
       "            }\n",
       "            /* Tooltip text */\n",
       "            .djtooltip .djtooltiptext {\n",
       "                visibility: hidden;\n",
       "                width: 120px;\n",
       "                background-color: black;\n",
       "                color: #fff;\n",
       "                text-align: center;\n",
       "                padding: 5px 0;\n",
       "                border-radius: 6px;\n",
       "                /* Position the tooltip text - see examples below! */\n",
       "                position: absolute;\n",
       "                z-index: 1;\n",
       "            }\n",
       "            #primary {\n",
       "                font-weight: bold;\n",
       "                color: black;\n",
       "            }\n",
       "\n",
       "            #nonprimary {\n",
       "                font-weight: normal;\n",
       "                color: white;\n",
       "            }\n",
       "\n",
       "            /* Show the tooltip text when you mouse over the tooltip container */\n",
       "            .djtooltip:hover .djtooltiptext {\n",
       "                visibility: visible;\n",
       "            }\n",
       "        </style>\n",
       "        \n",
       "        <b></b>\n",
       "            <div style=\"max-height:1000px;max-width:1500px;overflow:auto;\">\n",
       "            <table border=\"1\" class=\"Relation\">\n",
       "                <thead> <tr style=\"text-align: right;\"> <th> <div class=\"djtooltip\">\n",
       "                                <p id=\"primary\">animal_id</p>\n",
       "                                <span class=\"djtooltiptext\"></span>\n",
       "                            </div></th><th><div class=\"djtooltip\">\n",
       "                                <p id=\"primary\">datasource_id</p>\n",
       "                                <span class=\"djtooltiptext\"></span>\n",
       "                            </div></th><th><div class=\"djtooltip\">\n",
       "                                <p id=\"nonprimary\">animal_species</p>\n",
       "                                <span class=\"djtooltiptext\"></span>\n",
       "                            </div></th><th><div class=\"djtooltip\">\n",
       "                                <p id=\"nonprimary\">animal_name</p>\n",
       "                                <span class=\"djtooltiptext\"></span>\n",
       "                            </div></th><th><div class=\"djtooltip\">\n",
       "                                <p id=\"nonprimary\">animal_sex</p>\n",
       "                                <span class=\"djtooltiptext\"></span>\n",
       "                            </div></th><th><div class=\"djtooltip\">\n",
       "                                <p id=\"nonprimary\">animal_dob</p>\n",
       "                                <span class=\"djtooltiptext\"></span>\n",
       "                            </div></th><th><div class=\"djtooltip\">\n",
       "                                <p id=\"nonprimary\">color</p>\n",
       "                                <span class=\"djtooltiptext\"></span>\n",
       "                            </div> </th> </tr> </thead>\n",
       "                <tbody> <tr> <td>0000da5d6810d149</td>\n",
       "<td>0</td>\n",
       "<td>mouse</td>\n",
       "<td>85106</td>\n",
       "<td>F</td>\n",
       "<td>2018-10-07</td>\n",
       "<td>None</td></tr><tr><td>0000df481fc1421d</td>\n",
       "<td>0</td>\n",
       "<td>rat</td>\n",
       "<td>20399</td>\n",
       "<td>F</td>\n",
       "<td>2014-08-06</td>\n",
       "<td>None</td></tr><tr><td>00016d089675e2f2</td>\n",
       "<td>0</td>\n",
       "<td>mouse</td>\n",
       "<td>55885</td>\n",
       "<td>M</td>\n",
       "<td>2016-02-12</td>\n",
       "<td>None</td></tr><tr><td>0003a07550faa59b</td>\n",
       "<td>0</td>\n",
       "<td>mouse</td>\n",
       "<td>78224</td>\n",
       "<td>F</td>\n",
       "<td>2017-11-30</td>\n",
       "<td>None</td></tr><tr><td>0005070177484ee2</td>\n",
       "<td>0</td>\n",
       "<td>rat</td>\n",
       "<td>20259</td>\n",
       "<td>M</td>\n",
       "<td>2014-07-21</td>\n",
       "<td>None</td></tr><tr><td>0005baadae264d7b</td>\n",
       "<td>0</td>\n",
       "<td>rat</td>\n",
       "<td>24790</td>\n",
       "<td>F</td>\n",
       "<td>2018-04-12</td>\n",
       "<td>None</td></tr><tr><td>00062843f7d3ffce</td>\n",
       "<td>0</td>\n",
       "<td>mouse</td>\n",
       "<td>55391</td>\n",
       "<td>F</td>\n",
       "<td>None</td>\n",
       "<td>None</td></tr><tr><td>00062e8c65bb14f3</td>\n",
       "<td>0</td>\n",
       "<td>mouse</td>\n",
       "<td>52756</td>\n",
       "<td>M</td>\n",
       "<td>2015-02-27</td>\n",
       "<td>None</td></tr><tr><td>0006d0993fd101e8</td>\n",
       "<td>0</td>\n",
       "<td>mouse</td>\n",
       "<td>78886</td>\n",
       "<td>F</td>\n",
       "<td>2017-12-25</td>\n",
       "<td>None</td></tr><tr><td>00080a60ab6366cd</td>\n",
       "<td>0</td>\n",
       "<td>mouse</td>\n",
       "<td>83976</td>\n",
       "<td>F</td>\n",
       "<td>2018-08-01</td>\n",
       "<td>None</td> </tr> </tbody>\n",
       "            </table>\n",
       "            <p>...</p>\n",
       "            <p>Total: 39665</p></div>\n",
       "            "
      ],
      "text/plain": [
       "*animal_id     *datasource_id animal_species animal_name    animal_sex     animal_dob     color    \n",
       "+------------+ +------------+ +------------+ +------------+ +------------+ +------------+ +-------+\n",
       "0000da5d6810d1 0              mouse          85106          F              2018-10-07     None     \n",
       "0000df481fc142 0              rat            20399          F              2014-08-06     None     \n",
       "00016d089675e2 0              mouse          55885          M              2016-02-12     None     \n",
       "0003a07550faa5 0              mouse          78224          F              2017-11-30     None     \n",
       "0005070177484e 0              rat            20259          M              2014-07-21     None     \n",
       "0005baadae264d 0              rat            24790          F              2018-04-12     None     \n",
       "00062843f7d3ff 0              mouse          55391          F              None           None     \n",
       "00062e8c65bb14 0              mouse          52756          M              2015-02-27     None     \n",
       "0006d0993fd101 0              mouse          78886          F              2017-12-25     None     \n",
       "00080a60ab6366 0              mouse          83976          F              2018-08-01     None     \n",
       "   ...\n",
       " (Total: 39665)"
      ]
     },
     "execution_count": 6,
     "metadata": {},
     "output_type": "execute_result"
    }
   ],
   "source": [
    "animal.Animal()"
   ]
  },
  {
   "cell_type": "markdown",
   "metadata": {},
   "source": [
    "Each animal is uniquely captured by a combination of `animal_id` and `datasource_id`. `datasource_id=0` indicates that these are animals found in MLIMS colony management system."
   ]
  },
  {
   "cell_type": "markdown",
   "metadata": {},
   "source": [
    "### Querying tables"
   ]
  },
  {
   "cell_type": "markdown",
   "metadata": {},
   "source": [
    "In DataJoint, you can probe into or **query** tables to get a specific subset of data that you may be interested in. The most common type of query is **restriction**, where you'll subselect entries based on specific criteria."
   ]
  },
  {
   "cell_type": "markdown",
   "metadata": {},
   "source": [
    "#### Question 1: Find only rats"
   ]
  },
  {
   "cell_type": "markdown",
   "metadata": {},
   "source": [
    "#### Question 2: Find only animals born after 2017"
   ]
  },
  {
   "cell_type": "markdown",
   "metadata": {},
   "source": [
    "### Getting data out of the table"
   ]
  },
  {
   "cell_type": "markdown",
   "metadata": {},
   "source": [
    "Once you form your desired query result, you can **fetch** back the data from the tables by calling `fetch` on the query result."
   ]
  },
  {
   "cell_type": "code",
   "execution_count": 7,
   "metadata": {},
   "outputs": [],
   "source": [
    "# get all information about animals born on or after 2017\n",
    "data = (animal.Animal & 'animal_dob >= \"2017-01-01\"').fetch()"
   ]
  },
  {
   "cell_type": "code",
   "execution_count": 8,
   "metadata": {},
   "outputs": [
    {
     "data": {
      "text/plain": [
       "array([('0000da5d6810d149', 0, 'mouse', '85106', 'F', datetime.date(2018, 10, 7), 'None'),\n",
       "       ('0003a07550faa59b', 0, 'mouse', '78224', 'F', datetime.date(2017, 11, 30), 'None'),\n",
       "       ('0005baadae264d7b', 0, 'rat', '24790', 'F', datetime.date(2018, 4, 12), 'None'),\n",
       "       ...,\n",
       "       ('aaf70b0da8daf346', 0, 'mouse', '76008', 'M', datetime.date(2017, 8, 23), 'None'),\n",
       "       ('aafda9b6a7263a17', 0, 'mouse', '86528', 'M', datetime.date(2018, 12, 21), 'None'),\n",
       "       ('aafebb46548b68ea', 0, 'mouse', '81878', 'M', datetime.date(2018, 4, 20), 'None')],\n",
       "      dtype=[('animal_id', 'O'), ('datasource_id', '<i8'), ('animal_species', 'O'), ('animal_name', 'O'), ('animal_sex', 'O'), ('animal_dob', 'O'), ('color', 'O')])"
      ]
     },
     "execution_count": 8,
     "metadata": {},
     "output_type": "execute_result"
    }
   ],
   "source": [
    "data"
   ]
  },
  {
   "cell_type": "markdown",
   "metadata": {},
   "source": [
    "You can also fetch just the specific columns by specifying the column names when calling `fetch`"
   ]
  },
  {
   "cell_type": "code",
   "execution_count": 9,
   "metadata": {},
   "outputs": [],
   "source": [
    "names, dobs = (animal.Animal & 'animal_dob >= \"2017-01-01\"').fetch('animal_name', 'animal_dob')"
   ]
  },
  {
   "cell_type": "code",
   "execution_count": 10,
   "metadata": {},
   "outputs": [
    {
     "data": {
      "text/plain": [
       "array(['85106', '78224', '24790', ..., '76008', '86528', '81878'],\n",
       "      dtype=object)"
      ]
     },
     "execution_count": 10,
     "metadata": {},
     "output_type": "execute_result"
    }
   ],
   "source": [
    "names"
   ]
  },
  {
   "cell_type": "code",
   "execution_count": 11,
   "metadata": {},
   "outputs": [
    {
     "data": {
      "text/plain": [
       "array([datetime.date(2018, 10, 7), datetime.date(2017, 11, 30),\n",
       "       datetime.date(2018, 4, 12), ..., datetime.date(2017, 8, 23),\n",
       "       datetime.date(2018, 12, 21), datetime.date(2018, 4, 20)],\n",
       "      dtype=object)"
      ]
     },
     "execution_count": 11,
     "metadata": {},
     "output_type": "execute_result"
    }
   ],
   "source": [
    "dobs"
   ]
  },
  {
   "cell_type": "markdown",
   "metadata": {},
   "source": [
    "### Getting list of unique animals"
   ]
  },
  {
   "cell_type": "markdown",
   "metadata": {},
   "source": [
    "You can just get the identifying information of the table by grabbing (or **fetching**) the `KEY` of the table, and then using this to **restrict** the entries."
   ]
  },
  {
   "cell_type": "code",
   "execution_count": 12,
   "metadata": {},
   "outputs": [],
   "source": [
    "keys = (animal.Animal & 'animal_dob >= \"2017-01-01\"').fetch('KEY')"
   ]
  },
  {
   "cell_type": "code",
   "execution_count": 13,
   "metadata": {},
   "outputs": [
    {
     "data": {
      "text/plain": [
       "[{'animal_id': '0000da5d6810d149', 'datasource_id': 0},\n",
       " {'animal_id': '0003a07550faa59b', 'datasource_id': 0},\n",
       " {'animal_id': '0005baadae264d7b', 'datasource_id': 0},\n",
       " {'animal_id': '0006d0993fd101e8', 'datasource_id': 0},\n",
       " {'animal_id': '00080a60ab6366cd', 'datasource_id': 0}]"
      ]
     },
     "execution_count": 13,
     "metadata": {},
     "output_type": "execute_result"
    }
   ],
   "source": [
    "keys[:5]  # first five keys"
   ]
  },
  {
   "cell_type": "markdown",
   "metadata": {},
   "source": [
    "Get specific animal back"
   ]
  },
  {
   "cell_type": "code",
   "execution_count": 14,
   "metadata": {},
   "outputs": [
    {
     "data": {
      "text/html": [
       "\n",
       "        \n",
       "        <style type=\"text/css\">\n",
       "            .Relation{\n",
       "                border-collapse:collapse;\n",
       "            }\n",
       "            .Relation th{\n",
       "                background: #A0A0A0; color: #ffffff; padding:4px; border:#f0e0e0 1px solid;\n",
       "                font-weight: normal; font-family: monospace; font-size: 100%;\n",
       "            }\n",
       "            .Relation td{\n",
       "                padding:4px; border:#f0e0e0 1px solid; font-size:100%;\n",
       "            }\n",
       "            .Relation tr:nth-child(odd){\n",
       "                background: #ffffff;\n",
       "            }\n",
       "            .Relation tr:nth-child(even){\n",
       "                background: #f3f1ff;\n",
       "            }\n",
       "            /* Tooltip container */\n",
       "            .djtooltip {\n",
       "            }\n",
       "            /* Tooltip text */\n",
       "            .djtooltip .djtooltiptext {\n",
       "                visibility: hidden;\n",
       "                width: 120px;\n",
       "                background-color: black;\n",
       "                color: #fff;\n",
       "                text-align: center;\n",
       "                padding: 5px 0;\n",
       "                border-radius: 6px;\n",
       "                /* Position the tooltip text - see examples below! */\n",
       "                position: absolute;\n",
       "                z-index: 1;\n",
       "            }\n",
       "            #primary {\n",
       "                font-weight: bold;\n",
       "                color: black;\n",
       "            }\n",
       "\n",
       "            #nonprimary {\n",
       "                font-weight: normal;\n",
       "                color: white;\n",
       "            }\n",
       "\n",
       "            /* Show the tooltip text when you mouse over the tooltip container */\n",
       "            .djtooltip:hover .djtooltiptext {\n",
       "                visibility: visible;\n",
       "            }\n",
       "        </style>\n",
       "        \n",
       "        <b></b>\n",
       "            <div style=\"max-height:1000px;max-width:1500px;overflow:auto;\">\n",
       "            <table border=\"1\" class=\"Relation\">\n",
       "                <thead> <tr style=\"text-align: right;\"> <th> <div class=\"djtooltip\">\n",
       "                                <p id=\"primary\">animal_id</p>\n",
       "                                <span class=\"djtooltiptext\"></span>\n",
       "                            </div></th><th><div class=\"djtooltip\">\n",
       "                                <p id=\"primary\">datasource_id</p>\n",
       "                                <span class=\"djtooltiptext\"></span>\n",
       "                            </div></th><th><div class=\"djtooltip\">\n",
       "                                <p id=\"nonprimary\">animal_species</p>\n",
       "                                <span class=\"djtooltiptext\"></span>\n",
       "                            </div></th><th><div class=\"djtooltip\">\n",
       "                                <p id=\"nonprimary\">animal_name</p>\n",
       "                                <span class=\"djtooltiptext\"></span>\n",
       "                            </div></th><th><div class=\"djtooltip\">\n",
       "                                <p id=\"nonprimary\">animal_sex</p>\n",
       "                                <span class=\"djtooltiptext\"></span>\n",
       "                            </div></th><th><div class=\"djtooltip\">\n",
       "                                <p id=\"nonprimary\">animal_dob</p>\n",
       "                                <span class=\"djtooltiptext\"></span>\n",
       "                            </div></th><th><div class=\"djtooltip\">\n",
       "                                <p id=\"nonprimary\">color</p>\n",
       "                                <span class=\"djtooltiptext\"></span>\n",
       "                            </div> </th> </tr> </thead>\n",
       "                <tbody> <tr> <td>0000da5d6810d149</td>\n",
       "<td>0</td>\n",
       "<td>mouse</td>\n",
       "<td>85106</td>\n",
       "<td>F</td>\n",
       "<td>2018-10-07</td>\n",
       "<td>None</td> </tr> </tbody>\n",
       "            </table>\n",
       "            \n",
       "            <p>Total: 1</p></div>\n",
       "            "
      ],
      "text/plain": [
       "*animal_id     *datasource_id animal_species animal_name    animal_sex     animal_dob     color    \n",
       "+------------+ +------------+ +------------+ +------------+ +------------+ +------------+ +-------+\n",
       "0000da5d6810d1 0              mouse          85106          F              2018-10-07     None     \n",
       " (Total: 1)"
      ]
     },
     "execution_count": 14,
     "metadata": {},
     "output_type": "execute_result"
    }
   ],
   "source": [
    "# get the first animal back\n",
    "animal.Animal & keys[0]"
   ]
  },
  {
   "cell_type": "markdown",
   "metadata": {},
   "source": [
    "## Electrophysiology Session"
   ]
  },
  {
   "cell_type": "markdown",
   "metadata": {},
   "source": [
    "In order to understand how the entire `ephys` pipeline is organized, it is essential to first understand what we mean by \"a session\".\n",
    "\n",
    "The following figure illustrates the structure of an electrophysiology experiment session."
   ]
  },
  {
   "cell_type": "markdown",
   "metadata": {},
   "source": [
    "<img src=\"../images/Ephys_Session_Structure.png\" alt=\"drawing\" width=\"700\"/>"
   ]
  },
  {
   "cell_type": "markdown",
   "metadata": {},
   "source": [
    "A single experimental **session** consists of one or more of the following:\n",
    "* tracking data stream (recording from animal tracker) -- referred to as **tracking** data\n",
    "* electrophsyiology data stream (recording from a single probe) -- referred to as **recording** data"
   ]
  },
  {
   "cell_type": "markdown",
   "metadata": {},
   "source": [
    "Within a single **session**, you can get any number of the above, with possibility of having multiple probe recordings occuring simultaneously (e.g. when recording from two or more probes at the same time).\n",
    "\n",
    "While the experimenter is free to split any number of recordings/trackings into a desired number of sessions, an **experimental session** is typically considered to be a single coherent collection of recordings, and is also typically the basic unit for the downstream analysis."
   ]
  },
  {
   "cell_type": "markdown",
   "metadata": {},
   "source": [
    "Additionally, a single **session** may be assocciated with one or more **tasks**, usually labeling the particular behavioral task or environment that the animal is exposed to."
   ]
  },
  {
   "cell_type": "markdown",
   "metadata": {},
   "source": [
    "To represent the above complexity, we make use of multiple related tables, starting with `Session`, representing a single experimental session in the pipeline. "
   ]
  },
  {
   "cell_type": "markdown",
   "metadata": {},
   "source": [
    "An experimental `Session` can be uniquely identified by knowing the **animal** and **the exact date time** of the experiment session. This is reflected in the definition of the `Session` table."
   ]
  },
  {
   "cell_type": "code",
   "execution_count": 15,
   "metadata": {},
   "outputs": [
    {
     "data": {
      "text/html": [
       "\n",
       "        \n",
       "        <style type=\"text/css\">\n",
       "            .Relation{\n",
       "                border-collapse:collapse;\n",
       "            }\n",
       "            .Relation th{\n",
       "                background: #A0A0A0; color: #ffffff; padding:4px; border:#f0e0e0 1px solid;\n",
       "                font-weight: normal; font-family: monospace; font-size: 100%;\n",
       "            }\n",
       "            .Relation td{\n",
       "                padding:4px; border:#f0e0e0 1px solid; font-size:100%;\n",
       "            }\n",
       "            .Relation tr:nth-child(odd){\n",
       "                background: #ffffff;\n",
       "            }\n",
       "            .Relation tr:nth-child(even){\n",
       "                background: #f3f1ff;\n",
       "            }\n",
       "            /* Tooltip container */\n",
       "            .djtooltip {\n",
       "            }\n",
       "            /* Tooltip text */\n",
       "            .djtooltip .djtooltiptext {\n",
       "                visibility: hidden;\n",
       "                width: 120px;\n",
       "                background-color: black;\n",
       "                color: #fff;\n",
       "                text-align: center;\n",
       "                padding: 5px 0;\n",
       "                border-radius: 6px;\n",
       "                /* Position the tooltip text - see examples below! */\n",
       "                position: absolute;\n",
       "                z-index: 1;\n",
       "            }\n",
       "            #primary {\n",
       "                font-weight: bold;\n",
       "                color: black;\n",
       "            }\n",
       "\n",
       "            #nonprimary {\n",
       "                font-weight: normal;\n",
       "                color: white;\n",
       "            }\n",
       "\n",
       "            /* Show the tooltip text when you mouse over the tooltip container */\n",
       "            .djtooltip:hover .djtooltiptext {\n",
       "                visibility: visible;\n",
       "            }\n",
       "        </style>\n",
       "        \n",
       "        <b></b>\n",
       "            <div style=\"max-height:1000px;max-width:1500px;overflow:auto;\">\n",
       "            <table border=\"1\" class=\"Relation\">\n",
       "                <thead> <tr style=\"text-align: right;\"> <th> <div class=\"djtooltip\">\n",
       "                                <p id=\"primary\">animal_id</p>\n",
       "                                <span class=\"djtooltiptext\"></span>\n",
       "                            </div></th><th><div class=\"djtooltip\">\n",
       "                                <p id=\"primary\">datasource_id</p>\n",
       "                                <span class=\"djtooltiptext\"></span>\n",
       "                            </div></th><th><div class=\"djtooltip\">\n",
       "                                <p id=\"primary\">session_time</p>\n",
       "                                <span class=\"djtooltiptext\">start time of this session</span>\n",
       "                            </div></th><th><div class=\"djtooltip\">\n",
       "                                <p id=\"nonprimary\">session_note</p>\n",
       "                                <span class=\"djtooltiptext\"></span>\n",
       "                            </div> </th> </tr> </thead>\n",
       "                <tbody> <tr> <td>00342c6d86e97d43</td>\n",
       "<td>0</td>\n",
       "<td>2019-07-04 20:35:12</td>\n",
       "<td>=BLOB=</td></tr><tr><td>40bfa03a7a7018cc</td>\n",
       "<td>0</td>\n",
       "<td>2019-09-17 19:43:06</td>\n",
       "<td>=BLOB=</td></tr><tr><td>61fd2ac184c13c73</td>\n",
       "<td>0</td>\n",
       "<td>2017-10-02 15:54:25</td>\n",
       "<td>=BLOB=</td></tr><tr><td>61fd2ac184c13c73</td>\n",
       "<td>0</td>\n",
       "<td>2017-10-09 16:07:29</td>\n",
       "<td>=BLOB=</td></tr><tr><td>61fd2ac184c13c73</td>\n",
       "<td>0</td>\n",
       "<td>2017-10-13 10:32:43</td>\n",
       "<td>=BLOB=</td></tr><tr><td>61fd2ac184c13c73</td>\n",
       "<td>0</td>\n",
       "<td>2017-11-02 15:08:37</td>\n",
       "<td>=BLOB=</td></tr><tr><td>61fd2ac184c13c73</td>\n",
       "<td>0</td>\n",
       "<td>2017-11-17 15:17:29</td>\n",
       "<td>=BLOB=</td></tr><tr><td>61fd2ac184c13c73</td>\n",
       "<td>0</td>\n",
       "<td>2017-11-18 15:53:07</td>\n",
       "<td>=BLOB=</td></tr><tr><td>61fd2ac184c13c73</td>\n",
       "<td>0</td>\n",
       "<td>2017-12-04 11:50:49</td>\n",
       "<td>=BLOB=</td></tr><tr><td>61fd2ac184c13c73</td>\n",
       "<td>0</td>\n",
       "<td>2017-12-08 16:54:35</td>\n",
       "<td>=BLOB=</td> </tr> </tbody>\n",
       "            </table>\n",
       "            <p>...</p>\n",
       "            <p>Total: 49</p></div>\n",
       "            "
      ],
      "text/plain": [
       "*animal_id     *datasource_id *session_time  session_no\n",
       "+------------+ +------------+ +------------+ +--------+\n",
       "00342c6d86e97d 0              2019-07-04 20: =BLOB=    \n",
       "40bfa03a7a7018 0              2019-09-17 19: =BLOB=    \n",
       "61fd2ac184c13c 0              2017-10-02 15: =BLOB=    \n",
       "61fd2ac184c13c 0              2017-10-09 16: =BLOB=    \n",
       "61fd2ac184c13c 0              2017-10-13 10: =BLOB=    \n",
       "61fd2ac184c13c 0              2017-11-02 15: =BLOB=    \n",
       "61fd2ac184c13c 0              2017-11-17 15: =BLOB=    \n",
       "61fd2ac184c13c 0              2017-11-18 15: =BLOB=    \n",
       "61fd2ac184c13c 0              2017-12-04 11: =BLOB=    \n",
       "61fd2ac184c13c 0              2017-12-08 16: =BLOB=    \n",
       "   ...\n",
       " (Total: 49)"
      ]
     },
     "execution_count": 15,
     "metadata": {},
     "output_type": "execute_result"
    }
   ],
   "source": [
    "acquisition.Session()"
   ]
  },
  {
   "cell_type": "markdown",
   "metadata": {},
   "source": [
    "Looking at the *definition* of the table, we see that `Session` table **refers to `Animal` table** to indicate that each `Sessions` depends on an `Animal`. In other words, you cannot possibly have an experiment session without a corresponding animal."
   ]
  },
  {
   "cell_type": "code",
   "execution_count": 16,
   "metadata": {},
   "outputs": [
    {
     "name": "stdout",
     "output_type": "stream",
     "text": [
      "-> animal.Animal\n",
      "session_time         : datetime                     # start time of this session\n",
      "---\n",
      "session_note=null    : longblob                     \n",
      "\n"
     ]
    }
   ],
   "source": [
    "acquisition.Session.describe();"
   ]
  },
  {
   "cell_type": "markdown",
   "metadata": {},
   "source": [
    "This relationship is captured by the following table **diagram**"
   ]
  },
  {
   "cell_type": "markdown",
   "metadata": {},
   "source": [
    "<img src=\"../images/ephys_pipeline/animal_session.png\" alt=\"drawing\" width=\"300\"/>"
   ]
  },
  {
   "cell_type": "markdown",
   "metadata": {},
   "source": [
    "The power of DataJoint query shines when you start combining multiple tables in your query to ask more complex questions!"
   ]
  },
  {
   "cell_type": "markdown",
   "metadata": {},
   "source": [
    "#### Question 3: Find all animals with one or more experimental session"
   ]
  },
  {
   "cell_type": "markdown",
   "metadata": {},
   "source": [
    "#### Question 4: Find all animals with sessions run on or after 2018."
   ]
  },
  {
   "cell_type": "markdown",
   "metadata": {},
   "source": [
    "## Recording and Tracking"
   ]
  },
  {
   "cell_type": "markdown",
   "metadata": {},
   "source": [
    "As was mentioned above, we expect to find one or more electrode probe recordings and/or tracking data stream. These information are represented by `Recording` and `Tracking` tables, respectively."
   ]
  },
  {
   "cell_type": "markdown",
   "metadata": {},
   "source": [
    "<img src=\"../images/ephys_pipeline/session_simple.png\" alt=\"drawing\" width=\"600\"/>"
   ]
  },
  {
   "cell_type": "markdown",
   "metadata": {},
   "source": [
    "The extended diagram now captures the relationship between `Session` and the two new tables `Recording` and `Tracking`. However, notice that `Recording` also *depends* on another table -- `ProbeInsertion`."
   ]
  },
  {
   "cell_type": "markdown",
   "metadata": {},
   "source": [
    "## Understanding recording - working with probes"
   ]
  },
  {
   "cell_type": "code",
   "execution_count": 17,
   "metadata": {},
   "outputs": [
    {
     "name": "stdout",
     "output_type": "stream",
     "text": [
      "-> acquisition.Session\n",
      "-> acquisition.ProbeInsertion\n",
      "recording_time       : datetime                     # start time of this recording\n",
      "---\n",
      "-> reference.RecordingSystem\n",
      "-> reference.ElectrodeConfig\n",
      "recording_order      : smallint                     # the ordering of this recording in this session\n",
      "recording_duration   : float                        # (s) duration of this recording\n",
      "recording_name=\"\"    : varchar(40)                  # name of this recording (e.g. 27032019laserSess1)\n",
      "\n"
     ]
    }
   ],
   "source": [
    "acquisition.Recording.describe();"
   ]
  },
  {
   "cell_type": "markdown",
   "metadata": {},
   "source": [
    "Looking at the definition of `Recording` table, we can see that it depends on two parent tables -- `acquisition.Session` and `acquisition.ProbeInsertion`. Dependency on `acquisition.Session` ensures that each recording must be associated with exactly one `Session` entry. What is the dependency on `ProbeInsertion` about? \n",
    "\n",
    "If you guessed that this captures exactly which electrode probe that the recording was performed on, then you guessed right! `ProbeInsertion` table actually represents the final table in a chain of tables capturing precise information about the probe that was inserted into the animal."
   ]
  },
  {
   "cell_type": "markdown",
   "metadata": {},
   "source": [
    "<img src=\"../images/ephys_pipeline/probe_insert.png\" alt=\"drawing\" width=\"450\"/>"
   ]
  },
  {
   "cell_type": "code",
   "execution_count": 18,
   "metadata": {},
   "outputs": [
    {
     "name": "stdout",
     "output_type": "stream",
     "text": [
      "-> animal.Animal\n",
      "insertion_time       : datetime                     # When this probe was inserted\n",
      "---\n",
      "-> reference.Probe\n",
      "insertion_note=\"\"    : varchar(1000)                # some notes\n",
      "\n"
     ]
    }
   ],
   "source": [
    "acquisition.ProbeInsertion.describe();"
   ]
  },
  {
   "cell_type": "markdown",
   "metadata": {},
   "source": [
    "Conceptually, an entry in `ProbeInsertion` table represents a particular event of probe insertion into the animal, and this is uniquely identified by knowing on **which animal** and **when** the insertion was performed. You can also see that `ProbeInsertion` *refers* to `Probe` table, thereby indicating what `Probe` was actually inserted."
   ]
  },
  {
   "cell_type": "code",
   "execution_count": 19,
   "metadata": {},
   "outputs": [
    {
     "data": {
      "text/html": [
       "\n",
       "        \n",
       "        <style type=\"text/css\">\n",
       "            .Relation{\n",
       "                border-collapse:collapse;\n",
       "            }\n",
       "            .Relation th{\n",
       "                background: #A0A0A0; color: #ffffff; padding:4px; border:#f0e0e0 1px solid;\n",
       "                font-weight: normal; font-family: monospace; font-size: 100%;\n",
       "            }\n",
       "            .Relation td{\n",
       "                padding:4px; border:#f0e0e0 1px solid; font-size:100%;\n",
       "            }\n",
       "            .Relation tr:nth-child(odd){\n",
       "                background: #ffffff;\n",
       "            }\n",
       "            .Relation tr:nth-child(even){\n",
       "                background: #f3f1ff;\n",
       "            }\n",
       "            /* Tooltip container */\n",
       "            .djtooltip {\n",
       "            }\n",
       "            /* Tooltip text */\n",
       "            .djtooltip .djtooltiptext {\n",
       "                visibility: hidden;\n",
       "                width: 120px;\n",
       "                background-color: black;\n",
       "                color: #fff;\n",
       "                text-align: center;\n",
       "                padding: 5px 0;\n",
       "                border-radius: 6px;\n",
       "                /* Position the tooltip text - see examples below! */\n",
       "                position: absolute;\n",
       "                z-index: 1;\n",
       "            }\n",
       "            #primary {\n",
       "                font-weight: bold;\n",
       "                color: black;\n",
       "            }\n",
       "\n",
       "            #nonprimary {\n",
       "                font-weight: normal;\n",
       "                color: white;\n",
       "            }\n",
       "\n",
       "            /* Show the tooltip text when you mouse over the tooltip container */\n",
       "            .djtooltip:hover .djtooltiptext {\n",
       "                visibility: visible;\n",
       "            }\n",
       "        </style>\n",
       "        \n",
       "        <b>represent a physical probe</b>\n",
       "            <div style=\"max-height:1000px;max-width:1500px;overflow:auto;\">\n",
       "            <table border=\"1\" class=\"Relation\">\n",
       "                <thead> <tr style=\"text-align: right;\"> <th> <div class=\"djtooltip\">\n",
       "                                <p id=\"primary\">probe</p>\n",
       "                                <span class=\"djtooltiptext\">unique identifier of this probe (e.g. serial number)</span>\n",
       "                            </div></th><th><div class=\"djtooltip\">\n",
       "                                <p id=\"nonprimary\">probe_model</p>\n",
       "                                <span class=\"djtooltiptext\">nick name, or other user-friendly model name of this probe</span>\n",
       "                            </div> </th> </tr> </thead>\n",
       "                <tbody> <tr> <td>microdrive_86866</td>\n",
       "<td>4-tetrode-array</td></tr><tr><td>tetrode_74472</td>\n",
       "<td>4-tetrode-array</td></tr><tr><td>tetrode_74956</td>\n",
       "<td>4-tetrode-array</td></tr><tr><td>tetrode_88068_1</td>\n",
       "<td>4-tetrode-array</td></tr><tr><td>tetrode_88068_2</td>\n",
       "<td>4-tetrode-array</td></tr><tr><td>microdrive_24321_1</td>\n",
       "<td>8-tetrode-array</td></tr><tr><td>microdrive_24321_2</td>\n",
       "<td>8-tetrode-array</td></tr><tr><td>tetrode_32c</td>\n",
       "<td>8-tetrode-array</td></tr><tr><td>Neuropixel_1</td>\n",
       "<td>neuropixels_1.0</td></tr><tr><td>Neuropixel_2</td>\n",
       "<td>neuropixels_1.0</td> </tr> </tbody>\n",
       "            </table>\n",
       "            <p>...</p>\n",
       "            <p>Total: 11</p></div>\n",
       "            "
      ],
      "text/plain": [
       "*probe         probe_model   \n",
       "+------------+ +------------+\n",
       "microdrive_868 4-tetrode-arra\n",
       "tetrode_74472  4-tetrode-arra\n",
       "tetrode_74956  4-tetrode-arra\n",
       "tetrode_88068_ 4-tetrode-arra\n",
       "tetrode_88068_ 4-tetrode-arra\n",
       "microdrive_243 8-tetrode-arra\n",
       "microdrive_243 8-tetrode-arra\n",
       "tetrode_32c    8-tetrode-arra\n",
       "Neuropixel_1   neuropixels_1.\n",
       "Neuropixel_2   neuropixels_1.\n",
       "   ...\n",
       " (Total: 11)"
      ]
     },
     "execution_count": 19,
     "metadata": {},
     "output_type": "execute_result"
    }
   ],
   "source": [
    "reference.Probe()"
   ]
  },
  {
   "cell_type": "code",
   "execution_count": 20,
   "metadata": {},
   "outputs": [
    {
     "name": "stdout",
     "output_type": "stream",
     "text": [
      "# represent a physical probe\n",
      "probe                : varchar(32)                  # unique identifier of this probe (e.g. serial number)\n",
      "---\n",
      "-> reference.ProbeModel\n",
      "\n"
     ]
    }
   ],
   "source": [
    "reference.Probe.describe();"
   ]
  },
  {
   "cell_type": "markdown",
   "metadata": {},
   "source": [
    "An entry in `Probe` table refers to a specific *physical instance* of a probe, with some string of characters used to uniquely identify the probe (e.g. name or serial number of the probe). Again, `Probe` *refers* to `ProbeModel` table, that now captures the **model** of the probe, such as neuropixel probe version 1.0 or 4 probe tetrode array."
   ]
  },
  {
   "cell_type": "code",
   "execution_count": 21,
   "metadata": {},
   "outputs": [
    {
     "data": {
      "text/html": [
       "\n",
       "        \n",
       "        <style type=\"text/css\">\n",
       "            .Relation{\n",
       "                border-collapse:collapse;\n",
       "            }\n",
       "            .Relation th{\n",
       "                background: #A0A0A0; color: #ffffff; padding:4px; border:#f0e0e0 1px solid;\n",
       "                font-weight: normal; font-family: monospace; font-size: 100%;\n",
       "            }\n",
       "            .Relation td{\n",
       "                padding:4px; border:#f0e0e0 1px solid; font-size:100%;\n",
       "            }\n",
       "            .Relation tr:nth-child(odd){\n",
       "                background: #ffffff;\n",
       "            }\n",
       "            .Relation tr:nth-child(even){\n",
       "                background: #f3f1ff;\n",
       "            }\n",
       "            /* Tooltip container */\n",
       "            .djtooltip {\n",
       "            }\n",
       "            /* Tooltip text */\n",
       "            .djtooltip .djtooltiptext {\n",
       "                visibility: hidden;\n",
       "                width: 120px;\n",
       "                background-color: black;\n",
       "                color: #fff;\n",
       "                text-align: center;\n",
       "                padding: 5px 0;\n",
       "                border-radius: 6px;\n",
       "                /* Position the tooltip text - see examples below! */\n",
       "                position: absolute;\n",
       "                z-index: 1;\n",
       "            }\n",
       "            #primary {\n",
       "                font-weight: bold;\n",
       "                color: black;\n",
       "            }\n",
       "\n",
       "            #nonprimary {\n",
       "                font-weight: normal;\n",
       "                color: white;\n",
       "            }\n",
       "\n",
       "            /* Show the tooltip text when you mouse over the tooltip container */\n",
       "            .djtooltip:hover .djtooltiptext {\n",
       "                visibility: visible;\n",
       "            }\n",
       "        </style>\n",
       "        \n",
       "        <b>represent a probe model</b>\n",
       "            <div style=\"max-height:1000px;max-width:1500px;overflow:auto;\">\n",
       "            <table border=\"1\" class=\"Relation\">\n",
       "                <thead> <tr style=\"text-align: right;\"> <th> <div class=\"djtooltip\">\n",
       "                                <p id=\"primary\">probe_model</p>\n",
       "                                <span class=\"djtooltiptext\">nick name, or other user-friendly model name of this probe</span>\n",
       "                            </div></th><th><div class=\"djtooltip\">\n",
       "                                <p id=\"nonprimary\">probe_type</p>\n",
       "                                <span class=\"djtooltiptext\"></span>\n",
       "                            </div> </th> </tr> </thead>\n",
       "                <tbody> <tr> <td>neuropixels_1.0</td>\n",
       "<td>neuropixels</td></tr><tr><td>4-tetrode-array</td>\n",
       "<td>tetrode_array</td></tr><tr><td>8-tetrode-array</td>\n",
       "<td>tetrode_array</td> </tr> </tbody>\n",
       "            </table>\n",
       "            \n",
       "            <p>Total: 3</p></div>\n",
       "            "
      ],
      "text/plain": [
       "*probe_model   probe_type    \n",
       "+------------+ +------------+\n",
       "neuropixels_1. neuropixels   \n",
       "4-tetrode-arra tetrode_array \n",
       "8-tetrode-arra tetrode_array \n",
       " (Total: 3)"
      ]
     },
     "execution_count": 21,
     "metadata": {},
     "output_type": "execute_result"
    }
   ],
   "source": [
    "reference.ProbeModel()"
   ]
  },
  {
   "cell_type": "code",
   "execution_count": 22,
   "metadata": {},
   "outputs": [
    {
     "name": "stdout",
     "output_type": "stream",
     "text": [
      "# represent a probe model\n",
      "probe_model          : varchar(32)                  # nick name, or other user-friendly model name of this probe\n",
      "---\n",
      "-> reference.ProbeType\n",
      "\n"
     ]
    }
   ],
   "source": [
    "reference.ProbeModel.describe();"
   ]
  },
  {
   "cell_type": "markdown",
   "metadata": {},
   "source": [
    "Finally, each `ProbeModel` *refers* to the type of probe, which is a more general grouping of probe classifiation, such as neuropixels or tetrode array."
   ]
  },
  {
   "cell_type": "code",
   "execution_count": 23,
   "metadata": {},
   "outputs": [
    {
     "data": {
      "text/html": [
       "\n",
       "        \n",
       "        <style type=\"text/css\">\n",
       "            .Relation{\n",
       "                border-collapse:collapse;\n",
       "            }\n",
       "            .Relation th{\n",
       "                background: #A0A0A0; color: #ffffff; padding:4px; border:#f0e0e0 1px solid;\n",
       "                font-weight: normal; font-family: monospace; font-size: 100%;\n",
       "            }\n",
       "            .Relation td{\n",
       "                padding:4px; border:#f0e0e0 1px solid; font-size:100%;\n",
       "            }\n",
       "            .Relation tr:nth-child(odd){\n",
       "                background: #ffffff;\n",
       "            }\n",
       "            .Relation tr:nth-child(even){\n",
       "                background: #f3f1ff;\n",
       "            }\n",
       "            /* Tooltip container */\n",
       "            .djtooltip {\n",
       "            }\n",
       "            /* Tooltip text */\n",
       "            .djtooltip .djtooltiptext {\n",
       "                visibility: hidden;\n",
       "                width: 120px;\n",
       "                background-color: black;\n",
       "                color: #fff;\n",
       "                text-align: center;\n",
       "                padding: 5px 0;\n",
       "                border-radius: 6px;\n",
       "                /* Position the tooltip text - see examples below! */\n",
       "                position: absolute;\n",
       "                z-index: 1;\n",
       "            }\n",
       "            #primary {\n",
       "                font-weight: bold;\n",
       "                color: black;\n",
       "            }\n",
       "\n",
       "            #nonprimary {\n",
       "                font-weight: normal;\n",
       "                color: white;\n",
       "            }\n",
       "\n",
       "            /* Show the tooltip text when you mouse over the tooltip container */\n",
       "            .djtooltip:hover .djtooltiptext {\n",
       "                visibility: visible;\n",
       "            }\n",
       "        </style>\n",
       "        \n",
       "        \n",
       "            <div style=\"max-height:1000px;max-width:1500px;overflow:auto;\">\n",
       "            <table border=\"1\" class=\"Relation\">\n",
       "                <thead> <tr style=\"text-align: right;\"> <th> <div class=\"djtooltip\">\n",
       "                                <p id=\"primary\">probe</p>\n",
       "                                <span class=\"djtooltiptext\">unique identifier of this probe (e.g. serial number)</span>\n",
       "                            </div></th><th><div class=\"djtooltip\">\n",
       "                                <p id=\"primary\">probe_model</p>\n",
       "                                <span class=\"djtooltiptext\">nick name, or other user-friendly model name of this probe</span>\n",
       "                            </div></th><th><div class=\"djtooltip\">\n",
       "                                <p id=\"nonprimary\">probe_type</p>\n",
       "                                <span class=\"djtooltiptext\"></span>\n",
       "                            </div> </th> </tr> </thead>\n",
       "                <tbody> <tr> <td>Neuropixel_1</td>\n",
       "<td>neuropixels_1.0</td>\n",
       "<td>neuropixels</td></tr><tr><td>Neuropixel_2</td>\n",
       "<td>neuropixels_1.0</td>\n",
       "<td>neuropixels</td></tr><tr><td>neuropixel_25558</td>\n",
       "<td>neuropixels_1.0</td>\n",
       "<td>neuropixels</td></tr><tr><td>microdrive_86866</td>\n",
       "<td>4-tetrode-array</td>\n",
       "<td>tetrode_array</td></tr><tr><td>tetrode_74472</td>\n",
       "<td>4-tetrode-array</td>\n",
       "<td>tetrode_array</td></tr><tr><td>tetrode_74956</td>\n",
       "<td>4-tetrode-array</td>\n",
       "<td>tetrode_array</td></tr><tr><td>tetrode_88068_1</td>\n",
       "<td>4-tetrode-array</td>\n",
       "<td>tetrode_array</td></tr><tr><td>tetrode_88068_2</td>\n",
       "<td>4-tetrode-array</td>\n",
       "<td>tetrode_array</td></tr><tr><td>microdrive_24321_1</td>\n",
       "<td>8-tetrode-array</td>\n",
       "<td>tetrode_array</td></tr><tr><td>microdrive_24321_2</td>\n",
       "<td>8-tetrode-array</td>\n",
       "<td>tetrode_array</td> </tr> </tbody>\n",
       "            </table>\n",
       "            <p>...</p>\n",
       "            <p>Total: 11</p></div>\n",
       "            "
      ],
      "text/plain": [
       "*probe         *probe_model   probe_type    \n",
       "+------------+ +------------+ +------------+\n",
       "Neuropixel_1   neuropixels_1. neuropixels   \n",
       "Neuropixel_2   neuropixels_1. neuropixels   \n",
       "neuropixel_255 neuropixels_1. neuropixels   \n",
       "microdrive_868 4-tetrode-arra tetrode_array \n",
       "tetrode_74472  4-tetrode-arra tetrode_array \n",
       "tetrode_74956  4-tetrode-arra tetrode_array \n",
       "tetrode_88068_ 4-tetrode-arra tetrode_array \n",
       "tetrode_88068_ 4-tetrode-arra tetrode_array \n",
       "microdrive_243 8-tetrode-arra tetrode_array \n",
       "microdrive_243 8-tetrode-arra tetrode_array \n",
       "   ...\n",
       " (Total: 11)"
      ]
     },
     "execution_count": 23,
     "metadata": {},
     "output_type": "execute_result"
    }
   ],
   "source": [
    "reference.Probe * reference.ProbeModel "
   ]
  },
  {
   "cell_type": "markdown",
   "metadata": {},
   "source": [
    "<img src=\"../images/ephys_pipeline/probe_insert.png\" alt=\"drawing\" width=\"450\"/>"
   ]
  },
  {
   "cell_type": "markdown",
   "metadata": {},
   "source": [
    "Put together, `ProbeInsertion` allows experimenters to capture the information about the probe that was inserted into an animal."
   ]
  },
  {
   "cell_type": "markdown",
   "metadata": {},
   "source": [
    "#### Question 5: Find all animals with tetrode array implants"
   ]
  },
  {
   "cell_type": "markdown",
   "metadata": {},
   "source": [
    "## Recordings"
   ]
  },
  {
   "cell_type": "markdown",
   "metadata": {},
   "source": [
    "Now we understand what `ProbeInsertion` table captures, let's get back to `Recording` table."
   ]
  },
  {
   "cell_type": "markdown",
   "metadata": {},
   "source": [
    "<img src=\"../images/ephys_pipeline/session_simple.png\" alt=\"drawing\" width=\"700\"/>"
   ]
  },
  {
   "cell_type": "code",
   "execution_count": 24,
   "metadata": {},
   "outputs": [
    {
     "name": "stdout",
     "output_type": "stream",
     "text": [
      "-> acquisition.Session\n",
      "-> acquisition.ProbeInsertion\n",
      "recording_time       : datetime                     # start time of this recording\n",
      "---\n",
      "-> reference.RecordingSystem\n",
      "-> reference.ElectrodeConfig\n",
      "recording_order      : smallint                     # the ordering of this recording in this session\n",
      "recording_duration   : float                        # (s) duration of this recording\n",
      "recording_name=\"\"    : varchar(40)                  # name of this recording (e.g. 27032019laserSess1)\n",
      "\n"
     ]
    }
   ],
   "source": [
    "acquisition.Recording.describe();"
   ]
  },
  {
   "cell_type": "markdown",
   "metadata": {},
   "source": [
    "Notice that a entry in `Recording` is uniquely identified by a unique combination of a `Session`, `ProbeInsertion`, **and recording time**! It is the presence of this last primary key attribute that enables more than one recording to be present for each combination of `Sessions` and `ProbeInsertion`. In other words, within a `Session`, you can have more than one recordings from the same probe, as long as they are separated in time (`recording_time`)."
   ]
  },
  {
   "cell_type": "markdown",
   "metadata": {},
   "source": [
    "Now you may have noticed that `Recording` also *refers* to a number of other tables. This is graphically depicted by the following diagram."
   ]
  },
  {
   "cell_type": "markdown",
   "metadata": {},
   "source": [
    "<img src=\"../images/ephys_pipeline/recording.png\" alt=\"drawing\" height=\"400\"/>"
   ]
  },
  {
   "cell_type": "markdown",
   "metadata": {},
   "source": [
    "`RecordingSystem`, as the name indicates, keeps track of different recroding systems."
   ]
  },
  {
   "cell_type": "code",
   "execution_count": 25,
   "metadata": {},
   "outputs": [
    {
     "data": {
      "text/html": [
       "\n",
       "        \n",
       "        <style type=\"text/css\">\n",
       "            .Relation{\n",
       "                border-collapse:collapse;\n",
       "            }\n",
       "            .Relation th{\n",
       "                background: #A0A0A0; color: #ffffff; padding:4px; border:#f0e0e0 1px solid;\n",
       "                font-weight: normal; font-family: monospace; font-size: 100%;\n",
       "            }\n",
       "            .Relation td{\n",
       "                padding:4px; border:#f0e0e0 1px solid; font-size:100%;\n",
       "            }\n",
       "            .Relation tr:nth-child(odd){\n",
       "                background: #ffffff;\n",
       "            }\n",
       "            .Relation tr:nth-child(even){\n",
       "                background: #f3f1ff;\n",
       "            }\n",
       "            /* Tooltip container */\n",
       "            .djtooltip {\n",
       "            }\n",
       "            /* Tooltip text */\n",
       "            .djtooltip .djtooltiptext {\n",
       "                visibility: hidden;\n",
       "                width: 120px;\n",
       "                background-color: black;\n",
       "                color: #fff;\n",
       "                text-align: center;\n",
       "                padding: 5px 0;\n",
       "                border-radius: 6px;\n",
       "                /* Position the tooltip text - see examples below! */\n",
       "                position: absolute;\n",
       "                z-index: 1;\n",
       "            }\n",
       "            #primary {\n",
       "                font-weight: bold;\n",
       "                color: black;\n",
       "            }\n",
       "\n",
       "            #nonprimary {\n",
       "                font-weight: normal;\n",
       "                color: white;\n",
       "            }\n",
       "\n",
       "            /* Show the tooltip text when you mouse over the tooltip container */\n",
       "            .djtooltip:hover .djtooltiptext {\n",
       "                visibility: visible;\n",
       "            }\n",
       "        </style>\n",
       "        \n",
       "        <b></b>\n",
       "            <div style=\"max-height:1000px;max-width:1500px;overflow:auto;\">\n",
       "            <table border=\"1\" class=\"Relation\">\n",
       "                <thead> <tr style=\"text-align: right;\"> <th> <div class=\"djtooltip\">\n",
       "                                <p id=\"primary\">recording_system</p>\n",
       "                                <span class=\"djtooltiptext\"></span>\n",
       "                            </div> </th> </tr> </thead>\n",
       "                <tbody> <tr> <td>axona</td></tr><tr><td>neuralynx</td></tr><tr><td>neurologger</td></tr><tr><td>neuropixels</td> </tr> </tbody>\n",
       "            </table>\n",
       "            \n",
       "            <p>Total: 4</p></div>\n",
       "            "
      ],
      "text/plain": [
       "*recording_sys\n",
       "+------------+\n",
       "axona         \n",
       "neuralynx     \n",
       "neurologger   \n",
       "neuropixels   \n",
       " (Total: 4)"
      ]
     },
     "execution_count": 25,
     "metadata": {},
     "output_type": "execute_result"
    }
   ],
   "source": [
    "reference.RecordingSystem()"
   ]
  },
  {
   "cell_type": "markdown",
   "metadata": {},
   "source": [
    "`ElectrodeConfig` is a bit more complex, referring to the exact configurations of groupings of channels found in a probe that the recording occured for. We will revisit this table and other related tables later in this notebook."
   ]
  },
  {
   "cell_type": "markdown",
   "metadata": {},
   "source": [
    "#### Question 6: Pick a mouse and find all recordings performed on that mouse."
   ]
  },
  {
   "cell_type": "markdown",
   "metadata": {},
   "source": [
    "## Tracking data"
   ]
  },
  {
   "cell_type": "markdown",
   "metadata": {},
   "source": [
    "In contrast to the `Recording` table, `Tracking` table contains information about a particular tracking data stream found inside a session."
   ]
  },
  {
   "cell_type": "code",
   "execution_count": 26,
   "metadata": {},
   "outputs": [
    {
     "name": "stdout",
     "output_type": "stream",
     "text": [
      "-> acquisition.Session\n",
      "tracking_time        : datetime                     # start time of this tracking recording\n",
      "---\n",
      "-> tracking.TrackingType\n",
      "tracking_name        : varchar(40)                  # user-assign name of this tracking (e.g. 27032019laserSess1)\n",
      "tracking_sample_rate : float                        # (Hz)\n",
      "tracking_timestamps  : longblob                     # (s) timestamps of the frame in the tracking system clock, w.r.t the start of this tracking\n",
      "\n"
     ]
    }
   ],
   "source": [
    "tracking.Tracking().describe();"
   ]
  },
  {
   "cell_type": "code",
   "execution_count": 27,
   "metadata": {},
   "outputs": [
    {
     "data": {
      "text/html": [
       "\n",
       "        \n",
       "        <style type=\"text/css\">\n",
       "            .Relation{\n",
       "                border-collapse:collapse;\n",
       "            }\n",
       "            .Relation th{\n",
       "                background: #A0A0A0; color: #ffffff; padding:4px; border:#f0e0e0 1px solid;\n",
       "                font-weight: normal; font-family: monospace; font-size: 100%;\n",
       "            }\n",
       "            .Relation td{\n",
       "                padding:4px; border:#f0e0e0 1px solid; font-size:100%;\n",
       "            }\n",
       "            .Relation tr:nth-child(odd){\n",
       "                background: #ffffff;\n",
       "            }\n",
       "            .Relation tr:nth-child(even){\n",
       "                background: #f3f1ff;\n",
       "            }\n",
       "            /* Tooltip container */\n",
       "            .djtooltip {\n",
       "            }\n",
       "            /* Tooltip text */\n",
       "            .djtooltip .djtooltiptext {\n",
       "                visibility: hidden;\n",
       "                width: 120px;\n",
       "                background-color: black;\n",
       "                color: #fff;\n",
       "                text-align: center;\n",
       "                padding: 5px 0;\n",
       "                border-radius: 6px;\n",
       "                /* Position the tooltip text - see examples below! */\n",
       "                position: absolute;\n",
       "                z-index: 1;\n",
       "            }\n",
       "            #primary {\n",
       "                font-weight: bold;\n",
       "                color: black;\n",
       "            }\n",
       "\n",
       "            #nonprimary {\n",
       "                font-weight: normal;\n",
       "                color: white;\n",
       "            }\n",
       "\n",
       "            /* Show the tooltip text when you mouse over the tooltip container */\n",
       "            .djtooltip:hover .djtooltiptext {\n",
       "                visibility: visible;\n",
       "            }\n",
       "        </style>\n",
       "        \n",
       "        <b></b>\n",
       "            <div style=\"max-height:1000px;max-width:1500px;overflow:auto;\">\n",
       "            <table border=\"1\" class=\"Relation\">\n",
       "                <thead> <tr style=\"text-align: right;\"> <th> <div class=\"djtooltip\">\n",
       "                                <p id=\"primary\">animal_id</p>\n",
       "                                <span class=\"djtooltiptext\"></span>\n",
       "                            </div></th><th><div class=\"djtooltip\">\n",
       "                                <p id=\"primary\">datasource_id</p>\n",
       "                                <span class=\"djtooltiptext\"></span>\n",
       "                            </div></th><th><div class=\"djtooltip\">\n",
       "                                <p id=\"primary\">session_time</p>\n",
       "                                <span class=\"djtooltiptext\">start time of this session</span>\n",
       "                            </div></th><th><div class=\"djtooltip\">\n",
       "                                <p id=\"primary\">tracking_time</p>\n",
       "                                <span class=\"djtooltiptext\">start time of this tracking recording</span>\n",
       "                            </div></th><th><div class=\"djtooltip\">\n",
       "                                <p id=\"nonprimary\">tracking_type</p>\n",
       "                                <span class=\"djtooltiptext\"></span>\n",
       "                            </div></th><th><div class=\"djtooltip\">\n",
       "                                <p id=\"nonprimary\">tracking_name</p>\n",
       "                                <span class=\"djtooltiptext\">user-assign name of this tracking (e.g. 27032019laserSess1)</span>\n",
       "                            </div></th><th><div class=\"djtooltip\">\n",
       "                                <p id=\"nonprimary\">tracking_sample_rate</p>\n",
       "                                <span class=\"djtooltiptext\">(Hz)</span>\n",
       "                            </div></th><th><div class=\"djtooltip\">\n",
       "                                <p id=\"nonprimary\">tracking_timestamps</p>\n",
       "                                <span class=\"djtooltiptext\">(s) timestamps of the frame in the tracking system clock, w.r.t the start of this tracking</span>\n",
       "                            </div> </th> </tr> </thead>\n",
       "                <tbody> <tr> <td>00342c6d86e97d43</td>\n",
       "<td>0</td>\n",
       "<td>2019-07-04 20:35:12</td>\n",
       "<td>2019-07-04 20:34:48</td>\n",
       "<td>optitrack</td>\n",
       "<td>2019-07-04_20-33-01</td>\n",
       "<td>121.587</td>\n",
       "<td>=BLOB=</td></tr><tr><td>40bfa03a7a7018cc</td>\n",
       "<td>0</td>\n",
       "<td>2019-09-17 19:43:06</td>\n",
       "<td>2019-09-17 19:42:39</td>\n",
       "<td>optitrack</td>\n",
       "<td>2019-09-17_19-41-14</td>\n",
       "<td>120.0</td>\n",
       "<td>=BLOB=</td></tr><tr><td>61fd2ac184c13c73</td>\n",
       "<td>0</td>\n",
       "<td>2017-10-02 15:54:25</td>\n",
       "<td>2017-10-02 15:54:25</td>\n",
       "<td>axona</td>\n",
       "<td>02102017s1</td>\n",
       "<td>50.0</td>\n",
       "<td>=BLOB=</td></tr><tr><td>61fd2ac184c13c73</td>\n",
       "<td>0</td>\n",
       "<td>2017-10-02 15:54:25</td>\n",
       "<td>2017-10-02 16:28:38</td>\n",
       "<td>axona</td>\n",
       "<td>02102017laserSess1(1mw)</td>\n",
       "<td>50.0</td>\n",
       "<td>=BLOB=</td></tr><tr><td>61fd2ac184c13c73</td>\n",
       "<td>0</td>\n",
       "<td>2017-10-02 15:54:25</td>\n",
       "<td>2017-10-02 16:30:46</td>\n",
       "<td>axona</td>\n",
       "<td>02102017laserSess1(2mw)</td>\n",
       "<td>50.0</td>\n",
       "<td>=BLOB=</td></tr><tr><td>61fd2ac184c13c73</td>\n",
       "<td>0</td>\n",
       "<td>2017-10-02 15:54:25</td>\n",
       "<td>2017-10-02 16:32:47</td>\n",
       "<td>axona</td>\n",
       "<td>02102017laserSess1(3mw)</td>\n",
       "<td>50.0</td>\n",
       "<td>=BLOB=</td></tr><tr><td>61fd2ac184c13c73</td>\n",
       "<td>0</td>\n",
       "<td>2017-10-02 15:54:25</td>\n",
       "<td>2017-10-02 16:34:32</td>\n",
       "<td>axona</td>\n",
       "<td>02102017laserSess1(4mw)</td>\n",
       "<td>50.0</td>\n",
       "<td>=BLOB=</td></tr><tr><td>61fd2ac184c13c73</td>\n",
       "<td>0</td>\n",
       "<td>2017-10-02 15:54:25</td>\n",
       "<td>2017-10-02 16:37:12</td>\n",
       "<td>axona</td>\n",
       "<td>02102017laserSess1(7mw)</td>\n",
       "<td>50.0</td>\n",
       "<td>=BLOB=</td></tr><tr><td>61fd2ac184c13c73</td>\n",
       "<td>0</td>\n",
       "<td>2017-10-02 15:54:25</td>\n",
       "<td>2017-10-02 16:38:46</td>\n",
       "<td>axona</td>\n",
       "<td>02102017laserSess1(9mw)</td>\n",
       "<td>50.0</td>\n",
       "<td>=BLOB=</td></tr><tr><td>61fd2ac184c13c73</td>\n",
       "<td>0</td>\n",
       "<td>2017-10-02 15:54:25</td>\n",
       "<td>2017-10-02 16:42:03</td>\n",
       "<td>axona</td>\n",
       "<td>02102017laserSess1(12mw)</td>\n",
       "<td>50.0</td>\n",
       "<td>=BLOB=</td> </tr> </tbody>\n",
       "            </table>\n",
       "            <p>...</p>\n",
       "            <p>Total: 273</p></div>\n",
       "            "
      ],
      "text/plain": [
       "*animal_id     *datasource_id *session_time  *tracking_time tracking_type  tracking_name  tracking_sampl tracking_t\n",
       "+------------+ +------------+ +------------+ +------------+ +------------+ +------------+ +------------+ +--------+\n",
       "00342c6d86e97d 0              2019-07-04 20: 2019-07-04 20: optitrack      2019-07-04_20- 121.587        =BLOB=    \n",
       "40bfa03a7a7018 0              2019-09-17 19: 2019-09-17 19: optitrack      2019-09-17_19- 120.0          =BLOB=    \n",
       "61fd2ac184c13c 0              2017-10-02 15: 2017-10-02 15: axona          02102017s1     50.0           =BLOB=    \n",
       "61fd2ac184c13c 0              2017-10-02 15: 2017-10-02 16: axona          02102017laserS 50.0           =BLOB=    \n",
       "61fd2ac184c13c 0              2017-10-02 15: 2017-10-02 16: axona          02102017laserS 50.0           =BLOB=    \n",
       "61fd2ac184c13c 0              2017-10-02 15: 2017-10-02 16: axona          02102017laserS 50.0           =BLOB=    \n",
       "61fd2ac184c13c 0              2017-10-02 15: 2017-10-02 16: axona          02102017laserS 50.0           =BLOB=    \n",
       "61fd2ac184c13c 0              2017-10-02 15: 2017-10-02 16: axona          02102017laserS 50.0           =BLOB=    \n",
       "61fd2ac184c13c 0              2017-10-02 15: 2017-10-02 16: axona          02102017laserS 50.0           =BLOB=    \n",
       "61fd2ac184c13c 0              2017-10-02 15: 2017-10-02 16: axona          02102017laserS 50.0           =BLOB=    \n",
       "   ...\n",
       " (Total: 273)"
      ]
     },
     "execution_count": 27,
     "metadata": {},
     "output_type": "execute_result"
    }
   ],
   "source": [
    "tracking.Tracking()"
   ]
  },
  {
   "cell_type": "markdown",
   "metadata": {},
   "source": [
    "Again, `Tracking` *refers* to `Session` but also has it's own primary key attribute `tracking_time`, allowing for more than one tracking to be present per session, as long as they are separated in time. "
   ]
  },
  {
   "cell_type": "markdown",
   "metadata": {},
   "source": [
    "### Where is the data?"
   ]
  },
  {
   "cell_type": "markdown",
   "metadata": {},
   "source": [
    "While `Recording` and `Tracking` tables both represented data recordings, you may have noticed that we didn't see the actual data points present in the table. This is because these tables are used to describe information **about recording and tracking**, and the actual data are loaded and handled by downstream tables as we will see shortly."
   ]
  },
  {
   "cell_type": "markdown",
   "metadata": {},
   "source": [
    "## Clustering"
   ]
  },
  {
   "cell_type": "markdown",
   "metadata": {},
   "source": [
    "While a stream of electrical activities in itself can be interesting (i.e. refer to `LFP` below), we are often interested in working with individual spikes, and thus want to perform spike detection/clustering on the raw signal to extract these spikes. The ephys pipeline is built so that it can express very complex configurations of clustering."
   ]
  },
  {
   "cell_type": "markdown",
   "metadata": {},
   "source": [
    "Namely, **arbitrary time segments from one or more recordings across one or more sessions** can be combined to be the target of clustering. Let's now take a look at how that is represented in the tables."
   ]
  },
  {
   "cell_type": "markdown",
   "metadata": {},
   "source": [
    "### Specification of clustering time windows"
   ]
  },
  {
   "cell_type": "markdown",
   "metadata": {},
   "source": [
    "To allow for flexible combination of one or more sessions, `ClusterSessionGrouping` table is used."
   ]
  },
  {
   "cell_type": "markdown",
   "metadata": {},
   "source": [
    "<img src=\"../images/ephys_pipeline/cluster_group.png\" alt=\"drawing\" width=\"700\"/>"
   ]
  },
  {
   "cell_type": "code",
   "execution_count": 28,
   "metadata": {},
   "outputs": [
    {
     "name": "stdout",
     "output_type": "stream",
     "text": [
      "group_name           : varchar(36)                  \n",
      "---\n",
      "group_desc=\"\"        : varchar(128)                 \n",
      "\n"
     ]
    }
   ],
   "source": [
    "acquisition.ClusterSessionGroup.describe();"
   ]
  },
  {
   "cell_type": "markdown",
   "metadata": {},
   "source": [
    "`ClusterSessionGroup` table simply defines a group of one or more sessions, and the `ClusterSessionGroup.GroupMember` ties the member sessions to the group it belongs to."
   ]
  },
  {
   "cell_type": "markdown",
   "metadata": {},
   "source": [
    "Taking a look at an example group."
   ]
  },
  {
   "cell_type": "code",
   "execution_count": 29,
   "metadata": {},
   "outputs": [],
   "source": [
    "keys = acquisition.ClusterSessionGroup().fetch('KEY')"
   ]
  },
  {
   "cell_type": "code",
   "execution_count": 30,
   "metadata": {},
   "outputs": [
    {
     "data": {
      "text/html": [
       "\n",
       "        \n",
       "        <style type=\"text/css\">\n",
       "            .Relation{\n",
       "                border-collapse:collapse;\n",
       "            }\n",
       "            .Relation th{\n",
       "                background: #A0A0A0; color: #ffffff; padding:4px; border:#f0e0e0 1px solid;\n",
       "                font-weight: normal; font-family: monospace; font-size: 100%;\n",
       "            }\n",
       "            .Relation td{\n",
       "                padding:4px; border:#f0e0e0 1px solid; font-size:100%;\n",
       "            }\n",
       "            .Relation tr:nth-child(odd){\n",
       "                background: #ffffff;\n",
       "            }\n",
       "            .Relation tr:nth-child(even){\n",
       "                background: #f3f1ff;\n",
       "            }\n",
       "            /* Tooltip container */\n",
       "            .djtooltip {\n",
       "            }\n",
       "            /* Tooltip text */\n",
       "            .djtooltip .djtooltiptext {\n",
       "                visibility: hidden;\n",
       "                width: 120px;\n",
       "                background-color: black;\n",
       "                color: #fff;\n",
       "                text-align: center;\n",
       "                padding: 5px 0;\n",
       "                border-radius: 6px;\n",
       "                /* Position the tooltip text - see examples below! */\n",
       "                position: absolute;\n",
       "                z-index: 1;\n",
       "            }\n",
       "            #primary {\n",
       "                font-weight: bold;\n",
       "                color: black;\n",
       "            }\n",
       "\n",
       "            #nonprimary {\n",
       "                font-weight: normal;\n",
       "                color: white;\n",
       "            }\n",
       "\n",
       "            /* Show the tooltip text when you mouse over the tooltip container */\n",
       "            .djtooltip:hover .djtooltiptext {\n",
       "                visibility: visible;\n",
       "            }\n",
       "        </style>\n",
       "        \n",
       "        <b></b>\n",
       "            <div style=\"max-height:1000px;max-width:1500px;overflow:auto;\">\n",
       "            <table border=\"1\" class=\"Relation\">\n",
       "                <thead> <tr style=\"text-align: right;\"> <th> <div class=\"djtooltip\">\n",
       "                                <p id=\"primary\">group_name</p>\n",
       "                                <span class=\"djtooltiptext\"></span>\n",
       "                            </div></th><th><div class=\"djtooltip\">\n",
       "                                <p id=\"nonprimary\">group_desc</p>\n",
       "                                <span class=\"djtooltiptext\"></span>\n",
       "                            </div> </th> </tr> </thead>\n",
       "                <tbody> <tr> <td>det_0033b4a248738944d352d904dd830875</td>\n",
       "<td>Default session grouping for animal 61fd2ac184c13c73 on 57152018 10:57:26</td> </tr> </tbody>\n",
       "            </table>\n",
       "            \n",
       "            <p>Total: 1</p></div>\n",
       "            "
      ],
      "text/plain": [
       "*group_name    group_desc    \n",
       "+------------+ +------------+\n",
       "det_0033b4a248 Default sessio\n",
       " (Total: 1)"
      ]
     },
     "execution_count": 30,
     "metadata": {},
     "output_type": "execute_result"
    }
   ],
   "source": [
    "acquisition.ClusterSessionGroup() & keys[0]"
   ]
  },
  {
   "cell_type": "markdown",
   "metadata": {},
   "source": [
    "and members for this session group"
   ]
  },
  {
   "cell_type": "code",
   "execution_count": 31,
   "metadata": {},
   "outputs": [
    {
     "data": {
      "text/html": [
       "\n",
       "        \n",
       "        <style type=\"text/css\">\n",
       "            .Relation{\n",
       "                border-collapse:collapse;\n",
       "            }\n",
       "            .Relation th{\n",
       "                background: #A0A0A0; color: #ffffff; padding:4px; border:#f0e0e0 1px solid;\n",
       "                font-weight: normal; font-family: monospace; font-size: 100%;\n",
       "            }\n",
       "            .Relation td{\n",
       "                padding:4px; border:#f0e0e0 1px solid; font-size:100%;\n",
       "            }\n",
       "            .Relation tr:nth-child(odd){\n",
       "                background: #ffffff;\n",
       "            }\n",
       "            .Relation tr:nth-child(even){\n",
       "                background: #f3f1ff;\n",
       "            }\n",
       "            /* Tooltip container */\n",
       "            .djtooltip {\n",
       "            }\n",
       "            /* Tooltip text */\n",
       "            .djtooltip .djtooltiptext {\n",
       "                visibility: hidden;\n",
       "                width: 120px;\n",
       "                background-color: black;\n",
       "                color: #fff;\n",
       "                text-align: center;\n",
       "                padding: 5px 0;\n",
       "                border-radius: 6px;\n",
       "                /* Position the tooltip text - see examples below! */\n",
       "                position: absolute;\n",
       "                z-index: 1;\n",
       "            }\n",
       "            #primary {\n",
       "                font-weight: bold;\n",
       "                color: black;\n",
       "            }\n",
       "\n",
       "            #nonprimary {\n",
       "                font-weight: normal;\n",
       "                color: white;\n",
       "            }\n",
       "\n",
       "            /* Show the tooltip text when you mouse over the tooltip container */\n",
       "            .djtooltip:hover .djtooltiptext {\n",
       "                visibility: visible;\n",
       "            }\n",
       "        </style>\n",
       "        \n",
       "        <b></b>\n",
       "            <div style=\"max-height:1000px;max-width:1500px;overflow:auto;\">\n",
       "            <table border=\"1\" class=\"Relation\">\n",
       "                <thead> <tr style=\"text-align: right;\"> <th> <div class=\"djtooltip\">\n",
       "                                <p id=\"primary\">group_name</p>\n",
       "                                <span class=\"djtooltiptext\"></span>\n",
       "                            </div></th><th><div class=\"djtooltip\">\n",
       "                                <p id=\"primary\">animal_id</p>\n",
       "                                <span class=\"djtooltiptext\"></span>\n",
       "                            </div></th><th><div class=\"djtooltip\">\n",
       "                                <p id=\"primary\">datasource_id</p>\n",
       "                                <span class=\"djtooltiptext\"></span>\n",
       "                            </div></th><th><div class=\"djtooltip\">\n",
       "                                <p id=\"primary\">session_time</p>\n",
       "                                <span class=\"djtooltiptext\">start time of this session</span>\n",
       "                            </div> </th> </tr> </thead>\n",
       "                <tbody> <tr> <td>det_0fb019330f04214e309f896ab52f407e</td>\n",
       "<td>61fd2ac184c13c73</td>\n",
       "<td>0</td>\n",
       "<td>2017-12-10 15:23:02</td> </tr> </tbody>\n",
       "            </table>\n",
       "            \n",
       "            <p>Total: 1</p></div>\n",
       "            "
      ],
      "text/plain": [
       "*group_name    *animal_id     *datasource_id *session_time \n",
       "+------------+ +------------+ +------------+ +------------+\n",
       "det_0fb019330f 61fd2ac184c13c 0              2017-12-10 15:\n",
       " (Total: 1)"
      ]
     },
     "execution_count": 31,
     "metadata": {},
     "output_type": "execute_result"
    }
   ],
   "source": [
    "acquisition.ClusterSessionGroup.GroupMember & keys[3]"
   ]
  },
  {
   "cell_type": "markdown",
   "metadata": {},
   "source": [
    "### Specifying time windows"
   ]
  },
  {
   "cell_type": "markdown",
   "metadata": {},
   "source": [
    "<img src=\"../images/ephys_pipeline/group_windows.png\" alt=\"drawing\" width=\"900\"/>"
   ]
  },
  {
   "cell_type": "markdown",
   "metadata": {},
   "source": [
    "Once a group of one or more sessions is defined, `ClusterTimeWindows` and `ClusterTimeWindows.TimeWindow` are  used to subselect one or more time windows within the **concatenated session data**."
   ]
  },
  {
   "cell_type": "code",
   "execution_count": 32,
   "metadata": {},
   "outputs": [
    {
     "name": "stdout",
     "output_type": "stream",
     "text": [
      "-> acquisition.ClusterTimeWindows\n",
      "window_start         : decimal(6,2)                 # (s) onset of this window, with respect to session onset\n",
      "---\n",
      "window_stop          : float                        # (s) offset of this window, with respect to session onset\n",
      "\n"
     ]
    }
   ],
   "source": [
    "acquisition.ClusterTimeWindows.TimeWindow.describe();"
   ]
  },
  {
   "cell_type": "markdown",
   "metadata": {},
   "source": [
    "For the most common scenario, the entire duration of the concatenated sessions are used, and this is indicated by `window_start = 0` and `window_stop = -1`."
   ]
  },
  {
   "cell_type": "code",
   "execution_count": 33,
   "metadata": {},
   "outputs": [
    {
     "data": {
      "text/html": [
       "\n",
       "        \n",
       "        <style type=\"text/css\">\n",
       "            .Relation{\n",
       "                border-collapse:collapse;\n",
       "            }\n",
       "            .Relation th{\n",
       "                background: #A0A0A0; color: #ffffff; padding:4px; border:#f0e0e0 1px solid;\n",
       "                font-weight: normal; font-family: monospace; font-size: 100%;\n",
       "            }\n",
       "            .Relation td{\n",
       "                padding:4px; border:#f0e0e0 1px solid; font-size:100%;\n",
       "            }\n",
       "            .Relation tr:nth-child(odd){\n",
       "                background: #ffffff;\n",
       "            }\n",
       "            .Relation tr:nth-child(even){\n",
       "                background: #f3f1ff;\n",
       "            }\n",
       "            /* Tooltip container */\n",
       "            .djtooltip {\n",
       "            }\n",
       "            /* Tooltip text */\n",
       "            .djtooltip .djtooltiptext {\n",
       "                visibility: hidden;\n",
       "                width: 120px;\n",
       "                background-color: black;\n",
       "                color: #fff;\n",
       "                text-align: center;\n",
       "                padding: 5px 0;\n",
       "                border-radius: 6px;\n",
       "                /* Position the tooltip text - see examples below! */\n",
       "                position: absolute;\n",
       "                z-index: 1;\n",
       "            }\n",
       "            #primary {\n",
       "                font-weight: bold;\n",
       "                color: black;\n",
       "            }\n",
       "\n",
       "            #nonprimary {\n",
       "                font-weight: normal;\n",
       "                color: white;\n",
       "            }\n",
       "\n",
       "            /* Show the tooltip text when you mouse over the tooltip container */\n",
       "            .djtooltip:hover .djtooltiptext {\n",
       "                visibility: visible;\n",
       "            }\n",
       "        </style>\n",
       "        \n",
       "        <b></b>\n",
       "            <div style=\"max-height:1000px;max-width:1500px;overflow:auto;\">\n",
       "            <table border=\"1\" class=\"Relation\">\n",
       "                <thead> <tr style=\"text-align: right;\"> <th> <div class=\"djtooltip\">\n",
       "                                <p id=\"primary\">group_name</p>\n",
       "                                <span class=\"djtooltiptext\"></span>\n",
       "                            </div></th><th><div class=\"djtooltip\">\n",
       "                                <p id=\"primary\">time_window_id</p>\n",
       "                                <span class=\"djtooltiptext\">or maybe a hash of all the part windows</span>\n",
       "                            </div></th><th><div class=\"djtooltip\">\n",
       "                                <p id=\"primary\">window_start</p>\n",
       "                                <span class=\"djtooltiptext\">(s) onset of this window, with respect to session onset</span>\n",
       "                            </div></th><th><div class=\"djtooltip\">\n",
       "                                <p id=\"nonprimary\">window_stop</p>\n",
       "                                <span class=\"djtooltiptext\">(s) offset of this window, with respect to session onset</span>\n",
       "                            </div> </th> </tr> </thead>\n",
       "                <tbody> <tr> <td>det_0033b4a248738944d352d904dd830875</td>\n",
       "<td>a1c6a0bfe97cd18966cb6fdb87c75687</td>\n",
       "<td>0.00</td>\n",
       "<td>-1.0</td></tr><tr><td>det_0646d5555bc1299437185e7d8c1c2816</td>\n",
       "<td>a1c6a0bfe97cd18966cb6fdb87c75687</td>\n",
       "<td>0.00</td>\n",
       "<td>-1.0</td></tr><tr><td>det_0d7c5dd06d63c5f14395b914f7f803e7</td>\n",
       "<td>a1c6a0bfe97cd18966cb6fdb87c75687</td>\n",
       "<td>0.00</td>\n",
       "<td>-1.0</td></tr><tr><td>det_0fb019330f04214e309f896ab52f407e</td>\n",
       "<td>a1c6a0bfe97cd18966cb6fdb87c75687</td>\n",
       "<td>0.00</td>\n",
       "<td>-1.0</td></tr><tr><td>det_121ad375dd05ab19a4d212ee9678cc15</td>\n",
       "<td>a1c6a0bfe97cd18966cb6fdb87c75687</td>\n",
       "<td>0.00</td>\n",
       "<td>-1.0</td></tr><tr><td>det_13391cf1a647f8e92ccedcb3afc2a251</td>\n",
       "<td>a1c6a0bfe97cd18966cb6fdb87c75687</td>\n",
       "<td>0.00</td>\n",
       "<td>-1.0</td></tr><tr><td>det_144c54937ff40b02a50281270644fc2d</td>\n",
       "<td>a1c6a0bfe97cd18966cb6fdb87c75687</td>\n",
       "<td>0.00</td>\n",
       "<td>-1.0</td></tr><tr><td>det_16ae3cc3249897cd2c53d66b39a90649</td>\n",
       "<td>a1c6a0bfe97cd18966cb6fdb87c75687</td>\n",
       "<td>0.00</td>\n",
       "<td>-1.0</td></tr><tr><td>det_1ba81cdef70f9cf1d535152abe42af86</td>\n",
       "<td>a1c6a0bfe97cd18966cb6fdb87c75687</td>\n",
       "<td>0.00</td>\n",
       "<td>-1.0</td></tr><tr><td>det_2e7d1e091f158b4cb1dc6918a3f1bade</td>\n",
       "<td>a1c6a0bfe97cd18966cb6fdb87c75687</td>\n",
       "<td>0.00</td>\n",
       "<td>-1.0</td> </tr> </tbody>\n",
       "            </table>\n",
       "            <p>...</p>\n",
       "            <p>Total: 49</p></div>\n",
       "            "
      ],
      "text/plain": [
       "*group_name    *time_window_i *window_start  window_stop   \n",
       "+------------+ +------------+ +------------+ +------------+\n",
       "det_0033b4a248 a1c6a0bfe97cd1 0.00           -1.0          \n",
       "det_0646d5555b a1c6a0bfe97cd1 0.00           -1.0          \n",
       "det_0d7c5dd06d a1c6a0bfe97cd1 0.00           -1.0          \n",
       "det_0fb019330f a1c6a0bfe97cd1 0.00           -1.0          \n",
       "det_121ad375dd a1c6a0bfe97cd1 0.00           -1.0          \n",
       "det_13391cf1a6 a1c6a0bfe97cd1 0.00           -1.0          \n",
       "det_144c54937f a1c6a0bfe97cd1 0.00           -1.0          \n",
       "det_16ae3cc324 a1c6a0bfe97cd1 0.00           -1.0          \n",
       "det_1ba81cdef7 a1c6a0bfe97cd1 0.00           -1.0          \n",
       "det_2e7d1e091f a1c6a0bfe97cd1 0.00           -1.0          \n",
       "   ...\n",
       " (Total: 49)"
      ]
     },
     "execution_count": 33,
     "metadata": {},
     "output_type": "execute_result"
    }
   ],
   "source": [
    "acquisition.ClusterTimeWindows.TimeWindow()"
   ]
  },
  {
   "cell_type": "markdown",
   "metadata": {},
   "source": [
    "# Organization of Clustering - ClusteringSetup and Clustering tables"
   ]
  },
  {
   "cell_type": "markdown",
   "metadata": {},
   "source": [
    "The `ClusterSetup` table captures a valid combination of particular electrode probe (`ProbeInsertion`), clustering time windows across one or more concatenated Sessions (`ClusterTimeWindows`), as well as some clustering specific parameter (`ClusterParam`), and this depenencies are captured in the diagram below. "
   ]
  },
  {
   "cell_type": "markdown",
   "metadata": {},
   "source": [
    "<img src=\"../images/ephys_pipeline/clustering.png\" alt=\"drawing\" width=\"900\"/>"
   ]
  },
  {
   "cell_type": "markdown",
   "metadata": {},
   "source": [
    "While `ClusteringSetup` serves to specify the combination of clustering configurations, the `Clustering` table represents completed clustering."
   ]
  },
  {
   "cell_type": "markdown",
   "metadata": {},
   "source": [
    "Again, clusterings can be performed on:\n",
    "+ Multiple concatenated sessions (although in most cases, just on one session)\n",
    "+ Different time window(s) over the selected session(s)\n",
    "+ Yielding units for this ***clustering***"
   ]
  },
  {
   "cell_type": "markdown",
   "metadata": {},
   "source": [
    "`ClusteringSetup` is for users to specify:\n",
    "\n",
    "+ the `ClusterSessionGroup` and `ClusterTimeWindows`\n",
    "+ the probe this clustering is performed on - `ProbeInsertion`\n",
    "+ the parameters to perform the clustering - `ClusterParam`\n",
    "+ the directory to output this clustering results \n",
    "+ the electrode configuration information\n",
    "\n",
    "Note: all of this is taken care of in the ingestion routine (more on that later)\n",
    "\n",
    "`Clustering` - a processing step to either trigger the clustering or perform ingestion on performed clustering"
   ]
  },
  {
   "cell_type": "markdown",
   "metadata": {},
   "source": [
    "### Curated clustering"
   ]
  },
  {
   "cell_type": "markdown",
   "metadata": {},
   "source": [
    "Often times, an experimenter would follow an automatic clustering step and **manually curate** the clustering. In the pipeline, this is represented through `CuratedClustering` table."
   ]
  },
  {
   "cell_type": "markdown",
   "metadata": {},
   "source": [
    "<img src=\"../images/ephys_pipeline/curated_clustering.png\" alt=\"drawing\" width=\"350\"/>"
   ]
  },
  {
   "cell_type": "code",
   "execution_count": 34,
   "metadata": {},
   "outputs": [
    {
     "name": "stdout",
     "output_type": "stream",
     "text": [
      "# A completed curation for a particular clustering\n",
      "-> ephys.Clustering\n",
      "curation_timestamps  : datetime                     # ensure complete datetime here to prevent collision (in the rare case of multiple people curate at the exact same datetime)\n",
      "---\n",
      "-> reference.Experimenter.proj(curator=\"experimenter\")\n",
      "curation_notes=\"\"    : varchar(128)                 \n",
      "-> reference.Repository\n",
      "curation_output_dir  : varchar(128)                 \n",
      "\n"
     ]
    }
   ],
   "source": [
    "ephys.CuratedClustering.describe();"
   ]
  },
  {
   "cell_type": "markdown",
   "metadata": {},
   "source": [
    "**CuratedClustering** captures the following information:\n",
    "+ the curator\n",
    "+ the time of curation\n",
    "+ the directory of the new curation results"
   ]
  },
  {
   "cell_type": "markdown",
   "metadata": {},
   "source": [
    "All downstream analysis are then performed on the `CuratedClustering`, allowing for different curated results to be compared side by side."
   ]
  },
  {
   "cell_type": "markdown",
   "metadata": {},
   "source": [
    "# Unit & Spike times"
   ]
  },
  {
   "cell_type": "markdown",
   "metadata": {},
   "source": [
    "From the `CuratedClustering` results, definition of identified `Units`, their representative `Waveforms` as well as their spike times (`UnitSpikeTimes`) are extracted and captured in the corresponding table. Notice that the `UnitSpikeTimes` are matched back to the particular recording file during which the identified unit's spike occured."
   ]
  },
  {
   "cell_type": "markdown",
   "metadata": {},
   "source": [
    "<img src=\"../images/ephys_pipeline/unit_spikes.png\" alt=\"drawing\" width=\"500\"/>"
   ]
  },
  {
   "cell_type": "code",
   "execution_count": 35,
   "metadata": {},
   "outputs": [
    {
     "data": {
      "text/html": [
       "\n",
       "        \n",
       "        <style type=\"text/css\">\n",
       "            .Relation{\n",
       "                border-collapse:collapse;\n",
       "            }\n",
       "            .Relation th{\n",
       "                background: #A0A0A0; color: #ffffff; padding:4px; border:#f0e0e0 1px solid;\n",
       "                font-weight: normal; font-family: monospace; font-size: 100%;\n",
       "            }\n",
       "            .Relation td{\n",
       "                padding:4px; border:#f0e0e0 1px solid; font-size:100%;\n",
       "            }\n",
       "            .Relation tr:nth-child(odd){\n",
       "                background: #ffffff;\n",
       "            }\n",
       "            .Relation tr:nth-child(even){\n",
       "                background: #f3f1ff;\n",
       "            }\n",
       "            /* Tooltip container */\n",
       "            .djtooltip {\n",
       "            }\n",
       "            /* Tooltip text */\n",
       "            .djtooltip .djtooltiptext {\n",
       "                visibility: hidden;\n",
       "                width: 120px;\n",
       "                background-color: black;\n",
       "                color: #fff;\n",
       "                text-align: center;\n",
       "                padding: 5px 0;\n",
       "                border-radius: 6px;\n",
       "                /* Position the tooltip text - see examples below! */\n",
       "                position: absolute;\n",
       "                z-index: 1;\n",
       "            }\n",
       "            #primary {\n",
       "                font-weight: bold;\n",
       "                color: black;\n",
       "            }\n",
       "\n",
       "            #nonprimary {\n",
       "                font-weight: normal;\n",
       "                color: white;\n",
       "            }\n",
       "\n",
       "            /* Show the tooltip text when you mouse over the tooltip container */\n",
       "            .djtooltip:hover .djtooltiptext {\n",
       "                visibility: visible;\n",
       "            }\n",
       "        </style>\n",
       "        \n",
       "        <b></b>\n",
       "            <div style=\"max-height:1000px;max-width:1500px;overflow:auto;\">\n",
       "            <table border=\"1\" class=\"Relation\">\n",
       "                <thead> <tr style=\"text-align: right;\"> <th> <div class=\"djtooltip\">\n",
       "                                <p id=\"primary\">animal_id</p>\n",
       "                                <span class=\"djtooltiptext\"></span>\n",
       "                            </div></th><th><div class=\"djtooltip\">\n",
       "                                <p id=\"primary\">datasource_id</p>\n",
       "                                <span class=\"djtooltiptext\"></span>\n",
       "                            </div></th><th><div class=\"djtooltip\">\n",
       "                                <p id=\"primary\">insertion_time</p>\n",
       "                                <span class=\"djtooltiptext\">When this probe was inserted</span>\n",
       "                            </div></th><th><div class=\"djtooltip\">\n",
       "                                <p id=\"primary\">group_name</p>\n",
       "                                <span class=\"djtooltiptext\"></span>\n",
       "                            </div></th><th><div class=\"djtooltip\">\n",
       "                                <p id=\"primary\">time_window_id</p>\n",
       "                                <span class=\"djtooltiptext\">or maybe a hash of all the part windows</span>\n",
       "                            </div></th><th><div class=\"djtooltip\">\n",
       "                                <p id=\"primary\">cluster_method</p>\n",
       "                                <span class=\"djtooltiptext\">name of clustering method</span>\n",
       "                            </div></th><th><div class=\"djtooltip\">\n",
       "                                <p id=\"primary\">cluster_param_name</p>\n",
       "                                <span class=\"djtooltiptext\">some unique name, or maybe hash of the dict of the param (ordered)</span>\n",
       "                            </div></th><th><div class=\"djtooltip\">\n",
       "                                <p id=\"primary\">probe_model</p>\n",
       "                                <span class=\"djtooltiptext\">nick name, or other user-friendly model name of this probe</span>\n",
       "                            </div></th><th><div class=\"djtooltip\">\n",
       "                                <p id=\"primary\">electrode_config_id</p>\n",
       "                                <span class=\"djtooltiptext\">hash of the group and group_member (ensure uniqueness)</span>\n",
       "                            </div></th><th><div class=\"djtooltip\">\n",
       "                                <p id=\"primary\">sync_method</p>\n",
       "                                <span class=\"djtooltiptext\">sync method name</span>\n",
       "                            </div></th><th><div class=\"djtooltip\">\n",
       "                                <p id=\"primary\">curation_timestamps</p>\n",
       "                                <span class=\"djtooltiptext\">ensure complete datetime here to prevent collision (in the rare case of multiple people curate at the exact same datetime)</span>\n",
       "                            </div></th><th><div class=\"djtooltip\">\n",
       "                                <p id=\"primary\">unit</p>\n",
       "                                <span class=\"djtooltiptext\"></span>\n",
       "                            </div></th><th><div class=\"djtooltip\">\n",
       "                                <p id=\"primary\">session_time</p>\n",
       "                                <span class=\"djtooltiptext\">start time of this session</span>\n",
       "                            </div></th><th><div class=\"djtooltip\">\n",
       "                                <p id=\"primary\">recording_time</p>\n",
       "                                <span class=\"djtooltiptext\">start time of this recording</span>\n",
       "                            </div></th><th><div class=\"djtooltip\">\n",
       "                                <p id=\"nonprimary\">mean_firing_rate</p>\n",
       "                                <span class=\"djtooltiptext\">mean firing rate</span>\n",
       "                            </div></th><th><div class=\"djtooltip\">\n",
       "                                <p id=\"nonprimary\">spike_counts</p>\n",
       "                                <span class=\"djtooltiptext\">how many spikes in this recording of this unit</span>\n",
       "                            </div></th><th><div class=\"djtooltip\">\n",
       "                                <p id=\"nonprimary\">unit_spike_times</p>\n",
       "                                <span class=\"djtooltiptext\">(s) spike times of this unit, relative to the start of the session this recording belongs to</span>\n",
       "                            </div> </th> </tr> </thead>\n",
       "                <tbody> <tr> <td>40bfa03a7a7018cc</td>\n",
       "<td>0</td>\n",
       "<td>2019-09-11 14:08:45</td>\n",
       "<td>det_144c54937ff40b02a50281270644fc2d</td>\n",
       "<td>a1c6a0bfe97cd18966cb6fdb87c75687</td>\n",
       "<td>kilosort</td>\n",
       "<td>default_kilosort</td>\n",
       "<td>neuropixels_1.0</td>\n",
       "<td>3bae3f7153f0305d02232efd41217754</td>\n",
       "<td>linear_interp</td>\n",
       "<td>2019-09-18 14:57:28</td>\n",
       "<td>0</td>\n",
       "<td>2019-09-17 19:43:06</td>\n",
       "<td>2019-09-17 19:43:06</td>\n",
       "<td>2.12436</td>\n",
       "<td>16288</td>\n",
       "<td>=BLOB=</td></tr><tr><td>40bfa03a7a7018cc</td>\n",
       "<td>0</td>\n",
       "<td>2019-09-11 14:08:45</td>\n",
       "<td>det_144c54937ff40b02a50281270644fc2d</td>\n",
       "<td>a1c6a0bfe97cd18966cb6fdb87c75687</td>\n",
       "<td>kilosort</td>\n",
       "<td>default_kilosort</td>\n",
       "<td>neuropixels_1.0</td>\n",
       "<td>3bae3f7153f0305d02232efd41217754</td>\n",
       "<td>linear_interp</td>\n",
       "<td>2019-09-18 14:57:28</td>\n",
       "<td>1</td>\n",
       "<td>2019-09-17 19:43:06</td>\n",
       "<td>2019-09-17 19:43:06</td>\n",
       "<td>4.88728</td>\n",
       "<td>37472</td>\n",
       "<td>=BLOB=</td></tr><tr><td>40bfa03a7a7018cc</td>\n",
       "<td>0</td>\n",
       "<td>2019-09-11 14:08:45</td>\n",
       "<td>det_144c54937ff40b02a50281270644fc2d</td>\n",
       "<td>a1c6a0bfe97cd18966cb6fdb87c75687</td>\n",
       "<td>kilosort</td>\n",
       "<td>default_kilosort</td>\n",
       "<td>neuropixels_1.0</td>\n",
       "<td>3bae3f7153f0305d02232efd41217754</td>\n",
       "<td>linear_interp</td>\n",
       "<td>2019-09-18 14:57:28</td>\n",
       "<td>2</td>\n",
       "<td>2019-09-17 19:43:06</td>\n",
       "<td>2019-09-17 19:43:06</td>\n",
       "<td>3.87792</td>\n",
       "<td>29733</td>\n",
       "<td>=BLOB=</td></tr><tr><td>40bfa03a7a7018cc</td>\n",
       "<td>0</td>\n",
       "<td>2019-09-11 14:08:45</td>\n",
       "<td>det_144c54937ff40b02a50281270644fc2d</td>\n",
       "<td>a1c6a0bfe97cd18966cb6fdb87c75687</td>\n",
       "<td>kilosort</td>\n",
       "<td>default_kilosort</td>\n",
       "<td>neuropixels_1.0</td>\n",
       "<td>3bae3f7153f0305d02232efd41217754</td>\n",
       "<td>linear_interp</td>\n",
       "<td>2019-09-18 14:57:28</td>\n",
       "<td>3</td>\n",
       "<td>2019-09-17 19:43:06</td>\n",
       "<td>2019-09-17 19:43:06</td>\n",
       "<td>1.21243</td>\n",
       "<td>9296</td>\n",
       "<td>=BLOB=</td></tr><tr><td>40bfa03a7a7018cc</td>\n",
       "<td>0</td>\n",
       "<td>2019-09-11 14:08:45</td>\n",
       "<td>det_144c54937ff40b02a50281270644fc2d</td>\n",
       "<td>a1c6a0bfe97cd18966cb6fdb87c75687</td>\n",
       "<td>kilosort</td>\n",
       "<td>default_kilosort</td>\n",
       "<td>neuropixels_1.0</td>\n",
       "<td>3bae3f7153f0305d02232efd41217754</td>\n",
       "<td>linear_interp</td>\n",
       "<td>2019-09-18 14:57:28</td>\n",
       "<td>4</td>\n",
       "<td>2019-09-17 19:43:06</td>\n",
       "<td>2019-09-17 19:43:06</td>\n",
       "<td>0.283544</td>\n",
       "<td>2174</td>\n",
       "<td>=BLOB=</td></tr><tr><td>40bfa03a7a7018cc</td>\n",
       "<td>0</td>\n",
       "<td>2019-09-11 14:08:45</td>\n",
       "<td>det_144c54937ff40b02a50281270644fc2d</td>\n",
       "<td>a1c6a0bfe97cd18966cb6fdb87c75687</td>\n",
       "<td>kilosort</td>\n",
       "<td>default_kilosort</td>\n",
       "<td>neuropixels_1.0</td>\n",
       "<td>3bae3f7153f0305d02232efd41217754</td>\n",
       "<td>linear_interp</td>\n",
       "<td>2019-09-18 14:57:28</td>\n",
       "<td>5</td>\n",
       "<td>2019-09-17 19:43:06</td>\n",
       "<td>2019-09-17 19:43:06</td>\n",
       "<td>0.618866</td>\n",
       "<td>4745</td>\n",
       "<td>=BLOB=</td></tr><tr><td>40bfa03a7a7018cc</td>\n",
       "<td>0</td>\n",
       "<td>2019-09-11 14:08:45</td>\n",
       "<td>det_144c54937ff40b02a50281270644fc2d</td>\n",
       "<td>a1c6a0bfe97cd18966cb6fdb87c75687</td>\n",
       "<td>kilosort</td>\n",
       "<td>default_kilosort</td>\n",
       "<td>neuropixels_1.0</td>\n",
       "<td>3bae3f7153f0305d02232efd41217754</td>\n",
       "<td>linear_interp</td>\n",
       "<td>2019-09-18 14:57:28</td>\n",
       "<td>6</td>\n",
       "<td>2019-09-17 19:43:06</td>\n",
       "<td>2019-09-17 19:43:06</td>\n",
       "<td>0.0164335</td>\n",
       "<td>126</td>\n",
       "<td>=BLOB=</td></tr><tr><td>40bfa03a7a7018cc</td>\n",
       "<td>0</td>\n",
       "<td>2019-09-11 14:08:45</td>\n",
       "<td>det_144c54937ff40b02a50281270644fc2d</td>\n",
       "<td>a1c6a0bfe97cd18966cb6fdb87c75687</td>\n",
       "<td>kilosort</td>\n",
       "<td>default_kilosort</td>\n",
       "<td>neuropixels_1.0</td>\n",
       "<td>3bae3f7153f0305d02232efd41217754</td>\n",
       "<td>linear_interp</td>\n",
       "<td>2019-09-18 14:57:28</td>\n",
       "<td>7</td>\n",
       "<td>2019-09-17 19:43:06</td>\n",
       "<td>2019-09-17 19:43:06</td>\n",
       "<td>2.39604</td>\n",
       "<td>18371</td>\n",
       "<td>=BLOB=</td></tr><tr><td>40bfa03a7a7018cc</td>\n",
       "<td>0</td>\n",
       "<td>2019-09-11 14:08:45</td>\n",
       "<td>det_144c54937ff40b02a50281270644fc2d</td>\n",
       "<td>a1c6a0bfe97cd18966cb6fdb87c75687</td>\n",
       "<td>kilosort</td>\n",
       "<td>default_kilosort</td>\n",
       "<td>neuropixels_1.0</td>\n",
       "<td>3bae3f7153f0305d02232efd41217754</td>\n",
       "<td>linear_interp</td>\n",
       "<td>2019-09-18 14:57:28</td>\n",
       "<td>8</td>\n",
       "<td>2019-09-17 19:43:06</td>\n",
       "<td>2019-09-17 19:43:06</td>\n",
       "<td>0.304412</td>\n",
       "<td>2334</td>\n",
       "<td>=BLOB=</td></tr><tr><td>40bfa03a7a7018cc</td>\n",
       "<td>0</td>\n",
       "<td>2019-09-11 14:08:45</td>\n",
       "<td>det_144c54937ff40b02a50281270644fc2d</td>\n",
       "<td>a1c6a0bfe97cd18966cb6fdb87c75687</td>\n",
       "<td>kilosort</td>\n",
       "<td>default_kilosort</td>\n",
       "<td>neuropixels_1.0</td>\n",
       "<td>3bae3f7153f0305d02232efd41217754</td>\n",
       "<td>linear_interp</td>\n",
       "<td>2019-09-18 14:57:28</td>\n",
       "<td>9</td>\n",
       "<td>2019-09-17 19:43:06</td>\n",
       "<td>2019-09-17 19:43:06</td>\n",
       "<td>0.308194</td>\n",
       "<td>2363</td>\n",
       "<td>=BLOB=</td> </tr> </tbody>\n",
       "            </table>\n",
       "            <p>...</p>\n",
       "            <p>Total: 270218</p></div>\n",
       "            "
      ],
      "text/plain": [
       "*animal_id     *datasource_id *insertion_tim *group_name    *time_window_i *cluster_metho *cluster_param *probe_model   *electrode_con *sync_method   *curation_time *unit    *session_time  *recording_tim mean_firing_ra spike_counts   unit_spike\n",
       "+------------+ +------------+ +------------+ +------------+ +------------+ +------------+ +------------+ +------------+ +------------+ +------------+ +------------+ +------+ +------------+ +------------+ +------------+ +------------+ +--------+\n",
       "40bfa03a7a7018 0              2019-09-11 14: det_144c54937f a1c6a0bfe97cd1 kilosort       default_kiloso neuropixels_1. 3bae3f7153f030 linear_interp  2019-09-18 14: 0        2019-09-17 19: 2019-09-17 19: 2.12436        16288          =BLOB=    \n",
       "40bfa03a7a7018 0              2019-09-11 14: det_144c54937f a1c6a0bfe97cd1 kilosort       default_kiloso neuropixels_1. 3bae3f7153f030 linear_interp  2019-09-18 14: 1        2019-09-17 19: 2019-09-17 19: 4.88728        37472          =BLOB=    \n",
       "40bfa03a7a7018 0              2019-09-11 14: det_144c54937f a1c6a0bfe97cd1 kilosort       default_kiloso neuropixels_1. 3bae3f7153f030 linear_interp  2019-09-18 14: 2        2019-09-17 19: 2019-09-17 19: 3.87792        29733          =BLOB=    \n",
       "40bfa03a7a7018 0              2019-09-11 14: det_144c54937f a1c6a0bfe97cd1 kilosort       default_kiloso neuropixels_1. 3bae3f7153f030 linear_interp  2019-09-18 14: 3        2019-09-17 19: 2019-09-17 19: 1.21243        9296           =BLOB=    \n",
       "40bfa03a7a7018 0              2019-09-11 14: det_144c54937f a1c6a0bfe97cd1 kilosort       default_kiloso neuropixels_1. 3bae3f7153f030 linear_interp  2019-09-18 14: 4        2019-09-17 19: 2019-09-17 19: 0.283544       2174           =BLOB=    \n",
       "40bfa03a7a7018 0              2019-09-11 14: det_144c54937f a1c6a0bfe97cd1 kilosort       default_kiloso neuropixels_1. 3bae3f7153f030 linear_interp  2019-09-18 14: 5        2019-09-17 19: 2019-09-17 19: 0.618866       4745           =BLOB=    \n",
       "40bfa03a7a7018 0              2019-09-11 14: det_144c54937f a1c6a0bfe97cd1 kilosort       default_kiloso neuropixels_1. 3bae3f7153f030 linear_interp  2019-09-18 14: 6        2019-09-17 19: 2019-09-17 19: 0.0164335      126            =BLOB=    \n",
       "40bfa03a7a7018 0              2019-09-11 14: det_144c54937f a1c6a0bfe97cd1 kilosort       default_kiloso neuropixels_1. 3bae3f7153f030 linear_interp  2019-09-18 14: 7        2019-09-17 19: 2019-09-17 19: 2.39604        18371          =BLOB=    \n",
       "40bfa03a7a7018 0              2019-09-11 14: det_144c54937f a1c6a0bfe97cd1 kilosort       default_kiloso neuropixels_1. 3bae3f7153f030 linear_interp  2019-09-18 14: 8        2019-09-17 19: 2019-09-17 19: 0.304412       2334           =BLOB=    \n",
       "40bfa03a7a7018 0              2019-09-11 14: det_144c54937f a1c6a0bfe97cd1 kilosort       default_kiloso neuropixels_1. 3bae3f7153f030 linear_interp  2019-09-18 14: 9        2019-09-17 19: 2019-09-17 19: 0.308194       2363           =BLOB=    \n",
       "   ...\n",
       " (Total: 270218)"
      ]
     },
     "execution_count": 35,
     "metadata": {},
     "output_type": "execute_result"
    }
   ],
   "source": [
    "ephys.UnitSpikeTimes()"
   ]
  },
  {
   "cell_type": "markdown",
   "metadata": {},
   "source": [
    "#### Question 7: Find all animals with at least 100,000 spike counts identified in a recording"
   ]
  },
  {
   "cell_type": "markdown",
   "metadata": {},
   "source": [
    "## Summary diagram of the clustering structure\n",
    "![](../images/clustering_detail_erd.png)"
   ]
  },
  {
   "cell_type": "markdown",
   "metadata": {},
   "source": [
    "# Tracking"
   ]
  },
  {
   "cell_type": "markdown",
   "metadata": {},
   "source": [
    "<img src=\"../images/ephys_pipeline/process_track.png\" alt=\"drawing\" width=\"900\"/>"
   ]
  },
  {
   "cell_type": "markdown",
   "metadata": {},
   "source": [
    "# Toward the results - Spikes and Tracking"
   ]
  },
  {
   "cell_type": "markdown",
   "metadata": {},
   "source": [
    "<img src=\"../images/ephys_pipeline/task_spikes.png\" alt=\"drawing\" width=\"600\"/>"
   ]
  },
  {
   "cell_type": "markdown",
   "metadata": {},
   "source": [
    "***UnitSpikeTimes*** and ***Tracking*** data can be matched together - resulting in the ***SpikesTracking***:\n",
    "> The spike times and tracking data (e.g. position, speed, head angle, etc.) associated with each spike, per unit\n",
    "\n",
    "And such ***SpikesTracking*** can then be further narrowed down to the task, in ***TaskSpikesTracking***"
   ]
  },
  {
   "cell_type": "code",
   "execution_count": 36,
   "metadata": {},
   "outputs": [
    {
     "data": {
      "text/html": [
       "\n",
       "        \n",
       "        <style type=\"text/css\">\n",
       "            .Relation{\n",
       "                border-collapse:collapse;\n",
       "            }\n",
       "            .Relation th{\n",
       "                background: #A0A0A0; color: #ffffff; padding:4px; border:#f0e0e0 1px solid;\n",
       "                font-weight: normal; font-family: monospace; font-size: 100%;\n",
       "            }\n",
       "            .Relation td{\n",
       "                padding:4px; border:#f0e0e0 1px solid; font-size:100%;\n",
       "            }\n",
       "            .Relation tr:nth-child(odd){\n",
       "                background: #ffffff;\n",
       "            }\n",
       "            .Relation tr:nth-child(even){\n",
       "                background: #f3f1ff;\n",
       "            }\n",
       "            /* Tooltip container */\n",
       "            .djtooltip {\n",
       "            }\n",
       "            /* Tooltip text */\n",
       "            .djtooltip .djtooltiptext {\n",
       "                visibility: hidden;\n",
       "                width: 120px;\n",
       "                background-color: black;\n",
       "                color: #fff;\n",
       "                text-align: center;\n",
       "                padding: 5px 0;\n",
       "                border-radius: 6px;\n",
       "                /* Position the tooltip text - see examples below! */\n",
       "                position: absolute;\n",
       "                z-index: 1;\n",
       "            }\n",
       "            #primary {\n",
       "                font-weight: bold;\n",
       "                color: black;\n",
       "            }\n",
       "\n",
       "            #nonprimary {\n",
       "                font-weight: normal;\n",
       "                color: white;\n",
       "            }\n",
       "\n",
       "            /* Show the tooltip text when you mouse over the tooltip container */\n",
       "            .djtooltip:hover .djtooltiptext {\n",
       "                visibility: visible;\n",
       "            }\n",
       "        </style>\n",
       "        \n",
       "        <b>Spike times and tracking for a particular behavior.Task, relative to the start of task (i.e. task start at t=0)</b>\n",
       "            <div style=\"max-height:1000px;max-width:1500px;overflow:auto;\">\n",
       "            <table border=\"1\" class=\"Relation\">\n",
       "                <thead> <tr style=\"text-align: right;\"> <th> <div class=\"djtooltip\">\n",
       "                                <p id=\"primary\">animal_id</p>\n",
       "                                <span class=\"djtooltiptext\"></span>\n",
       "                            </div></th><th><div class=\"djtooltip\">\n",
       "                                <p id=\"primary\">datasource_id</p>\n",
       "                                <span class=\"djtooltiptext\"></span>\n",
       "                            </div></th><th><div class=\"djtooltip\">\n",
       "                                <p id=\"primary\">session_time</p>\n",
       "                                <span class=\"djtooltiptext\">start time of this session</span>\n",
       "                            </div></th><th><div class=\"djtooltip\">\n",
       "                                <p id=\"primary\">task_type</p>\n",
       "                                <span class=\"djtooltiptext\"></span>\n",
       "                            </div></th><th><div class=\"djtooltip\">\n",
       "                                <p id=\"primary\">task_start</p>\n",
       "                                <span class=\"djtooltiptext\">(s) timestamp of task onset with respect to the start of the session</span>\n",
       "                            </div></th><th><div class=\"djtooltip\">\n",
       "                                <p id=\"primary\">unit</p>\n",
       "                                <span class=\"djtooltiptext\">unit id</span>\n",
       "                            </div></th><th><div class=\"djtooltip\">\n",
       "                                <p id=\"primary\">spike_tracking_hash</p>\n",
       "                                <span class=\"djtooltiptext\">hash of the SpikesTracking primary_key</span>\n",
       "                            </div></th><th><div class=\"djtooltip\">\n",
       "                                <p id=\"primary\">cell_selection_params_name</p>\n",
       "                                <span class=\"djtooltiptext\">user-friendly name</span>\n",
       "                            </div></th><th><div class=\"djtooltip\">\n",
       "                                <p id=\"nonprimary\">spike_times</p>\n",
       "                                <span class=\"djtooltiptext\">(s) task-related spike times (time with respect to the start of the task)</span>\n",
       "                            </div></th><th><div class=\"djtooltip\">\n",
       "                                <p id=\"nonprimary\">speed</p>\n",
       "                                <span class=\"djtooltiptext\">(cm/s) task-related speed at each spike times</span>\n",
       "                            </div></th><th><div class=\"djtooltip\">\n",
       "                                <p id=\"nonprimary\">x_pos</p>\n",
       "                                <span class=\"djtooltiptext\">(cm) task-related x-pos at each spike times</span>\n",
       "                            </div></th><th><div class=\"djtooltip\">\n",
       "                                <p id=\"nonprimary\">y_pos</p>\n",
       "                                <span class=\"djtooltiptext\">(cm) task-related y-pos at each spike times</span>\n",
       "                            </div></th><th><div class=\"djtooltip\">\n",
       "                                <p id=\"nonprimary\">z_pos</p>\n",
       "                                <span class=\"djtooltiptext\">(cm) task-related z-pos at each spike times</span>\n",
       "                            </div></th><th><div class=\"djtooltip\">\n",
       "                                <p id=\"nonprimary\">head_yaw</p>\n",
       "                                <span class=\"djtooltiptext\">(degree) task-related head yaw (left/right angle) at each spike times</span>\n",
       "                            </div></th><th><div class=\"djtooltip\">\n",
       "                                <p id=\"nonprimary\">head_pitch</p>\n",
       "                                <span class=\"djtooltiptext\">(degree) task-related head pitch (up/down) at each spike times</span>\n",
       "                            </div></th><th><div class=\"djtooltip\">\n",
       "                                <p id=\"nonprimary\">head_roll</p>\n",
       "                                <span class=\"djtooltiptext\">(degree) task-related head roll (clockwise/anticlockwise) at each spike times</span>\n",
       "                            </div></th><th><div class=\"djtooltip\">\n",
       "                                <p id=\"nonprimary\">angular_speed</p>\n",
       "                                <span class=\"djtooltiptext\">(degree/s) task-related head angular speed at each spike times</span>\n",
       "                            </div> </th> </tr> </thead>\n",
       "                <tbody> <tr> <td>40bfa03a7a7018cc</td>\n",
       "<td>0</td>\n",
       "<td>2019-09-17 19:43:06</td>\n",
       "<td>OpenField</td>\n",
       "<td>45.00</td>\n",
       "<td>0</td>\n",
       "<td>31ca6aaae907eb1fcc2ba953af199766</td>\n",
       "<td>default</td>\n",
       "<td>=BLOB=</td>\n",
       "<td>=BLOB=</td>\n",
       "<td>=BLOB=</td>\n",
       "<td>=BLOB=</td>\n",
       "<td>=BLOB=</td>\n",
       "<td>=BLOB=</td>\n",
       "<td>=BLOB=</td>\n",
       "<td>=BLOB=</td>\n",
       "<td>=BLOB=</td></tr><tr><td>40bfa03a7a7018cc</td>\n",
       "<td>0</td>\n",
       "<td>2019-09-17 19:43:06</td>\n",
       "<td>OpenField</td>\n",
       "<td>45.00</td>\n",
       "<td>2</td>\n",
       "<td>963d42326e666ba4fb9ee8dacfdbef6b</td>\n",
       "<td>default</td>\n",
       "<td>=BLOB=</td>\n",
       "<td>=BLOB=</td>\n",
       "<td>=BLOB=</td>\n",
       "<td>=BLOB=</td>\n",
       "<td>=BLOB=</td>\n",
       "<td>=BLOB=</td>\n",
       "<td>=BLOB=</td>\n",
       "<td>=BLOB=</td>\n",
       "<td>=BLOB=</td></tr><tr><td>40bfa03a7a7018cc</td>\n",
       "<td>0</td>\n",
       "<td>2019-09-17 19:43:06</td>\n",
       "<td>OpenField</td>\n",
       "<td>45.00</td>\n",
       "<td>3</td>\n",
       "<td>0481db364aa0ffe4cfeb82d262c4055b</td>\n",
       "<td>default</td>\n",
       "<td>=BLOB=</td>\n",
       "<td>=BLOB=</td>\n",
       "<td>=BLOB=</td>\n",
       "<td>=BLOB=</td>\n",
       "<td>=BLOB=</td>\n",
       "<td>=BLOB=</td>\n",
       "<td>=BLOB=</td>\n",
       "<td>=BLOB=</td>\n",
       "<td>=BLOB=</td></tr><tr><td>40bfa03a7a7018cc</td>\n",
       "<td>0</td>\n",
       "<td>2019-09-17 19:43:06</td>\n",
       "<td>OpenField</td>\n",
       "<td>45.00</td>\n",
       "<td>3</td>\n",
       "<td>06cce38e29c82f1b6c1f16e218d7b1b4</td>\n",
       "<td>default</td>\n",
       "<td>=BLOB=</td>\n",
       "<td>=BLOB=</td>\n",
       "<td>=BLOB=</td>\n",
       "<td>=BLOB=</td>\n",
       "<td>=BLOB=</td>\n",
       "<td>=BLOB=</td>\n",
       "<td>=BLOB=</td>\n",
       "<td>=BLOB=</td>\n",
       "<td>=BLOB=</td></tr><tr><td>40bfa03a7a7018cc</td>\n",
       "<td>0</td>\n",
       "<td>2019-09-17 19:43:06</td>\n",
       "<td>OpenField</td>\n",
       "<td>45.00</td>\n",
       "<td>4</td>\n",
       "<td>6bf44729b64cb70a645c1fca53151cbc</td>\n",
       "<td>default</td>\n",
       "<td>=BLOB=</td>\n",
       "<td>=BLOB=</td>\n",
       "<td>=BLOB=</td>\n",
       "<td>=BLOB=</td>\n",
       "<td>=BLOB=</td>\n",
       "<td>=BLOB=</td>\n",
       "<td>=BLOB=</td>\n",
       "<td>=BLOB=</td>\n",
       "<td>=BLOB=</td></tr><tr><td>40bfa03a7a7018cc</td>\n",
       "<td>0</td>\n",
       "<td>2019-09-17 19:43:06</td>\n",
       "<td>OpenField</td>\n",
       "<td>45.00</td>\n",
       "<td>4</td>\n",
       "<td>bd180e2d9c82adcd3a99faafddba0661</td>\n",
       "<td>default</td>\n",
       "<td>=BLOB=</td>\n",
       "<td>=BLOB=</td>\n",
       "<td>=BLOB=</td>\n",
       "<td>=BLOB=</td>\n",
       "<td>=BLOB=</td>\n",
       "<td>=BLOB=</td>\n",
       "<td>=BLOB=</td>\n",
       "<td>=BLOB=</td>\n",
       "<td>=BLOB=</td></tr><tr><td>40bfa03a7a7018cc</td>\n",
       "<td>0</td>\n",
       "<td>2019-09-17 19:43:06</td>\n",
       "<td>OpenField</td>\n",
       "<td>45.00</td>\n",
       "<td>5</td>\n",
       "<td>b4ec2fe41796dc975cd4d7ca870a9ae2</td>\n",
       "<td>default</td>\n",
       "<td>=BLOB=</td>\n",
       "<td>=BLOB=</td>\n",
       "<td>=BLOB=</td>\n",
       "<td>=BLOB=</td>\n",
       "<td>=BLOB=</td>\n",
       "<td>=BLOB=</td>\n",
       "<td>=BLOB=</td>\n",
       "<td>=BLOB=</td>\n",
       "<td>=BLOB=</td></tr><tr><td>40bfa03a7a7018cc</td>\n",
       "<td>0</td>\n",
       "<td>2019-09-17 19:43:06</td>\n",
       "<td>OpenField</td>\n",
       "<td>45.00</td>\n",
       "<td>6</td>\n",
       "<td>3750f0a4b56fbb50d16ef2aa091b1777</td>\n",
       "<td>default</td>\n",
       "<td>=BLOB=</td>\n",
       "<td>=BLOB=</td>\n",
       "<td>=BLOB=</td>\n",
       "<td>=BLOB=</td>\n",
       "<td>=BLOB=</td>\n",
       "<td>=BLOB=</td>\n",
       "<td>=BLOB=</td>\n",
       "<td>=BLOB=</td>\n",
       "<td>=BLOB=</td></tr><tr><td>40bfa03a7a7018cc</td>\n",
       "<td>0</td>\n",
       "<td>2019-09-17 19:43:06</td>\n",
       "<td>OpenField</td>\n",
       "<td>45.00</td>\n",
       "<td>7</td>\n",
       "<td>f70c1a6103a2f3f3528e96f8e30ef03b</td>\n",
       "<td>default</td>\n",
       "<td>=BLOB=</td>\n",
       "<td>=BLOB=</td>\n",
       "<td>=BLOB=</td>\n",
       "<td>=BLOB=</td>\n",
       "<td>=BLOB=</td>\n",
       "<td>=BLOB=</td>\n",
       "<td>=BLOB=</td>\n",
       "<td>=BLOB=</td>\n",
       "<td>=BLOB=</td></tr><tr><td>40bfa03a7a7018cc</td>\n",
       "<td>0</td>\n",
       "<td>2019-09-17 19:43:06</td>\n",
       "<td>OpenField</td>\n",
       "<td>45.00</td>\n",
       "<td>8</td>\n",
       "<td>8c7a6e79808cb7a3a5e0521154d9ac86</td>\n",
       "<td>default</td>\n",
       "<td>=BLOB=</td>\n",
       "<td>=BLOB=</td>\n",
       "<td>=BLOB=</td>\n",
       "<td>=BLOB=</td>\n",
       "<td>=BLOB=</td>\n",
       "<td>=BLOB=</td>\n",
       "<td>=BLOB=</td>\n",
       "<td>=BLOB=</td>\n",
       "<td>=BLOB=</td> </tr> </tbody>\n",
       "            </table>\n",
       "            <p>...</p>\n",
       "            <p>Total: 1051</p></div>\n",
       "            "
      ],
      "text/plain": [
       "*animal_id     *datasource_id *session_time  *task_type    *task_start    *unit    *spike_trackin *cell_selectio spike_time speed      x_pos      y_pos      z_pos      head_yaw   head_pitch head_roll  angular_sp\n",
       "+------------+ +------------+ +------------+ +-----------+ +------------+ +------+ +------------+ +------------+ +--------+ +--------+ +--------+ +--------+ +--------+ +--------+ +--------+ +--------+ +--------+\n",
       "40bfa03a7a7018 0              2019-09-17 19: OpenField     45.00          0        31ca6aaae907eb default        =BLOB=     =BLOB=     =BLOB=     =BLOB=     =BLOB=     =BLOB=     =BLOB=     =BLOB=     =BLOB=    \n",
       "40bfa03a7a7018 0              2019-09-17 19: OpenField     45.00          2        963d42326e666b default        =BLOB=     =BLOB=     =BLOB=     =BLOB=     =BLOB=     =BLOB=     =BLOB=     =BLOB=     =BLOB=    \n",
       "40bfa03a7a7018 0              2019-09-17 19: OpenField     45.00          3        0481db364aa0ff default        =BLOB=     =BLOB=     =BLOB=     =BLOB=     =BLOB=     =BLOB=     =BLOB=     =BLOB=     =BLOB=    \n",
       "40bfa03a7a7018 0              2019-09-17 19: OpenField     45.00          3        06cce38e29c82f default        =BLOB=     =BLOB=     =BLOB=     =BLOB=     =BLOB=     =BLOB=     =BLOB=     =BLOB=     =BLOB=    \n",
       "40bfa03a7a7018 0              2019-09-17 19: OpenField     45.00          4        6bf44729b64cb7 default        =BLOB=     =BLOB=     =BLOB=     =BLOB=     =BLOB=     =BLOB=     =BLOB=     =BLOB=     =BLOB=    \n",
       "40bfa03a7a7018 0              2019-09-17 19: OpenField     45.00          4        bd180e2d9c82ad default        =BLOB=     =BLOB=     =BLOB=     =BLOB=     =BLOB=     =BLOB=     =BLOB=     =BLOB=     =BLOB=    \n",
       "40bfa03a7a7018 0              2019-09-17 19: OpenField     45.00          5        b4ec2fe41796dc default        =BLOB=     =BLOB=     =BLOB=     =BLOB=     =BLOB=     =BLOB=     =BLOB=     =BLOB=     =BLOB=    \n",
       "40bfa03a7a7018 0              2019-09-17 19: OpenField     45.00          6        3750f0a4b56fbb default        =BLOB=     =BLOB=     =BLOB=     =BLOB=     =BLOB=     =BLOB=     =BLOB=     =BLOB=     =BLOB=    \n",
       "40bfa03a7a7018 0              2019-09-17 19: OpenField     45.00          7        f70c1a6103a2f3 default        =BLOB=     =BLOB=     =BLOB=     =BLOB=     =BLOB=     =BLOB=     =BLOB=     =BLOB=     =BLOB=    \n",
       "40bfa03a7a7018 0              2019-09-17 19: OpenField     45.00          8        8c7a6e79808cb7 default        =BLOB=     =BLOB=     =BLOB=     =BLOB=     =BLOB=     =BLOB=     =BLOB=     =BLOB=     =BLOB=    \n",
       "   ...\n",
       " (Total: 1051)"
      ]
     },
     "execution_count": 36,
     "metadata": {},
     "output_type": "execute_result"
    }
   ],
   "source": [
    "analysis.TaskSpikesTracking()"
   ]
  },
  {
   "cell_type": "markdown",
   "metadata": {},
   "source": [
    "# Electrode Configuration"
   ]
  },
  {
   "cell_type": "markdown",
   "metadata": {},
   "source": [
    "#### Electrode configuration represents the electrode grouping used in a particular recording from a probe:"
   ]
  },
  {
   "cell_type": "markdown",
   "metadata": {},
   "source": [
    "<img src=\"../images/ephys_pipeline/econfig.png\" alt=\"drawing\" width=\"600\"/>"
   ]
  },
  {
   "cell_type": "markdown",
   "metadata": {},
   "source": [
    "For ***neuropixels*** probe: \n",
    "+ 1 group - which 384 channels used\n",
    "\n",
    "For ***tetrode array*** probe:\n",
    "+ each tetrode is a group\n",
    "+ which channel assigned to which tetrode"
   ]
  },
  {
   "cell_type": "code",
   "execution_count": 37,
   "metadata": {},
   "outputs": [
    {
     "data": {
      "text/html": [
       "\n",
       "        \n",
       "        <style type=\"text/css\">\n",
       "            .Relation{\n",
       "                border-collapse:collapse;\n",
       "            }\n",
       "            .Relation th{\n",
       "                background: #A0A0A0; color: #ffffff; padding:4px; border:#f0e0e0 1px solid;\n",
       "                font-weight: normal; font-family: monospace; font-size: 100%;\n",
       "            }\n",
       "            .Relation td{\n",
       "                padding:4px; border:#f0e0e0 1px solid; font-size:100%;\n",
       "            }\n",
       "            .Relation tr:nth-child(odd){\n",
       "                background: #ffffff;\n",
       "            }\n",
       "            .Relation tr:nth-child(even){\n",
       "                background: #f3f1ff;\n",
       "            }\n",
       "            /* Tooltip container */\n",
       "            .djtooltip {\n",
       "            }\n",
       "            /* Tooltip text */\n",
       "            .djtooltip .djtooltiptext {\n",
       "                visibility: hidden;\n",
       "                width: 120px;\n",
       "                background-color: black;\n",
       "                color: #fff;\n",
       "                text-align: center;\n",
       "                padding: 5px 0;\n",
       "                border-radius: 6px;\n",
       "                /* Position the tooltip text - see examples below! */\n",
       "                position: absolute;\n",
       "                z-index: 1;\n",
       "            }\n",
       "            #primary {\n",
       "                font-weight: bold;\n",
       "                color: black;\n",
       "            }\n",
       "\n",
       "            #nonprimary {\n",
       "                font-weight: normal;\n",
       "                color: white;\n",
       "            }\n",
       "\n",
       "            /* Show the tooltip text when you mouse over the tooltip container */\n",
       "            .djtooltip:hover .djtooltiptext {\n",
       "                visibility: visible;\n",
       "            }\n",
       "        </style>\n",
       "        \n",
       "        <b></b>\n",
       "            <div style=\"max-height:1000px;max-width:1500px;overflow:auto;\">\n",
       "            <table border=\"1\" class=\"Relation\">\n",
       "                <thead> <tr style=\"text-align: right;\"> <th> <div class=\"djtooltip\">\n",
       "                                <p id=\"primary\">probe_model</p>\n",
       "                                <span class=\"djtooltiptext\">nick name, or other user-friendly model name of this probe</span>\n",
       "                            </div></th><th><div class=\"djtooltip\">\n",
       "                                <p id=\"primary\">electrode_config_id</p>\n",
       "                                <span class=\"djtooltiptext\">hash of the group and group_member (ensure uniqueness)</span>\n",
       "                            </div></th><th><div class=\"djtooltip\">\n",
       "                                <p id=\"nonprimary\">electrode_config_name</p>\n",
       "                                <span class=\"djtooltiptext\">user friendly name</span>\n",
       "                            </div> </th> </tr> </thead>\n",
       "                <tbody> <tr> <td>4-tetrode-array</td>\n",
       "<td>222cc704a75a2aea7777cc0899d809fd</td>\n",
       "<td>g_2345-4_chn</td></tr><tr><td>4-tetrode-array</td>\n",
       "<td>657119cc9e911c2c8a536abce16264f0</td>\n",
       "<td>g_5678-4_chn</td></tr><tr><td>4-tetrode-array</td>\n",
       "<td>e1832bbcce7a2aa5fd12f97d7448f9be</td>\n",
       "<td>g_6781-4_chn</td></tr><tr><td>4-tetrode-array</td>\n",
       "<td>e9c6dac82a8bcb02825b0be07735a967</td>\n",
       "<td>g_1234-4_chn</td></tr><tr><td>8-tetrode-array</td>\n",
       "<td>00784804f372476162c7d90e94d8dc3d</td>\n",
       "<td>g_12345678-4_chn</td></tr><tr><td>neuropixels_1.0</td>\n",
       "<td>3bae3f7153f0305d02232efd41217754</td>\n",
       "<td>g_0-384_chn</td> </tr> </tbody>\n",
       "            </table>\n",
       "            \n",
       "            <p>Total: 6</p></div>\n",
       "            "
      ],
      "text/plain": [
       "*probe_model   *electrode_con electrode_conf\n",
       "+------------+ +------------+ +------------+\n",
       "4-tetrode-arra 222cc704a75a2a g_2345-4_chn  \n",
       "4-tetrode-arra 657119cc9e911c g_5678-4_chn  \n",
       "4-tetrode-arra e1832bbcce7a2a g_6781-4_chn  \n",
       "4-tetrode-arra e9c6dac82a8bcb g_1234-4_chn  \n",
       "8-tetrode-arra 00784804f37247 g_12345678-4_c\n",
       "neuropixels_1. 3bae3f7153f030 g_0-384_chn   \n",
       " (Total: 6)"
      ]
     },
     "execution_count": 37,
     "metadata": {},
     "output_type": "execute_result"
    }
   ],
   "source": [
    "reference.ElectrodeConfig()"
   ]
  },
  {
   "cell_type": "code",
   "execution_count": 38,
   "metadata": {},
   "outputs": [
    {
     "data": {
      "text/html": [
       "\n",
       "        \n",
       "        <style type=\"text/css\">\n",
       "            .Relation{\n",
       "                border-collapse:collapse;\n",
       "            }\n",
       "            .Relation th{\n",
       "                background: #A0A0A0; color: #ffffff; padding:4px; border:#f0e0e0 1px solid;\n",
       "                font-weight: normal; font-family: monospace; font-size: 100%;\n",
       "            }\n",
       "            .Relation td{\n",
       "                padding:4px; border:#f0e0e0 1px solid; font-size:100%;\n",
       "            }\n",
       "            .Relation tr:nth-child(odd){\n",
       "                background: #ffffff;\n",
       "            }\n",
       "            .Relation tr:nth-child(even){\n",
       "                background: #f3f1ff;\n",
       "            }\n",
       "            /* Tooltip container */\n",
       "            .djtooltip {\n",
       "            }\n",
       "            /* Tooltip text */\n",
       "            .djtooltip .djtooltiptext {\n",
       "                visibility: hidden;\n",
       "                width: 120px;\n",
       "                background-color: black;\n",
       "                color: #fff;\n",
       "                text-align: center;\n",
       "                padding: 5px 0;\n",
       "                border-radius: 6px;\n",
       "                /* Position the tooltip text - see examples below! */\n",
       "                position: absolute;\n",
       "                z-index: 1;\n",
       "            }\n",
       "            #primary {\n",
       "                font-weight: bold;\n",
       "                color: black;\n",
       "            }\n",
       "\n",
       "            #nonprimary {\n",
       "                font-weight: normal;\n",
       "                color: white;\n",
       "            }\n",
       "\n",
       "            /* Show the tooltip text when you mouse over the tooltip container */\n",
       "            .djtooltip:hover .djtooltiptext {\n",
       "                visibility: visible;\n",
       "            }\n",
       "        </style>\n",
       "        \n",
       "        \n",
       "            <div style=\"max-height:1000px;max-width:1500px;overflow:auto;\">\n",
       "            <table border=\"1\" class=\"Relation\">\n",
       "                <thead> <tr style=\"text-align: right;\"> <th> <div class=\"djtooltip\">\n",
       "                                <p id=\"primary\">probe_model</p>\n",
       "                                <span class=\"djtooltiptext\">nick name, or other user-friendly model name of this probe</span>\n",
       "                            </div></th><th><div class=\"djtooltip\">\n",
       "                                <p id=\"primary\">electrode_config_id</p>\n",
       "                                <span class=\"djtooltiptext\">hash of the group and group_member (ensure uniqueness)</span>\n",
       "                            </div></th><th><div class=\"djtooltip\">\n",
       "                                <p id=\"primary\">electrode_group</p>\n",
       "                                <span class=\"djtooltiptext\">electrode group</span>\n",
       "                            </div></th><th><div class=\"djtooltip\">\n",
       "                                <p id=\"nonprimary\">electrode_config_name</p>\n",
       "                                <span class=\"djtooltiptext\">user friendly name</span>\n",
       "                            </div> </th> </tr> </thead>\n",
       "                <tbody> <tr> <td>4-tetrode-array</td>\n",
       "<td>657119cc9e911c2c8a536abce16264f0</td>\n",
       "<td>5</td>\n",
       "<td>g_5678-4_chn</td></tr><tr><td>4-tetrode-array</td>\n",
       "<td>657119cc9e911c2c8a536abce16264f0</td>\n",
       "<td>6</td>\n",
       "<td>g_5678-4_chn</td></tr><tr><td>4-tetrode-array</td>\n",
       "<td>657119cc9e911c2c8a536abce16264f0</td>\n",
       "<td>7</td>\n",
       "<td>g_5678-4_chn</td></tr><tr><td>4-tetrode-array</td>\n",
       "<td>657119cc9e911c2c8a536abce16264f0</td>\n",
       "<td>8</td>\n",
       "<td>g_5678-4_chn</td> </tr> </tbody>\n",
       "            </table>\n",
       "            \n",
       "            <p>Total: 4</p></div>\n",
       "            "
      ],
      "text/plain": [
       "*probe_model   *electrode_con *electrode_gro electrode_conf\n",
       "+------------+ +------------+ +------------+ +------------+\n",
       "4-tetrode-arra 657119cc9e911c 5              g_5678-4_chn  \n",
       "4-tetrode-arra 657119cc9e911c 6              g_5678-4_chn  \n",
       "4-tetrode-arra 657119cc9e911c 7              g_5678-4_chn  \n",
       "4-tetrode-arra 657119cc9e911c 8              g_5678-4_chn  \n",
       " (Total: 4)"
      ]
     },
     "execution_count": 38,
     "metadata": {},
     "output_type": "execute_result"
    }
   ],
   "source": [
    "reference.ElectrodeConfig.ElectrodeGroup * reference.ElectrodeConfig & 'electrode_config_name = \"g_5678-4_chn\"'"
   ]
  },
  {
   "cell_type": "code",
   "execution_count": 39,
   "metadata": {},
   "outputs": [
    {
     "data": {
      "text/html": [
       "\n",
       "        \n",
       "        <style type=\"text/css\">\n",
       "            .Relation{\n",
       "                border-collapse:collapse;\n",
       "            }\n",
       "            .Relation th{\n",
       "                background: #A0A0A0; color: #ffffff; padding:4px; border:#f0e0e0 1px solid;\n",
       "                font-weight: normal; font-family: monospace; font-size: 100%;\n",
       "            }\n",
       "            .Relation td{\n",
       "                padding:4px; border:#f0e0e0 1px solid; font-size:100%;\n",
       "            }\n",
       "            .Relation tr:nth-child(odd){\n",
       "                background: #ffffff;\n",
       "            }\n",
       "            .Relation tr:nth-child(even){\n",
       "                background: #f3f1ff;\n",
       "            }\n",
       "            /* Tooltip container */\n",
       "            .djtooltip {\n",
       "            }\n",
       "            /* Tooltip text */\n",
       "            .djtooltip .djtooltiptext {\n",
       "                visibility: hidden;\n",
       "                width: 120px;\n",
       "                background-color: black;\n",
       "                color: #fff;\n",
       "                text-align: center;\n",
       "                padding: 5px 0;\n",
       "                border-radius: 6px;\n",
       "                /* Position the tooltip text - see examples below! */\n",
       "                position: absolute;\n",
       "                z-index: 1;\n",
       "            }\n",
       "            #primary {\n",
       "                font-weight: bold;\n",
       "                color: black;\n",
       "            }\n",
       "\n",
       "            #nonprimary {\n",
       "                font-weight: normal;\n",
       "                color: white;\n",
       "            }\n",
       "\n",
       "            /* Show the tooltip text when you mouse over the tooltip container */\n",
       "            .djtooltip:hover .djtooltiptext {\n",
       "                visibility: visible;\n",
       "            }\n",
       "        </style>\n",
       "        \n",
       "        \n",
       "            <div style=\"max-height:1000px;max-width:1500px;overflow:auto;\">\n",
       "            <table border=\"1\" class=\"Relation\">\n",
       "                <thead> <tr style=\"text-align: right;\"> <th> <div class=\"djtooltip\">\n",
       "                                <p id=\"primary\">probe_model</p>\n",
       "                                <span class=\"djtooltiptext\">nick name, or other user-friendly model name of this probe</span>\n",
       "                            </div></th><th><div class=\"djtooltip\">\n",
       "                                <p id=\"primary\">electrode_config_id</p>\n",
       "                                <span class=\"djtooltiptext\">hash of the group and group_member (ensure uniqueness)</span>\n",
       "                            </div></th><th><div class=\"djtooltip\">\n",
       "                                <p id=\"primary\">electrode_group</p>\n",
       "                                <span class=\"djtooltiptext\">electrode group</span>\n",
       "                            </div></th><th><div class=\"djtooltip\">\n",
       "                                <p id=\"primary\">electrode</p>\n",
       "                                <span class=\"djtooltiptext\">electrode</span>\n",
       "                            </div></th><th><div class=\"djtooltip\">\n",
       "                                <p id=\"nonprimary\">electrode_config_name</p>\n",
       "                                <span class=\"djtooltiptext\">user friendly name</span>\n",
       "                            </div> </th> </tr> </thead>\n",
       "                <tbody> <tr> <td>4-tetrode-array</td>\n",
       "<td>657119cc9e911c2c8a536abce16264f0</td>\n",
       "<td>5</td>\n",
       "<td>0</td>\n",
       "<td>g_5678-4_chn</td></tr><tr><td>4-tetrode-array</td>\n",
       "<td>657119cc9e911c2c8a536abce16264f0</td>\n",
       "<td>5</td>\n",
       "<td>1</td>\n",
       "<td>g_5678-4_chn</td></tr><tr><td>4-tetrode-array</td>\n",
       "<td>657119cc9e911c2c8a536abce16264f0</td>\n",
       "<td>5</td>\n",
       "<td>2</td>\n",
       "<td>g_5678-4_chn</td></tr><tr><td>4-tetrode-array</td>\n",
       "<td>657119cc9e911c2c8a536abce16264f0</td>\n",
       "<td>5</td>\n",
       "<td>3</td>\n",
       "<td>g_5678-4_chn</td></tr><tr><td>4-tetrode-array</td>\n",
       "<td>657119cc9e911c2c8a536abce16264f0</td>\n",
       "<td>6</td>\n",
       "<td>4</td>\n",
       "<td>g_5678-4_chn</td></tr><tr><td>4-tetrode-array</td>\n",
       "<td>657119cc9e911c2c8a536abce16264f0</td>\n",
       "<td>6</td>\n",
       "<td>5</td>\n",
       "<td>g_5678-4_chn</td></tr><tr><td>4-tetrode-array</td>\n",
       "<td>657119cc9e911c2c8a536abce16264f0</td>\n",
       "<td>6</td>\n",
       "<td>6</td>\n",
       "<td>g_5678-4_chn</td></tr><tr><td>4-tetrode-array</td>\n",
       "<td>657119cc9e911c2c8a536abce16264f0</td>\n",
       "<td>6</td>\n",
       "<td>7</td>\n",
       "<td>g_5678-4_chn</td></tr><tr><td>4-tetrode-array</td>\n",
       "<td>657119cc9e911c2c8a536abce16264f0</td>\n",
       "<td>7</td>\n",
       "<td>8</td>\n",
       "<td>g_5678-4_chn</td></tr><tr><td>4-tetrode-array</td>\n",
       "<td>657119cc9e911c2c8a536abce16264f0</td>\n",
       "<td>7</td>\n",
       "<td>9</td>\n",
       "<td>g_5678-4_chn</td> </tr> </tbody>\n",
       "            </table>\n",
       "            <p>...</p>\n",
       "            <p>Total: 16</p></div>\n",
       "            "
      ],
      "text/plain": [
       "*probe_model   *electrode_con *electrode_gro *electrode    electrode_conf\n",
       "+------------+ +------------+ +------------+ +-----------+ +------------+\n",
       "4-tetrode-arra 657119cc9e911c 5              0             g_5678-4_chn  \n",
       "4-tetrode-arra 657119cc9e911c 5              1             g_5678-4_chn  \n",
       "4-tetrode-arra 657119cc9e911c 5              2             g_5678-4_chn  \n",
       "4-tetrode-arra 657119cc9e911c 5              3             g_5678-4_chn  \n",
       "4-tetrode-arra 657119cc9e911c 6              4             g_5678-4_chn  \n",
       "4-tetrode-arra 657119cc9e911c 6              5             g_5678-4_chn  \n",
       "4-tetrode-arra 657119cc9e911c 6              6             g_5678-4_chn  \n",
       "4-tetrode-arra 657119cc9e911c 6              7             g_5678-4_chn  \n",
       "4-tetrode-arra 657119cc9e911c 7              8             g_5678-4_chn  \n",
       "4-tetrode-arra 657119cc9e911c 7              9             g_5678-4_chn  \n",
       "   ...\n",
       " (Total: 16)"
      ]
     },
     "execution_count": 39,
     "metadata": {},
     "output_type": "execute_result"
    }
   ],
   "source": [
    "reference.ElectrodeConfig.Electrode * reference.ElectrodeConfig & 'electrode_config_name = \"g_5678-4_chn\"'"
   ]
  },
  {
   "cell_type": "markdown",
   "metadata": {},
   "source": [
    "![](../images/ephys_pipeline/rec_clus.png)"
   ]
  },
  {
   "cell_type": "markdown",
   "metadata": {},
   "source": [
    "# Probe Insertion Location "
   ]
  },
  {
   "cell_type": "markdown",
   "metadata": {},
   "source": [
    "![](../images/ephys_pipeline/probe_insert_loc.png)"
   ]
  },
  {
   "cell_type": "code",
   "execution_count": 40,
   "metadata": {},
   "outputs": [
    {
     "name": "stdout",
     "output_type": "stream",
     "text": [
      "-> acquisition.ProbeInsertion\n",
      "---\n",
      "-> reference.BrainArea\n",
      "hemisphere           : enum('left','right')         \n",
      "-> reference.SkullReference\n",
      "ml_location=null     : float                        # (um) relative to the skull-reference\n",
      "ap_location=null     : float                        # (um) relative to the skull-reference\n",
      "dv_location=null     : float                        # (um) relative to the surface of the dura at the implant location\n",
      "ml_angle=null        : float                        # (degree)\n",
      "ap_angle=null        : float                        # (degree)\n",
      "\n"
     ]
    }
   ],
   "source": [
    "acquisition.ProbeInsertion.InsertionLocation.describe();"
   ]
  },
  {
   "cell_type": "markdown",
   "metadata": {},
   "source": [
    "# Probe Adjustment"
   ]
  },
  {
   "cell_type": "markdown",
   "metadata": {},
   "source": [
    "![](../images/ephys_pipeline/probe_adjust.png)"
   ]
  },
  {
   "cell_type": "code",
   "execution_count": 41,
   "metadata": {},
   "outputs": [
    {
     "name": "stdout",
     "output_type": "stream",
     "text": [
      "-> acquisition.ProbeInsertion\n",
      "adjustment_time      : datetime                     \n",
      "---\n",
      "-> [nullable] acquisition.Session\n",
      "-> reference.Experimenter\n",
      "estimated_depth_change=null : float                        # (um) positive: moving more dorsal (shallower), negative: moving more ventral (deeper)\n",
      "adjustment           : varchar(128)                 # new depth (ideally)\n",
      "\n"
     ]
    }
   ],
   "source": [
    "acquisition.ProbeAdjustment.describe();"
   ]
  }
 ],
 "metadata": {
  "kernelspec": {
   "display_name": "Python 3",
   "language": "python",
   "name": "python3"
  },
  "language_info": {
   "codemirror_mode": {
    "name": "ipython",
    "version": 3
   },
   "file_extension": ".py",
   "mimetype": "text/x-python",
   "name": "python",
   "nbconvert_exporter": "python",
   "pygments_lexer": "ipython3",
   "version": "3.7.0"
  }
 },
 "nbformat": 4,
 "nbformat_minor": 2
}
