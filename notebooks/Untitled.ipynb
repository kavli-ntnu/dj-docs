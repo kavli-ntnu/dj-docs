{
 "cells": [
  {
   "cell_type": "code",
   "execution_count": 2,
   "metadata": {},
   "outputs": [],
   "source": [
    "import datajoint as dj"
   ]
  },
  {
   "cell_type": "code",
   "execution_count": 3,
   "metadata": {},
   "outputs": [],
   "source": [
    "dj.config['database.user'] = 'edgarw'\n",
    "dj.config['database.password'] = None"
   ]
  },
  {
   "cell_type": "code",
   "execution_count": 4,
   "metadata": {},
   "outputs": [
    {
     "name": "stdout",
     "output_type": "stream",
     "text": [
      "Please enter DataJoint password: ········\n",
      "Connecting edgarw@datajoint.it.ntnu.no:3306\n"
     ]
    },
    {
     "data": {
      "text/plain": [
       "DataJoint connection (connected) edgarw@datajoint.it.ntnu.no:3306"
      ]
     },
     "execution_count": 4,
     "metadata": {},
     "output_type": "execute_result"
    }
   ],
   "source": [
    "dj.conn()"
   ]
  },
  {
   "cell_type": "code",
   "execution_count": 8,
   "metadata": {},
   "outputs": [
    {
     "data": {
      "text/plain": [
       "()"
      ]
     },
     "execution_count": 8,
     "metadata": {},
     "output_type": "execute_result"
    }
   ],
   "source": [
    "dj.conn().query('SET PASSWORD FOR weijianz = PASSWORD(\"weijianz\");').fetchall()"
   ]
  },
  {
   "cell_type": "code",
   "execution_count": 10,
   "metadata": {},
   "outputs": [
    {
     "data": {
      "text/plain": [
       "((\"GRANT USAGE ON *.* TO 'weijianz'@'%'\",),\n",
       " (\"GRANT ALL PRIVILEGES ON `group\\\\_flask\\\\_1`.* TO 'weijianz'@'%'\",),\n",
       " (\"GRANT ALL PRIVILEGES ON `group\\\\_imaging\\\\_1`.* TO 'weijianz'@'%'\",),\n",
       " (\"GRANT ALL PRIVILEGES ON `group\\\\_suite2p\\\\_1`.* TO 'weijianz'@'%'\",),\n",
       " (\"GRANT ALL PRIVILEGES ON `user\\\\_horsto\\\\_suite2py`.* TO 'weijianz'@'%'\",),\n",
       " (\"GRANT ALL PRIVILEGES ON `user\\\\_weijianz\\\\_%`.* TO 'weijianz'@'%'\",),\n",
       " (\"GRANT SELECT, REFERENCES ON `group\\\\_shared\\\\_%`.* TO 'weijianz'@'%'\",),\n",
       " (\"GRANT SELECT, REFERENCES ON `prod\\\\_%\\\\_%`.* TO 'weijianz'@'%'\",),\n",
       " (\"GRANT SELECT ON `user\\\\_%\\\\_%`.* TO 'weijianz'@'%'\",))"
      ]
     },
     "execution_count": 10,
     "metadata": {},
     "output_type": "execute_result"
    }
   ],
   "source": [
    "dj.conn().query('SHOW GRANTS FOR weijianz;').fetchall()"
   ]
  },
  {
   "cell_type": "code",
   "execution_count": 6,
   "metadata": {},
   "outputs": [
    {
     "data": {
      "text/plain": [
       "(('_worker_ephys',),\n",
       " ('abrahamv',),\n",
       " ('adm_haagen',),\n",
       " ('adm_simoba',),\n",
       " ('amundsga',),\n",
       " ('andrewhb',),\n",
       " ('annena',),\n",
       " ('austin',),\n",
       " ('bartulm',),\n",
       " ('benjamka',),\n",
       " ('bonnevie',),\n",
       " ('chris',),\n",
       " ('chritur',),\n",
       " ('dagslott',),\n",
       " ('davidcr',),\n",
       " ('deboral',),\n",
       " ('dimitri',),\n",
       " ('edgarw',),\n",
       " ('edvardm',),\n",
       " ('emiliera',),\n",
       " ('endrekr',),\n",
       " ('flaviod',),\n",
       " ('giuliaq',),\n",
       " ('gmmailho',),\n",
       " ('haagen',),\n",
       " ('haagen_test',),\n",
       " ('horsto',),\n",
       " ('jobs_suite2p',),\n",
       " ('jordannc',),\n",
       " ('jorgensu',),\n",
       " ('jsblacks',),\n",
       " ('klausj',),\n",
       " ('kruge',),\n",
       " ('kyrreha',),\n",
       " ('maybm',),\n",
       " ('mmbolton',),\n",
       " ('morreaun',),\n",
       " ('oyviho',),\n",
       " ('ragnhiij',),\n",
       " ('richarga',),\n",
       " ('sebasoa',),\n",
       " ('simoba',),\n",
       " ('soledadgc',),\n",
       " ('talelitl',),\n",
       " ('thinh',),\n",
       " ('thinhn',),\n",
       " ('torgeirw',),\n",
       " ('torstsl',),\n",
       " ('tsao',),\n",
       " ('vadimf',),\n",
       " ('valentno',),\n",
       " ('weijianz',),\n",
       " ('xscogno',),\n",
       " ('datajoint',),\n",
       " ('debian-sys-maint',),\n",
       " ('mysql.session',),\n",
       " ('mysql.sys',),\n",
       " ('root',))"
      ]
     },
     "execution_count": 6,
     "metadata": {},
     "output_type": "execute_result"
    }
   ],
   "source": [
    "dj.conn().query('Select user from mysql.user;').fetchall()"
   ]
  },
  {
   "cell_type": "code",
   "execution_count": null,
   "metadata": {},
   "outputs": [],
   "source": []
  }
 ],
 "metadata": {
  "kernelspec": {
   "display_name": "Python 3",
   "language": "python",
   "name": "python3"
  },
  "language_info": {
   "codemirror_mode": {
    "name": "ipython",
    "version": 3
   },
   "file_extension": ".py",
   "mimetype": "text/x-python",
   "name": "python",
   "nbconvert_exporter": "python",
   "pygments_lexer": "ipython3",
   "version": "3.7.0"
  }
 },
 "nbformat": 4,
 "nbformat_minor": 2
}
