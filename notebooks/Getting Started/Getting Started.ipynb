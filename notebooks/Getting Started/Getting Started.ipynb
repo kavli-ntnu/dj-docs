{
 "cells": [
  {
   "cell_type": "markdown",
   "metadata": {},
   "source": [
    "# Getting Started with Datajoint\n",
    "\n",
    "This notebook will contain a bare minimum example of getting started with Datajoint "
   ]
  },
  {
   "cell_type": "code",
   "execution_count": 1,
   "metadata": {},
   "outputs": [],
   "source": [
    "import datajoint as dj\n",
    "\n",
    "# Initialise fetching from s3 storage\n",
    "from datajoint.s3 import *\n",
    "def new_init(self, endpoint, bucket, access_key, secret_key, location, database, **_):\n",
    "    self.client = minio.Minio(endpoint, access_key=access_key, secret_key=secret_key, secure=dj.config.get(\"secure_s3\", False))\n",
    "    self.bucket = bucket\n",
    "    self.remote_path = '/'.join((location.lstrip('/'), database))\n",
    "Folder.__init__ = new_init\n",
    "\n",
    "# Create interfaces to database\n",
    "animal = dj.create_virtual_module('animal', 'prod_mlims_data')\n",
    "reference = dj.create_virtual_module('reference', 'group_shared_reference')\n",
    "acquisition = dj.create_virtual_module('acquisition', 'group_shared_acquisition')\n",
    "tracking = dj.create_virtual_module('tracking', 'group_shared_tracking')\n",
    "behavior = dj.create_virtual_module('behavior', 'group_shared_behavior')\n",
    "ephys = dj.create_virtual_module('ephys', 'group_shared_ephys')\n",
    "analysis = dj.create_virtual_module('analysis', 'group_shared_analysis')\n",
    "ingestion = dj.create_virtual_module('ingestion', 'group_shared_ingestion')\n",
    "analysis_param = dj.create_virtual_module('analysis_param', 'group_shared_analysis_param')"
   ]
  },
  {
   "cell_type": "markdown",
   "metadata": {},
   "source": [
    "### Yup, that's it\n",
    "\n",
    "This will load your saved Datajoint configuration, including your username and password. If it asks you for configuration details, check that you have followed the starting guide on [Github](https://github.com/kavli-ntnu/dj-elphys/wiki/Zero-to-DataJoint)"
   ]
  },
  {
   "cell_type": "code",
   "execution_count": null,
   "metadata": {},
   "outputs": [],
   "source": []
  }
 ],
 "metadata": {
  "kernelspec": {
   "display_name": "dj36",
   "language": "python",
   "name": "dj36"
  },
  "language_info": {
   "codemirror_mode": {
    "name": "ipython",
    "version": 3
   },
   "file_extension": ".py",
   "mimetype": "text/x-python",
   "name": "python",
   "nbconvert_exporter": "python",
   "pygments_lexer": "ipython3",
   "version": "3.6.7"
  }
 },
 "nbformat": 4,
 "nbformat_minor": 4
}
