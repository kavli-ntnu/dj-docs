{
 "cells": [
  {
   "cell_type": "code",
   "execution_count": 2,
   "metadata": {},
   "outputs": [
    {
     "name": "stdout",
     "output_type": "stream",
     "text": [
      "Connecting root@localhost:3306\n"
     ]
    },
    {
     "data": {
      "text/plain": [
       "DataJoint connection (connected) root@localhost:3306"
      ]
     },
     "execution_count": 2,
     "metadata": {},
     "output_type": "execute_result"
    }
   ],
   "source": [
    "import datajoint as dj\n",
    "import matplotlib.pyplot as plt\n",
    "from datetime import datetime\n",
    "dj.conn()"
   ]
  },
  {
   "cell_type": "code",
   "execution_count": 3,
   "metadata": {},
   "outputs": [],
   "source": [
    "from ephys import ingestion, reference, acquisition, behavior, ephys, analysis, analysis_param"
   ]
  },
  {
   "cell_type": "markdown",
   "metadata": {},
   "source": [
    "# Submit a request to ingest multi-sess Unit spreadsheet"
   ]
  },
  {
   "cell_type": "markdown",
   "metadata": {},
   "source": [
    "### Build the request"
   ]
  },
  {
   "cell_type": "code",
   "execution_count": 4,
   "metadata": {},
   "outputs": [],
   "source": [
    "msess_unit_request = {'animal_id': '575882867c176190',\n",
    "                      'datasource_id': 0, \n",
    "                      'multisess_unit_requester': 'testuser',\n",
    "                      'curator': 'emiliera',\n",
    "                      'spreadsheet_full_path': 'F:\\Moser\\Downloads\\moser_multisess_unit.xlsx'}"
   ]
  },
  {
   "cell_type": "markdown",
   "metadata": {},
   "source": [
    "### Submit the request"
   ]
  },
  {
   "cell_type": "code",
   "execution_count": 5,
   "metadata": {},
   "outputs": [],
   "source": [
    "ingestion.MultiSessUnitRequest.insert1(msess_unit_request)"
   ]
  },
  {
   "cell_type": "markdown",
   "metadata": {},
   "source": [
    "### Process the request"
   ]
  },
  {
   "cell_type": "code",
   "execution_count": 6,
   "metadata": {},
   "outputs": [],
   "source": [
    "ingestion.ProcessedMultiSessUnitRequest.populate()"
   ]
  },
  {
   "cell_type": "code",
   "execution_count": 7,
   "metadata": {},
   "outputs": [],
   "source": [
    "msg = ingestion.ProcessedMultiSessUnitRequest.fetch1('log_msg')"
   ]
  },
  {
   "cell_type": "code",
   "execution_count": 8,
   "metadata": {},
   "outputs": [
    {
     "name": "stdout",
     "output_type": "stream",
     "text": [
      "Unique unit 1 - Unchanged - 2 Member unit(s)\n",
      "Unique unit 2 - Unchanged - 2 Member unit(s)\n",
      "Unique unit 3 - Unchanged - 2 Member unit(s)\n",
      "Unique unit 4 - Unchanged - 2 Member unit(s)\n",
      "Unique unit 5 - Unchanged - 2 Member unit(s)\n",
      "Unique unit 6 - Unchanged - 2 Member unit(s)\n",
      "Unique unit 7 - Unchanged - 2 Member unit(s)\n",
      "Unique unit 8 - Unchanged - 2 Member unit(s)\n",
      "Unique unit 9 - Unchanged - 2 Member unit(s)\n",
      "Unique unit 10 - Unchanged - 2 Member unit(s)\n",
      "Unique unit 11 - Member unit keys error, skipped...\n",
      "Unique unit 12 - Member unit keys error, skipped...\n",
      "Unique unit 13 - Member unit keys error, skipped...\n",
      "Unique unit 14 - Member unit keys error, skipped...\n",
      "Unique unit 15 - Member unit keys error, skipped...\n",
      "Unique unit 16 - Member unit keys error, skipped...\n",
      "Unique unit 17 - Member unit keys error, skipped...\n",
      "Unique unit 18 - Member unit keys error, skipped...\n",
      "Unique unit 19 - Member unit keys error, skipped...\n",
      "Unique unit 20 - Member unit keys error, skipped...\n",
      "Unique unit 21 - Member unit keys error, skipped...\n",
      "Unique unit 22 - Member unit keys error, skipped...\n",
      "Unique unit 23 - Member unit keys error, skipped...\n",
      "Unique unit 24 - Member unit keys error, skipped...\n",
      "Unique unit 25 - Member unit keys error, skipped...\n",
      "Unique unit 26 - Member unit keys error, skipped...\n",
      "Unique unit 27 - Member unit keys error, skipped...\n",
      "Unique unit 28 - Member unit keys error, skipped...\n",
      "Unique unit 29 - Member unit keys error, skipped...\n",
      "Unique unit 30 - Member unit keys error, skipped...\n",
      "Unique unit 31 - Unchanged - 1 Member unit(s)\n",
      "Unique unit 32 - Member unit keys error, skipped...\n",
      "Unique unit 33 - Member unit keys error, skipped...\n",
      "Unique unit 34 - Member unit keys error, skipped...\n",
      "Unique unit 35 - Member unit keys error, skipped...\n",
      "Unique unit 36 - Member unit keys error, skipped...\n",
      "Unique unit 37 - Member unit keys error, skipped...\n",
      "Unique unit 38 - Member unit keys error, skipped...\n",
      "Unique unit 39 - Member unit keys error, skipped...\n"
     ]
    }
   ],
   "source": [
    "print(msg)"
   ]
  },
  {
   "cell_type": "markdown",
   "metadata": {},
   "source": [
    "# Analysis results of multi-session unit"
   ]
  },
  {
   "cell_type": "markdown",
   "metadata": {},
   "source": [
    "### Select a multi-sess unit of interest"
   ]
  },
  {
   "cell_type": "code",
   "execution_count": 9,
   "metadata": {},
   "outputs": [
    {
     "data": {
      "text/html": [
       "\n",
       "        \n",
       "        <style type=\"text/css\">\n",
       "            .Relation{\n",
       "                border-collapse:collapse;\n",
       "            }\n",
       "            .Relation th{\n",
       "                background: #A0A0A0; color: #ffffff; padding:4px; border:#f0e0e0 1px solid;\n",
       "                font-weight: normal; font-family: monospace; font-size: 100%;\n",
       "            }\n",
       "            .Relation td{\n",
       "                padding:4px; border:#f0e0e0 1px solid; font-size:100%;\n",
       "            }\n",
       "            .Relation tr:nth-child(odd){\n",
       "                background: #ffffff;\n",
       "            }\n",
       "            .Relation tr:nth-child(even){\n",
       "                background: #f3f1ff;\n",
       "            }\n",
       "            /* Tooltip container */\n",
       "            .djtooltip {\n",
       "            }\n",
       "            /* Tooltip text */\n",
       "            .djtooltip .djtooltiptext {\n",
       "                visibility: hidden;\n",
       "                width: 120px;\n",
       "                background-color: black;\n",
       "                color: #fff;\n",
       "                text-align: center;\n",
       "                padding: 5px 0;\n",
       "                border-radius: 6px;\n",
       "                /* Position the tooltip text - see examples below! */\n",
       "                position: absolute;\n",
       "                z-index: 1;\n",
       "            }\n",
       "            #primary {\n",
       "                font-weight: bold;\n",
       "                color: black;\n",
       "            }\n",
       "\n",
       "            #nonprimary {\n",
       "                font-weight: normal;\n",
       "                color: white;\n",
       "            }\n",
       "\n",
       "            /* Show the tooltip text when you mouse over the tooltip container */\n",
       "            .djtooltip:hover .djtooltiptext {\n",
       "                visibility: visible;\n",
       "            }\n",
       "        </style>\n",
       "        \n",
       "        <b></b>\n",
       "            <div style=\"max-height:1000px;max-width:1500px;overflow:auto;\">\n",
       "            <table border=\"1\" class=\"Relation\">\n",
       "                <thead> <tr style=\"text-align: right;\"> <th> <div class=\"djtooltip\">\n",
       "                                <p id=\"primary\">animal_id</p>\n",
       "                                <span class=\"djtooltiptext\"></span>\n",
       "                            </div></th><th><div class=\"djtooltip\">\n",
       "                                <p id=\"primary\">datasource_id</p>\n",
       "                                <span class=\"djtooltiptext\"></span>\n",
       "                            </div></th><th><div class=\"djtooltip\">\n",
       "                                <p id=\"primary\">insertion_time</p>\n",
       "                                <span class=\"djtooltiptext\">When this probe was inserted</span>\n",
       "                            </div></th><th><div class=\"djtooltip\">\n",
       "                                <p id=\"primary\">unit_uuid</p>\n",
       "                                <span class=\"djtooltiptext\"></span>\n",
       "                            </div></th><th><div class=\"djtooltip\">\n",
       "                                <p id=\"nonprimary\">unit_name</p>\n",
       "                                <span class=\"djtooltiptext\">friendly unit name/id the curator name this global unit (uniqueness not enforced)</span>\n",
       "                            </div></th><th><div class=\"djtooltip\">\n",
       "                                <p id=\"nonprimary\">curator</p>\n",
       "                                <span class=\"djtooltiptext\"></span>\n",
       "                            </div></th><th><div class=\"djtooltip\">\n",
       "                                <p id=\"nonprimary\">member_units_hash</p>\n",
       "                                <span class=\"djtooltiptext\"></span>\n",
       "                            </div> </th> </tr> </thead>\n",
       "                <tbody> <tr> <td>575882867c176190</td>\n",
       "<td>0</td>\n",
       "<td>2019-04-04 00:00:00</td>\n",
       "<td>136083c2-a4c0-4ccd-9d80-8c5d8a9f8c73</td>\n",
       "<td>2</td>\n",
       "<td>emiliera</td>\n",
       "<td>3cdd55c7bb305efe4527f1443a5ec86b</td></tr><tr><td>575882867c176190</td>\n",
       "<td>0</td>\n",
       "<td>2019-04-04 00:00:00</td>\n",
       "<td>2b1189d6-8f8d-4f3a-9feb-884e2de7551b</td>\n",
       "<td>7</td>\n",
       "<td>emiliera</td>\n",
       "<td>567ba8e38f9ebbbb707f5ae446608c66</td></tr><tr><td>575882867c176190</td>\n",
       "<td>0</td>\n",
       "<td>2019-04-04 00:00:00</td>\n",
       "<td>2db96ce3-f07b-4fda-9aa5-f1e078ac089d</td>\n",
       "<td>10</td>\n",
       "<td>emiliera</td>\n",
       "<td>8f8c7296531882ae30ca80643862d4a7</td></tr><tr><td>575882867c176190</td>\n",
       "<td>0</td>\n",
       "<td>2019-04-04 00:00:00</td>\n",
       "<td>30360de7-ff6e-420a-a2ee-911239ba35ac</td>\n",
       "<td>5</td>\n",
       "<td>emiliera</td>\n",
       "<td>7c69e16048c9a9987626107c1de7e48a</td></tr><tr><td>575882867c176190</td>\n",
       "<td>0</td>\n",
       "<td>2019-04-04 00:00:00</td>\n",
       "<td>701aa386-adf3-4c9c-973f-65d2b94a7a93</td>\n",
       "<td>4</td>\n",
       "<td>emiliera</td>\n",
       "<td>b2dd5c434f89f6472be515059b3780c7</td></tr><tr><td>575882867c176190</td>\n",
       "<td>0</td>\n",
       "<td>2019-04-04 00:00:00</td>\n",
       "<td>75c25ee6-016a-4b98-b85e-a662b6f695ea</td>\n",
       "<td>31</td>\n",
       "<td>emiliera</td>\n",
       "<td>9f7e368bd5c04d1282a70049ab38b896</td></tr><tr><td>575882867c176190</td>\n",
       "<td>0</td>\n",
       "<td>2019-04-04 00:00:00</td>\n",
       "<td>77db08c4-e5a2-4ae5-9487-4b3986cbfad2</td>\n",
       "<td>3</td>\n",
       "<td>emiliera</td>\n",
       "<td>3f8445e58beba746637758354df00534</td> </tr> </tbody>\n",
       "            </table>\n",
       "            <p>...</p>\n",
       "            <p>Total: 11</p></div>\n",
       "            "
      ],
      "text/plain": [
       "*animal_id     *datasource_id *insertion_tim *unit_uuid     unit_name     curator      member_units_h\n",
       "+------------+ +------------+ +------------+ +------------+ +-----------+ +----------+ +------------+\n",
       "575882867c1761 0              2019-04-04 00: 136083c2-a4c0- 2             emiliera     3cdd55c7bb305e\n",
       "575882867c1761 0              2019-04-04 00: 2b1189d6-8f8d- 7             emiliera     567ba8e38f9ebb\n",
       "575882867c1761 0              2019-04-04 00: 2db96ce3-f07b- 10            emiliera     8f8c7296531882\n",
       "575882867c1761 0              2019-04-04 00: 30360de7-ff6e- 5             emiliera     7c69e16048c9a9\n",
       "575882867c1761 0              2019-04-04 00: 701aa386-adf3- 4             emiliera     b2dd5c434f89f6\n",
       "575882867c1761 0              2019-04-04 00: 75c25ee6-016a- 31            emiliera     9f7e368bd5c04d\n",
       "575882867c1761 0              2019-04-04 00: 77db08c4-e5a2- 3             emiliera     3f8445e58beba7\n",
       "   ...\n",
       " (Total: 11)"
      ]
     },
     "execution_count": 9,
     "metadata": {},
     "output_type": "execute_result"
    }
   ],
   "source": [
    "ephys.MultiSessUnit()"
   ]
  },
  {
   "cell_type": "code",
   "execution_count": 10,
   "metadata": {},
   "outputs": [],
   "source": [
    "msess_unit = (ephys.MultiSessUnit & 'curator = \"emiliera\"' & 'unit_name = 2').fetch1('KEY')"
   ]
  },
  {
   "cell_type": "markdown",
   "metadata": {},
   "source": [
    "### Get all the per-session units for the selected multi-sess unit"
   ]
  },
  {
   "cell_type": "code",
   "execution_count": 11,
   "metadata": {},
   "outputs": [
    {
     "data": {
      "text/html": [
       "\n",
       "        \n",
       "        <style type=\"text/css\">\n",
       "            .Relation{\n",
       "                border-collapse:collapse;\n",
       "            }\n",
       "            .Relation th{\n",
       "                background: #A0A0A0; color: #ffffff; padding:4px; border:#f0e0e0 1px solid;\n",
       "                font-weight: normal; font-family: monospace; font-size: 100%;\n",
       "            }\n",
       "            .Relation td{\n",
       "                padding:4px; border:#f0e0e0 1px solid; font-size:100%;\n",
       "            }\n",
       "            .Relation tr:nth-child(odd){\n",
       "                background: #ffffff;\n",
       "            }\n",
       "            .Relation tr:nth-child(even){\n",
       "                background: #f3f1ff;\n",
       "            }\n",
       "            /* Tooltip container */\n",
       "            .djtooltip {\n",
       "            }\n",
       "            /* Tooltip text */\n",
       "            .djtooltip .djtooltiptext {\n",
       "                visibility: hidden;\n",
       "                width: 120px;\n",
       "                background-color: black;\n",
       "                color: #fff;\n",
       "                text-align: center;\n",
       "                padding: 5px 0;\n",
       "                border-radius: 6px;\n",
       "                /* Position the tooltip text - see examples below! */\n",
       "                position: absolute;\n",
       "                z-index: 1;\n",
       "            }\n",
       "            #primary {\n",
       "                font-weight: bold;\n",
       "                color: black;\n",
       "            }\n",
       "\n",
       "            #nonprimary {\n",
       "                font-weight: normal;\n",
       "                color: white;\n",
       "            }\n",
       "\n",
       "            /* Show the tooltip text when you mouse over the tooltip container */\n",
       "            .djtooltip:hover .djtooltiptext {\n",
       "                visibility: visible;\n",
       "            }\n",
       "        </style>\n",
       "        \n",
       "        <b></b>\n",
       "            <div style=\"max-height:1000px;max-width:1500px;overflow:auto;\">\n",
       "            <table border=\"1\" class=\"Relation\">\n",
       "                <thead> <tr style=\"text-align: right;\"> <th> <div class=\"djtooltip\">\n",
       "                                <p id=\"primary\">animal_id</p>\n",
       "                                <span class=\"djtooltiptext\"></span>\n",
       "                            </div></th><th><div class=\"djtooltip\">\n",
       "                                <p id=\"primary\">datasource_id</p>\n",
       "                                <span class=\"djtooltiptext\"></span>\n",
       "                            </div></th><th><div class=\"djtooltip\">\n",
       "                                <p id=\"primary\">insertion_time</p>\n",
       "                                <span class=\"djtooltiptext\">When this probe was inserted</span>\n",
       "                            </div></th><th><div class=\"djtooltip\">\n",
       "                                <p id=\"primary\">unit_uuid</p>\n",
       "                                <span class=\"djtooltiptext\"></span>\n",
       "                            </div></th><th><div class=\"djtooltip\">\n",
       "                                <p id=\"primary\">group_name</p>\n",
       "                                <span class=\"djtooltiptext\"></span>\n",
       "                            </div></th><th><div class=\"djtooltip\">\n",
       "                                <p id=\"primary\">time_window_name</p>\n",
       "                                <span class=\"djtooltiptext\">unique name for this window set</span>\n",
       "                            </div></th><th><div class=\"djtooltip\">\n",
       "                                <p id=\"primary\">cluster_param_name</p>\n",
       "                                <span class=\"djtooltiptext\">some unique name, ideally reflecting the method as well</span>\n",
       "                            </div></th><th><div class=\"djtooltip\">\n",
       "                                <p id=\"primary\">probe_model</p>\n",
       "                                <span class=\"djtooltiptext\">nick name, or other user-friendly model name of this probe</span>\n",
       "                            </div></th><th><div class=\"djtooltip\">\n",
       "                                <p id=\"primary\">electrode_config_id</p>\n",
       "                                <span class=\"djtooltiptext\">hash of the group and group_member (ensure uniqueness)</span>\n",
       "                            </div></th><th><div class=\"djtooltip\">\n",
       "                                <p id=\"primary\">sync_method</p>\n",
       "                                <span class=\"djtooltiptext\">sync method name</span>\n",
       "                            </div></th><th><div class=\"djtooltip\">\n",
       "                                <p id=\"primary\">curation_timestamps</p>\n",
       "                                <span class=\"djtooltiptext\">ensure complete datetime here to prevent collision (in the rare case of multiple people curate at the exact same datetime)</span>\n",
       "                            </div></th><th><div class=\"djtooltip\">\n",
       "                                <p id=\"primary\">unit</p>\n",
       "                                <span class=\"djtooltiptext\"></span>\n",
       "                            </div> </th> </tr> </thead>\n",
       "                <tbody> <tr> <td>575882867c176190</td>\n",
       "<td>0</td>\n",
       "<td>2019-04-04 00:00:00</td>\n",
       "<td>136083c2-a4c0-4ccd-9d80-8c5d8a9f8c73</td>\n",
       "<td>det_229a013f343836f8976421f523887bb9</td>\n",
       "<td>full_dbd211aff6e7622a</td>\n",
       "<td>default_mclust</td>\n",
       "<td>4-tetrode-array</td>\n",
       "<td>e9c6dac82a8bcb02825b0be07735a967</td>\n",
       "<td>linear_interp</td>\n",
       "<td>2019-09-24 13:37:20</td>\n",
       "<td>1002</td></tr><tr><td>575882867c176190</td>\n",
       "<td>0</td>\n",
       "<td>2019-04-04 00:00:00</td>\n",
       "<td>136083c2-a4c0-4ccd-9d80-8c5d8a9f8c73</td>\n",
       "<td>det_82b5ff9fe7464161f05b9f9f7b9c4fe4</td>\n",
       "<td>full_6b17f214a76ac1b8</td>\n",
       "<td>default_mclust</td>\n",
       "<td>4-tetrode-array</td>\n",
       "<td>e9c6dac82a8bcb02825b0be07735a967</td>\n",
       "<td>linear_interp</td>\n",
       "<td>2019-09-27 14:10:10</td>\n",
       "<td>1002</td> </tr> </tbody>\n",
       "            </table>\n",
       "            \n",
       "            <p>Total: 2</p></div>\n",
       "            "
      ],
      "text/plain": [
       "*animal_id     *datasource_id *insertion_tim *unit_uuid     *group_name    *time_window_n *cluster_param *probe_model   *electrode_con *sync_method   *curation_time *unit   \n",
       "+------------+ +------------+ +------------+ +------------+ +------------+ +------------+ +------------+ +------------+ +------------+ +------------+ +------------+ +------+\n",
       "575882867c1761 0              2019-04-04 00: 136083c2-a4c0- det_229a013f34 full_dbd211aff default_mclust 4-tetrode-arra e9c6dac82a8bcb linear_interp  2019-09-24 13: 1002    \n",
       "575882867c1761 0              2019-04-04 00: 136083c2-a4c0- det_82b5ff9fe7 full_6b17f214a default_mclust 4-tetrode-arra e9c6dac82a8bcb linear_interp  2019-09-27 14: 1002    \n",
       " (Total: 2)"
      ]
     },
     "execution_count": 11,
     "metadata": {},
     "output_type": "execute_result"
    }
   ],
   "source": [
    "ephys.MultiSessUnit.MemberUnit & msess_unit"
   ]
  },
  {
   "cell_type": "code",
   "execution_count": 12,
   "metadata": {},
   "outputs": [],
   "source": [
    "units = (ephys.MultiSessUnit.MemberUnit & msess_unit).fetch('KEY')"
   ]
  },
  {
   "cell_type": "markdown",
   "metadata": {},
   "source": [
    "### Specify all analysis param-sets (hint: from CellAnalysisMethod)"
   ]
  },
  {
   "cell_type": "code",
   "execution_count": 13,
   "metadata": {},
   "outputs": [],
   "source": [
    "cell_method = (analysis_param.FavoriteSelection & 'user = \"emiliera\"').fetch1('cell_analysis_method')"
   ]
  },
  {
   "cell_type": "code",
   "execution_count": 14,
   "metadata": {},
   "outputs": [
    {
     "data": {
      "text/plain": [
       "'pass_all_method'"
      ]
     },
     "execution_count": 14,
     "metadata": {},
     "output_type": "execute_result"
    }
   ],
   "source": [
    "cell_method"
   ]
  },
  {
   "cell_type": "markdown",
   "metadata": {},
   "source": [
    "Here we use a helper function `analysis_param.get_method_restrictor()` that takes the `cell_analysis_method` as argument (either a string or dict). This function returns a dictionary of all analysis parameter set under the specified `cell_analysis_method`, which then can be used as restrictor. "
   ]
  },
  {
   "cell_type": "code",
   "execution_count": 15,
   "metadata": {},
   "outputs": [],
   "source": [
    "method_restrictor = analysis_param.get_method_restrictor(cell_method)  # helper function"
   ]
  },
  {
   "cell_type": "code",
   "execution_count": 16,
   "metadata": {},
   "outputs": [
    {
     "data": {
      "text/plain": [
       "{'shuffle_params_name': 'default',\n",
       " 'score_params_name': 'default',\n",
       " 'smoothing_params_name': 'default',\n",
       " 'occu_params_name': 'default',\n",
       " 'field_detect_params_name': 'default',\n",
       " 'cell_selection_params_name': 'pass_all'}"
      ]
     },
     "execution_count": 16,
     "metadata": {},
     "output_type": "execute_result"
    }
   ],
   "source": [
    "method_restrictor"
   ]
  },
  {
   "cell_type": "markdown",
   "metadata": {},
   "source": [
    "### Check ratemaps for the member units, computed using the specified param-sets"
   ]
  },
  {
   "cell_type": "code",
   "execution_count": 17,
   "metadata": {},
   "outputs": [
    {
     "data": {
      "text/html": [
       "\n",
       "        \n",
       "        <style type=\"text/css\">\n",
       "            .Relation{\n",
       "                border-collapse:collapse;\n",
       "            }\n",
       "            .Relation th{\n",
       "                background: #A0A0A0; color: #ffffff; padding:4px; border:#f0e0e0 1px solid;\n",
       "                font-weight: normal; font-family: monospace; font-size: 100%;\n",
       "            }\n",
       "            .Relation td{\n",
       "                padding:4px; border:#f0e0e0 1px solid; font-size:100%;\n",
       "            }\n",
       "            .Relation tr:nth-child(odd){\n",
       "                background: #ffffff;\n",
       "            }\n",
       "            .Relation tr:nth-child(even){\n",
       "                background: #f3f1ff;\n",
       "            }\n",
       "            /* Tooltip container */\n",
       "            .djtooltip {\n",
       "            }\n",
       "            /* Tooltip text */\n",
       "            .djtooltip .djtooltiptext {\n",
       "                visibility: hidden;\n",
       "                width: 120px;\n",
       "                background-color: black;\n",
       "                color: #fff;\n",
       "                text-align: center;\n",
       "                padding: 5px 0;\n",
       "                border-radius: 6px;\n",
       "                /* Position the tooltip text - see examples below! */\n",
       "                position: absolute;\n",
       "                z-index: 1;\n",
       "            }\n",
       "            #primary {\n",
       "                font-weight: bold;\n",
       "                color: black;\n",
       "            }\n",
       "\n",
       "            #nonprimary {\n",
       "                font-weight: normal;\n",
       "                color: white;\n",
       "            }\n",
       "\n",
       "            /* Show the tooltip text when you mouse over the tooltip container */\n",
       "            .djtooltip:hover .djtooltiptext {\n",
       "                visibility: visible;\n",
       "            }\n",
       "        </style>\n",
       "        \n",
       "        \n",
       "            <div style=\"max-height:1000px;max-width:1500px;overflow:auto;\">\n",
       "            <table border=\"1\" class=\"Relation\">\n",
       "                <thead> <tr style=\"text-align: right;\"> <th> <div class=\"djtooltip\">\n",
       "                                <p id=\"primary\">animal_id</p>\n",
       "                                <span class=\"djtooltiptext\">animal</span>\n",
       "                            </div></th><th><div class=\"djtooltip\">\n",
       "                                <p id=\"primary\">datasource_id</p>\n",
       "                                <span class=\"djtooltiptext\">animal</span>\n",
       "                            </div></th><th><div class=\"djtooltip\">\n",
       "                                <p id=\"primary\">session_time</p>\n",
       "                                <span class=\"djtooltiptext\">start time of this session</span>\n",
       "                            </div></th><th><div class=\"djtooltip\">\n",
       "                                <p id=\"primary\">unit</p>\n",
       "                                <span class=\"djtooltiptext\">unit id</span>\n",
       "                            </div></th><th><div class=\"djtooltip\">\n",
       "                                <p id=\"primary\">task_type</p>\n",
       "                                <span class=\"djtooltiptext\"></span>\n",
       "                            </div></th><th><div class=\"djtooltip\">\n",
       "                                <p id=\"primary\">task_start</p>\n",
       "                                <span class=\"djtooltiptext\">(s) timestamp of task onset with respect to the start of the session</span>\n",
       "                            </div></th><th><div class=\"djtooltip\">\n",
       "                                <p id=\"primary\">task_spike_tracking_hash</p>\n",
       "                                <span class=\"djtooltiptext\">hash of the TaskSpikesTracking primary_key</span>\n",
       "                            </div></th><th><div class=\"djtooltip\">\n",
       "                                <p id=\"primary\">occu_params_name</p>\n",
       "                                <span class=\"djtooltiptext\">Parameter set ID, starting with 'default'</span>\n",
       "                            </div></th><th><div class=\"djtooltip\">\n",
       "                                <p id=\"primary\">smoothing_params_name</p>\n",
       "                                <span class=\"djtooltiptext\"></span>\n",
       "                            </div></th><th><div class=\"djtooltip\">\n",
       "                                <p id=\"primary\">analysis_package</p>\n",
       "                                <span class=\"djtooltiptext\"></span>\n",
       "                            </div></th><th><div class=\"djtooltip\">\n",
       "                                <p id=\"primary\">cell_selection_params_name</p>\n",
       "                                <span class=\"djtooltiptext\">user-friendly name</span>\n",
       "                            </div></th><th><div class=\"djtooltip\">\n",
       "                                <p id=\"primary\">field_detect_params_name</p>\n",
       "                                <span class=\"djtooltiptext\">Field detection method name, starting with A</span>\n",
       "                            </div></th><th><div class=\"djtooltip\">\n",
       "                                <p id=\"nonprimary\">ratemap</p>\n",
       "                                <span class=\"djtooltiptext\">(Hz) Smoothed 2D ratemap</span>\n",
       "                            </div></th><th><div class=\"djtooltip\">\n",
       "                                <p id=\"nonprimary\">ratemap_mask</p>\n",
       "                                <span class=\"djtooltiptext\">(bool) Mask (where time = 0)</span>\n",
       "                            </div></th><th><div class=\"djtooltip\">\n",
       "                                <p id=\"nonprimary\">ratemap_raw</p>\n",
       "                                <span class=\"djtooltiptext\">(Hz) Unsmoothed ratemap</span>\n",
       "                            </div></th><th><div class=\"djtooltip\">\n",
       "                                <p id=\"nonprimary\">fieldmap</p>\n",
       "                                <span class=\"djtooltiptext\">Labelled map of firing fields</span>\n",
       "                            </div></th><th><div class=\"djtooltip\">\n",
       "                                <p id=\"nonprimary\">field_quantity</p>\n",
       "                                <span class=\"djtooltiptext\">Number of firing fields</span>\n",
       "                            </div></th><th><div class=\"djtooltip\">\n",
       "                                <p id=\"nonprimary\">peak_rate</p>\n",
       "                                <span class=\"djtooltiptext\">(Hz) Peak firing rate of smoothed ratemap</span>\n",
       "                            </div></th><th><div class=\"djtooltip\">\n",
       "                                <p id=\"nonprimary\">mean_rate</p>\n",
       "                                <span class=\"djtooltiptext\">(Hz) Mean firing rate of smoothed ratemap</span>\n",
       "                            </div></th><th><div class=\"djtooltip\">\n",
       "                                <p id=\"nonprimary\">spatial_information_rate</p>\n",
       "                                <span class=\"djtooltiptext\">(bits/s) Information rate</span>\n",
       "                            </div></th><th><div class=\"djtooltip\">\n",
       "                                <p id=\"nonprimary\">spatial_information_content</p>\n",
       "                                <span class=\"djtooltiptext\">(bits/spike)</span>\n",
       "                            </div></th><th><div class=\"djtooltip\">\n",
       "                                <p id=\"nonprimary\">spatial_coherence</p>\n",
       "                                <span class=\"djtooltiptext\"></span>\n",
       "                            </div></th><th><div class=\"djtooltip\">\n",
       "                                <p id=\"nonprimary\">selectivity</p>\n",
       "                                <span class=\"djtooltiptext\"></span>\n",
       "                            </div></th><th><div class=\"djtooltip\">\n",
       "                                <p id=\"nonprimary\">sparsity</p>\n",
       "                                <span class=\"djtooltiptext\"></span>\n",
       "                            </div></th><th><div class=\"djtooltip\">\n",
       "                                <p id=\"nonprimary\">version_ratemap</p>\n",
       "                                <span class=\"djtooltiptext\">e.g. opexebo_1.0.0</span>\n",
       "                            </div></th><th><div class=\"djtooltip\">\n",
       "                                <p id=\"nonprimary\">insertion_time</p>\n",
       "                                <span class=\"djtooltiptext\">When this probe was inserted</span>\n",
       "                            </div></th><th><div class=\"djtooltip\">\n",
       "                                <p id=\"nonprimary\">group_name</p>\n",
       "                                <span class=\"djtooltiptext\"></span>\n",
       "                            </div></th><th><div class=\"djtooltip\">\n",
       "                                <p id=\"nonprimary\">time_window_name</p>\n",
       "                                <span class=\"djtooltiptext\">unique name for this window set</span>\n",
       "                            </div></th><th><div class=\"djtooltip\">\n",
       "                                <p id=\"nonprimary\">cluster_param_name</p>\n",
       "                                <span class=\"djtooltiptext\">some unique name, ideally reflecting the method as well</span>\n",
       "                            </div></th><th><div class=\"djtooltip\">\n",
       "                                <p id=\"nonprimary\">probe_model</p>\n",
       "                                <span class=\"djtooltiptext\">nick name, or other user-friendly model name of this probe</span>\n",
       "                            </div></th><th><div class=\"djtooltip\">\n",
       "                                <p id=\"nonprimary\">electrode_config_id</p>\n",
       "                                <span class=\"djtooltiptext\">hash of the group and group_member (ensure uniqueness)</span>\n",
       "                            </div></th><th><div class=\"djtooltip\">\n",
       "                                <p id=\"nonprimary\">sync_method</p>\n",
       "                                <span class=\"djtooltiptext\">sync method name</span>\n",
       "                            </div></th><th><div class=\"djtooltip\">\n",
       "                                <p id=\"nonprimary\">curation_timestamps</p>\n",
       "                                <span class=\"djtooltiptext\">ensure complete datetime here to prevent collision (in the rare case of multiple people curate at the exact same datetime)</span>\n",
       "                            </div> </th> </tr> </thead>\n",
       "                <tbody> <tr> <td>575882867c176190</td>\n",
       "<td>0</td>\n",
       "<td>2019-09-24 09:16:14</td>\n",
       "<td>1002</td>\n",
       "<td>OpenField</td>\n",
       "<td>0.00</td>\n",
       "<td>d8b9f846f25b1f7a205b45e13f611a69</td>\n",
       "<td>default</td>\n",
       "<td>default</td>\n",
       "<td>python</td>\n",
       "<td>pass_all</td>\n",
       "<td>default</td>\n",
       "<td>=BLOB=</td>\n",
       "<td>=BLOB=</td>\n",
       "<td>=BLOB=</td>\n",
       "<td>=BLOB=</td>\n",
       "<td>0</td>\n",
       "<td>2.02407</td>\n",
       "<td>0.164575</td>\n",
       "<td>0.35437</td>\n",
       "<td>1.84314</td>\n",
       "<td>0.50669</td>\n",
       "<td>10.5275</td>\n",
       "<td>0.209826</td>\n",
       "<td>Opexebo v0.4.3</td>\n",
       "<td>2019-04-04 00:00:00</td>\n",
       "<td>det_229a013f343836f8976421f523887bb9</td>\n",
       "<td>full_dbd211aff6e7622a</td>\n",
       "<td>default_mclust</td>\n",
       "<td>4-tetrode-array</td>\n",
       "<td>e9c6dac82a8bcb02825b0be07735a967</td>\n",
       "<td>linear_interp</td>\n",
       "<td>2019-09-24 13:37:20</td></tr><tr><td>575882867c176190</td>\n",
       "<td>0</td>\n",
       "<td>2019-09-24 09:33:50</td>\n",
       "<td>1002</td>\n",
       "<td>OpenField</td>\n",
       "<td>0.00</td>\n",
       "<td>7744168971199d5e3a0e43423e6d7cf4</td>\n",
       "<td>default</td>\n",
       "<td>default</td>\n",
       "<td>python</td>\n",
       "<td>pass_all</td>\n",
       "<td>default</td>\n",
       "<td>=BLOB=</td>\n",
       "<td>=BLOB=</td>\n",
       "<td>=BLOB=</td>\n",
       "<td>=BLOB=</td>\n",
       "<td>0</td>\n",
       "<td>14.6407</td>\n",
       "<td>0.190632</td>\n",
       "<td>0.317489</td>\n",
       "<td>4.67304</td>\n",
       "<td>0.22681</td>\n",
       "<td>215.494</td>\n",
       "<td>0.0139124</td>\n",
       "<td>Opexebo v0.4.3</td>\n",
       "<td>2019-04-04 00:00:00</td>\n",
       "<td>det_82b5ff9fe7464161f05b9f9f7b9c4fe4</td>\n",
       "<td>full_6b17f214a76ac1b8</td>\n",
       "<td>default_mclust</td>\n",
       "<td>4-tetrode-array</td>\n",
       "<td>e9c6dac82a8bcb02825b0be07735a967</td>\n",
       "<td>linear_interp</td>\n",
       "<td>2019-09-27 14:10:10</td> </tr> </tbody>\n",
       "            </table>\n",
       "            \n",
       "            <p>Total: 2</p></div>\n",
       "            "
      ],
      "text/plain": [
       "*animal_id     *datasource_id *session_time  *unit    *task_type    *task_start    *task_spike_tr *occu_params_n *smoothing_par *analysis_pack *cell_selectio *field_detect_ ratemap    ratemap_ma ratemap_ra fieldmap   field_quantity peak_rate     mean_rate     spatial_inform spatial_inform spatial_cohere selectivity    sparsity      version_ratema insertion_time group_name     time_window_na cluster_param_ probe_model    electrode_conf sync_method    curation_times\n",
       "+------------+ +------------+ +------------+ +------+ +-----------+ +------------+ +------------+ +------------+ +------------+ +------------+ +------------+ +------------+ +--------+ +--------+ +--------+ +--------+ +------------+ +-----------+ +-----------+ +------------+ +------------+ +------------+ +------------+ +-----------+ +------------+ +------------+ +------------+ +------------+ +------------+ +------------+ +------------+ +------------+ +------------+\n",
       "575882867c1761 0              2019-09-24 09: 1002     OpenField     0.00           d8b9f846f25b1f default        default        python         pass_all       default        =BLOB=     =BLOB=     =BLOB=     =BLOB=     0              2.02407       0.164575      0.35437        1.84314        0.50669        10.5275        0.209826      Opexebo v0.4.3 2019-04-04 00: det_229a013f34 full_dbd211aff default_mclust 4-tetrode-arra e9c6dac82a8bcb linear_interp  2019-09-24 13:\n",
       "575882867c1761 0              2019-09-24 09: 1002     OpenField     0.00           7744168971199d default        default        python         pass_all       default        =BLOB=     =BLOB=     =BLOB=     =BLOB=     0              14.6407       0.190632      0.317489       4.67304        0.22681        215.494        0.0139124     Opexebo v0.4.3 2019-04-04 00: det_82b5ff9fe7 full_6b17f214a default_mclust 4-tetrode-arra e9c6dac82a8bcb linear_interp  2019-09-27 14:\n",
       " (Total: 2)"
      ]
     },
     "execution_count": 17,
     "metadata": {},
     "output_type": "execute_result"
    }
   ],
   "source": [
    "analysis.RateMap * analysis.TaskSpikesTrackingProxy & units & method_restrictor"
   ]
  },
  {
   "cell_type": "code",
   "execution_count": 18,
   "metadata": {},
   "outputs": [],
   "source": [
    "q_ratemap = analysis.RateMap * analysis.TaskSpikesTrackingProxy & units & method_restrictor"
   ]
  },
  {
   "cell_type": "code",
   "execution_count": 19,
   "metadata": {},
   "outputs": [],
   "source": [
    "keys, ratemaps = q_ratemap.fetch('KEY', 'ratemap', order_by='session_time, task_start')"
   ]
  },
  {
   "cell_type": "markdown",
   "metadata": {},
   "source": [
    "### Plot"
   ]
  },
  {
   "cell_type": "code",
   "execution_count": 20,
   "metadata": {},
   "outputs": [
    {
     "data": {
      "image/png": "[encoded data removed]",
      "text/plain": [
       "<Figure size 432x288 with 2 Axes>"
      ]
     },
     "metadata": {
      "needs_background": "light"
     },
     "output_type": "display_data"
    }
   ],
   "source": [
    "fig, axs = plt.subplots(1, len(keys))\n",
    "for k, ratemap, ax in zip(keys, ratemaps, axs):\n",
    "    ax.imshow(ratemap)\n",
    "    ax.set_title(' - '.join([str(k['session_time']), str(k['task_start'])]))"
   ]
  }
 ],
 "metadata": {
  "kernelspec": {
   "display_name": "Python 3",
   "language": "python",
   "name": "python3"
  },
  "language_info": {
   "codemirror_mode": {
    "name": "ipython",
    "version": 3
   },
   "file_extension": ".py",
   "mimetype": "text/x-python",
   "name": "python",
   "nbconvert_exporter": "python",
   "pygments_lexer": "ipython3",
   "version": "3.7.0"
  }
 },
 "nbformat": 4,
 "nbformat_minor": 2
}
