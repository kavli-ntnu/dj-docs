{
 "cells": [
  {
   "cell_type": "markdown",
   "metadata": {},
   "source": [
    "# Day 1 - Exercise"
   ]
  },
  {
   "cell_type": "markdown",
   "metadata": {},
   "source": [
    "1. Query all sessions of ***rat*** with ***axona*** recording\n",
    "2. Query all recordings ingested from the directory at ***valentno/Data/RatLauren/20171123/1***\n",
    "3. Every unit has a unit type, ***ClusterType*** - for animal named \"24321\", for each cluster type, list all the units of that type\n",
    "4. For animal named \"24321\", pick one session, fetch the x, y position of the tracked rigid body of that animal. Bonus: plot it\n",
    "5. For the same animal/session in (4), from each probe, identify the unit with highest spike count\n",
    "6. For those 2 units from (5), fetch the spike times, x, and y positions associated with each spike\n",
    "7. Select any ***neurologger*** recording, fetch the LFP at each tetrode"
   ]
  },
  {
   "cell_type": "code",
   "execution_count": 1,
   "metadata": {},
   "outputs": [
    {
     "name": "stdout",
     "output_type": "stream",
     "text": [
      "Please enter DataJoint username: thinh\n",
      "Please enter DataJoint password: ········\n",
      "Connecting thinh@datajoint.it.ntnu.no:3306\n"
     ]
    },
    {
     "data": {
      "text/plain": [
       "DataJoint connection (connected) thinh@datajoint.it.ntnu.no:3306"
      ]
     },
     "execution_count": 1,
     "metadata": {},
     "output_type": "execute_result"
    }
   ],
   "source": [
    "import datajoint as dj\n",
    "dj.config['display.limit'] = 10\n",
    "dj.config['database.host'] = 'datajoint.it.ntnu.no'\n",
    "dj.conn()"
   ]
  },
  {
   "cell_type": "code",
   "execution_count": 2,
   "metadata": {},
   "outputs": [],
   "source": [
    "import matplotlib.pyplot as plt\n",
    "import numpy as np\n",
    "import pandas as pd"
   ]
  },
  {
   "cell_type": "code",
   "execution_count": 3,
   "metadata": {},
   "outputs": [],
   "source": [
    "animal = dj.create_virtual_module('animal', 'prod_mlims_data')\n",
    "reference = dj.create_virtual_module('reference', 'group_shared_reference')\n",
    "acquisition = dj.create_virtual_module('acquisition', 'group_shared_acquisition')\n",
    "tracking = dj.create_virtual_module('tracking', 'group_shared_tracking')\n",
    "behavior = dj.create_virtual_module('behavior', 'group_shared_behavior')\n",
    "ephys = dj.create_virtual_module('ephys', 'group_shared_ephys')\n",
    "analysis = dj.create_virtual_module('analysis', 'group_shared_analysis')\n",
    "ingestion = dj.create_virtual_module('ingestion', 'group_shared_ingestion')"
   ]
  },
  {
   "cell_type": "code",
   "execution_count": null,
   "metadata": {},
   "outputs": [],
   "source": [
    "from ephys import animal, reference"
   ]
  },
  {
   "cell_type": "markdown",
   "metadata": {},
   "source": [
    "## 1) Query all sessions of ***rat*** with ***axona*** recording"
   ]
  },
  {
   "cell_type": "code",
   "execution_count": null,
   "metadata": {},
   "outputs": [],
   "source": [
    "acquisition.Session & 'datasource_id = 0'"
   ]
  },
  {
   "cell_type": "code",
   "execution_count": null,
   "metadata": {},
   "outputs": [],
   "source": [
    "animal.Animal()"
   ]
  },
  {
   "cell_type": "code",
   "execution_count": null,
   "metadata": {},
   "outputs": [],
   "source": [
    "rat = animal.Animal & 'animal_species = \"rat\"'"
   ]
  },
  {
   "cell_type": "code",
   "execution_count": null,
   "metadata": {},
   "outputs": [],
   "source": [
    "acquisition.Recording()"
   ]
  },
  {
   "cell_type": "code",
   "execution_count": null,
   "metadata": {},
   "outputs": [],
   "source": [
    "axona = acquisition.Recording & 'recording_system = \"axona\"'"
   ]
  },
  {
   "cell_type": "code",
   "execution_count": null,
   "metadata": {},
   "outputs": [],
   "source": [
    "acquisition.Session & rat & axona"
   ]
  },
  {
   "cell_type": "code",
   "execution_count": null,
   "metadata": {},
   "outputs": [],
   "source": [
    "acquisition.Session * animal.Animal & 'animal_species = \"rat\"' & (acquisition.Recording & 'recording_system = \"axona\"')"
   ]
  },
  {
   "cell_type": "markdown",
   "metadata": {},
   "source": [
    "## 2) Query all recordings ingested from the directory at ***valentno/Data/RatLauren/20171123/1***"
   ]
  },
  {
   "cell_type": "code",
   "execution_count": null,
   "metadata": {},
   "outputs": [],
   "source": [
    "acquisition.Session.Directories()"
   ]
  },
  {
   "cell_type": "code",
   "execution_count": null,
   "metadata": {},
   "outputs": [],
   "source": [
    "(acquisition.Session.Directories & 'input_dir = \"valentno/Data/RatLauren/20171123/1\"')"
   ]
  },
  {
   "cell_type": "code",
   "execution_count": null,
   "metadata": {},
   "outputs": [],
   "source": [
    "acquisition.Recording & (acquisition.Session.Directories & 'input_dir = \"valentno/Data/RatLauren/20171123/1\"')"
   ]
  },
  {
   "cell_type": "code",
   "execution_count": null,
   "metadata": {},
   "outputs": [],
   "source": [
    "tracking.Tracking & (acquisition.Session.Directories & 'input_dir = \"valentno/Data/RatLauren/20171123/1\"')"
   ]
  },
  {
   "cell_type": "code",
   "execution_count": null,
   "metadata": {},
   "outputs": [],
   "source": [
    "(acquisition.Session.Directories & 'input_dir LIKE \"%valentno%\"')"
   ]
  },
  {
   "cell_type": "code",
   "execution_count": null,
   "metadata": {},
   "outputs": [],
   "source": [
    "acquisition.Session & 'session_time LIKE \"%RatLauren/20171123/1%\"'"
   ]
  },
  {
   "cell_type": "markdown",
   "metadata": {},
   "source": [
    "## 3) Every unit has a unit type, ***ClusterType*** - for animal named \"24321\", for each cluster type, list all the units of that type"
   ]
  },
  {
   "cell_type": "code",
   "execution_count": null,
   "metadata": {},
   "outputs": [],
   "source": [
    "ephys.Unit()"
   ]
  },
  {
   "cell_type": "code",
   "execution_count": null,
   "metadata": {},
   "outputs": [],
   "source": [
    "ephys.Unit.describe();"
   ]
  },
  {
   "cell_type": "code",
   "execution_count": null,
   "metadata": {},
   "outputs": [],
   "source": [
    "reference.ClusterType()"
   ]
  },
  {
   "cell_type": "code",
   "execution_count": null,
   "metadata": {},
   "outputs": [],
   "source": [
    "cluster_types = reference.ClusterType.fetch('cluster_type')"
   ]
  },
  {
   "cell_type": "code",
   "execution_count": null,
   "metadata": {},
   "outputs": [],
   "source": [
    "cluster_types"
   ]
  },
  {
   "cell_type": "code",
   "execution_count": null,
   "metadata": {},
   "outputs": [],
   "source": [
    " ephys.Unit * animal.Animal & 'animal_name = \"24321\"' & 'cluster_type = \"good\"'"
   ]
  },
  {
   "cell_type": "code",
   "execution_count": null,
   "metadata": {},
   "outputs": [],
   "source": [
    "tmp = 'haha'\n",
    "age = 3"
   ]
  },
  {
   "cell_type": "code",
   "execution_count": null,
   "metadata": {},
   "outputs": [],
   "source": [
    "f'My name is {tmp}, and I am {age} years old'"
   ]
  },
  {
   "cell_type": "code",
   "execution_count": null,
   "metadata": {},
   "outputs": [],
   "source": [
    "ctype = 'good'"
   ]
  },
  {
   "cell_type": "code",
   "execution_count": null,
   "metadata": {},
   "outputs": [],
   "source": [
    "f'cluster_type = \"{ctype}\"'"
   ]
  },
  {
   "cell_type": "code",
   "execution_count": null,
   "metadata": {},
   "outputs": [],
   "source": [
    "for ctype in cluster_types:\n",
    "    ctype_units = ephys.Unit * animal.Animal & 'animal_name = \"24321\"' & f'cluster_type = \"{ctype}\"' \n",
    "    print(ctype_units)\n",
    "    \n",
    "    "
   ]
  },
  {
   "cell_type": "code",
   "execution_count": null,
   "metadata": {},
   "outputs": [],
   "source": [
    "ephys.Unit()"
   ]
  },
  {
   "cell_type": "code",
   "execution_count": null,
   "metadata": {},
   "outputs": [],
   "source": [
    "ephys.Unit & f'cluster_type = \"{cluster_types[0]}\"'"
   ]
  },
  {
   "cell_type": "code",
   "execution_count": null,
   "metadata": {},
   "outputs": [],
   "source": [
    "ephys.Unit & {'cluster_type': cluster_types[0]}"
   ]
  },
  {
   "cell_type": "markdown",
   "metadata": {},
   "source": [
    "## 4) For animal named \"24321\", pick one session, fetch the x, y position of the tracked rigid body of that animal. Bonus: plot it"
   ]
  },
  {
   "cell_type": "code",
   "execution_count": null,
   "metadata": {},
   "outputs": [],
   "source": [
    "acquisition.Session * animal.Animal & 'animal_name = \"24321\"'"
   ]
  },
  {
   "cell_type": "code",
   "execution_count": null,
   "metadata": {},
   "outputs": [],
   "source": [
    "session = acquisition.Session * animal.Animal & 'animal_name = \"24321\"' & 'session_time = \"2018-04-24 10:25:23\"'"
   ]
  },
  {
   "cell_type": "code",
   "execution_count": null,
   "metadata": {},
   "outputs": [],
   "source": [
    "dj.Diagram(tracking) - 1"
   ]
  },
  {
   "cell_type": "code",
   "execution_count": null,
   "metadata": {},
   "outputs": [],
   "source": [
    "tracking.ProcessedTracking.Position.describe()"
   ]
  },
  {
   "cell_type": "code",
   "execution_count": null,
   "metadata": {},
   "outputs": [],
   "source": [
    "tracking.ProcessedTracking.Position & session"
   ]
  },
  {
   "cell_type": "code",
   "execution_count": null,
   "metadata": {},
   "outputs": [],
   "source": [
    "positions = (tracking.ProcessedTracking.Position & session).fetch()"
   ]
  },
  {
   "cell_type": "code",
   "execution_count": null,
   "metadata": {},
   "outputs": [],
   "source": [
    "positions"
   ]
  },
  {
   "cell_type": "code",
   "execution_count": null,
   "metadata": {},
   "outputs": [],
   "source": [
    "positions = (tracking.ProcessedTracking.Position & session).fetch(as_dict=True)"
   ]
  },
  {
   "cell_type": "code",
   "execution_count": null,
   "metadata": {},
   "outputs": [],
   "source": [
    "positions"
   ]
  },
  {
   "cell_type": "code",
   "execution_count": null,
   "metadata": {},
   "outputs": [],
   "source": [
    "position = positions[0]"
   ]
  },
  {
   "cell_type": "code",
   "execution_count": null,
   "metadata": {},
   "outputs": [],
   "source": [
    "position = (tracking.ProcessedTracking.Position & session).fetch1()"
   ]
  },
  {
   "cell_type": "code",
   "execution_count": null,
   "metadata": {},
   "outputs": [],
   "source": [
    "position"
   ]
  },
  {
   "cell_type": "code",
   "execution_count": null,
   "metadata": {},
   "outputs": [],
   "source": [
    "x = position['position_x']"
   ]
  },
  {
   "cell_type": "code",
   "execution_count": null,
   "metadata": {},
   "outputs": [],
   "source": [
    "x"
   ]
  },
  {
   "cell_type": "code",
   "execution_count": null,
   "metadata": {},
   "outputs": [],
   "source": [
    "y = position['position_y']"
   ]
  },
  {
   "cell_type": "code",
   "execution_count": null,
   "metadata": {},
   "outputs": [],
   "source": [
    "y"
   ]
  },
  {
   "cell_type": "code",
   "execution_count": null,
   "metadata": {},
   "outputs": [],
   "source": [
    "[x, y] = (tracking.ProcessedTracking.Position & session).fetch1('position_x', 'position_y')"
   ]
  },
  {
   "cell_type": "code",
   "execution_count": null,
   "metadata": {},
   "outputs": [],
   "source": [
    "x"
   ]
  },
  {
   "cell_type": "code",
   "execution_count": null,
   "metadata": {},
   "outputs": [],
   "source": [
    "y"
   ]
  },
  {
   "cell_type": "code",
   "execution_count": null,
   "metadata": {},
   "outputs": [],
   "source": [
    "import matplotlib.pyplot as plt"
   ]
  },
  {
   "cell_type": "code",
   "execution_count": null,
   "metadata": {},
   "outputs": [],
   "source": [
    "plt.plot(x, y)"
   ]
  },
  {
   "cell_type": "code",
   "execution_count": null,
   "metadata": {},
   "outputs": [],
   "source": [
    "tracking.ProcessedTracking.Position()"
   ]
  },
  {
   "cell_type": "code",
   "execution_count": null,
   "metadata": {},
   "outputs": [],
   "source": []
  },
  {
   "cell_type": "code",
   "execution_count": null,
   "metadata": {},
   "outputs": [],
   "source": [
    "[x, y] = (tracking.ProcessedTracking.Position & session).fetch('position_x', 'position_y')"
   ]
  },
  {
   "cell_type": "code",
   "execution_count": null,
   "metadata": {},
   "outputs": [],
   "source": [
    "x = x[0]"
   ]
  },
  {
   "cell_type": "code",
   "execution_count": null,
   "metadata": {},
   "outputs": [],
   "source": [
    "x"
   ]
  },
  {
   "cell_type": "code",
   "execution_count": null,
   "metadata": {},
   "outputs": [],
   "source": [
    "y = y[0]"
   ]
  },
  {
   "cell_type": "code",
   "execution_count": null,
   "metadata": {},
   "outputs": [],
   "source": [
    "plt.plot(x, y)"
   ]
  },
  {
   "cell_type": "markdown",
   "metadata": {},
   "source": [
    "## 5) For the same animal/session in (4), from each probe, identify the unit with highest spike count"
   ]
  },
  {
   "cell_type": "markdown",
   "metadata": {},
   "source": [
    "+ Fetch the whole Unit table back, turn to pandas DataFrame -> find max() of spike_count -> index by it"
   ]
  },
  {
   "cell_type": "code",
   "execution_count": null,
   "metadata": {},
   "outputs": [],
   "source": [
    "ephys.UnitSpikeTimes & session"
   ]
  },
  {
   "cell_type": "code",
   "execution_count": null,
   "metadata": {},
   "outputs": [],
   "source": [
    "acquisition.ProbeInsertion.describe();"
   ]
  },
  {
   "cell_type": "code",
   "execution_count": null,
   "metadata": {},
   "outputs": [],
   "source": [
    "acquisition.ProbeInsertion & (ephys.UnitSpikeTimes & session)"
   ]
  },
  {
   "cell_type": "code",
   "execution_count": null,
   "metadata": {},
   "outputs": [],
   "source": [
    "ephys.UnitSpikeTimes * reference.Probe & session & 'probe = \"microdrive_24321_2\"'"
   ]
  },
  {
   "cell_type": "code",
   "execution_count": null,
   "metadata": {},
   "outputs": [],
   "source": [
    "ephys.UnitSpikeTimes * acquisition.ProbeInsertion & session & 'probe = \"microdrive_24321_1\"'"
   ]
  },
  {
   "cell_type": "code",
   "execution_count": null,
   "metadata": {},
   "outputs": [],
   "source": [
    "ephys.UnitSpikeTimes * acquisition.ProbeInsertion & session & 'probe = \"microdrive_24321_2\"'"
   ]
  },
  {
   "cell_type": "code",
   "execution_count": null,
   "metadata": {},
   "outputs": [],
   "source": [
    "probe1_units = ephys.UnitSpikeTimes * acquisition.ProbeInsertion & session & 'probe = \"microdrive_24321_1\"'"
   ]
  },
  {
   "cell_type": "code",
   "execution_count": null,
   "metadata": {},
   "outputs": [],
   "source": [
    "import pandas as pd"
   ]
  },
  {
   "cell_type": "code",
   "execution_count": null,
   "metadata": {},
   "outputs": [],
   "source": [
    "p1_units = pd.DataFrame(probe1_units.fetch())"
   ]
  },
  {
   "cell_type": "code",
   "execution_count": null,
   "metadata": {},
   "outputs": [],
   "source": [
    "p1_units"
   ]
  },
  {
   "cell_type": "code",
   "execution_count": null,
   "metadata": {
    "scrolled": true
   },
   "outputs": [],
   "source": [
    "p1_units['spike_counts']"
   ]
  },
  {
   "cell_type": "code",
   "execution_count": null,
   "metadata": {},
   "outputs": [],
   "source": [
    "p1_units['spike_counts'].max()"
   ]
  },
  {
   "cell_type": "code",
   "execution_count": null,
   "metadata": {},
   "outputs": [],
   "source": [
    "p1_units['spike_counts'].idxmax()"
   ]
  },
  {
   "cell_type": "code",
   "execution_count": null,
   "metadata": {},
   "outputs": [],
   "source": [
    "p1_units.iloc[13]"
   ]
  },
  {
   "cell_type": "code",
   "execution_count": null,
   "metadata": {},
   "outputs": [],
   "source": [
    "spike_times = p1_units.iloc[13]['unit_spike_times']"
   ]
  },
  {
   "cell_type": "code",
   "execution_count": null,
   "metadata": {},
   "outputs": [],
   "source": [
    "spike_times"
   ]
  },
  {
   "cell_type": "code",
   "execution_count": null,
   "metadata": {},
   "outputs": [],
   "source": [
    "import scipy as s"
   ]
  },
  {
   "cell_type": "code",
   "execution_count": null,
   "metadata": {},
   "outputs": [],
   "source": [
    "p1_units"
   ]
  },
  {
   "cell_type": "code",
   "execution_count": null,
   "metadata": {},
   "outputs": [],
   "source": [
    "p1_max_unit = p1_units[0]"
   ]
  },
  {
   "cell_type": "code",
   "execution_count": null,
   "metadata": {
    "scrolled": true
   },
   "outputs": [],
   "source": [
    "p1_max_unit"
   ]
  },
  {
   "cell_type": "markdown",
   "metadata": {},
   "source": [
    "## 6) For those 2 units from (5), fetch the spike times, x, and y positions associated with each spike"
   ]
  },
  {
   "cell_type": "code",
   "execution_count": null,
   "metadata": {},
   "outputs": [],
   "source": [
    "acquisition.Session * animal.Animal & 'animal_name = \"24321\"' & 'animal_sex = \"M\"'"
   ]
  },
  {
   "cell_type": "code",
   "execution_count": null,
   "metadata": {},
   "outputs": [],
   "source": [
    "acquisition.Session * animal.Animal & {'animal_name': my_ani_var, 'animal_sex': 'M'}"
   ]
  },
  {
   "cell_type": "code",
   "execution_count": null,
   "metadata": {},
   "outputs": [],
   "source": [
    "probe1_units = ephys.UnitSpikeTimes * acquisition.ProbeInsertion & session & 'probe = \"microdrive_24321_1\"'"
   ]
  },
  {
   "cell_type": "code",
   "execution_count": null,
   "metadata": {},
   "outputs": [],
   "source": [
    "p1_units = probe1_units.fetch('KEY', order_by='spike_counts DESC', limit=1)"
   ]
  },
  {
   "cell_type": "code",
   "execution_count": null,
   "metadata": {},
   "outputs": [],
   "source": [
    "p1_units"
   ]
  },
  {
   "cell_type": "code",
   "execution_count": null,
   "metadata": {},
   "outputs": [],
   "source": [
    "p1_max_unit = p1_units[0]"
   ]
  },
  {
   "cell_type": "code",
   "execution_count": null,
   "metadata": {},
   "outputs": [],
   "source": [
    "p1_max_unit"
   ]
  },
  {
   "cell_type": "code",
   "execution_count": null,
   "metadata": {},
   "outputs": [],
   "source": [
    "ephys.UnitSpikeTimes & p1_max_unit"
   ]
  },
  {
   "cell_type": "code",
   "execution_count": null,
   "metadata": {},
   "outputs": [],
   "source": [
    "acquisition.ProbeInsertion & p1_max_unit"
   ]
  },
  {
   "cell_type": "code",
   "execution_count": null,
   "metadata": {},
   "outputs": [],
   "source": [
    "ephys.SpikesTracking  & p1_max_unit"
   ]
  },
  {
   "cell_type": "code",
   "execution_count": null,
   "metadata": {},
   "outputs": [],
   "source": [
    "unit_spikestracking = (ephys.SpikesTracking  & p1_max_unit).fetch1()"
   ]
  },
  {
   "cell_type": "code",
   "execution_count": null,
   "metadata": {},
   "outputs": [],
   "source": [
    "unit_spikestracking"
   ]
  },
  {
   "cell_type": "code",
   "execution_count": null,
   "metadata": {},
   "outputs": [],
   "source": [
    "spikes = unit_spikestracking['spike_times']\n",
    "spk_x = unit_spikestracking['x_pos']\n",
    "spk_y = unit_spikestracking['y_pos']"
   ]
  },
  {
   "cell_type": "code",
   "execution_count": null,
   "metadata": {},
   "outputs": [],
   "source": [
    "fig, ax = plt.subplots(1, 1)\n",
    "ax.plot(x, y, 'b')\n",
    "ax.plot(spk_x, spk_y, '.r', alpha=0.1)"
   ]
  },
  {
   "cell_type": "code",
   "execution_count": null,
   "metadata": {},
   "outputs": [],
   "source": []
  },
  {
   "cell_type": "code",
   "execution_count": 24,
   "metadata": {},
   "outputs": [
    {
     "data": {
      "text/html": [
       "\n",
       "        \n",
       "        <style type=\"text/css\">\n",
       "            .Relation{\n",
       "                border-collapse:collapse;\n",
       "            }\n",
       "            .Relation th{\n",
       "                background: #A0A0A0; color: #ffffff; padding:4px; border:#f0e0e0 1px solid;\n",
       "                font-weight: normal; font-family: monospace; font-size: 100%;\n",
       "            }\n",
       "            .Relation td{\n",
       "                padding:4px; border:#f0e0e0 1px solid; font-size:100%;\n",
       "            }\n",
       "            .Relation tr:nth-child(odd){\n",
       "                background: #ffffff;\n",
       "            }\n",
       "            .Relation tr:nth-child(even){\n",
       "                background: #f3f1ff;\n",
       "            }\n",
       "            /* Tooltip container */\n",
       "            .djtooltip {\n",
       "            }\n",
       "            /* Tooltip text */\n",
       "            .djtooltip .djtooltiptext {\n",
       "                visibility: hidden;\n",
       "                width: 120px;\n",
       "                background-color: black;\n",
       "                color: #fff;\n",
       "                text-align: center;\n",
       "                padding: 5px 0;\n",
       "                border-radius: 6px;\n",
       "                /* Position the tooltip text - see examples below! */\n",
       "                position: absolute;\n",
       "                z-index: 1;\n",
       "            }\n",
       "            #primary {\n",
       "                font-weight: bold;\n",
       "                color: black;\n",
       "            }\n",
       "\n",
       "            #nonprimary {\n",
       "                font-weight: normal;\n",
       "                color: white;\n",
       "            }\n",
       "\n",
       "            /* Show the tooltip text when you mouse over the tooltip container */\n",
       "            .djtooltip:hover .djtooltiptext {\n",
       "                visibility: visible;\n",
       "            }\n",
       "        </style>\n",
       "        \n",
       "        \n",
       "            <div style=\"max-height:1000px;max-width:1500px;overflow:auto;\">\n",
       "            <table border=\"1\" class=\"Relation\">\n",
       "                <thead> <tr style=\"text-align: right;\"> <th> <div class=\"djtooltip\">\n",
       "                                <p id=\"primary\">animal_id</p>\n",
       "                                <span class=\"djtooltiptext\"></span>\n",
       "                            </div></th><th><div class=\"djtooltip\">\n",
       "                                <p id=\"primary\">datasource_id</p>\n",
       "                                <span class=\"djtooltiptext\"></span>\n",
       "                            </div></th><th><div class=\"djtooltip\">\n",
       "                                <p id=\"primary\">session_time</p>\n",
       "                                <span class=\"djtooltiptext\">start time of this session</span>\n",
       "                            </div></th><th><div class=\"djtooltip\">\n",
       "                                <p id=\"primary\">insertion_time</p>\n",
       "                                <span class=\"djtooltiptext\">When this probe was inserted</span>\n",
       "                            </div></th><th><div class=\"djtooltip\">\n",
       "                                <p id=\"primary\">recording_time</p>\n",
       "                                <span class=\"djtooltiptext\">start time of this recording</span>\n",
       "                            </div></th><th><div class=\"djtooltip\">\n",
       "                                <p id=\"nonprimary\">recording_system</p>\n",
       "                                <span class=\"djtooltiptext\"></span>\n",
       "                            </div></th><th><div class=\"djtooltip\">\n",
       "                                <p id=\"nonprimary\">probe_model</p>\n",
       "                                <span class=\"djtooltiptext\">nick name, or other user-friendly model name of this probe</span>\n",
       "                            </div></th><th><div class=\"djtooltip\">\n",
       "                                <p id=\"nonprimary\">electrode_config_id</p>\n",
       "                                <span class=\"djtooltiptext\">hash of the group and group_member (ensure uniqueness)</span>\n",
       "                            </div></th><th><div class=\"djtooltip\">\n",
       "                                <p id=\"nonprimary\">recording_order</p>\n",
       "                                <span class=\"djtooltiptext\">the ordering of this recording in this session</span>\n",
       "                            </div></th><th><div class=\"djtooltip\">\n",
       "                                <p id=\"nonprimary\">recording_duration</p>\n",
       "                                <span class=\"djtooltiptext\">(s) duration of this recording</span>\n",
       "                            </div></th><th><div class=\"djtooltip\">\n",
       "                                <p id=\"nonprimary\">recording_name</p>\n",
       "                                <span class=\"djtooltiptext\">name of this recording (e.g. 27032019laserSess1)</span>\n",
       "                            </div></th><th><div class=\"djtooltip\">\n",
       "                                <p id=\"nonprimary\">animal_species</p>\n",
       "                                <span class=\"djtooltiptext\"></span>\n",
       "                            </div></th><th><div class=\"djtooltip\">\n",
       "                                <p id=\"nonprimary\">animal_name</p>\n",
       "                                <span class=\"djtooltiptext\"></span>\n",
       "                            </div></th><th><div class=\"djtooltip\">\n",
       "                                <p id=\"nonprimary\">animal_sex</p>\n",
       "                                <span class=\"djtooltiptext\"></span>\n",
       "                            </div></th><th><div class=\"djtooltip\">\n",
       "                                <p id=\"nonprimary\">animal_dob</p>\n",
       "                                <span class=\"djtooltiptext\"></span>\n",
       "                            </div></th><th><div class=\"djtooltip\">\n",
       "                                <p id=\"nonprimary\">color</p>\n",
       "                                <span class=\"djtooltiptext\"></span>\n",
       "                            </div> </th> </tr> </thead>\n",
       "                <tbody> <tr> <td>575882867c176190</td>\n",
       "<td>0</td>\n",
       "<td>2019-09-24 09:16:14</td>\n",
       "<td>2019-07-16 00:00:00</td>\n",
       "<td>2019-09-24 09:16:14</td>\n",
       "<td>neuralynx</td>\n",
       "<td>4-tetrode-array</td>\n",
       "<td>e9c6dac82a8bcb02825b0be07735a967</td>\n",
       "<td>0</td>\n",
       "<td>1013.0</td>\n",
       "<td>2019-09-24_09-15-42</td>\n",
       "<td>mouse</td>\n",
       "<td>86866</td>\n",
       "<td>M</td>\n",
       "<td>2019-01-06</td>\n",
       "<td>None</td></tr><tr><td>575882867c176190</td>\n",
       "<td>0</td>\n",
       "<td>2019-09-24 09:33:50</td>\n",
       "<td>2019-07-16 00:00:00</td>\n",
       "<td>2019-09-24 09:33:50</td>\n",
       "<td>neuralynx</td>\n",
       "<td>4-tetrode-array</td>\n",
       "<td>e9c6dac82a8bcb02825b0be07735a967</td>\n",
       "<td>0</td>\n",
       "<td>977.0</td>\n",
       "<td>2019-09-24_09-33-17</td>\n",
       "<td>mouse</td>\n",
       "<td>86866</td>\n",
       "<td>M</td>\n",
       "<td>2019-01-06</td>\n",
       "<td>None</td> </tr> </tbody>\n",
       "            </table>\n",
       "            \n",
       "            <p>Total: 2</p></div>\n",
       "            "
      ],
      "text/plain": [
       "*animal_id     *datasource_id *session_time  *insertion_tim *recording_tim recording_syst probe_model    electrode_conf recording_orde recording_dura recording_name animal_species animal_name    animal_sex     animal_dob     color    \n",
       "+------------+ +------------+ +------------+ +------------+ +------------+ +------------+ +------------+ +------------+ +------------+ +------------+ +------------+ +------------+ +------------+ +------------+ +------------+ +-------+\n",
       "575882867c1761 0              2019-09-24 09: 2019-07-16 00: 2019-09-24 09: neuralynx      4-tetrode-arra e9c6dac82a8bcb 0              1013.0         2019-09-24_09- mouse          86866          M              2019-01-06     None     \n",
       "575882867c1761 0              2019-09-24 09: 2019-07-16 00: 2019-09-24 09: neuralynx      4-tetrode-arra e9c6dac82a8bcb 0              977.0          2019-09-24_09- mouse          86866          M              2019-01-06     None     \n",
       " (Total: 2)"
      ]
     },
     "execution_count": 24,
     "metadata": {},
     "output_type": "execute_result"
    }
   ],
   "source": [
    "acquisition.Recording * animal.Animal & 'animal_name = \"86866\"'"
   ]
  },
  {
   "cell_type": "code",
   "execution_count": 30,
   "metadata": {},
   "outputs": [
    {
     "data": {
      "text/plain": [
       "array([array([], dtype=float64), array([], dtype=float64),\n",
       "       array([], dtype=float64), array([], dtype=float64),\n",
       "       array([], dtype=float64), array([], dtype=float64),\n",
       "       array([], dtype=float64), array([], dtype=float64),\n",
       "       array([], dtype=float64), array([], dtype=float64),\n",
       "       array([], dtype=float64), array([], dtype=float64)], dtype=object)"
      ]
     },
     "execution_count": 30,
     "metadata": {},
     "output_type": "execute_result"
    }
   ],
   "source": [
    "(ephys.UnitSpikeTimes * animal.Animal & 'animal_name = \"86866\"' & 'session_time = \"2019-09-24 09:33:50\"').fetch('unit_spike_times')"
   ]
  },
  {
   "cell_type": "code",
   "execution_count": null,
   "metadata": {},
   "outputs": [],
   "source": []
  },
  {
   "cell_type": "code",
   "execution_count": null,
   "metadata": {},
   "outputs": [],
   "source": [
    "probe1_units"
   ]
  },
  {
   "cell_type": "code",
   "execution_count": null,
   "metadata": {},
   "outputs": [],
   "source": [
    "ephys.SpikesTracking & probe1_units"
   ]
  },
  {
   "cell_type": "code",
   "execution_count": null,
   "metadata": {},
   "outputs": [],
   "source": [
    "spk_x, spk_y = (ephys.SpikesTracking & probe1_units & 'unit = 14').fetch1('x_pos', 'y_pos')"
   ]
  },
  {
   "cell_type": "code",
   "execution_count": null,
   "metadata": {},
   "outputs": [],
   "source": [
    "plt.plot(x, y, 'b')\n",
    "plt.plot(spk_x, spk_y, '.r', alpha=0.5)"
   ]
  },
  {
   "cell_type": "code",
   "execution_count": null,
   "metadata": {},
   "outputs": [],
   "source": [
    "fig, ax = plt.subplots(1, 1)\n",
    "ax.plot(x, y, 'b')\n",
    "ax.plot(spk_x, spk_y, '.r', alpha=0.5)\n",
    "\n",
    "ax.set_title('noooo')"
   ]
  },
  {
   "cell_type": "code",
   "execution_count": null,
   "metadata": {},
   "outputs": [],
   "source": [
    "fig.savefig('noooo.png')"
   ]
  },
  {
   "cell_type": "markdown",
   "metadata": {},
   "source": [
    "## 7) Select any ***neurologger*** recording, fetch the LFP at each tetrode"
   ]
  },
  {
   "cell_type": "code",
   "execution_count": null,
   "metadata": {},
   "outputs": [],
   "source": []
  },
  {
   "cell_type": "code",
   "execution_count": null,
   "metadata": {},
   "outputs": [],
   "source": []
  },
  {
   "cell_type": "code",
   "execution_count": null,
   "metadata": {},
   "outputs": [],
   "source": []
  },
  {
   "cell_type": "code",
   "execution_count": null,
   "metadata": {},
   "outputs": [],
   "source": []
  },
  {
   "cell_type": "markdown",
   "metadata": {},
   "source": [
    "# ===================================="
   ]
  },
  {
   "cell_type": "code",
   "execution_count": null,
   "metadata": {},
   "outputs": [],
   "source": [
    "unit_key = ephys.SpikesTracking * animal.Animal & 'animal_name = \"58313\"' & 'unit = 1089' & 'recording_time = \"2017-03-22 11:19:19\"'"
   ]
  },
  {
   "cell_type": "code",
   "execution_count": null,
   "metadata": {},
   "outputs": [],
   "source": [
    "unit_key = unit_key.fetch1('KEY')"
   ]
  },
  {
   "cell_type": "code",
   "execution_count": null,
   "metadata": {},
   "outputs": [],
   "source": [
    "x, y = (ephys.SpikesTracking & unit_key).fetch1('x_pos', 'y_pos')"
   ]
  },
  {
   "cell_type": "code",
   "execution_count": null,
   "metadata": {},
   "outputs": [],
   "source": [
    "x"
   ]
  },
  {
   "cell_type": "code",
   "execution_count": null,
   "metadata": {},
   "outputs": [],
   "source": [
    "y"
   ]
  },
  {
   "cell_type": "code",
   "execution_count": null,
   "metadata": {},
   "outputs": [],
   "source": [
    "tracking.ProcessedTracking.Position & unit_key"
   ]
  },
  {
   "cell_type": "code",
   "execution_count": null,
   "metadata": {},
   "outputs": [],
   "source": [
    "x_pos, y_pos = (tracking.ProcessedTracking.Position & unit_key).fetch1('position_x', 'position_y')"
   ]
  },
  {
   "cell_type": "code",
   "execution_count": null,
   "metadata": {},
   "outputs": [],
   "source": []
  },
  {
   "cell_type": "code",
   "execution_count": 17,
   "metadata": {},
   "outputs": [
    {
     "data": {
      "text/html": [
       "\n",
       "        \n",
       "        <style type=\"text/css\">\n",
       "            .Relation{\n",
       "                border-collapse:collapse;\n",
       "            }\n",
       "            .Relation th{\n",
       "                background: #A0A0A0; color: #ffffff; padding:4px; border:#f0e0e0 1px solid;\n",
       "                font-weight: normal; font-family: monospace; font-size: 100%;\n",
       "            }\n",
       "            .Relation td{\n",
       "                padding:4px; border:#f0e0e0 1px solid; font-size:100%;\n",
       "            }\n",
       "            .Relation tr:nth-child(odd){\n",
       "                background: #ffffff;\n",
       "            }\n",
       "            .Relation tr:nth-child(even){\n",
       "                background: #f3f1ff;\n",
       "            }\n",
       "            /* Tooltip container */\n",
       "            .djtooltip {\n",
       "            }\n",
       "            /* Tooltip text */\n",
       "            .djtooltip .djtooltiptext {\n",
       "                visibility: hidden;\n",
       "                width: 120px;\n",
       "                background-color: black;\n",
       "                color: #fff;\n",
       "                text-align: center;\n",
       "                padding: 5px 0;\n",
       "                border-radius: 6px;\n",
       "                /* Position the tooltip text - see examples below! */\n",
       "                position: absolute;\n",
       "                z-index: 1;\n",
       "            }\n",
       "            #primary {\n",
       "                font-weight: bold;\n",
       "                color: black;\n",
       "            }\n",
       "\n",
       "            #nonprimary {\n",
       "                font-weight: normal;\n",
       "                color: white;\n",
       "            }\n",
       "\n",
       "            /* Show the tooltip text when you mouse over the tooltip container */\n",
       "            .djtooltip:hover .djtooltiptext {\n",
       "                visibility: visible;\n",
       "            }\n",
       "        </style>\n",
       "        \n",
       "        \n",
       "            <div style=\"max-height:1000px;max-width:1500px;overflow:auto;\">\n",
       "            <table border=\"1\" class=\"Relation\">\n",
       "                <thead> <tr style=\"text-align: right;\"> <th> <div class=\"djtooltip\">\n",
       "                                <p id=\"primary\">animal_id</p>\n",
       "                                <span class=\"djtooltiptext\"></span>\n",
       "                            </div></th><th><div class=\"djtooltip\">\n",
       "                                <p id=\"primary\">datasource_id</p>\n",
       "                                <span class=\"djtooltiptext\"></span>\n",
       "                            </div></th><th><div class=\"djtooltip\">\n",
       "                                <p id=\"primary\">session_time</p>\n",
       "                                <span class=\"djtooltiptext\">start time of this session</span>\n",
       "                            </div></th><th><div class=\"djtooltip\">\n",
       "                                <p id=\"primary\">task_type</p>\n",
       "                                <span class=\"djtooltiptext\"></span>\n",
       "                            </div></th><th><div class=\"djtooltip\">\n",
       "                                <p id=\"primary\">task_start</p>\n",
       "                                <span class=\"djtooltiptext\">(s) timestamp of task onset with respect to the start of the session</span>\n",
       "                            </div></th><th><div class=\"djtooltip\">\n",
       "                                <p id=\"primary\">unit</p>\n",
       "                                <span class=\"djtooltiptext\">unit id</span>\n",
       "                            </div></th><th><div class=\"djtooltip\">\n",
       "                                <p id=\"primary\">spike_tracking_hash</p>\n",
       "                                <span class=\"djtooltiptext\">hash of the SpikesTracking primary_key</span>\n",
       "                            </div></th><th><div class=\"djtooltip\">\n",
       "                                <p id=\"primary\">cell_selection_params_name</p>\n",
       "                                <span class=\"djtooltiptext\">user-friendly name</span>\n",
       "                            </div></th><th><div class=\"djtooltip\">\n",
       "                                <p id=\"nonprimary\">spike_times</p>\n",
       "                                <span class=\"djtooltiptext\">(s) task-related spike times (time with respect to the start of the task)</span>\n",
       "                            </div></th><th><div class=\"djtooltip\">\n",
       "                                <p id=\"nonprimary\">speed</p>\n",
       "                                <span class=\"djtooltiptext\">(cm/s) task-related speed at each spike times</span>\n",
       "                            </div></th><th><div class=\"djtooltip\">\n",
       "                                <p id=\"nonprimary\">x_pos</p>\n",
       "                                <span class=\"djtooltiptext\">(cm) task-related x-pos at each spike times</span>\n",
       "                            </div></th><th><div class=\"djtooltip\">\n",
       "                                <p id=\"nonprimary\">y_pos</p>\n",
       "                                <span class=\"djtooltiptext\">(cm) task-related y-pos at each spike times</span>\n",
       "                            </div></th><th><div class=\"djtooltip\">\n",
       "                                <p id=\"nonprimary\">z_pos</p>\n",
       "                                <span class=\"djtooltiptext\">(cm) task-related z-pos at each spike times</span>\n",
       "                            </div></th><th><div class=\"djtooltip\">\n",
       "                                <p id=\"nonprimary\">head_yaw</p>\n",
       "                                <span class=\"djtooltiptext\">(degree) task-related head yaw (left/right angle) at each spike times</span>\n",
       "                            </div></th><th><div class=\"djtooltip\">\n",
       "                                <p id=\"nonprimary\">head_pitch</p>\n",
       "                                <span class=\"djtooltiptext\">(degree) task-related head pitch (up/down) at each spike times</span>\n",
       "                            </div></th><th><div class=\"djtooltip\">\n",
       "                                <p id=\"nonprimary\">head_roll</p>\n",
       "                                <span class=\"djtooltiptext\">(degree) task-related head roll (clockwise/anticlockwise) at each spike times</span>\n",
       "                            </div></th><th><div class=\"djtooltip\">\n",
       "                                <p id=\"nonprimary\">angular_speed</p>\n",
       "                                <span class=\"djtooltiptext\">(degree/s) task-related head angular speed at each spike times</span>\n",
       "                            </div></th><th><div class=\"djtooltip\">\n",
       "                                <p id=\"nonprimary\">animal_species</p>\n",
       "                                <span class=\"djtooltiptext\"></span>\n",
       "                            </div></th><th><div class=\"djtooltip\">\n",
       "                                <p id=\"nonprimary\">animal_name</p>\n",
       "                                <span class=\"djtooltiptext\"></span>\n",
       "                            </div></th><th><div class=\"djtooltip\">\n",
       "                                <p id=\"nonprimary\">animal_sex</p>\n",
       "                                <span class=\"djtooltiptext\"></span>\n",
       "                            </div></th><th><div class=\"djtooltip\">\n",
       "                                <p id=\"nonprimary\">animal_dob</p>\n",
       "                                <span class=\"djtooltiptext\"></span>\n",
       "                            </div></th><th><div class=\"djtooltip\">\n",
       "                                <p id=\"nonprimary\">color</p>\n",
       "                                <span class=\"djtooltiptext\"></span>\n",
       "                            </div> </th> </tr> </thead>\n",
       "                <tbody> <tr>  </tr> </tbody>\n",
       "            </table>\n",
       "            \n",
       "            <p>Total: 0</p></div>\n",
       "            "
      ],
      "text/plain": [
       "*animal_id    *datasource_id *session_time  *task_type    *task_start    *unit    *spike_trackin *cell_selectio spike_time speed      x_pos      y_pos      z_pos      head_yaw   head_pitch head_roll  angular_sp animal_species animal_name    animal_sex     animal_dob     color    \n",
       "+-----------+ +------------+ +------------+ +-----------+ +------------+ +------+ +------------+ +------------+ +--------+ +--------+ +--------+ +--------+ +--------+ +--------+ +--------+ +--------+ +--------+ +------------+ +------------+ +------------+ +------------+ +-------+\n",
       "\n",
       " (Total: 0)"
      ]
     },
     "execution_count": 17,
     "metadata": {},
     "output_type": "execute_result"
    }
   ],
   "source": [
    "analysis.TaskSpikesTracking * animal.Animal & 'animal_name = \"80490\"'"
   ]
  },
  {
   "cell_type": "code",
   "execution_count": 20,
   "metadata": {},
   "outputs": [
    {
     "data": {
      "text/plain": [
       "array(['abrahamv', 'adelek', 'alicebu', 'amundsga', 'annena', 'chenglin',\n",
       "       'dagslott', 'davidcr', 'deboral', 'edvardm', 'emiliera', 'endrekr',\n",
       "       'flaviod', 'giuliaq', 'guiliaq', 'horsto', 'jingye', 'jordannc',\n",
       "       'jorgensu', 'jsblacks', 'juanw', 'kirkesol', 'klausj', 'kruge',\n",
       "       'kyrreha', 'lofaldli', 'machine', 'marthagg', 'maybm', 'miguelc',\n",
       "       'morreaun', 'noukt', 'oyviho', 'ragnhiij', 'richarga', 'sebastian',\n",
       "       'simoba', 'soledadgc', 'talelitl', 'testuser', 'torgeirw',\n",
       "       'torgro', 'torstsl', 'vadimf', 'valentno', 'weijianz', 'wernle'],\n",
       "      dtype=object)"
      ]
     },
     "execution_count": 20,
     "metadata": {},
     "output_type": "execute_result"
    }
   ],
   "source": [
    "reference.Experimenter.fetch('experimenter')"
   ]
  },
  {
   "cell_type": "code",
   "execution_count": 18,
   "metadata": {},
   "outputs": [
    {
     "data": {
      "text/html": [
       "\n",
       "        \n",
       "        <style type=\"text/css\">\n",
       "            .Relation{\n",
       "                border-collapse:collapse;\n",
       "            }\n",
       "            .Relation th{\n",
       "                background: #A0A0A0; color: #ffffff; padding:4px; border:#f0e0e0 1px solid;\n",
       "                font-weight: normal; font-family: monospace; font-size: 100%;\n",
       "            }\n",
       "            .Relation td{\n",
       "                padding:4px; border:#f0e0e0 1px solid; font-size:100%;\n",
       "            }\n",
       "            .Relation tr:nth-child(odd){\n",
       "                background: #ffffff;\n",
       "            }\n",
       "            .Relation tr:nth-child(even){\n",
       "                background: #f3f1ff;\n",
       "            }\n",
       "            /* Tooltip container */\n",
       "            .djtooltip {\n",
       "            }\n",
       "            /* Tooltip text */\n",
       "            .djtooltip .djtooltiptext {\n",
       "                visibility: hidden;\n",
       "                width: 120px;\n",
       "                background-color: black;\n",
       "                color: #fff;\n",
       "                text-align: center;\n",
       "                padding: 5px 0;\n",
       "                border-radius: 6px;\n",
       "                /* Position the tooltip text - see examples below! */\n",
       "                position: absolute;\n",
       "                z-index: 1;\n",
       "            }\n",
       "            #primary {\n",
       "                font-weight: bold;\n",
       "                color: black;\n",
       "            }\n",
       "\n",
       "            #nonprimary {\n",
       "                font-weight: normal;\n",
       "                color: white;\n",
       "            }\n",
       "\n",
       "            /* Show the tooltip text when you mouse over the tooltip container */\n",
       "            .djtooltip:hover .djtooltiptext {\n",
       "                visibility: visible;\n",
       "            }\n",
       "        </style>\n",
       "        \n",
       "        <b></b>\n",
       "            <div style=\"max-height:1000px;max-width:1500px;overflow:auto;\">\n",
       "            <table border=\"1\" class=\"Relation\">\n",
       "                <thead> <tr style=\"text-align: right;\"> <th> <div class=\"djtooltip\">\n",
       "                                <p id=\"primary\">animal_id</p>\n",
       "                                <span class=\"djtooltiptext\"></span>\n",
       "                            </div></th><th><div class=\"djtooltip\">\n",
       "                                <p id=\"primary\">datasource_id</p>\n",
       "                                <span class=\"djtooltiptext\"></span>\n",
       "                            </div></th><th><div class=\"djtooltip\">\n",
       "                                <p id=\"primary\">session_time</p>\n",
       "                                <span class=\"djtooltiptext\">start time of this session</span>\n",
       "                            </div></th><th><div class=\"djtooltip\">\n",
       "                                <p id=\"primary\">task_type</p>\n",
       "                                <span class=\"djtooltiptext\"></span>\n",
       "                            </div></th><th><div class=\"djtooltip\">\n",
       "                                <p id=\"primary\">task_start</p>\n",
       "                                <span class=\"djtooltiptext\">(s) timestamp of task onset with respect to the start of the session</span>\n",
       "                            </div></th><th><div class=\"djtooltip\">\n",
       "                                <p id=\"primary\">unit</p>\n",
       "                                <span class=\"djtooltiptext\">unit id</span>\n",
       "                            </div></th><th><div class=\"djtooltip\">\n",
       "                                <p id=\"primary\">spike_tracking_hash</p>\n",
       "                                <span class=\"djtooltiptext\">hash of the SpikesTracking primary_key</span>\n",
       "                            </div></th><th><div class=\"djtooltip\">\n",
       "                                <p id=\"primary\">cell_selection_params_name</p>\n",
       "                                <span class=\"djtooltiptext\">user-friendly name</span>\n",
       "                            </div></th><th><div class=\"djtooltip\">\n",
       "                                <p id=\"primary\">tracking_time</p>\n",
       "                                <span class=\"djtooltiptext\">start time of this tracking recording</span>\n",
       "                            </div></th><th><div class=\"djtooltip\">\n",
       "                                <p id=\"primary\">tracking_processing_method</p>\n",
       "                                <span class=\"djtooltiptext\"></span>\n",
       "                            </div></th><th><div class=\"djtooltip\">\n",
       "                                <p id=\"primary\">sync_method</p>\n",
       "                                <span class=\"djtooltiptext\">sync method name</span>\n",
       "                            </div></th><th><div class=\"djtooltip\">\n",
       "                                <p id=\"primary\">occu_params_name</p>\n",
       "                                <span class=\"djtooltiptext\">Parameter set ID, starting with 'default'</span>\n",
       "                            </div></th><th><div class=\"djtooltip\">\n",
       "                                <p id=\"primary\">smoothing_params_name</p>\n",
       "                                <span class=\"djtooltiptext\"></span>\n",
       "                            </div></th><th><div class=\"djtooltip\">\n",
       "                                <p id=\"primary\">analysis_package</p>\n",
       "                                <span class=\"djtooltiptext\"></span>\n",
       "                            </div></th><th><div class=\"djtooltip\">\n",
       "                                <p id=\"primary\">field_detect_params_name</p>\n",
       "                                <span class=\"djtooltiptext\">Field detection method name, starting with A</span>\n",
       "                            </div></th><th><div class=\"djtooltip\">\n",
       "                                <p id=\"primary\">score_params_name</p>\n",
       "                                <span class=\"djtooltiptext\"></span>\n",
       "                            </div></th><th><div class=\"djtooltip\">\n",
       "                                <p id=\"nonprimary\">auto_corr</p>\n",
       "                                <span class=\"djtooltiptext\">1</span>\n",
       "                            </div></th><th><div class=\"djtooltip\">\n",
       "                                <p id=\"nonprimary\">grid_score</p>\n",
       "                                <span class=\"djtooltiptext\">2     score</span>\n",
       "                            </div></th><th><div class=\"djtooltip\">\n",
       "                                <p id=\"nonprimary\">grid_spacings</p>\n",
       "                                <span class=\"djtooltiptext\">2     stats.spacing</span>\n",
       "                            </div></th><th><div class=\"djtooltip\">\n",
       "                                <p id=\"nonprimary\">grid_orientations</p>\n",
       "                                <span class=\"djtooltiptext\">2     stats.orientations</span>\n",
       "                            </div></th><th><div class=\"djtooltip\">\n",
       "                                <p id=\"nonprimary\">grid_ellipse</p>\n",
       "                                <span class=\"djtooltiptext\">2     stats.ellipse</span>\n",
       "                            </div></th><th><div class=\"djtooltip\">\n",
       "                                <p id=\"nonprimary\">grid_ellipse_theta</p>\n",
       "                                <span class=\"djtooltiptext\">2     stats.ellipseTheta</span>\n",
       "                            </div></th><th><div class=\"djtooltip\">\n",
       "                                <p id=\"nonprimary\">grid_ellipse_aspect_ratio</p>\n",
       "                                <span class=\"djtooltiptext\">Not explicitly calculated in BNT</span>\n",
       "                            </div> </th> </tr> </thead>\n",
       "                <tbody> <tr> <td>219de16fa9d2f8fc</td>\n",
       "<td>0</td>\n",
       "<td>2017-10-11 15:13:12</td>\n",
       "<td>OpenField</td>\n",
       "<td>0.00</td>\n",
       "<td>7003</td>\n",
       "<td>2701d9ebb465da2412c070928b9f56ef</td>\n",
       "<td>default</td>\n",
       "<td>2017-10-11 15:13:12</td>\n",
       "<td>2d_2led</td>\n",
       "<td>linear_interp</td>\n",
       "<td>default</td>\n",
       "<td>default</td>\n",
       "<td>python</td>\n",
       "<td>default</td>\n",
       "<td>default</td>\n",
       "<td>=BLOB=</td>\n",
       "<td>-0.339782</td>\n",
       "<td>=BLOB=</td>\n",
       "<td>=BLOB=</td>\n",
       "<td>=BLOB=</td>\n",
       "<td>91.597</td>\n",
       "<td>0.641557</td></tr><tr><td>219de16fa9d2f8fc</td>\n",
       "<td>0</td>\n",
       "<td>2017-10-11 15:13:12</td>\n",
       "<td>OpenField</td>\n",
       "<td>0.00</td>\n",
       "<td>7004</td>\n",
       "<td>4adc66536d2571dc94a815e01a563215</td>\n",
       "<td>default</td>\n",
       "<td>2017-10-11 15:13:12</td>\n",
       "<td>2d_2led</td>\n",
       "<td>linear_interp</td>\n",
       "<td>default</td>\n",
       "<td>default</td>\n",
       "<td>python</td>\n",
       "<td>default</td>\n",
       "<td>default</td>\n",
       "<td>=BLOB=</td>\n",
       "<td>-0.337353</td>\n",
       "<td>=BLOB=</td>\n",
       "<td>=BLOB=</td>\n",
       "<td>=BLOB=</td>\n",
       "<td>nan</td>\n",
       "<td>nan</td></tr><tr><td>219de16fa9d2f8fc</td>\n",
       "<td>0</td>\n",
       "<td>2017-10-11 15:13:12</td>\n",
       "<td>OpenField</td>\n",
       "<td>0.00</td>\n",
       "<td>7010</td>\n",
       "<td>3f2ed28039f554fa83ec98f6c5f265b3</td>\n",
       "<td>default</td>\n",
       "<td>2017-10-11 15:13:12</td>\n",
       "<td>2d_2led</td>\n",
       "<td>linear_interp</td>\n",
       "<td>default</td>\n",
       "<td>default</td>\n",
       "<td>python</td>\n",
       "<td>default</td>\n",
       "<td>default</td>\n",
       "<td>=BLOB=</td>\n",
       "<td>-0.234569</td>\n",
       "<td>=BLOB=</td>\n",
       "<td>=BLOB=</td>\n",
       "<td>=BLOB=</td>\n",
       "<td>nan</td>\n",
       "<td>nan</td></tr><tr><td>219de16fa9d2f8fc</td>\n",
       "<td>0</td>\n",
       "<td>2017-10-11 15:13:12</td>\n",
       "<td>OpenField</td>\n",
       "<td>0.00</td>\n",
       "<td>7012</td>\n",
       "<td>d52163b3babe6179a31fcc5eb7034e39</td>\n",
       "<td>default</td>\n",
       "<td>2017-10-11 15:13:12</td>\n",
       "<td>2d_2led</td>\n",
       "<td>linear_interp</td>\n",
       "<td>default</td>\n",
       "<td>default</td>\n",
       "<td>python</td>\n",
       "<td>default</td>\n",
       "<td>default</td>\n",
       "<td>=BLOB=</td>\n",
       "<td>-0.753827</td>\n",
       "<td>=BLOB=</td>\n",
       "<td>=BLOB=</td>\n",
       "<td>=BLOB=</td>\n",
       "<td>nan</td>\n",
       "<td>nan</td></tr><tr><td>219de16fa9d2f8fc</td>\n",
       "<td>0</td>\n",
       "<td>2017-10-11 15:13:12</td>\n",
       "<td>OpenField</td>\n",
       "<td>0.00</td>\n",
       "<td>7019</td>\n",
       "<td>91cea9ae4634f6e52d81e9f74269d88a</td>\n",
       "<td>default</td>\n",
       "<td>2017-10-11 15:13:12</td>\n",
       "<td>2d_2led</td>\n",
       "<td>linear_interp</td>\n",
       "<td>default</td>\n",
       "<td>default</td>\n",
       "<td>python</td>\n",
       "<td>default</td>\n",
       "<td>default</td>\n",
       "<td>=BLOB=</td>\n",
       "<td>0.161701</td>\n",
       "<td>=BLOB=</td>\n",
       "<td>=BLOB=</td>\n",
       "<td>=BLOB=</td>\n",
       "<td>257.806</td>\n",
       "<td>0.270648</td></tr><tr><td>219de16fa9d2f8fc</td>\n",
       "<td>0</td>\n",
       "<td>2017-10-11 15:13:12</td>\n",
       "<td>OpenField</td>\n",
       "<td>0.00</td>\n",
       "<td>7024</td>\n",
       "<td>765dffe8eb54dc7576182075e6062054</td>\n",
       "<td>default</td>\n",
       "<td>2017-10-11 15:13:12</td>\n",
       "<td>2d_2led</td>\n",
       "<td>linear_interp</td>\n",
       "<td>default</td>\n",
       "<td>default</td>\n",
       "<td>python</td>\n",
       "<td>default</td>\n",
       "<td>default</td>\n",
       "<td>=BLOB=</td>\n",
       "<td>-0.128144</td>\n",
       "<td>=BLOB=</td>\n",
       "<td>=BLOB=</td>\n",
       "<td>=BLOB=</td>\n",
       "<td>nan</td>\n",
       "<td>nan</td></tr><tr><td>219de16fa9d2f8fc</td>\n",
       "<td>0</td>\n",
       "<td>2017-10-13 13:53:29</td>\n",
       "<td>OpenField</td>\n",
       "<td>0.00</td>\n",
       "<td>7003</td>\n",
       "<td>d9685ffe775051fd56f9af55d22de792</td>\n",
       "<td>default</td>\n",
       "<td>2017-10-13 13:53:29</td>\n",
       "<td>2d_2led</td>\n",
       "<td>linear_interp</td>\n",
       "<td>default</td>\n",
       "<td>default</td>\n",
       "<td>python</td>\n",
       "<td>default</td>\n",
       "<td>default</td>\n",
       "<td>=BLOB=</td>\n",
       "<td>-0.47019</td>\n",
       "<td>=BLOB=</td>\n",
       "<td>=BLOB=</td>\n",
       "<td>=BLOB=</td>\n",
       "<td>265.763</td>\n",
       "<td>1.7848</td></tr><tr><td>219de16fa9d2f8fc</td>\n",
       "<td>0</td>\n",
       "<td>2017-10-13 13:53:29</td>\n",
       "<td>OpenField</td>\n",
       "<td>0.00</td>\n",
       "<td>7004</td>\n",
       "<td>7608e602d20d995ab4b7786b35b7376c</td>\n",
       "<td>default</td>\n",
       "<td>2017-10-13 13:53:29</td>\n",
       "<td>2d_2led</td>\n",
       "<td>linear_interp</td>\n",
       "<td>default</td>\n",
       "<td>default</td>\n",
       "<td>python</td>\n",
       "<td>default</td>\n",
       "<td>default</td>\n",
       "<td>=BLOB=</td>\n",
       "<td>0.00619452</td>\n",
       "<td>=BLOB=</td>\n",
       "<td>=BLOB=</td>\n",
       "<td>=BLOB=</td>\n",
       "<td>156.518</td>\n",
       "<td>1.11109</td></tr><tr><td>219de16fa9d2f8fc</td>\n",
       "<td>0</td>\n",
       "<td>2017-10-13 13:53:29</td>\n",
       "<td>OpenField</td>\n",
       "<td>0.00</td>\n",
       "<td>7010</td>\n",
       "<td>985fbda902c991798f5701b4a4007702</td>\n",
       "<td>default</td>\n",
       "<td>2017-10-13 13:53:29</td>\n",
       "<td>2d_2led</td>\n",
       "<td>linear_interp</td>\n",
       "<td>default</td>\n",
       "<td>default</td>\n",
       "<td>python</td>\n",
       "<td>default</td>\n",
       "<td>default</td>\n",
       "<td>=BLOB=</td>\n",
       "<td>0.0351422</td>\n",
       "<td>=BLOB=</td>\n",
       "<td>=BLOB=</td>\n",
       "<td>=BLOB=</td>\n",
       "<td>143.03</td>\n",
       "<td>1.26786</td></tr><tr><td>219de16fa9d2f8fc</td>\n",
       "<td>0</td>\n",
       "<td>2017-10-13 13:53:29</td>\n",
       "<td>OpenField</td>\n",
       "<td>0.00</td>\n",
       "<td>7012</td>\n",
       "<td>776dad451321ac53bdca4e6d6465ffa8</td>\n",
       "<td>default</td>\n",
       "<td>2017-10-13 13:53:29</td>\n",
       "<td>2d_2led</td>\n",
       "<td>linear_interp</td>\n",
       "<td>default</td>\n",
       "<td>default</td>\n",
       "<td>python</td>\n",
       "<td>default</td>\n",
       "<td>default</td>\n",
       "<td>=BLOB=</td>\n",
       "<td>0.361342</td>\n",
       "<td>=BLOB=</td>\n",
       "<td>=BLOB=</td>\n",
       "<td>=BLOB=</td>\n",
       "<td>145.579</td>\n",
       "<td>0.844577</td> </tr> </tbody>\n",
       "            </table>\n",
       "            <p>...</p>\n",
       "            <p>Total: 607</p></div>\n",
       "            "
      ],
      "text/plain": [
       "*animal_id     *datasource_id *session_time  *task_type    *task_start    *unit    *spike_trackin *cell_selectio *tracking_time *tracking_proc *sync_method   *occu_params_n *smoothing_par *analysis_pack *field_detect_ *score_params_ auto_corr  grid_score     grid_spaci grid_orien grid_ellip grid_ellipse_t grid_ellipse_a\n",
       "+------------+ +------------+ +------------+ +-----------+ +------------+ +------+ +------------+ +------------+ +------------+ +------------+ +------------+ +------------+ +------------+ +------------+ +------------+ +------------+ +--------+ +------------+ +--------+ +--------+ +--------+ +------------+ +------------+\n",
       "219de16fa9d2f8 0              2017-10-11 15: OpenField     0.00           7003     2701d9ebb465da default        2017-10-11 15: 2d_2led        linear_interp  default        default        python         default        default        =BLOB=     -0.339782      =BLOB=     =BLOB=     =BLOB=     91.597         0.641557      \n",
       "219de16fa9d2f8 0              2017-10-11 15: OpenField     0.00           7004     4adc66536d2571 default        2017-10-11 15: 2d_2led        linear_interp  default        default        python         default        default        =BLOB=     -0.337353      =BLOB=     =BLOB=     =BLOB=     nan            nan           \n",
       "219de16fa9d2f8 0              2017-10-11 15: OpenField     0.00           7010     3f2ed28039f554 default        2017-10-11 15: 2d_2led        linear_interp  default        default        python         default        default        =BLOB=     -0.234569      =BLOB=     =BLOB=     =BLOB=     nan            nan           \n",
       "219de16fa9d2f8 0              2017-10-11 15: OpenField     0.00           7012     d52163b3babe61 default        2017-10-11 15: 2d_2led        linear_interp  default        default        python         default        default        =BLOB=     -0.753827      =BLOB=     =BLOB=     =BLOB=     nan            nan           \n",
       "219de16fa9d2f8 0              2017-10-11 15: OpenField     0.00           7019     91cea9ae4634f6 default        2017-10-11 15: 2d_2led        linear_interp  default        default        python         default        default        =BLOB=     0.161701       =BLOB=     =BLOB=     =BLOB=     257.806        0.270648      \n",
       "219de16fa9d2f8 0              2017-10-11 15: OpenField     0.00           7024     765dffe8eb54dc default        2017-10-11 15: 2d_2led        linear_interp  default        default        python         default        default        =BLOB=     -0.128144      =BLOB=     =BLOB=     =BLOB=     nan            nan           \n",
       "219de16fa9d2f8 0              2017-10-13 13: OpenField     0.00           7003     d9685ffe775051 default        2017-10-13 13: 2d_2led        linear_interp  default        default        python         default        default        =BLOB=     -0.47019       =BLOB=     =BLOB=     =BLOB=     265.763        1.7848        \n",
       "219de16fa9d2f8 0              2017-10-13 13: OpenField     0.00           7004     7608e602d20d99 default        2017-10-13 13: 2d_2led        linear_interp  default        default        python         default        default        =BLOB=     0.00619452     =BLOB=     =BLOB=     =BLOB=     156.518        1.11109       \n",
       "219de16fa9d2f8 0              2017-10-13 13: OpenField     0.00           7010     985fbda902c991 default        2017-10-13 13: 2d_2led        linear_interp  default        default        python         default        default        =BLOB=     0.0351422      =BLOB=     =BLOB=     =BLOB=     143.03         1.26786       \n",
       "219de16fa9d2f8 0              2017-10-13 13: OpenField     0.00           7012     776dad451321ac default        2017-10-13 13: 2d_2led        linear_interp  default        default        python         default        default        =BLOB=     0.361342       =BLOB=     =BLOB=     =BLOB=     145.579        0.844577      \n",
       "   ...\n",
       " (Total: 607)"
      ]
     },
     "execution_count": 18,
     "metadata": {},
     "output_type": "execute_result"
    }
   ],
   "source": [
    "analysis.GridScore()"
   ]
  },
  {
   "cell_type": "code",
   "execution_count": null,
   "metadata": {},
   "outputs": [],
   "source": []
  },
  {
   "cell_type": "code",
   "execution_count": null,
   "metadata": {},
   "outputs": [],
   "source": []
  },
  {
   "cell_type": "code",
   "execution_count": 31,
   "metadata": {},
   "outputs": [
    {
     "data": {
      "image/svg+xml": [
       "<svg height=\"169pt\" viewBox=\"0.00 0.00 389.00 169.00\" width=\"389pt\" xmlns=\"http://www.w3.org/2000/svg\" xmlns:xlink=\"http://www.w3.org/1999/xlink\">\n",
       "<g class=\"graph\" id=\"graph0\" transform=\"scale(1 1) rotate(0) translate(4 165)\">\n",
       "<title>%3</title>\n",
       "<polygon fill=\"white\" points=\"-4,4 -4,-165 385,-165 385,4 -4,4\" stroke=\"none\"/>\n",
       "<!-- reference.ArenaApparatus -->\n",
       "<g class=\"node\" id=\"node1\"><title>reference.ArenaApparatus</title>\n",
       "<g id=\"a_node1\"><a xlink:title=\"arena_apparatus      \r",
       "------------------------------\r",
       "arena_desc=&quot;&quot;        \r",
       "\">\n",
       "<polygon fill=\"#000000\" fill-opacity=\"0.125490\" points=\"129,-161 0,-161 0,-126 129,-126 129,-161\" stroke=\"none\"/>\n",
       "<text font-family=\"arial\" font-size=\"10.00\" text-anchor=\"start\" text-decoration=\"underline\" x=\"8\" y=\"-142\">reference.ArenaApparatus</text>\n",
       "</a>\n",
       "</g>\n",
       "</g>\n",
       "<!-- behavior.Task -->\n",
       "<g class=\"node\" id=\"node5\"><title>behavior.Task</title>\n",
       "<g id=\"a_node5\"><a xlink:title=\"→ acquisition.Session\r",
       "→ behavior.TaskType\r",
       "task_start           \r",
       "------------------------------\r",
       "task_stop            \r",
       "→ reference.ArenaApparatus\r",
       "\">\n",
       "<polygon fill=\"#00ff00\" fill-opacity=\"0.188235\" points=\"251.5,-90 161.5,-90 161.5,-55 251.5,-55 251.5,-90\" stroke=\"#00ff00\" stroke-opacity=\"0.188235\"/>\n",
       "<text fill=\"darkgreen\" font-family=\"arial\" font-size=\"12.00\" text-anchor=\"start\" text-decoration=\"underline\" x=\"169.5\" y=\"-70.4\">behavior.Task</text>\n",
       "</a>\n",
       "</g>\n",
       "</g>\n",
       "<!-- reference.ArenaApparatus&#45;&gt;behavior.Task -->\n",
       "<g class=\"edge\" id=\"edge1\"><title>reference.ArenaApparatus-&gt;behavior.Task</title>\n",
       "<path d=\"M98.5125,-125.973C120.83,-115.128 149.912,-100.997 172.273,-90.1315\" fill=\"none\" stroke=\"#000000\" stroke-dasharray=\"5,2\" stroke-opacity=\"0.250980\" stroke-width=\"0.75\"/>\n",
       "</g>\n",
       "<!-- acquisition.Session -->\n",
       "<g class=\"node\" id=\"node2\"><title>acquisition.Session</title>\n",
       "<g id=\"a_node2\"><a xlink:title=\"→ animal.Animal\r",
       "session_time         \r",
       "------------------------------\r",
       "session_note=null    \r",
       "\">\n",
       "<polygon fill=\"#00ff00\" fill-opacity=\"0.188235\" points=\"266,-161 147,-161 147,-126 266,-126 266,-161\" stroke=\"#00ff00\" stroke-opacity=\"0.188235\"/>\n",
       "<text fill=\"darkgreen\" font-family=\"arial\" font-size=\"12.00\" text-anchor=\"start\" text-decoration=\"underline\" x=\"155\" y=\"-141.4\">acquisition.Session</text>\n",
       "</a>\n",
       "</g>\n",
       "</g>\n",
       "<!-- acquisition.Session&#45;&gt;behavior.Task -->\n",
       "<g class=\"edge\" id=\"edge2\"><title>acquisition.Session-&gt;behavior.Task</title>\n",
       "<path d=\"M206.5,-125.797C206.5,-114.949 206.5,-100.867 206.5,-90.0492\" fill=\"none\" stroke=\"#000000\" stroke-opacity=\"0.250980\" stroke-width=\"0.75\"/>\n",
       "</g>\n",
       "<!-- behavior.Event -->\n",
       "<g class=\"node\" id=\"node3\"><title>behavior.Event</title>\n",
       "<g id=\"a_node3\"><a xlink:title=\"event                \r",
       "------------------------------\r",
       "event_desc=&quot;&quot;        \r",
       "\">\n",
       "<polygon fill=\"#000000\" fill-opacity=\"0.125490\" points=\"349,-90 270,-90 270,-55 349,-55 349,-90\" stroke=\"none\"/>\n",
       "<text font-family=\"arial\" font-size=\"10.00\" text-anchor=\"start\" text-decoration=\"underline\" x=\"278\" y=\"-71\">behavior.Event</text>\n",
       "</a>\n",
       "</g>\n",
       "</g>\n",
       "<!-- behavior.Task.TaskEvent -->\n",
       "<g class=\"node\" id=\"node6\"><title>behavior.Task.TaskEvent</title>\n",
       "<g id=\"a_node6\"><a xlink:title=\"→ behavior.Task\r",
       "→ behavior.Event\r",
       "------------------------------\r",
       "event_onset_timestamps \r",
       "event_offset_timestamps=null \r",
       "\">\n",
       "<polygon fill=\"none\" points=\"268.5,-19 144.5,-19 144.5,-0 268.5,-0 268.5,-19\" stroke=\"none\"/>\n",
       "<text font-family=\"arial\" font-size=\"10.00\" text-anchor=\"middle\" x=\"206.5\" y=\"-7\">behavior.Task.TaskEvent</text>\n",
       "</a>\n",
       "</g>\n",
       "</g>\n",
       "<!-- behavior.Event&#45;&gt;behavior.Task.TaskEvent -->\n",
       "<g class=\"edge\" id=\"edge3\"><title>behavior.Event-&gt;behavior.Task.TaskEvent</title>\n",
       "<path d=\"M281.627,-54.9925C262.085,-43.4194 236.749,-28.4146 221.063,-19.1245\" fill=\"none\" stroke=\"#000000\" stroke-opacity=\"0.250980\" stroke-width=\"0.75\"/>\n",
       "</g>\n",
       "<!-- behavior.TaskType -->\n",
       "<g class=\"node\" id=\"node4\"><title>behavior.TaskType</title>\n",
       "<g id=\"a_node4\"><a xlink:title=\"task_type            \r",
       "------------------------------\r",
       "task_desc=&quot;&quot;         \r",
       "\">\n",
       "<polygon fill=\"#000000\" fill-opacity=\"0.125490\" points=\"381,-161 284,-161 284,-126 381,-126 381,-161\" stroke=\"none\"/>\n",
       "<text font-family=\"arial\" font-size=\"10.00\" text-anchor=\"start\" text-decoration=\"underline\" x=\"292\" y=\"-142\">behavior.TaskType</text>\n",
       "</a>\n",
       "</g>\n",
       "</g>\n",
       "<!-- behavior.TaskType&#45;&gt;behavior.Task -->\n",
       "<g class=\"edge\" id=\"edge4\"><title>behavior.TaskType-&gt;behavior.Task</title>\n",
       "<path d=\"M302.32,-125.973C282.517,-115.128 256.712,-100.997 236.871,-90.1315\" fill=\"none\" stroke=\"#000000\" stroke-opacity=\"0.250980\" stroke-width=\"0.75\"/>\n",
       "</g>\n",
       "<!-- behavior.Task&#45;&gt;behavior.Task.TaskEvent -->\n",
       "<g class=\"edge\" id=\"edge5\"><title>behavior.Task-&gt;behavior.Task.TaskEvent</title>\n",
       "<path d=\"M206.5,-54.8315C206.5,-43.2612 206.5,-28.3217 206.5,-19.0782\" fill=\"none\" stroke=\"#000000\" stroke-opacity=\"0.250980\" stroke-width=\"0.75\"/>\n",
       "</g>\n",
       "</g>\n",
       "</svg>"
      ],
      "text/plain": [
       "<datajoint.diagram.Diagram at 0x24ee2743390>"
      ]
     },
     "execution_count": 31,
     "metadata": {},
     "output_type": "execute_result"
    }
   ],
   "source": [
    "dj.Diagram(behavior) - 1"
   ]
  },
  {
   "cell_type": "code",
   "execution_count": null,
   "metadata": {},
   "outputs": [],
   "source": [
    "behavior.Task.TaskEvent"
   ]
  },
  {
   "cell_type": "code",
   "execution_count": 32,
   "metadata": {},
   "outputs": [
    {
     "data": {
      "text/html": [
       "\n",
       "        \n",
       "        <style type=\"text/css\">\n",
       "            .Relation{\n",
       "                border-collapse:collapse;\n",
       "            }\n",
       "            .Relation th{\n",
       "                background: #A0A0A0; color: #ffffff; padding:4px; border:#f0e0e0 1px solid;\n",
       "                font-weight: normal; font-family: monospace; font-size: 100%;\n",
       "            }\n",
       "            .Relation td{\n",
       "                padding:4px; border:#f0e0e0 1px solid; font-size:100%;\n",
       "            }\n",
       "            .Relation tr:nth-child(odd){\n",
       "                background: #ffffff;\n",
       "            }\n",
       "            .Relation tr:nth-child(even){\n",
       "                background: #f3f1ff;\n",
       "            }\n",
       "            /* Tooltip container */\n",
       "            .djtooltip {\n",
       "            }\n",
       "            /* Tooltip text */\n",
       "            .djtooltip .djtooltiptext {\n",
       "                visibility: hidden;\n",
       "                width: 120px;\n",
       "                background-color: black;\n",
       "                color: #fff;\n",
       "                text-align: center;\n",
       "                padding: 5px 0;\n",
       "                border-radius: 6px;\n",
       "                /* Position the tooltip text - see examples below! */\n",
       "                position: absolute;\n",
       "                z-index: 1;\n",
       "            }\n",
       "            #primary {\n",
       "                font-weight: bold;\n",
       "                color: black;\n",
       "            }\n",
       "\n",
       "            #nonprimary {\n",
       "                font-weight: normal;\n",
       "                color: white;\n",
       "            }\n",
       "\n",
       "            /* Show the tooltip text when you mouse over the tooltip container */\n",
       "            .djtooltip:hover .djtooltiptext {\n",
       "                visibility: visible;\n",
       "            }\n",
       "        </style>\n",
       "        \n",
       "        <b></b>\n",
       "            <div style=\"max-height:1000px;max-width:1500px;overflow:auto;\">\n",
       "            <table border=\"1\" class=\"Relation\">\n",
       "                <thead> <tr style=\"text-align: right;\"> <th> <div class=\"djtooltip\">\n",
       "                                <p id=\"primary\">arena_apparatus</p>\n",
       "                                <span class=\"djtooltiptext\"></span>\n",
       "                            </div></th><th><div class=\"djtooltip\">\n",
       "                                <p id=\"nonprimary\">arena_geometry</p>\n",
       "                                <span class=\"djtooltiptext\"></span>\n",
       "                            </div></th><th><div class=\"djtooltip\">\n",
       "                                <p id=\"nonprimary\">arena_x_dim</p>\n",
       "                                <span class=\"djtooltiptext\">(cm)</span>\n",
       "                            </div></th><th><div class=\"djtooltip\">\n",
       "                                <p id=\"nonprimary\">arena_y_dim</p>\n",
       "                                <span class=\"djtooltiptext\">(cm)</span>\n",
       "                            </div></th><th><div class=\"djtooltip\">\n",
       "                                <p id=\"nonprimary\">wall_height</p>\n",
       "                                <span class=\"djtooltiptext\">(cm)</span>\n",
       "                            </div> </th> </tr> </thead>\n",
       "                <tbody> <tr> <td>circle_150</td>\n",
       "<td>circle</td>\n",
       "<td>150.0</td>\n",
       "<td>150.0</td>\n",
       "<td>50.0</td></tr><tr><td>Circle_80</td>\n",
       "<td>circle</td>\n",
       "<td>80.0</td>\n",
       "<td>80.0</td>\n",
       "<td>30.0</td></tr><tr><td>holding_box</td>\n",
       "<td>rectangle</td>\n",
       "<td>20.0</td>\n",
       "<td>25.0</td>\n",
       "<td>10.0</td></tr><tr><td>Megaspace</td>\n",
       "<td>square</td>\n",
       "<td>400.0</td>\n",
       "<td>400.0</td>\n",
       "<td>70.0</td></tr><tr><td>Photostim_box</td>\n",
       "<td>rectangle</td>\n",
       "<td>30.0</td>\n",
       "<td>20.0</td>\n",
       "<td>15.0</td></tr><tr><td>Rectangle</td>\n",
       "<td>rectangle</td>\n",
       "<td>150.0</td>\n",
       "<td>100.0</td>\n",
       "<td>50.0</td></tr><tr><td>square_100</td>\n",
       "<td>square</td>\n",
       "<td>100.0</td>\n",
       "<td>100.0</td>\n",
       "<td>30.0</td></tr><tr><td>square_150</td>\n",
       "<td>square</td>\n",
       "<td>150.0</td>\n",
       "<td>150.0</td>\n",
       "<td>50.0</td></tr><tr><td>square_400</td>\n",
       "<td>square</td>\n",
       "<td>400.0</td>\n",
       "<td>400.0</td>\n",
       "<td>nan</td></tr><tr><td>square_50</td>\n",
       "<td>square</td>\n",
       "<td>50.0</td>\n",
       "<td>50.0</td>\n",
       "<td>30.0</td> </tr> </tbody>\n",
       "            </table>\n",
       "            <p>...</p>\n",
       "            <p>Total: 12</p></div>\n",
       "            "
      ],
      "text/plain": [
       "*arena_apparat arena_geometry arena_x_dim    arena_y_dim    wall_height   \n",
       "+------------+ +------------+ +------------+ +------------+ +------------+\n",
       "circle_150     circle         150.0          150.0          50.0          \n",
       "Circle_80      circle         80.0           80.0           30.0          \n",
       "holding_box    rectangle      20.0           25.0           10.0          \n",
       "Megaspace      square         400.0          400.0          70.0          \n",
       "Photostim_box  rectangle      30.0           20.0           15.0          \n",
       "Rectangle      rectangle      150.0          100.0          50.0          \n",
       "square_100     square         100.0          100.0          30.0          \n",
       "square_150     square         150.0          150.0          50.0          \n",
       "square_400     square         400.0          400.0          nan           \n",
       "square_50      square         50.0           50.0           30.0          \n",
       "   ...\n",
       " (Total: 12)"
      ]
     },
     "execution_count": 32,
     "metadata": {},
     "output_type": "execute_result"
    }
   ],
   "source": [
    "reference.ArenaApparatus.ArenaGeometry()"
   ]
  },
  {
   "cell_type": "code",
   "execution_count": 33,
   "metadata": {},
   "outputs": [
    {
     "data": {
      "text/html": [
       "\n",
       "        \n",
       "        <style type=\"text/css\">\n",
       "            .Relation{\n",
       "                border-collapse:collapse;\n",
       "            }\n",
       "            .Relation th{\n",
       "                background: #A0A0A0; color: #ffffff; padding:4px; border:#f0e0e0 1px solid;\n",
       "                font-weight: normal; font-family: monospace; font-size: 100%;\n",
       "            }\n",
       "            .Relation td{\n",
       "                padding:4px; border:#f0e0e0 1px solid; font-size:100%;\n",
       "            }\n",
       "            .Relation tr:nth-child(odd){\n",
       "                background: #ffffff;\n",
       "            }\n",
       "            .Relation tr:nth-child(even){\n",
       "                background: #f3f1ff;\n",
       "            }\n",
       "            /* Tooltip container */\n",
       "            .djtooltip {\n",
       "            }\n",
       "            /* Tooltip text */\n",
       "            .djtooltip .djtooltiptext {\n",
       "                visibility: hidden;\n",
       "                width: 120px;\n",
       "                background-color: black;\n",
       "                color: #fff;\n",
       "                text-align: center;\n",
       "                padding: 5px 0;\n",
       "                border-radius: 6px;\n",
       "                /* Position the tooltip text - see examples below! */\n",
       "                position: absolute;\n",
       "                z-index: 1;\n",
       "            }\n",
       "            #primary {\n",
       "                font-weight: bold;\n",
       "                color: black;\n",
       "            }\n",
       "\n",
       "            #nonprimary {\n",
       "                font-weight: normal;\n",
       "                color: white;\n",
       "            }\n",
       "\n",
       "            /* Show the tooltip text when you mouse over the tooltip container */\n",
       "            .djtooltip:hover .djtooltiptext {\n",
       "                visibility: visible;\n",
       "            }\n",
       "        </style>\n",
       "        \n",
       "        <b></b>\n",
       "            <div style=\"max-height:1000px;max-width:1500px;overflow:auto;\">\n",
       "            <table border=\"1\" class=\"Relation\">\n",
       "                <thead> <tr style=\"text-align: right;\"> <th> <div class=\"djtooltip\">\n",
       "                                <p id=\"primary\">arena_object</p>\n",
       "                                <span class=\"djtooltiptext\"></span>\n",
       "                            </div></th><th><div class=\"djtooltip\">\n",
       "                                <p id=\"nonprimary\">obj_geometry</p>\n",
       "                                <span class=\"djtooltiptext\">e.g. cube, cylinder</span>\n",
       "                            </div></th><th><div class=\"djtooltip\">\n",
       "                                <p id=\"nonprimary\">obj_width</p>\n",
       "                                <span class=\"djtooltiptext\">(cm)</span>\n",
       "                            </div></th><th><div class=\"djtooltip\">\n",
       "                                <p id=\"nonprimary\">obj_length</p>\n",
       "                                <span class=\"djtooltiptext\">(cm)</span>\n",
       "                            </div></th><th><div class=\"djtooltip\">\n",
       "                                <p id=\"nonprimary\">obj_height</p>\n",
       "                                <span class=\"djtooltiptext\">(cm)</span>\n",
       "                            </div> </th> </tr> </thead>\n",
       "                <tbody> <tr>  </tr> </tbody>\n",
       "            </table>\n",
       "            \n",
       "            <p>Total: 0</p></div>\n",
       "            "
      ],
      "text/plain": [
       "*arena_object  obj_geometry   obj_width     obj_length     obj_height    \n",
       "+------------+ +------------+ +-----------+ +------------+ +------------+\n",
       "\n",
       " (Total: 0)"
      ]
     },
     "execution_count": 33,
     "metadata": {},
     "output_type": "execute_result"
    }
   ],
   "source": [
    "reference.ArenaObject()"
   ]
  },
  {
   "cell_type": "code",
   "execution_count": 34,
   "metadata": {},
   "outputs": [
    {
     "data": {
      "image/svg+xml": [
       "<svg height=\"185pt\" viewBox=\"0.00 0.00 649.50 185.00\" width=\"650pt\" xmlns=\"http://www.w3.org/2000/svg\" xmlns:xlink=\"http://www.w3.org/1999/xlink\">\n",
       "<g class=\"graph\" id=\"graph0\" transform=\"scale(1 1) rotate(0) translate(4 181)\">\n",
       "<title>%3</title>\n",
       "<polygon fill=\"white\" points=\"-4,4 -4,-181 645.5,-181 645.5,4 -4,4\" stroke=\"none\"/>\n",
       "<!-- `group_shared_flask`.`users` -->\n",
       "<g class=\"node\" id=\"node1\"><title>`group_shared_flask`.`users`</title>\n",
       "<polygon fill=\"#00ff00\" fill-opacity=\"0.188235\" points=\"174,-106 7,-106 7,-71 174,-71 174,-106\" stroke=\"#00ff00\" stroke-opacity=\"0.188235\"/>\n",
       "<text fill=\"darkgreen\" font-family=\"arial\" font-size=\"12.00\" text-anchor=\"middle\" x=\"90.5\" y=\"-85.4\">`group_shared_flask`.`users`</text>\n",
       "</g>\n",
       "<!-- ingestion.SessionInsertRequest -->\n",
       "<g class=\"node\" id=\"node2\"><title>ingestion.SessionInsertRequest</title>\n",
       "<g id=\"a_node2\"><a xlink:title=\"→ `group_shared_flask`.`users`\r",
       "input_full_path      \r",
       "------------------------------\r",
       "request_time         \r",
       "animal_name          \r",
       "session_note=null    \r",
       "→ [nullable] reference.TrackingSystemSetup\r",
       "\">\n",
       "<polygon fill=\"#00ff00\" fill-opacity=\"0.188235\" points=\"181,-35 0,-35 0,-0 181,-0 181,-35\" stroke=\"#00ff00\" stroke-opacity=\"0.188235\"/>\n",
       "<text fill=\"darkgreen\" font-family=\"arial\" font-size=\"12.00\" text-anchor=\"start\" text-decoration=\"underline\" x=\"8\" y=\"-15.4\">ingestion.SessionInsertRequest</text>\n",
       "</a>\n",
       "</g>\n",
       "</g>\n",
       "<!-- `group_shared_flask`.`users`&#45;&gt;ingestion.SessionInsertRequest -->\n",
       "<g class=\"edge\" id=\"edge1\"><title>`group_shared_flask`.`users`-&gt;ingestion.SessionInsertRequest</title>\n",
       "<path d=\"M90.5,-70.797C90.5,-59.9485 90.5,-45.8669 90.5,-35.0492\" fill=\"none\" stroke=\"#000000\" stroke-opacity=\"0.250980\" stroke-width=\"0.75\"/>\n",
       "</g>\n",
       "<!-- reference.TrackingSystemType -->\n",
       "<g class=\"node\" id=\"node3\"><title>reference.TrackingSystemType</title>\n",
       "<g id=\"a_node3\"><a xlink:title=\"tracking_type        \r",
       "\">\n",
       "<polygon fill=\"#000000\" fill-opacity=\"0.125490\" points=\"387,-177 236,-177 236,-142 387,-142 387,-177\" stroke=\"none\"/>\n",
       "<text font-family=\"arial\" font-size=\"10.00\" text-anchor=\"start\" text-decoration=\"underline\" x=\"244\" y=\"-158\">reference.TrackingSystemType</text>\n",
       "</a>\n",
       "</g>\n",
       "</g>\n",
       "<!-- reference.TrackingSystemSetup -->\n",
       "<g class=\"node\" id=\"node7\"><title>reference.TrackingSystemSetup</title>\n",
       "<g id=\"a_node7\"><a xlink:title=\"tracking_system_setup \r",
       "------------------------------\r",
       "→ reference.TrackingSystemType\r",
       "setup_description    \r",
       "\">\n",
       "<polygon fill=\"#000000\" fill-opacity=\"0.125490\" points=\"389,-106 234,-106 234,-71 389,-71 389,-106\" stroke=\"none\"/>\n",
       "<text font-family=\"arial\" font-size=\"10.00\" text-anchor=\"start\" text-decoration=\"underline\" x=\"242\" y=\"-87\">reference.TrackingSystemSetup</text>\n",
       "</a>\n",
       "</g>\n",
       "</g>\n",
       "<!-- reference.TrackingSystemType&#45;&gt;reference.TrackingSystemSetup -->\n",
       "<g class=\"edge\" id=\"edge2\"><title>reference.TrackingSystemType-&gt;reference.TrackingSystemSetup</title>\n",
       "<path d=\"M311.5,-141.797C311.5,-130.949 311.5,-116.867 311.5,-106.049\" fill=\"none\" stroke=\"#000000\" stroke-dasharray=\"5,2\" stroke-opacity=\"0.250980\" stroke-width=\"0.75\"/>\n",
       "</g>\n",
       "<!-- acquisition.Session.TrackingSystemSetup -->\n",
       "<g class=\"node\" id=\"node4\"><title>acquisition.Session.TrackingSystemSetup</title>\n",
       "<g id=\"a_node4\"><a xlink:title=\"→ acquisition.Session\r",
       "------------------------------\r",
       "→ reference.TrackingSystemSetup\r",
       "\">\n",
       "<polygon fill=\"none\" points=\"641.5,-27 441.5,-27 441.5,-8 641.5,-8 641.5,-27\" stroke=\"none\"/>\n",
       "<text font-family=\"arial\" font-size=\"10.00\" text-anchor=\"middle\" x=\"541.5\" y=\"-15\">acquisition.Session.TrackingSystemSetup</text>\n",
       "</a>\n",
       "</g>\n",
       "</g>\n",
       "<!-- acquisition.Session -->\n",
       "<g class=\"node\" id=\"node5\"><title>acquisition.Session</title>\n",
       "<g id=\"a_node5\"><a xlink:title=\"→ animal.Animal\r",
       "session_time         \r",
       "------------------------------\r",
       "session_note=null    \r",
       "\">\n",
       "<polygon fill=\"#00ff00\" fill-opacity=\"0.188235\" points=\"601,-106 482,-106 482,-71 601,-71 601,-106\" stroke=\"#00ff00\" stroke-opacity=\"0.188235\"/>\n",
       "<text fill=\"darkgreen\" font-family=\"arial\" font-size=\"12.00\" text-anchor=\"start\" text-decoration=\"underline\" x=\"490\" y=\"-86.4\">acquisition.Session</text>\n",
       "</a>\n",
       "</g>\n",
       "</g>\n",
       "<!-- acquisition.Session&#45;&gt;acquisition.Session.TrackingSystemSetup -->\n",
       "<g class=\"edge\" id=\"edge3\"><title>acquisition.Session-&gt;acquisition.Session.TrackingSystemSetup</title>\n",
       "<path d=\"M541.5,-70.797C541.5,-57.0768 541.5,-38.1854 541.5,-27.2652\" fill=\"none\" stroke=\"#000000\" stroke-opacity=\"0.250980\" stroke-width=\"2\"/>\n",
       "</g>\n",
       "<!-- reference.TrackingSystemSetup.FOVCalibration -->\n",
       "<g class=\"node\" id=\"node6\"><title>reference.TrackingSystemSetup.FOVCalibration</title>\n",
       "<g id=\"a_node6\"><a xlink:title=\"→ reference.TrackingSystemSetup\r",
       "calibration_time     \r",
       "------------------------------\r",
       "x_conversion         \r",
       "y_conversion         \r",
       "z_conversion=null    \r",
       "\">\n",
       "<polygon fill=\"none\" points=\"423.5,-27 199.5,-27 199.5,-8 423.5,-8 423.5,-27\" stroke=\"none\"/>\n",
       "<text font-family=\"arial\" font-size=\"10.00\" text-anchor=\"start\" text-decoration=\"underline\" x=\"207.5\" y=\"-16\">reference.TrackingSystemSetup.FOVCalibration</text>\n",
       "</a>\n",
       "</g>\n",
       "</g>\n",
       "<!-- reference.TrackingSystemSetup&#45;&gt;ingestion.SessionInsertRequest -->\n",
       "<g class=\"edge\" id=\"edge4\"><title>reference.TrackingSystemSetup-&gt;ingestion.SessionInsertRequest</title>\n",
       "<path d=\"M258.565,-70.9728C223.704,-60.0885 178.237,-45.893 143.386,-35.0118\" fill=\"none\" stroke=\"#000000\" stroke-dasharray=\"5,2\" stroke-opacity=\"0.250980\" stroke-width=\"0.75\"/>\n",
       "</g>\n",
       "<!-- reference.TrackingSystemSetup&#45;&gt;acquisition.Session.TrackingSystemSetup -->\n",
       "<g class=\"edge\" id=\"edge5\"><title>reference.TrackingSystemSetup-&gt;acquisition.Session.TrackingSystemSetup</title>\n",
       "<path d=\"M366.591,-70.9728C412.706,-57.1382 476.654,-37.9539 513.08,-27.0259\" fill=\"none\" stroke=\"#000000\" stroke-dasharray=\"5,2\" stroke-opacity=\"0.250980\" stroke-width=\"0.75\"/>\n",
       "</g>\n",
       "<!-- reference.TrackingSystemSetup&#45;&gt;reference.TrackingSystemSetup.FOVCalibration -->\n",
       "<g class=\"edge\" id=\"edge6\"><title>reference.TrackingSystemSetup-&gt;reference.TrackingSystemSetup.FOVCalibration</title>\n",
       "<path d=\"M311.5,-70.797C311.5,-57.0768 311.5,-38.1854 311.5,-27.2652\" fill=\"none\" stroke=\"#000000\" stroke-opacity=\"0.250980\" stroke-width=\"0.75\"/>\n",
       "</g>\n",
       "</g>\n",
       "</svg>"
      ],
      "text/plain": [
       "<datajoint.diagram.Diagram at 0x24ee3b0ab70>"
      ]
     },
     "execution_count": 34,
     "metadata": {},
     "output_type": "execute_result"
    }
   ],
   "source": [
    "dj.Diagram(reference.TrackingSystemSetup) + 1 - 1"
   ]
  },
  {
   "cell_type": "code",
   "execution_count": 35,
   "metadata": {},
   "outputs": [
    {
     "name": "stdout",
     "output_type": "stream",
     "text": [
      "-> animal.Animal\n",
      "session_time         : datetime                     # start time of this session\n",
      "---\n",
      "session_note=null    : longblob                     \n",
      "\n"
     ]
    }
   ],
   "source": [
    "acquisition.Session.describe();"
   ]
  },
  {
   "cell_type": "code",
   "execution_count": 36,
   "metadata": {},
   "outputs": [
    {
     "data": {
      "text/html": [
       "\n",
       "        \n",
       "        <style type=\"text/css\">\n",
       "            .Relation{\n",
       "                border-collapse:collapse;\n",
       "            }\n",
       "            .Relation th{\n",
       "                background: #A0A0A0; color: #ffffff; padding:4px; border:#f0e0e0 1px solid;\n",
       "                font-weight: normal; font-family: monospace; font-size: 100%;\n",
       "            }\n",
       "            .Relation td{\n",
       "                padding:4px; border:#f0e0e0 1px solid; font-size:100%;\n",
       "            }\n",
       "            .Relation tr:nth-child(odd){\n",
       "                background: #ffffff;\n",
       "            }\n",
       "            .Relation tr:nth-child(even){\n",
       "                background: #f3f1ff;\n",
       "            }\n",
       "            /* Tooltip container */\n",
       "            .djtooltip {\n",
       "            }\n",
       "            /* Tooltip text */\n",
       "            .djtooltip .djtooltiptext {\n",
       "                visibility: hidden;\n",
       "                width: 120px;\n",
       "                background-color: black;\n",
       "                color: #fff;\n",
       "                text-align: center;\n",
       "                padding: 5px 0;\n",
       "                border-radius: 6px;\n",
       "                /* Position the tooltip text - see examples below! */\n",
       "                position: absolute;\n",
       "                z-index: 1;\n",
       "            }\n",
       "            #primary {\n",
       "                font-weight: bold;\n",
       "                color: black;\n",
       "            }\n",
       "\n",
       "            #nonprimary {\n",
       "                font-weight: normal;\n",
       "                color: white;\n",
       "            }\n",
       "\n",
       "            /* Show the tooltip text when you mouse over the tooltip container */\n",
       "            .djtooltip:hover .djtooltiptext {\n",
       "                visibility: visible;\n",
       "            }\n",
       "        </style>\n",
       "        \n",
       "        <b>position of the pivot point, or rigid body</b>\n",
       "            <div style=\"max-height:1000px;max-width:1500px;overflow:auto;\">\n",
       "            <table border=\"1\" class=\"Relation\">\n",
       "                <thead> <tr style=\"text-align: right;\"> <th> <div class=\"djtooltip\">\n",
       "                                <p id=\"primary\">animal_id</p>\n",
       "                                <span class=\"djtooltiptext\"></span>\n",
       "                            </div></th><th><div class=\"djtooltip\">\n",
       "                                <p id=\"primary\">datasource_id</p>\n",
       "                                <span class=\"djtooltiptext\"></span>\n",
       "                            </div></th><th><div class=\"djtooltip\">\n",
       "                                <p id=\"primary\">session_time</p>\n",
       "                                <span class=\"djtooltiptext\">start time of this session</span>\n",
       "                            </div></th><th><div class=\"djtooltip\">\n",
       "                                <p id=\"primary\">tracking_time</p>\n",
       "                                <span class=\"djtooltiptext\">start time of this tracking recording</span>\n",
       "                            </div></th><th><div class=\"djtooltip\">\n",
       "                                <p id=\"primary\">tracking_processing_method</p>\n",
       "                                <span class=\"djtooltiptext\"></span>\n",
       "                            </div></th><th><div class=\"djtooltip\">\n",
       "                                <p id=\"primary\">sync_method</p>\n",
       "                                <span class=\"djtooltiptext\">sync method name</span>\n",
       "                            </div></th><th><div class=\"djtooltip\">\n",
       "                                <p id=\"nonprimary\">position_x</p>\n",
       "                                <span class=\"djtooltiptext\">(cm)</span>\n",
       "                            </div></th><th><div class=\"djtooltip\">\n",
       "                                <p id=\"nonprimary\">position_y</p>\n",
       "                                <span class=\"djtooltiptext\">(cm)</span>\n",
       "                            </div></th><th><div class=\"djtooltip\">\n",
       "                                <p id=\"nonprimary\">position_z</p>\n",
       "                                <span class=\"djtooltiptext\">(cm)</span>\n",
       "                            </div></th><th><div class=\"djtooltip\">\n",
       "                                <p id=\"nonprimary\">speed</p>\n",
       "                                <span class=\"djtooltiptext\">(cm/s)</span>\n",
       "                            </div> </th> </tr> </thead>\n",
       "                <tbody> <tr> <td>00342c6d86e97d43</td>\n",
       "<td>0</td>\n",
       "<td>2019-07-04 20:35:12</td>\n",
       "<td>2019-07-04 20:34:48</td>\n",
       "<td>3d_optitrack</td>\n",
       "<td>linear_interp</td>\n",
       "<td>=BLOB=</td>\n",
       "<td>=BLOB=</td>\n",
       "<td>=BLOB=</td>\n",
       "<td>=BLOB=</td></tr><tr><td>219de16fa9d2f8fc</td>\n",
       "<td>0</td>\n",
       "<td>2017-09-21 14:14:57</td>\n",
       "<td>2017-09-21 14:14:57</td>\n",
       "<td>2d_2led</td>\n",
       "<td>linear_interp</td>\n",
       "<td>=BLOB=</td>\n",
       "<td>=BLOB=</td>\n",
       "<td>=BLOB=</td>\n",
       "<td>=BLOB=</td></tr><tr><td>219de16fa9d2f8fc</td>\n",
       "<td>0</td>\n",
       "<td>2017-09-21 14:14:57</td>\n",
       "<td>2017-09-21 14:32:56</td>\n",
       "<td>2d_2led</td>\n",
       "<td>linear_interp</td>\n",
       "<td>=BLOB=</td>\n",
       "<td>=BLOB=</td>\n",
       "<td>=BLOB=</td>\n",
       "<td>=BLOB=</td></tr><tr><td>219de16fa9d2f8fc</td>\n",
       "<td>0</td>\n",
       "<td>2017-09-21 14:14:57</td>\n",
       "<td>2017-09-21 14:39:35</td>\n",
       "<td>2d_2led</td>\n",
       "<td>linear_interp</td>\n",
       "<td>=BLOB=</td>\n",
       "<td>=BLOB=</td>\n",
       "<td>=BLOB=</td>\n",
       "<td>=BLOB=</td></tr><tr><td>219de16fa9d2f8fc</td>\n",
       "<td>0</td>\n",
       "<td>2017-09-21 14:14:57</td>\n",
       "<td>2017-09-21 14:42:14</td>\n",
       "<td>2d_2led</td>\n",
       "<td>linear_interp</td>\n",
       "<td>=BLOB=</td>\n",
       "<td>=BLOB=</td>\n",
       "<td>=BLOB=</td>\n",
       "<td>=BLOB=</td></tr><tr><td>219de16fa9d2f8fc</td>\n",
       "<td>0</td>\n",
       "<td>2017-10-11 15:13:12</td>\n",
       "<td>2017-10-11 15:13:12</td>\n",
       "<td>2d_2led</td>\n",
       "<td>linear_interp</td>\n",
       "<td>=BLOB=</td>\n",
       "<td>=BLOB=</td>\n",
       "<td>=BLOB=</td>\n",
       "<td>=BLOB=</td></tr><tr><td>219de16fa9d2f8fc</td>\n",
       "<td>0</td>\n",
       "<td>2017-10-11 15:13:12</td>\n",
       "<td>2017-10-11 15:54:41</td>\n",
       "<td>2d_2led</td>\n",
       "<td>linear_interp</td>\n",
       "<td>=BLOB=</td>\n",
       "<td>=BLOB=</td>\n",
       "<td>=BLOB=</td>\n",
       "<td>=BLOB=</td></tr><tr><td>219de16fa9d2f8fc</td>\n",
       "<td>0</td>\n",
       "<td>2017-10-11 15:13:12</td>\n",
       "<td>2017-10-11 15:56:30</td>\n",
       "<td>2d_2led</td>\n",
       "<td>linear_interp</td>\n",
       "<td>=BLOB=</td>\n",
       "<td>=BLOB=</td>\n",
       "<td>=BLOB=</td>\n",
       "<td>=BLOB=</td></tr><tr><td>219de16fa9d2f8fc</td>\n",
       "<td>0</td>\n",
       "<td>2017-10-11 15:13:12</td>\n",
       "<td>2017-10-11 15:58:16</td>\n",
       "<td>2d_2led</td>\n",
       "<td>linear_interp</td>\n",
       "<td>=BLOB=</td>\n",
       "<td>=BLOB=</td>\n",
       "<td>=BLOB=</td>\n",
       "<td>=BLOB=</td></tr><tr><td>219de16fa9d2f8fc</td>\n",
       "<td>0</td>\n",
       "<td>2017-10-13 13:53:29</td>\n",
       "<td>2017-10-13 13:53:29</td>\n",
       "<td>2d_2led</td>\n",
       "<td>linear_interp</td>\n",
       "<td>=BLOB=</td>\n",
       "<td>=BLOB=</td>\n",
       "<td>=BLOB=</td>\n",
       "<td>=BLOB=</td> </tr> </tbody>\n",
       "            </table>\n",
       "            <p>...</p>\n",
       "            <p>Total: 302</p></div>\n",
       "            "
      ],
      "text/plain": [
       "*animal_id     *datasource_id *session_time  *tracking_time *tracking_proc *sync_method   position_x position_y position_z speed     \n",
       "+------------+ +------------+ +------------+ +------------+ +------------+ +------------+ +--------+ +--------+ +--------+ +--------+\n",
       "00342c6d86e97d 0              2019-07-04 20: 2019-07-04 20: 3d_optitrack   linear_interp  =BLOB=     =BLOB=     =BLOB=     =BLOB=    \n",
       "219de16fa9d2f8 0              2017-09-21 14: 2017-09-21 14: 2d_2led        linear_interp  =BLOB=     =BLOB=     =BLOB=     =BLOB=    \n",
       "219de16fa9d2f8 0              2017-09-21 14: 2017-09-21 14: 2d_2led        linear_interp  =BLOB=     =BLOB=     =BLOB=     =BLOB=    \n",
       "219de16fa9d2f8 0              2017-09-21 14: 2017-09-21 14: 2d_2led        linear_interp  =BLOB=     =BLOB=     =BLOB=     =BLOB=    \n",
       "219de16fa9d2f8 0              2017-09-21 14: 2017-09-21 14: 2d_2led        linear_interp  =BLOB=     =BLOB=     =BLOB=     =BLOB=    \n",
       "219de16fa9d2f8 0              2017-10-11 15: 2017-10-11 15: 2d_2led        linear_interp  =BLOB=     =BLOB=     =BLOB=     =BLOB=    \n",
       "219de16fa9d2f8 0              2017-10-11 15: 2017-10-11 15: 2d_2led        linear_interp  =BLOB=     =BLOB=     =BLOB=     =BLOB=    \n",
       "219de16fa9d2f8 0              2017-10-11 15: 2017-10-11 15: 2d_2led        linear_interp  =BLOB=     =BLOB=     =BLOB=     =BLOB=    \n",
       "219de16fa9d2f8 0              2017-10-11 15: 2017-10-11 15: 2d_2led        linear_interp  =BLOB=     =BLOB=     =BLOB=     =BLOB=    \n",
       "219de16fa9d2f8 0              2017-10-13 13: 2017-10-13 13: 2d_2led        linear_interp  =BLOB=     =BLOB=     =BLOB=     =BLOB=    \n",
       "   ...\n",
       " (Total: 302)"
      ]
     },
     "execution_count": 36,
     "metadata": {},
     "output_type": "execute_result"
    }
   ],
   "source": [
    "tracking.ProcessedTracking.Position()\n"
   ]
  },
  {
   "cell_type": "code",
   "execution_count": null,
   "metadata": {},
   "outputs": [],
   "source": []
  }
 ],
 "metadata": {
  "kernelspec": {
   "display_name": "Python 3",
   "language": "python",
   "name": "python3"
  },
  "language_info": {
   "codemirror_mode": {
    "name": "ipython",
    "version": 3
   },
   "file_extension": ".py",
   "mimetype": "text/x-python",
   "name": "python",
   "nbconvert_exporter": "python",
   "pygments_lexer": "ipython3",
   "version": "3.7.0"
  }
 },
 "nbformat": 4,
 "nbformat_minor": 2
}
